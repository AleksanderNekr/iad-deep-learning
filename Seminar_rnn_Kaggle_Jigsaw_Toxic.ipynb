{
  "nbformat": 4,
  "nbformat_minor": 0,
  "metadata": {
    "colab": {
      "name": "Kaggle Jigsaw Toxic.ipynb",
      "provenance": [],
      "collapsed_sections": []
    },
    "kernelspec": {
      "name": "python3",
      "display_name": "Python 3"
    },
    "accelerator": "GPU"
  },
  "cells": [
    {
      "cell_type": "code",
      "metadata": {
        "id": "VNWh0N6mcRoK",
        "colab_type": "code",
        "colab": {}
      },
      "source": [
        "import pandas as pd\n",
        "import numpy as np\n",
        "import matplotlib.pyplot as plt\n",
        "import seaborn as sns\n",
        "import string\n",
        "import re\n",
        "\n",
        "\n",
        "from IPython.display import Image\n",
        "from IPython.core.display import HTML \n",
        "\n",
        "from sklearn.feature_extraction.text import TfidfVectorizer\n",
        "from sklearn.linear_model import LogisticRegression\n",
        "from sklearn.metrics import roc_auc_score\n",
        "from sklearn.model_selection import train_test_split"
      ],
      "execution_count": 0,
      "outputs": []
    },
    {
      "cell_type": "markdown",
      "metadata": {
        "id": "ec57Zzuna0dj",
        "colab_type": "text"
      },
      "source": [
        "Работа с текстом - это одна из тех вещей, с которыми приходится сталкиваться каждому дата саентисту. Одна из самых популярных задач, свзяанных с текстом - классификация. Например, классифицировать email сообщения на наличие спама в них или неменее популярная постановка задачи - классфицировать репорты пользователей о продукте на негативные и положительные. \n",
        "\n",
        "Раньше на [kaggle](https://www.kaggle.com/c/jigsaw-toxic-comment-classification-challenge) проходило соревнование связанное с класфикацией текстов по степени оскорбления в них. Метрика - площадь под roc-auc кривой\n",
        "\n",
        "На данном семинаре мы попробуем обучить несложные (и более сложные) RNN.\n",
        "\n",
        "Однако, прежде, чем обучать модели давайте посмотрим на данные:\n"
      ]
    },
    {
      "cell_type": "code",
      "metadata": {
        "id": "StnFZMHJZbEO",
        "colab_type": "code",
        "outputId": "629d29bc-135f-476d-cc1b-2ee78d8833d8",
        "colab": {
          "base_uri": "https://localhost:8080/",
          "height": 1000
        }
      },
      "source": [
        "!wget https://www.dropbox.com/s/o5y8x5138a5rh9j/train.csv.zip\n",
        "!wget https://www.dropbox.com/s/wb1terxlw1z5k7d/test.csv.zip\n",
        "!wget https://www.dropbox.com/s/6h3a6vrsm4laerc/test_labels.csv.zip"
      ],
      "execution_count": 2,
      "outputs": [
        {
          "output_type": "stream",
          "text": [
            "--2019-11-28 05:56:02--  https://www.dropbox.com/s/o5y8x5138a5rh9j/train.csv.zip\n",
            "Resolving www.dropbox.com (www.dropbox.com)... 162.125.8.1, 2620:100:601b:1::a27d:801\n",
            "Connecting to www.dropbox.com (www.dropbox.com)|162.125.8.1|:443... connected.\n",
            "HTTP request sent, awaiting response... 301 Moved Permanently\n",
            "Location: /s/raw/o5y8x5138a5rh9j/train.csv.zip [following]\n",
            "--2019-11-28 05:56:02--  https://www.dropbox.com/s/raw/o5y8x5138a5rh9j/train.csv.zip\n",
            "Reusing existing connection to www.dropbox.com:443.\n",
            "HTTP request sent, awaiting response... 302 Found\n",
            "Location: https://ucfca3bb38a1a82d56cccfe102ae.dl.dropboxusercontent.com/cd/0/inline/AtMOZZFzou3d4CtKAJzv5_lgYrG1PtpPtOmvJ4pH6UX3OFxZd8w-WPSxNdeEGG62t9YL5zXKJsPW82qFjJmbUOAz0PaZB2e0JEwrszqy7Rjb9iP75WVF4VuArY_a64PK9EE/file# [following]\n",
            "--2019-11-28 05:56:02--  https://ucfca3bb38a1a82d56cccfe102ae.dl.dropboxusercontent.com/cd/0/inline/AtMOZZFzou3d4CtKAJzv5_lgYrG1PtpPtOmvJ4pH6UX3OFxZd8w-WPSxNdeEGG62t9YL5zXKJsPW82qFjJmbUOAz0PaZB2e0JEwrszqy7Rjb9iP75WVF4VuArY_a64PK9EE/file\n",
            "Resolving ucfca3bb38a1a82d56cccfe102ae.dl.dropboxusercontent.com (ucfca3bb38a1a82d56cccfe102ae.dl.dropboxusercontent.com)... 162.125.8.6, 2620:100:601b:6::a27d:806\n",
            "Connecting to ucfca3bb38a1a82d56cccfe102ae.dl.dropboxusercontent.com (ucfca3bb38a1a82d56cccfe102ae.dl.dropboxusercontent.com)|162.125.8.6|:443... connected.\n",
            "HTTP request sent, awaiting response... 302 FOUND\n",
            "Location: /cd/0/inline2/AtM4SntK5iaUElTWwpVMJK74I2uO5UuediJ7gvTDXLJqqFnbh-rUtdJ5kuEpLOft2KnQttyk1UBy6pvbppcIt-Ca69xXU73GK74EJ_nLzzOgDfCBIwyxWaK-BffeA1lYvl44bh02AW579uhSCUSvtsxxNK0eFhjV3qhMJlFGbJaiPVclqPZ7-cB-QAg-nFUBj-c-_QHLPH6rIvR8gYWK-9exDPdXJ2PSFprdYplZ6Y7FvvmSJgoTKKPxxNhxdf5_7AkWlWnfJnXGBWPvHycGnnM3Lm3xeG4i5PyHS3DNzWGqWTsfpkk-gvGXTjldprP6BYafuZVJcWH--dddKw3W8-9CrUfk7OWaA-UqDdoGqSYOGg/file [following]\n",
            "--2019-11-28 05:56:03--  https://ucfca3bb38a1a82d56cccfe102ae.dl.dropboxusercontent.com/cd/0/inline2/AtM4SntK5iaUElTWwpVMJK74I2uO5UuediJ7gvTDXLJqqFnbh-rUtdJ5kuEpLOft2KnQttyk1UBy6pvbppcIt-Ca69xXU73GK74EJ_nLzzOgDfCBIwyxWaK-BffeA1lYvl44bh02AW579uhSCUSvtsxxNK0eFhjV3qhMJlFGbJaiPVclqPZ7-cB-QAg-nFUBj-c-_QHLPH6rIvR8gYWK-9exDPdXJ2PSFprdYplZ6Y7FvvmSJgoTKKPxxNhxdf5_7AkWlWnfJnXGBWPvHycGnnM3Lm3xeG4i5PyHS3DNzWGqWTsfpkk-gvGXTjldprP6BYafuZVJcWH--dddKw3W8-9CrUfk7OWaA-UqDdoGqSYOGg/file\n",
            "Reusing existing connection to ucfca3bb38a1a82d56cccfe102ae.dl.dropboxusercontent.com:443.\n",
            "HTTP request sent, awaiting response... 200 OK\n",
            "Length: 27619914 (26M) [application/zip]\n",
            "Saving to: ‘train.csv.zip’\n",
            "\n",
            "train.csv.zip       100%[===================>]  26.34M  58.9MB/s    in 0.4s    \n",
            "\n",
            "2019-11-28 05:56:04 (58.9 MB/s) - ‘train.csv.zip’ saved [27619914/27619914]\n",
            "\n",
            "--2019-11-28 05:56:06--  https://www.dropbox.com/s/wb1terxlw1z5k7d/test.csv.zip\n",
            "Resolving www.dropbox.com (www.dropbox.com)... 162.125.8.1, 2620:100:601b:1::a27d:801\n",
            "Connecting to www.dropbox.com (www.dropbox.com)|162.125.8.1|:443... connected.\n",
            "HTTP request sent, awaiting response... 301 Moved Permanently\n",
            "Location: /s/raw/wb1terxlw1z5k7d/test.csv.zip [following]\n",
            "--2019-11-28 05:56:06--  https://www.dropbox.com/s/raw/wb1terxlw1z5k7d/test.csv.zip\n",
            "Reusing existing connection to www.dropbox.com:443.\n",
            "HTTP request sent, awaiting response... 302 Found\n",
            "Location: https://uc79bb915f7754e6fc1c06c43277.dl.dropboxusercontent.com/cd/0/inline/AtOWDLtI3xbdq6yW1wGwVG_EgB_UUWCKb8gt9ULbtXDb5VSYi-ZXzBwpVfthHepj2YyuUkwB603ANsXRPxMNClqlIsbbfSi1JrFo0S3ZZE_a0wbNeINA2GJzw8VTbor8glg/file# [following]\n",
            "--2019-11-28 05:56:06--  https://uc79bb915f7754e6fc1c06c43277.dl.dropboxusercontent.com/cd/0/inline/AtOWDLtI3xbdq6yW1wGwVG_EgB_UUWCKb8gt9ULbtXDb5VSYi-ZXzBwpVfthHepj2YyuUkwB603ANsXRPxMNClqlIsbbfSi1JrFo0S3ZZE_a0wbNeINA2GJzw8VTbor8glg/file\n",
            "Resolving uc79bb915f7754e6fc1c06c43277.dl.dropboxusercontent.com (uc79bb915f7754e6fc1c06c43277.dl.dropboxusercontent.com)... 162.125.8.6, 2620:100:601b:6::a27d:806\n",
            "Connecting to uc79bb915f7754e6fc1c06c43277.dl.dropboxusercontent.com (uc79bb915f7754e6fc1c06c43277.dl.dropboxusercontent.com)|162.125.8.6|:443... connected.\n",
            "HTTP request sent, awaiting response... 302 FOUND\n",
            "Location: /cd/0/inline2/AtNwCOyaRzNJRWpFoj6KOEtOqzQrdGJdfrWJvB7i8WuiVDp_NRNj6q1UIiOPeIeRLRULwknYe_xeRvFU6uGIQ2ZhaUXwMv-ADN3uX0X2eQgTwtU3Xn3yT2XUVezWy_tqXHmNAvFZ6zXfhY6854SVLuIcJuhY0Erf7xPutLrKFyKYUCU6Y2xtS6n3hYePsT7wtBANF2ZsrDH9_H83Fz_0OmDs2qNQtpGRqjz51hTYAAXEqgfG4Pv7ddePOCtryyR7uMPiMjRw1BNvT5-lJg7sg7NV0l4G-UVkNwpjc6TApJgEG6jUZaSPRnnEIqa4MacLA25ubVcfpXEfTJPq8nC6N06oVGEgwILGKARALR0gjXankw/file [following]\n",
            "--2019-11-28 05:56:07--  https://uc79bb915f7754e6fc1c06c43277.dl.dropboxusercontent.com/cd/0/inline2/AtNwCOyaRzNJRWpFoj6KOEtOqzQrdGJdfrWJvB7i8WuiVDp_NRNj6q1UIiOPeIeRLRULwknYe_xeRvFU6uGIQ2ZhaUXwMv-ADN3uX0X2eQgTwtU3Xn3yT2XUVezWy_tqXHmNAvFZ6zXfhY6854SVLuIcJuhY0Erf7xPutLrKFyKYUCU6Y2xtS6n3hYePsT7wtBANF2ZsrDH9_H83Fz_0OmDs2qNQtpGRqjz51hTYAAXEqgfG4Pv7ddePOCtryyR7uMPiMjRw1BNvT5-lJg7sg7NV0l4G-UVkNwpjc6TApJgEG6jUZaSPRnnEIqa4MacLA25ubVcfpXEfTJPq8nC6N06oVGEgwILGKARALR0gjXankw/file\n",
            "Reusing existing connection to uc79bb915f7754e6fc1c06c43277.dl.dropboxusercontent.com:443.\n",
            "HTTP request sent, awaiting response... 200 OK\n",
            "Length: 24577258 (23M) [application/zip]\n",
            "Saving to: ‘test.csv.zip’\n",
            "\n",
            "test.csv.zip        100%[===================>]  23.44M   107MB/s    in 0.2s    \n",
            "\n",
            "2019-11-28 05:56:07 (107 MB/s) - ‘test.csv.zip’ saved [24577258/24577258]\n",
            "\n",
            "--2019-11-28 05:56:10--  https://www.dropbox.com/s/6h3a6vrsm4laerc/test_labels.csv.zip\n",
            "Resolving www.dropbox.com (www.dropbox.com)... 162.125.8.1, 2620:100:601b:1::a27d:801\n",
            "Connecting to www.dropbox.com (www.dropbox.com)|162.125.8.1|:443... connected.\n",
            "HTTP request sent, awaiting response... 301 Moved Permanently\n",
            "Location: /s/raw/6h3a6vrsm4laerc/test_labels.csv.zip [following]\n",
            "--2019-11-28 05:56:10--  https://www.dropbox.com/s/raw/6h3a6vrsm4laerc/test_labels.csv.zip\n",
            "Reusing existing connection to www.dropbox.com:443.\n",
            "HTTP request sent, awaiting response... 302 Found\n",
            "Location: https://uc5b3b5a5e16d5e8bbe9e0c59fc0.dl.dropboxusercontent.com/cd/0/inline/AtOX9j6XfTowQNV5JzlitQIZ9PxWvEuiCY9JvFC9Jk5LShPPA4tJOYKL41xs7mSsJ3HMhmpLxRX0h0RcBnF_y6x5y7y9TesRosuLT8T5PDo8CFEQUDrlR-Dtu-Y6txmSdAM/file# [following]\n",
            "--2019-11-28 05:56:11--  https://uc5b3b5a5e16d5e8bbe9e0c59fc0.dl.dropboxusercontent.com/cd/0/inline/AtOX9j6XfTowQNV5JzlitQIZ9PxWvEuiCY9JvFC9Jk5LShPPA4tJOYKL41xs7mSsJ3HMhmpLxRX0h0RcBnF_y6x5y7y9TesRosuLT8T5PDo8CFEQUDrlR-Dtu-Y6txmSdAM/file\n",
            "Resolving uc5b3b5a5e16d5e8bbe9e0c59fc0.dl.dropboxusercontent.com (uc5b3b5a5e16d5e8bbe9e0c59fc0.dl.dropboxusercontent.com)... 162.125.8.6, 2620:100:601b:6::a27d:806\n",
            "Connecting to uc5b3b5a5e16d5e8bbe9e0c59fc0.dl.dropboxusercontent.com (uc5b3b5a5e16d5e8bbe9e0c59fc0.dl.dropboxusercontent.com)|162.125.8.6|:443... connected.\n",
            "HTTP request sent, awaiting response... 302 FOUND\n",
            "Location: /cd/0/inline2/AtNdkvDiRaBrmP_6WgVXy6cZ0CKH6o9st-YlbeRIzivc-zD9efUuF5pkAhXiFKA87xDKLXy2fuB7c3GoaJA6DIkMoMHeqen6VZ7nfrW6zB0bWSzlEr2UFdWv_JMJnKIvRNSHGrwxFsI9QXYdAhwAqMP7JD9hdJP9JwfR5BMymRUi0tjDtFSi9JDoUxfmX0Srw-SfX89f_5YUKivFi68El5eR1a10zwvtBp8qH4BQekJiJOY7PPnvxo1ERWN14LXQP-0xBPkDHJ7C6p7or4KGdAeEzmT4VmguvRSwMFo9jB2hr_2PquOGOO1QemtEKlhE_jZ5YuF0SqS4ocsoCVfkyzz4SIf1Lg-w-3vEuvIO7Y-L3Q/file [following]\n",
            "--2019-11-28 05:56:11--  https://uc5b3b5a5e16d5e8bbe9e0c59fc0.dl.dropboxusercontent.com/cd/0/inline2/AtNdkvDiRaBrmP_6WgVXy6cZ0CKH6o9st-YlbeRIzivc-zD9efUuF5pkAhXiFKA87xDKLXy2fuB7c3GoaJA6DIkMoMHeqen6VZ7nfrW6zB0bWSzlEr2UFdWv_JMJnKIvRNSHGrwxFsI9QXYdAhwAqMP7JD9hdJP9JwfR5BMymRUi0tjDtFSi9JDoUxfmX0Srw-SfX89f_5YUKivFi68El5eR1a10zwvtBp8qH4BQekJiJOY7PPnvxo1ERWN14LXQP-0xBPkDHJ7C6p7or4KGdAeEzmT4VmguvRSwMFo9jB2hr_2PquOGOO1QemtEKlhE_jZ5YuF0SqS4ocsoCVfkyzz4SIf1Lg-w-3vEuvIO7Y-L3Q/file\n",
            "Reusing existing connection to uc5b3b5a5e16d5e8bbe9e0c59fc0.dl.dropboxusercontent.com:443.\n",
            "HTTP request sent, awaiting response... 200 OK\n",
            "Length: 1527605 (1.5M) [application/zip]\n",
            "Saving to: ‘test_labels.csv.zip’\n",
            "\n",
            "test_labels.csv.zip 100%[===================>]   1.46M  --.-KB/s    in 0.09s   \n",
            "\n",
            "2019-11-28 05:56:11 (15.6 MB/s) - ‘test_labels.csv.zip’ saved [1527605/1527605]\n",
            "\n"
          ],
          "name": "stdout"
        }
      ]
    },
    {
      "cell_type": "code",
      "metadata": {
        "id": "syaL44cklhN6",
        "colab_type": "code",
        "colab": {
          "base_uri": "https://localhost:8080/",
          "height": 185
        },
        "outputId": "54c62970-89f8-4674-f334-2a3ad2f115bd"
      },
      "source": [
        "! unzip test_labels.csv.zip\n",
        "! unzip test.csv.zip\n",
        "! unzip train.csv.zip"
      ],
      "execution_count": 13,
      "outputs": [
        {
          "output_type": "stream",
          "text": [
            "Archive:  test_labels.csv.zip\n",
            "replace test_labels.csv? [y]es, [n]o, [A]ll, [N]one, [r]ename: A\n",
            "  inflating: test_labels.csv         \n",
            "Archive:  test.csv.zip\n",
            "replace test.csv? [y]es, [n]o, [A]ll, [N]one, [r]ename: A\n",
            "  inflating: test.csv                \n",
            "Archive:  train.csv.zip\n",
            "replace train.csv? [y]es, [n]o, [A]ll, [N]one, [r]ename: A\n",
            "  inflating: train.csv               \n"
          ],
          "name": "stdout"
        }
      ]
    },
    {
      "cell_type": "code",
      "metadata": {
        "id": "P83sWtfhlQFb",
        "colab_type": "code",
        "colab": {
          "base_uri": "https://localhost:8080/",
          "height": 36
        },
        "outputId": "0dffb9e8-8205-4d41-c624-5fdc962974f1"
      },
      "source": [
        "! ls"
      ],
      "execution_count": 5,
      "outputs": [
        {
          "output_type": "stream",
          "text": [
            "sample_data  test.csv.zip  test_labels.csv.zip\ttrain.csv.zip\n"
          ],
          "name": "stdout"
        }
      ]
    },
    {
      "cell_type": "code",
      "metadata": {
        "id": "jZJv4li3cQwJ",
        "colab_type": "code",
        "colab": {}
      },
      "source": [
        "x_train = pd.read_csv('./train.csv')\n",
        "x_test = pd.read_csv('./test.csv')\n",
        "y_test = pd.read_csv('./test_labels.csv')"
      ],
      "execution_count": 0,
      "outputs": []
    },
    {
      "cell_type": "code",
      "metadata": {
        "id": "HDfRxEuCcxOj",
        "colab_type": "code",
        "outputId": "0da15ad4-b3ba-45f8-8118-17bcefb95bce",
        "colab": {
          "base_uri": "https://localhost:8080/",
          "height": 54
        }
      },
      "source": [
        "print('Кол-во пропущенных значений в train: ', np.sum(x_train.comment_text.isnull()))\n",
        "print('Кол-во пропущенных значений в test: ', np.sum(x_test.comment_text.isnull()))"
      ],
      "execution_count": 16,
      "outputs": [
        {
          "output_type": "stream",
          "text": [
            "Кол-во пропущенных значений в train:  0\n",
            "Кол-во пропущенных значений в test:  0\n"
          ],
          "name": "stdout"
        }
      ]
    },
    {
      "cell_type": "code",
      "metadata": {
        "id": "m0EksRbOczlw",
        "colab_type": "code",
        "colab": {}
      },
      "source": [
        "list_classes = [\"toxic\", \"severe_toxic\", \"obscene\", \"threat\", \"insult\", \"identity_hate\"]"
      ],
      "execution_count": 0,
      "outputs": []
    },
    {
      "cell_type": "code",
      "metadata": {
        "id": "V-LFmYqgc1QP",
        "colab_type": "code",
        "outputId": "578bd389-403e-4d18-851c-b767dc92e69c",
        "colab": {
          "base_uri": "https://localhost:8080/",
          "height": 517
        }
      },
      "source": [
        "temp = x_train.loc[:,list_classes].sum()\n",
        "plt.figure(figsize=(16, 8))\n",
        "sns.barplot(temp.index, temp.values, alpha=0.8)\n",
        "plt.title('Number of comments per class')\n",
        "plt.ylabel('Number of occurrences', fontsize=12)\n",
        "plt.xlabel('Class name', fontsize=12)\n",
        "plt.grid(True)\n",
        "plt.show()"
      ],
      "execution_count": 18,
      "outputs": [
        {
          "output_type": "display_data",
          "data": {
            "image/png": "[encoded data removed]",
            "text/plain": [
              "<Figure size 1152x576 with 1 Axes>"
            ]
          },
          "metadata": {
            "tags": []
          }
        }
      ]
    },
    {
      "cell_type": "markdown",
      "metadata": {
        "id": "8NSlLE6sc8mF",
        "colab_type": "text"
      },
      "source": [
        "Видно, что классы не сбалансированы, возможно с этим нужно будет что-то сделать. Предложите свои варианты\n",
        "\n",
        "Так как в данной задаче для каждого объекта могут быть верными сразу несколько классов, то давайте посмотрим на гистограмму распределения количества меток между записями:"
      ]
    },
    {
      "cell_type": "code",
      "metadata": {
        "id": "aRitChD1c9Vq",
        "colab_type": "code",
        "outputId": "5cc5e4b3-e565-4e8d-bb7a-59ce03282c7d",
        "colab": {
          "base_uri": "https://localhost:8080/",
          "height": 535
        }
      },
      "source": [
        "temp = x_train.loc[:,list_classes].sum(axis=1).value_counts()\n",
        "plt.figure(figsize=(16,8))\n",
        "ax = sns.barplot(temp.index, temp.values, alpha=0.8)\n",
        "plt.title('Multiple classes for each comment')\n",
        "plt.ylabel('Number of occurrences', fontsize=12)\n",
        "plt.xlabel('Number of classes', fontsize=12)"
      ],
      "execution_count": 19,
      "outputs": [
        {
          "output_type": "execute_result",
          "data": {
            "text/plain": [
              "Text(0.5, 0, 'Number of classes')"
            ]
          },
          "metadata": {
            "tags": []
          },
          "execution_count": 19
        },
        {
          "output_type": "display_data",
          "data": {
            "image/png": "[encoded data removed]",
            "text/plain": [
              "<Figure size 1152x576 with 1 Axes>"
            ]
          },
          "metadata": {
            "tags": []
          }
        }
      ]
    },
    {
      "cell_type": "code",
      "metadata": {
        "id": "T0R3NbpWc_bL",
        "colab_type": "code",
        "outputId": "f1f996e4-6b06-4d8c-e680-6de5b091a575",
        "colab": {
          "base_uri": "https://localhost:8080/",
          "height": 552
        }
      },
      "source": [
        "corr = x_train[list_classes].corr()\n",
        "plt.figure(figsize = (16,8))\n",
        "sns.heatmap(corr,\n",
        "            xticklabels=corr.columns.values,\n",
        "            yticklabels=corr.columns.values, annot=True)"
      ],
      "execution_count": 20,
      "outputs": [
        {
          "output_type": "execute_result",
          "data": {
            "text/plain": [
              "<matplotlib.axes._subplots.AxesSubplot at 0x7f8c15834cc0>"
            ]
          },
          "metadata": {
            "tags": []
          },
          "execution_count": 20
        },
        {
          "output_type": "display_data",
          "data": {
            "image/png": "[encoded data removed]",
            "text/plain": [
              "<Figure size 1152x576 with 2 Axes>"
            ]
          },
          "metadata": {
            "tags": []
          }
        }
      ]
    },
    {
      "cell_type": "markdown",
      "metadata": {
        "id": "CYjSyoR7dHmg",
        "colab_type": "text"
      },
      "source": [
        "Однако смотерть на корелляцию Пирсона для бинарных переменных не совсем корректно. Например, здесь не отображается одна из зависимостей, которую можно найти в распределении меток между комментариями. Предложите свои варианты как это сделать более правильно.\n",
        "А пока давайте обратим внимание просто на название меток для классов. Рассмотрим severe_toxic и просто toxic они имеют почти похожую смысловую нагрузку. Предлагаю посмотреть зависят ли они друг от друга?"
      ]
    },
    {
      "cell_type": "code",
      "metadata": {
        "id": "DbRbONs3dUXh",
        "colab_type": "code",
        "outputId": "5fecefab-01d5-420d-e324-1b16ec5fd2fb",
        "colab": {
          "base_uri": "https://localhost:8080/",
          "height": 143
        }
      },
      "source": [
        "crosstab = pd.crosstab(x_train['toxic'], x_train['severe_toxic'])\n",
        "crosstab"
      ],
      "execution_count": 21,
      "outputs": [
        {
          "output_type": "execute_result",
          "data": {
            "text/html": [
              "<div>\n",
              "<style scoped>\n",
              "    .dataframe tbody tr th:only-of-type {\n",
              "        vertical-align: middle;\n",
              "    }\n",
              "\n",
              "    .dataframe tbody tr th {\n",
              "        vertical-align: top;\n",
              "    }\n",
              "\n",
              "    .dataframe thead th {\n",
              "        text-align: right;\n",
              "    }\n",
              "</style>\n",
              "<table border=\"1\" class=\"dataframe\">\n",
              "  <thead>\n",
              "    <tr style=\"text-align: right;\">\n",
              "      <th>severe_toxic</th>\n",
              "      <th>0</th>\n",
              "      <th>1</th>\n",
              "    </tr>\n",
              "    <tr>\n",
              "      <th>toxic</th>\n",
              "      <th></th>\n",
              "      <th></th>\n",
              "    </tr>\n",
              "  </thead>\n",
              "  <tbody>\n",
              "    <tr>\n",
              "      <th>0</th>\n",
              "      <td>144277</td>\n",
              "      <td>0</td>\n",
              "    </tr>\n",
              "    <tr>\n",
              "      <th>1</th>\n",
              "      <td>13699</td>\n",
              "      <td>1595</td>\n",
              "    </tr>\n",
              "  </tbody>\n",
              "</table>\n",
              "</div>"
            ],
            "text/plain": [
              "severe_toxic       0     1\n",
              "toxic                     \n",
              "0             144277     0\n",
              "1              13699  1595"
            ]
          },
          "metadata": {
            "tags": []
          },
          "execution_count": 21
        }
      ]
    },
    {
      "cell_type": "markdown",
      "metadata": {
        "id": "Cjjl-NnndOxQ",
        "colab_type": "text"
      },
      "source": [
        "Зависимость видна сразу, если у объекта класс toxic == 0, то severe_toxic не может быть равным 1\n",
        "\n",
        "После того, как мы получили какое-то представление о данных давайте попробуем придумать новые признаки и посмотрим на данные в разрезе новых фичей:"
      ]
    },
    {
      "cell_type": "code",
      "metadata": {
        "id": "j7gOFUdFdBSW",
        "colab_type": "code",
        "outputId": "ddf6f866-49d1-4d92-d297-7eff9c67b66a",
        "colab": {
          "base_uri": "https://localhost:8080/",
          "height": 54
        }
      },
      "source": [
        "%%time \n",
        "#word count\n",
        "x_train['count_word']=x_train[\"comment_text\"].apply(lambda x: len(str(x).split()))\n",
        "#Unique word count\n",
        "x_train['count_unique_word']=x_train[\"comment_text\"].apply(lambda x: len(set(str(x).split())))\n",
        "#Word count percent in each comment:\n",
        "x_train['word_unique_percent']=x_train['count_unique_word']*100/x_train['count_word']\n",
        "#derived features"
      ],
      "execution_count": 22,
      "outputs": [
        {
          "output_type": "stream",
          "text": [
            "CPU times: user 2.25 s, sys: 8.71 ms, total: 2.26 s\n",
            "Wall time: 2.26 s\n"
          ],
          "name": "stdout"
        }
      ]
    },
    {
      "cell_type": "markdown",
      "metadata": {
        "id": "RdnBJCuXddZJ",
        "colab_type": "text"
      },
      "source": [
        "Давайте посмотрим на те комментарии, у которых количество уникальных слов удивительно мало:"
      ]
    },
    {
      "cell_type": "code",
      "metadata": {
        "id": "CayWFO2udaQX",
        "colab_type": "code",
        "outputId": "cc425c8a-6b52-44e8-9b5d-e2273b0a0944",
        "colab": {
          "base_uri": "https://localhost:8080/",
          "height": 502
        }
      },
      "source": [
        "plt.figure(figsize = (16, 8))\n",
        "temp = x_train.loc[x_train['word_unique_percent'] <= 30, list_classes].sum()\n",
        "plt.title(\"Count of comments with low(<30%) unique words\",fontsize=15)\n",
        "ax=sns.barplot(x = temp.index, y = temp.values)"
      ],
      "execution_count": 23,
      "outputs": [
        {
          "output_type": "display_data",
          "data": {
            "image/png": "[encoded data removed]",
            "text/plain": [
              "<Figure size 1152x576 with 1 Axes>"
            ]
          },
          "metadata": {
            "tags": []
          }
        }
      ]
    },
    {
      "cell_type": "code",
      "metadata": {
        "id": "SJ6aN8l5dgoU",
        "colab_type": "code",
        "outputId": "e9a398a0-3b8b-414b-e697-24abdf1f164e",
        "colab": {
          "base_uri": "https://localhost:8080/",
          "height": 93
        }
      },
      "source": [
        "x_train.loc[x_train['word_unique_percent'] <= 30, 'comment_text'][1:3].values"
      ],
      "execution_count": 24,
      "outputs": [
        {
          "output_type": "execute_result",
          "data": {
            "text/plain": [
              "array(['YOUR ARE FUCKING GAY WAD!!!!!!!!!!!!!!!!!!!!!!!!!!!!!!!!!!!!!!!!!!!!!!!!!!!!!!!!!!!!!!!!!!!!!!!!!!!!!!!!!!!!!!!!!!!!!!!!!!!!!!!!!!!!!!!!!!!!!!!!!!!!!!!!!!!!!!!!!!!!!!!!!!!!!!!!!!!!!!!!!!!!!!!!!!!!!!!! \\n\\nI fucked your mum. OH WAIT YOUR GAY YOU DONT HAVE A MOM!!! HAHAHAHAHAHAHAHAHAHAHAHAHAHAHAHAHAHAHAHAHAHAHAHAHAHAHAHAHAHAHAHAHAHAHAHAHAHAHAHAHAHAHAHAHAHAHAHAHAHAHAHAHAHAHAHAHAHAHAHAHAHAHAHAHAHAHAHAHAHAHAHAHAHAHAHAHAHAHAHAHAHAHAHAHAHAHAHAHAHAHAHAHAHAHAHAHAHAHAHAHAHAHAHAHAHAHAHAHAHAHAHAHAHAHAHAHAHAHAHAHAHAHAHAHAHAHAHAHAHAHAHAHAHAHAHAHAHAHAHAHAHAHAHAHAHAHAHAHAHAHAHAHAHAHAHAHAHAHAHAHA\\nLOLOLOLOLOLOLOLOLOLOLOLOLOLOLOLOLOLOLOLOLOLOLOLOLOLOLOLOLOLOLOLOLOLOLOLOLOLOLOLOLOLOLOLOLOLOLOLOLOLOLOLOLOLOLOLOLOLOLOLOLOLOLOLOLOLOLOLOLOLOLOLOLOLOLOLOLOLOLOLOLOLOLOLOLOLOLOLOLOLOLOLOLOLOLOLOLOLOLOLOLOLOLOLOLOLOLOLOLOLOLOLOL\\nCUNTCUNTCUNTCUNTCUNTCUNTCUNTCUNTCUNTCUNTCUNTCUNTCUNTCUNTCUNTCUNTCUNTCUNTCUNTCUNTCUNTCUNTCUNTCUNTCUNTCUNTCUNTCUNTCUNTCUNTCUNTCUNTCUNTCUNTCUNTCUNTCUNTCUNTCUNTCUNTCUNTCUNTCUNTCUNTCUNTCUNTI fucked your mum. OH WAIT YOUR GAY YOU DONT HAVE A MOM!!! HAHAHAHAHAHAHAHAHAHAHAHAHAHAHAHAHAHAHAHAHAHAHAHAHAHAHAHAHAHAHAHAHAHAHAHAHAHAHAHAHAHAHAHAHAHAHAHAHAHAHAHAHAHAHAHAHAHAHAHAHAHAHAHAHAHAHAHAHAHAHAHAHAHAHAHAHAHAHAHAHAHAHAHAHAHAHAHAHAHAHAHAHAHAHAHAHAHAHAHAHAHAHAHAHAHAHAHAHAHAHAHAHAHAHAHAHAHAHAHAHAHAHAHAHAHAHAHAHAHAHAHAHAHAHAHAHAHAHAHAHAHAHAHAHAHAHAHAHAHAHAHAHAHAHAHAHAHAHAHAHA\\nLOLOLOLOLOLOLOLOLOLOLOLOLOLOLOLOLOLOLOLOLOLOLOLOLOLOLOLOLOLOLOLOLOLOLOLOLOLOLOLOLOLOLOLOLOLOLOLOLOLOLOLOLOLOLOLOLOLOLOLOLOLOLOLOLOLOLOLOLOLOLOLOLOLOLOLOLOLOLOLOLOLOLOLOLOLOLOLOLOLOLOLOLOLOLOLOLOLOLOLOLOLOLOLOLOLOLOLOLOLOLOLOL\\nCUNTCUNTCUNTCUNTCUNTCUNTCUNTCUNTCUNTCUNTCUNTCUNTCUNTCUNTCUNTCUNTCUNTCUNTCUNTCUNTCUNTCUNTCUNTCUNTCUNTCUNTCUNTCUNTCUNTCUNTCUNTCUNTCUNTCUNTCUNTCUNTCUNTCUNTCUNTCUNTCUNTCUNTCUNTCUNTCUNTCUNTI fucked your mum. OH WAIT YOUR GAY YOU DONT HAVE A MOM!!! HAHAHAHAHAHAHAHAHAHAHAHAHAHAHAHAHAHAHAHAHAHAHAHAHAHAHAHAHAHAHAHAHAHAHAHAHAHAHAHAHAHAHAHAHAHAHAHAHAHAHAHAHAHAHAHAHAHAHAHAHAHAHAHAHAHAHAHAHAHAHAHAHAHAHAHAHAHAHAHAHAHAHAHAHAHAHAHAHAHAHAHAHAHAHAHAHAHAHAHAHAHAHAHAHAHAHAHAHAHAHAHAHAHAHAHAHAHAHAHAHAHAHAHAHAHAHAHAHAHAHAHAHAHAHAHAHAHAHAHAHAHAHAHAHAHAHAHAHAHAHAHAHAHAHAHAHAHAHAHAHA\\nLOLOLOLOLOLOLOLOLOLOLOLOLOLOLOLOLOLOLOLOLOLOLOLOLOLOLOLOLOLOLOLOLOLOLOLOLOLOLOLOLOLOLOLOLOLOLOLOLOLOLOLOLOLOLOLOLOLOLOLOLOLOLOLOLOLOLOLOLOLOLOLOLOLOLOLOLOLOLOLOLOLOLOLOLOLOLOLOLOLOLOLOLOLOLOLOLOLOLOLOLOLOLOLOLOLOLOLOLOLOLOLOL\\nCUNTCUNTCUNTCUNTCUNTCUNTCUNTCUNTCUNTCUNTCUNTCUNTCUNTCUNTCUNTCUNTCUNTCUNTCUNTCUNTCUNTCUNTCUNTCUNTCUNTCUNTCUNTCUNTCUNTCUNTCUNTCUNTCUNTCUNTCUNTCUNTCUNTCUNTCUNTCUNTCUNTCUNTCUNTCUNTCUNTCUNTI fucked your mum. OH WAIT YOUR GAY YOU DONT HAVE A MOM!!! HAHAHAHAHAHAHAHAHAHAHAHAHAHAHAHAHAHAHAHAHAHAHAHAHAHAHAHAHAHAHAHAHAHAHAHAHAHAHAHAHAHAHAHAHAHAHAHAHAHAHAHAHAHAHAHAHAHAHAHAHAHAHAHAHAHAHAHAHAHAHAHAHAHAHAHAHAHAHAHAHAHAHAHAHAHAHAHAHAHAHAHAHAHAHAHAHAHAHAHAHAHAHAHAHAHAHAHAHAHAHAHAHAHAHAHAHAHAHAHAHAHAHAHAHAHAHAHAHAHAHAHAHAHAHAHAHAHAHAHAHAHAHAHAHAHAHAHAHAHAHAHAHAHAHAHAHAHAHAHAHA\\nLOLOLOLOLOLOLOLOLOLOLOLOLOLOLOLOLOLOLOLOLOLOLOLOLOLOLOLOLOLOLOLOLOLOLOLOLOLOLOLOLOLOLOLOLOLOLOLOLOLOLOLOLOLOLOLOLOLOLOLOLOLOLOLOLOLOLOLOLOLOLOLOLOLOLOLOLOLOLOLOLOLOLOLOLOLOLOLOLOLOLOLOLOLOLOLOLOLOLOLOLOLOLOLOLOLOLOLOLOLOLOLOL\\nCUNTCUNTCUNTCUNTCUNTCUNTCUNTCUNTCUNTCUNTCUNTCUNTCUNTCUNTCUNTCUNTCUNTCUNTCUNTCUNTCUNTCUNTCUNTCUNTCUNTCUNTCUNTCUNTCUNTCUNTCUNTCUNTCUNTCUNTCUNTCUNTCUNTCUNTCUNTCUNTCUNTCUNTCUNTCUNTCUNTCUNTI fucked your mum. OH WAIT YOUR GAY YOU DONT HAVE A MOM!!! HAHAHAHAHAHAHAHAHAHAHAHAHAHAHAHAHAHAHAHAHAHAHAHAHAHAHAHAHAHAHAHAHAHAHAHAHAHAHAHAHAHAHAHAHAHAHAHAHAHAHAHAHAHAHAHAHAHAHAHAHAHAHAHAHAHAHAHAHAHAHAHAHAHAHAHAHAHAHAHAHAHAHAHAHAHAHAHAHAHAHAHAHAHAHAHAHAHAHAHAHAHAHAHAHAHAHAHAHAHAHAHAHAHAHAHAHAHAHAHAHAHAHAHAHAHAHAHAHAHAHAHAHAHAHAHAHAHAHAHAHAHAHAHAHAHAHAHAHAHAHAHAHAHAHAHAHAHAHAHAHA\\nLOLOLOLOLOLOLOLOLOLOLOLOLOLOLOLOLOLOLOLOLOLOLOLOLOLOLOLOLOLOLOLOLOLOLOLOLOLOLOLOLOLOLOLOLOLOLOLOLOLOLOLOLOLOLOLOLOLOLOLOLOLOLOLOLOLOLOLOLOLOLOLOLOLOLOLOLOLOLOLOLOLOLOLOLOLOLOLOLOLOLOLOLOLOLOLOLOLOLOLOLOLOLOLOLOLOLOLOLOLOLOLOL\\nCUNTCUNTCUNTCUNTCUNTCUNTCUNTCUNTCUNTCUNTCUNTCUNTCUNTCUNTCUNTCUNTCUNTCUNTCUNTCUNTCUNTCUNTCUNTCUNTCUNTCUNTCUNTCUNTCUNTCUNTCUNTCUNTCUNTCUNTCUNTCUNTCUNTCUNTCUNTCUNTCUNTCUNTCUNTCUNTCUNTCUNTI fucked your mum. OH WAIT YOUR GAY YOU DONT HAVE A MOM!!! HAHAHAHAHAHAHAHAHAHAHAHAHAHAHAHAHAHAHAHAHAHAHAHAHAHAHAHAHAHAHAHAHAHAHAHAHAHAHAHAHAHAHAHAHAHAHAHAHAHAHAHAHAHAHAHAHAHAHAHAHAHAHAHAHAHAHAHAHAHAHAHAHAHAHAHAHAHAHAHAHAHAHAHAHAHAHAHAHAHAHAHAHAHAHAHAHAHAHAHAHAHAHAHAHAHAHAHAHAHAHAHAHAHAHAHAHAHAHAHAHAHAHAHAHAHAHAHAHAHAHAHAHAHAHAHAHAHAHAHAHAHAHAHAHAHAHAHAHAHAHAHAHAHAHAHAHAHAHAHAHA\\nLOLOLOLOLOLOLOLOLOLOLOLOLOLOLOLOLOLOLOLOLOLOLOLOLOLOLOLOLOLOLOLOLOLOLOLOLOLOLOLOLOLOLOLOLOLOLOLOLOLOLOLOLOLOLOLOLOLOLOLOLOLOLOLOLOLOLOLOLOLOLOLOLOLOLOLOLOLOLOLOLOLOLOLOLOLOLOLOLOLOLOLOLOLOLOLOLOLOLOLOLOLOLOLOLOLOLOLOLOLOLOLOL\\nCUNTCUNTCUNTCUNTCUNTCUNTCUNTCUNTCUNTCUNTCUNTCUNTCUNTCUNTCUNTCUNTCUNTCUNTCUNTCUNTCUNTCUNTCUNTCUNTCUNTCUNTCUNTCUNTCUNTCUNTCUNTCU',\n",
              "       'YOU ARE A MOTHJER FUCKER COCKSUCKER! YOU ARE A MOTHJER FUCKER COCKSUCKER! YOU ARE A MOTHJER FUCKER COCKSUCKER! YOU ARE A MOTHJER FUCKER COCKSUCKER! YOU ARE A MOTHJER FUCKER COCKSUCKER! YOU ARE A MOTHJER FUCKER COCKSUCKER! YOU ARE A MOTHJER FUCKER COCKSUCKER! YOU ARE A MOTHJER FUCKER COCKSUCKER! YOU ARE A MOTHJER FUCKER COCKSUCKER! YOU ARE A MOTHJER FUCKER COCKSUCKER! YOU ARE A MOTHJER FUCKER COCKSUCKER! YOU ARE A MOTHJER FUCKER COCKSUCKER! YOU ARE A MOTHJER FUCKER COCKSUCKER! YOU ARE A MOTHJER FUCKER COCKSUCKER! YOU ARE A MOTHJER FUCKER COCKSUCKER! YOU ARE A MOTHJER FUCKER COCKSUCKER! YOU ARE A MOTHJER FUCKER COCKSUCKER! YOU ARE A MOTHJER FUCKER COCKSUCKER! YOU ARE A MOTHJER FUCKER COCKSUCKER! YOU ARE A MOTHJER FUCKER COCKSUCKER! YOU ARE A MOTHJER FUCKER COCKSUCKER! YOU ARE A MOTHJER FUCKER COCKSUCKER! YOU ARE A MOTHJER FUCKER COCKSUCKER! YOU ARE A MOTHJER FUCKER COCKSUCKER! YOU ARE A MOTHJER FUCKER COCKSUCKER! YOU ARE A MOTHJER FUCKER COCKSUCKER! YOU ARE A MOTHJER FUCKER COCKSUCKER! YOU ARE A MOTHJER FUCKER COCKSUCKER! YOU ARE A MOTHJER FUCKER COCKSUCKER! YOU ARE A MOTHJER FUCKER COCKSUCKER! YOU ARE A MOTHJER FUCKER COCKSUCKER! YOU ARE A MOTHJER FUCKER COCKSUCKER! YOU ARE A MOTHJER FUCKER COCKSUCKER! YOU ARE A MOTHJER FUCKER COCKSUCKER! YOU ARE A MOTHJER FUCKER COCKSUCKER! YOU ARE A MOTHJER FUCKER COCKSUCKER! YOU ARE A MOTHJER FUCKER COCKSUCKER! YOU ARE A MOTHJER FUCKER COCKSUCKER! YOU ARE A MOTHJER FUCKER COCKSUCKER! YOU ARE A MOTHJER FUCKER COCKSUCKER! YOU ARE A MOTHJER FUCKER COCKSUCKER! YOU ARE A MOTHJER FUCKER COCKSUCKER! YOU ARE A MOTHJER FUCKER COCKSUCKER! YOU ARE A MOTHJER FUCKER COCKSUCKER! YOU ARE A MOTHJER FUCKER COCKSUCKER! YOU ARE A MOTHJER FUCKER COCKSUCKER! YOU ARE A MOTHJER FUCKER COCKSUCKER! YOU ARE A MOTHJER FUCKER COCKSUCKER! YOU ARE A MOTHJER FUCKER COCKSUCKER! YOU ARE A MOTHJER FUCKER COCKSUCKER! YOU ARE A MOTHJER FUCKER COCKSUCKER! YOU ARE A MOTHJER FUCKER COCKSUCKER! YOU ARE A MOTHJER FUCKER COCKSUCKER! YOU ARE A MOTHJER FUCKER COCKSUCKER! YOU ARE A MOTHJER FUCKER COCKSUCKER! YOU ARE A MOTHJER FUCKER COCKSUCKER! YOU ARE A MOTHJER FUCKER COCKSUCKER! YOU ARE A MOTHJER FUCKER COCKSUCKER! YOU ARE A MOTHJER FUCKER COCKSUCKER! YOU ARE A MOTHJER FUCKER COCKSUCKER! YOU ARE A MOTHJER FUCKER COCKSUCKER! YOU ARE A MOTHJER FUCKER COCKSUCKER! YOU ARE A MOTHJER FUCKER COCKSUCKER! YOU ARE A MOTHJER FUCKER COCKSUCKER! YOU ARE A MOTHJER FUCKER COCKSUCKER! YOU ARE A MOTHJER FUCKER COCKSUCKER! YOU ARE A MOTHJER FUCKER COCKSUCKER! YOU ARE A MOTHJER FUCKER COCKSUCKER! YOU ARE A MOTHJER FUCKER COCKSUCKER! YOU ARE A MOTHJER FUCKER COCKSUCKER! YOU ARE A MOTHJER FUCKER COCKSUCKER! YOU ARE A MOTHJER FUCKER COCKSUCKER! YOU ARE A MOTHJER FUCKER COCKSUCKER! YOU ARE A MOTHJER FUCKER COCKSUCKER! YOU ARE A MOTHJER FUCKER COCKSUCKER! YOU ARE A MOTHJER FUCKER COCKSUCKER! YOU ARE A MOTHJER FUCKER COCKSUCKER! YOU ARE A MOTHJER FUCKER COCKSUCKER!'],\n",
              "      dtype=object)"
            ]
          },
          "metadata": {
            "tags": []
          },
          "execution_count": 24
        }
      ]
    },
    {
      "cell_type": "code",
      "metadata": {
        "id": "gvn-Z0HZeOGu",
        "colab_type": "code",
        "colab": {}
      },
      "source": [
        "def delete_punctuation(x):\n",
        "    punctuation = list(string.punctuation)\n",
        "    return ''.join([a if a not in punctuation + ['\\n'] else ' ' for a in x])"
      ],
      "execution_count": 0,
      "outputs": []
    },
    {
      "cell_type": "code",
      "metadata": {
        "id": "kKX1zneWWAlu",
        "colab_type": "code",
        "outputId": "d26e1cb7-3619-4c28-dab2-097ed59688b2",
        "colab": {
          "base_uri": "https://localhost:8080/",
          "height": 36
        }
      },
      "source": [
        "delete_punctuation('Explanation\\nWhy the edits made under my usern')"
      ],
      "execution_count": 26,
      "outputs": [
        {
          "output_type": "execute_result",
          "data": {
            "text/plain": [
              "'Explanation Why the edits made under my usern'"
            ]
          },
          "metadata": {
            "tags": []
          },
          "execution_count": 26
        }
      ]
    },
    {
      "cell_type": "code",
      "metadata": {
        "id": "6Skx2bMceTbJ",
        "colab_type": "code",
        "colab": {}
      },
      "source": [
        "# приведение всех слов к нижнему регистру\n",
        "x_train['comment_text'] = x_train['comment_text'].apply(lambda x: x.lower())\n",
        "x_test['comment_text'] = x_test['comment_text'].apply(lambda x: x.lower())\n",
        "# удаление пунктуации\n",
        "x_train['comment_text'] = x_train['comment_text'].apply(delete_punctuation)\n",
        "x_test['comment_text'] = x_test['comment_text'].apply(delete_punctuation)"
      ],
      "execution_count": 0,
      "outputs": []
    },
    {
      "cell_type": "markdown",
      "metadata": {
        "id": "lGiY_LPZeWts",
        "colab_type": "text"
      },
      "source": [
        "В качестве начального приближения давайте возьмем только униграмы и обучим логистичскую регрессию для каждого класса:"
      ]
    },
    {
      "cell_type": "code",
      "metadata": {
        "id": "B2836_GvYBdZ",
        "colab_type": "code",
        "outputId": "2fef1048-4534-479c-846b-eb29011ce65f",
        "colab": {
          "base_uri": "https://localhost:8080/",
          "height": 384
        }
      },
      "source": [
        "!wget http://nlp.stanford.edu/data/wordvecs/glove.42B.300d.zip"
      ],
      "execution_count": 0,
      "outputs": [
        {
          "output_type": "stream",
          "text": [
            "--2019-10-15 17:04:15--  http://nlp.stanford.edu/data/wordvecs/glove.42B.300d.zip\n",
            "Resolving nlp.stanford.edu (nlp.stanford.edu)... 171.64.67.140\n",
            "Connecting to nlp.stanford.edu (nlp.stanford.edu)|171.64.67.140|:80... connected.\n",
            "HTTP request sent, awaiting response... 302 Found\n",
            "Location: https://nlp.stanford.edu/data/wordvecs/glove.42B.300d.zip [following]\n",
            "--2019-10-15 17:04:15--  https://nlp.stanford.edu/data/wordvecs/glove.42B.300d.zip\n",
            "Connecting to nlp.stanford.edu (nlp.stanford.edu)|171.64.67.140|:443... connected.\n",
            "HTTP request sent, awaiting response... 301 Moved Permanently\n",
            "Location: http://downloads.cs.stanford.edu/nlp/data/wordvecs/glove.42B.300d.zip [following]\n",
            "--2019-10-15 17:04:16--  http://downloads.cs.stanford.edu/nlp/data/wordvecs/glove.42B.300d.zip\n",
            "Resolving downloads.cs.stanford.edu (downloads.cs.stanford.edu)... 171.64.64.22\n",
            "Connecting to downloads.cs.stanford.edu (downloads.cs.stanford.edu)|171.64.64.22|:80... connected.\n",
            "HTTP request sent, awaiting response... 200 OK\n",
            "Length: 1877802108 (1.7G) [application/zip]\n",
            "Saving to: ‘glove.42B.300d.zip’\n",
            "\n",
            "glove.42B.300d.zip  100%[===================>]   1.75G  2.01MB/s    in 14m 35s \n",
            "\n",
            "2019-10-15 17:18:51 (2.05 MB/s) - ‘glove.42B.300d.zip’ saved [1877802108/1877802108]\n",
            "\n"
          ],
          "name": "stdout"
        }
      ]
    },
    {
      "cell_type": "markdown",
      "metadata": {
        "id": "bUL1cYVnfxkx",
        "colab_type": "text"
      },
      "source": [
        "Перейдем к нейросетям:"
      ]
    },
    {
      "cell_type": "code",
      "metadata": {
        "id": "b3qouoAuemMg",
        "colab_type": "code",
        "outputId": "cbe2f361-d557-47b2-a499-10ca5f03bb99",
        "colab": {
          "base_uri": "https://localhost:8080/",
          "height": 55
        }
      },
      "source": [
        "from keras.layers import Dense, Input, GRU, Embedding, Dropout, Bidirectional\n",
        "from keras.models import Model, Sequential\n",
        "from keras.optimizers import Adam\n",
        "from keras.preprocessing.text import Tokenizer\n",
        "from keras.preprocessing.sequence import pad_sequences\n",
        "from keras.callbacks import EarlyStopping, ReduceLROnPlateau, ModelCheckpoint, LearningRateScheduler\n",
        "from tqdm import tqdm_notebook"
      ],
      "execution_count": 0,
      "outputs": [
        {
          "output_type": "stream",
          "text": [
            "Using TensorFlow backend.\n"
          ],
          "name": "stderr"
        }
      ]
    },
    {
      "cell_type": "code",
      "metadata": {
        "id": "VdKekwPOiV5T",
        "colab_type": "code",
        "colab": {}
      },
      "source": [
        "import os, zipfile\n",
        "file_name = os.path.abspath('./glove.42B.300d.zip') # get full path of files\n",
        "zip_ref = zipfile.ZipFile(file_name) # create zipfile object\n",
        "zip_ref.extractall('./') # extract file to dir\n",
        "zip_ref.close() # close file\n",
        "os.remove(file_name) # delete zipped file"
      ],
      "execution_count": 0,
      "outputs": []
    },
    {
      "cell_type": "code",
      "metadata": {
        "id": "r167jBp_hiAo",
        "colab_type": "code",
        "outputId": "e748bd8a-cf54-4e42-bff5-cd2251f360c1",
        "colab": {
          "base_uri": "https://localhost:8080/",
          "height": 55
        }
      },
      "source": [
        "f = open('./glove.42B.300d.txt')\n",
        "\n",
        "embeddings_index = dict() \n",
        "for line in tqdm_notebook(f):\n",
        "    values = line.split(' ')\n",
        "    word = values[0]\n",
        "    coefs = np.asarray(values[1:], dtype='float32')\n",
        "    embeddings_index[word] = coefs\n",
        "f.close()"
      ],
      "execution_count": 0,
      "outputs": [
        {
          "output_type": "stream",
          "text": [
            "\n"
          ],
          "name": "stdout"
        }
      ]
    },
    {
      "cell_type": "markdown",
      "metadata": {
        "id": "F12WyJoQeH5_",
        "colab_type": "text"
      },
      "source": [
        "Ada-Gram, Sergey Bartunov"
      ]
    },
    {
      "cell_type": "code",
      "metadata": {
        "id": "PixJhOz3hVuE",
        "colab_type": "code",
        "colab": {}
      },
      "source": [
        "embed_size = 300 # how big is each word vector\n",
        "max_features = 100000 # how many unique words to use (i.e num rows in embedding vector)\n",
        "maxlen = 150 # max number of words in a comment to use\n",
        "\n",
        "list_sentences_train = x_train[\"comment_text\"].values\n",
        "y = x_train[list_classes].values\n",
        "list_sentences_test = x_test[\"comment_text\"].values\n",
        "\n",
        "tokenizer = Tokenizer(num_words=max_features)\n",
        "tokenizer.fit_on_texts(list(list_sentences_train))\n",
        "list_tokenized_train = tokenizer.texts_to_sequences(list_sentences_train)\n",
        "list_tokenized_test = tokenizer.texts_to_sequences(list_sentences_test)\n",
        "x_train_pad = pad_sequences(list_tokenized_train, maxlen=maxlen)\n",
        "x_test_pad = pad_sequences(list_tokenized_test, maxlen=maxlen)"
      ],
      "execution_count": 0,
      "outputs": []
    },
    {
      "cell_type": "code",
      "metadata": {
        "id": "aMz5LSvFohPC",
        "colab_type": "code",
        "outputId": "7a23f18e-e95e-4dab-dfdb-dfb956c64b03",
        "colab": {
          "base_uri": "https://localhost:8080/",
          "height": 90
        }
      },
      "source": [
        "all_embs = np.stack(embeddings_index.values())\n",
        "emb_mean, emb_std = all_embs.mean(), all_embs.std()\n",
        "emb_mean, emb_std"
      ],
      "execution_count": 0,
      "outputs": [
        {
          "output_type": "stream",
          "text": [
            "/usr/local/lib/python3.6/dist-packages/ipykernel_launcher.py:1: FutureWarning: arrays to stack must be passed as a \"sequence\" type such as list or tuple. Support for non-sequence iterables such as generators is deprecated as of NumPy 1.16 and will raise an error in the future.\n",
            "  \"\"\"Entry point for launching an IPython kernel.\n"
          ],
          "name": "stderr"
        },
        {
          "output_type": "execute_result",
          "data": {
            "text/plain": [
              "(0.005720101, 0.2951066)"
            ]
          },
          "metadata": {
            "tags": []
          },
          "execution_count": 32
        }
      ]
    },
    {
      "cell_type": "code",
      "metadata": {
        "id": "wectPGPsodKK",
        "colab_type": "code",
        "colab": {}
      },
      "source": [
        "word_index = tokenizer.word_index\n",
        "unknown_words = set()\n",
        "nb_words = min(max_features, len(word_index))\n",
        "embedding_matrix = np.random.normal(emb_mean, emb_std, (nb_words, embed_size))\n",
        "for word, i in word_index.items():\n",
        "    if i >= max_features: continue\n",
        "    embedding_vector = embeddings_index.get(word)\n",
        "    if embedding_vector is not None: embedding_matrix[i] = embedding_vector\n",
        "    else: unknown_words.add(word)"
      ],
      "execution_count": 0,
      "outputs": []
    },
    {
      "cell_type": "code",
      "metadata": {
        "id": "dyTKYdw9gZBJ",
        "colab_type": "code",
        "outputId": "fcbe4325-db86-480f-8ecd-5aae8152ec4d",
        "colab": {
          "base_uri": "https://localhost:8080/",
          "height": 887
        }
      },
      "source": [
        "input_layer = Input((maxlen,), name = 'comment_text')\n",
        "embedding_layer = Embedding(max_features, embed_size, input_length=maxlen, \n",
        "                            weights=[embedding_matrix], \n",
        "                            trainable = False)(input_layer)\n",
        "x = Bidirectional(GRU(128, return_sequences=True))(embedding_layer)\n",
        "x = Dropout(0.3)(x)\n",
        "x = Bidirectional(GRU(128, return_sequences=False))(x)\n",
        "x = Dense(64, activation=\"relu\")(x)\n",
        "output_layer = Dense(6, activation=\"sigmoid\")(x)\n",
        "\n",
        "model = Model(inputs=input_layer, outputs=output_layer)\n",
        "model.compile(loss='binary_crossentropy',\n",
        "                  optimizer=Adam(clipvalue=1, clipnorm=1),\n",
        "                  metrics=['accuracy'])\n",
        "print(model.summary())\n",
        "\n",
        "def schedule(ind):\n",
        "    a = [0.001, 0.001, 0.0001, 0.0001, 0.00001, 0.00001, 0.000001]\n",
        "    return a[ind]\n",
        "\n",
        "lr = LearningRateScheduler(schedule)\n",
        "    \n",
        "early_stop = EarlyStopping(monitor='val_loss',\n",
        "                           patience=4,\n",
        "                           verbose=1,\n",
        "                           min_delta=1e-4)\n",
        "\n",
        "\n",
        "history = model.fit(x_train_pad, y, batch_size=256, epochs = 7, \n",
        "                    validation_split = 0.1, verbose = 1, callbacks = [lr])"
      ],
      "execution_count": 0,
      "outputs": [
        {
          "output_type": "stream",
          "text": [
            "Model: \"model_3\"\n",
            "_________________________________________________________________\n",
            "Layer (type)                 Output Shape              Param #   \n",
            "=================================================================\n",
            "comment_text (InputLayer)    (None, 150)               0         \n",
            "_________________________________________________________________\n",
            "embedding_3 (Embedding)      (None, 150, 300)          30000000  \n",
            "_________________________________________________________________\n",
            "bidirectional_5 (Bidirection (None, 150, 256)          329472    \n",
            "_________________________________________________________________\n",
            "dropout_3 (Dropout)          (None, 150, 256)          0         \n",
            "_________________________________________________________________\n",
            "bidirectional_6 (Bidirection (None, 256)               295680    \n",
            "_________________________________________________________________\n",
            "dense_3 (Dense)              (None, 64)                16448     \n",
            "_________________________________________________________________\n",
            "dense_4 (Dense)              (None, 6)                 390       \n",
            "=================================================================\n",
            "Total params: 30,641,990\n",
            "Trainable params: 641,990\n",
            "Non-trainable params: 30,000,000\n",
            "_________________________________________________________________\n",
            "None\n",
            "Train on 143613 samples, validate on 15958 samples\n",
            "Epoch 1/7\n",
            "143613/143613 [==============================] - 636s 4ms/step - loss: 0.0587 - acc: 0.9792 - val_loss: 0.0466 - val_acc: 0.9821\n",
            "Epoch 2/7\n",
            "143613/143613 [==============================] - 647s 5ms/step - loss: 0.0417 - acc: 0.9839 - val_loss: 0.0424 - val_acc: 0.9837\n",
            "Epoch 3/7\n",
            "133888/143613 [==========================>...] - ETA: 41s - loss: 0.0370 - acc: 0.9853"
          ],
          "name": "stdout"
        },
        {
          "output_type": "error",
          "ename": "KeyboardInterrupt",
          "evalue": "ignored",
          "traceback": [
            "\u001b[0;31m---------------------------------------------------------------------------\u001b[0m",
            "\u001b[0;31mKeyboardInterrupt\u001b[0m                         Traceback (most recent call last)",
            "\u001b[0;32m<ipython-input-43-2fa8f3415309>\u001b[0m in \u001b[0;36m<module>\u001b[0;34m()\u001b[0m\n\u001b[1;32m     28\u001b[0m \u001b[0;34m\u001b[0m\u001b[0m\n\u001b[1;32m     29\u001b[0m history = model.fit(x_train_pad, y, batch_size=256, epochs = 7, \n\u001b[0;32m---> 30\u001b[0;31m                     validation_split = 0.1, verbose = 1, callbacks = [lr])\n\u001b[0m",
            "\u001b[0;32m/usr/local/lib/python3.6/dist-packages/keras/engine/training.py\u001b[0m in \u001b[0;36mfit\u001b[0;34m(self, x, y, batch_size, epochs, verbose, callbacks, validation_split, validation_data, shuffle, class_weight, sample_weight, initial_epoch, steps_per_epoch, validation_steps, validation_freq, max_queue_size, workers, use_multiprocessing, **kwargs)\u001b[0m\n\u001b[1;32m   1176\u001b[0m                                         \u001b[0msteps_per_epoch\u001b[0m\u001b[0;34m=\u001b[0m\u001b[0msteps_per_epoch\u001b[0m\u001b[0;34m,\u001b[0m\u001b[0;34m\u001b[0m\u001b[0;34m\u001b[0m\u001b[0m\n\u001b[1;32m   1177\u001b[0m                                         \u001b[0mvalidation_steps\u001b[0m\u001b[0;34m=\u001b[0m\u001b[0mvalidation_steps\u001b[0m\u001b[0;34m,\u001b[0m\u001b[0;34m\u001b[0m\u001b[0;34m\u001b[0m\u001b[0m\n\u001b[0;32m-> 1178\u001b[0;31m                                         validation_freq=validation_freq)\n\u001b[0m\u001b[1;32m   1179\u001b[0m \u001b[0;34m\u001b[0m\u001b[0m\n\u001b[1;32m   1180\u001b[0m     def evaluate(self,\n",
            "\u001b[0;32m/usr/local/lib/python3.6/dist-packages/keras/engine/training_arrays.py\u001b[0m in \u001b[0;36mfit_loop\u001b[0;34m(model, fit_function, fit_inputs, out_labels, batch_size, epochs, verbose, callbacks, val_function, val_inputs, shuffle, callback_metrics, initial_epoch, steps_per_epoch, validation_steps, validation_freq)\u001b[0m\n\u001b[1;32m    202\u001b[0m                     \u001b[0mins_batch\u001b[0m\u001b[0;34m[\u001b[0m\u001b[0mi\u001b[0m\u001b[0;34m]\u001b[0m \u001b[0;34m=\u001b[0m \u001b[0mins_batch\u001b[0m\u001b[0;34m[\u001b[0m\u001b[0mi\u001b[0m\u001b[0;34m]\u001b[0m\u001b[0;34m.\u001b[0m\u001b[0mtoarray\u001b[0m\u001b[0;34m(\u001b[0m\u001b[0;34m)\u001b[0m\u001b[0;34m\u001b[0m\u001b[0;34m\u001b[0m\u001b[0m\n\u001b[1;32m    203\u001b[0m \u001b[0;34m\u001b[0m\u001b[0m\n\u001b[0;32m--> 204\u001b[0;31m                 \u001b[0mouts\u001b[0m \u001b[0;34m=\u001b[0m \u001b[0mfit_function\u001b[0m\u001b[0;34m(\u001b[0m\u001b[0mins_batch\u001b[0m\u001b[0;34m)\u001b[0m\u001b[0;34m\u001b[0m\u001b[0;34m\u001b[0m\u001b[0m\n\u001b[0m\u001b[1;32m    205\u001b[0m                 \u001b[0mouts\u001b[0m \u001b[0;34m=\u001b[0m \u001b[0mto_list\u001b[0m\u001b[0;34m(\u001b[0m\u001b[0mouts\u001b[0m\u001b[0;34m)\u001b[0m\u001b[0;34m\u001b[0m\u001b[0;34m\u001b[0m\u001b[0m\n\u001b[1;32m    206\u001b[0m                 \u001b[0;32mfor\u001b[0m \u001b[0ml\u001b[0m\u001b[0;34m,\u001b[0m \u001b[0mo\u001b[0m \u001b[0;32min\u001b[0m \u001b[0mzip\u001b[0m\u001b[0;34m(\u001b[0m\u001b[0mout_labels\u001b[0m\u001b[0;34m,\u001b[0m \u001b[0mouts\u001b[0m\u001b[0;34m)\u001b[0m\u001b[0;34m:\u001b[0m\u001b[0;34m\u001b[0m\u001b[0;34m\u001b[0m\u001b[0m\n",
            "\u001b[0;32m/usr/local/lib/python3.6/dist-packages/keras/backend/tensorflow_backend.py\u001b[0m in \u001b[0;36m__call__\u001b[0;34m(self, inputs)\u001b[0m\n\u001b[1;32m   2977\u001b[0m                     \u001b[0;32mreturn\u001b[0m \u001b[0mself\u001b[0m\u001b[0;34m.\u001b[0m\u001b[0m_legacy_call\u001b[0m\u001b[0;34m(\u001b[0m\u001b[0minputs\u001b[0m\u001b[0;34m)\u001b[0m\u001b[0;34m\u001b[0m\u001b[0;34m\u001b[0m\u001b[0m\n\u001b[1;32m   2978\u001b[0m \u001b[0;34m\u001b[0m\u001b[0m\n\u001b[0;32m-> 2979\u001b[0;31m             \u001b[0;32mreturn\u001b[0m \u001b[0mself\u001b[0m\u001b[0;34m.\u001b[0m\u001b[0m_call\u001b[0m\u001b[0;34m(\u001b[0m\u001b[0minputs\u001b[0m\u001b[0;34m)\u001b[0m\u001b[0;34m\u001b[0m\u001b[0;34m\u001b[0m\u001b[0m\n\u001b[0m\u001b[1;32m   2980\u001b[0m         \u001b[0;32melse\u001b[0m\u001b[0;34m:\u001b[0m\u001b[0;34m\u001b[0m\u001b[0;34m\u001b[0m\u001b[0m\n\u001b[1;32m   2981\u001b[0m             \u001b[0;32mif\u001b[0m \u001b[0mpy_any\u001b[0m\u001b[0;34m(\u001b[0m\u001b[0mis_tensor\u001b[0m\u001b[0;34m(\u001b[0m\u001b[0mx\u001b[0m\u001b[0;34m)\u001b[0m \u001b[0;32mfor\u001b[0m \u001b[0mx\u001b[0m \u001b[0;32min\u001b[0m \u001b[0minputs\u001b[0m\u001b[0;34m)\u001b[0m\u001b[0;34m:\u001b[0m\u001b[0;34m\u001b[0m\u001b[0;34m\u001b[0m\u001b[0m\n",
            "\u001b[0;32m/usr/local/lib/python3.6/dist-packages/keras/backend/tensorflow_backend.py\u001b[0m in \u001b[0;36m_call\u001b[0;34m(self, inputs)\u001b[0m\n\u001b[1;32m   2935\u001b[0m             \u001b[0mfetched\u001b[0m \u001b[0;34m=\u001b[0m \u001b[0mself\u001b[0m\u001b[0;34m.\u001b[0m\u001b[0m_callable_fn\u001b[0m\u001b[0;34m(\u001b[0m\u001b[0;34m*\u001b[0m\u001b[0marray_vals\u001b[0m\u001b[0;34m,\u001b[0m \u001b[0mrun_metadata\u001b[0m\u001b[0;34m=\u001b[0m\u001b[0mself\u001b[0m\u001b[0;34m.\u001b[0m\u001b[0mrun_metadata\u001b[0m\u001b[0;34m)\u001b[0m\u001b[0;34m\u001b[0m\u001b[0;34m\u001b[0m\u001b[0m\n\u001b[1;32m   2936\u001b[0m         \u001b[0;32melse\u001b[0m\u001b[0;34m:\u001b[0m\u001b[0;34m\u001b[0m\u001b[0;34m\u001b[0m\u001b[0m\n\u001b[0;32m-> 2937\u001b[0;31m             \u001b[0mfetched\u001b[0m \u001b[0;34m=\u001b[0m \u001b[0mself\u001b[0m\u001b[0;34m.\u001b[0m\u001b[0m_callable_fn\u001b[0m\u001b[0;34m(\u001b[0m\u001b[0;34m*\u001b[0m\u001b[0marray_vals\u001b[0m\u001b[0;34m)\u001b[0m\u001b[0;34m\u001b[0m\u001b[0;34m\u001b[0m\u001b[0m\n\u001b[0m\u001b[1;32m   2938\u001b[0m         \u001b[0;32mreturn\u001b[0m \u001b[0mfetched\u001b[0m\u001b[0;34m[\u001b[0m\u001b[0;34m:\u001b[0m\u001b[0mlen\u001b[0m\u001b[0;34m(\u001b[0m\u001b[0mself\u001b[0m\u001b[0;34m.\u001b[0m\u001b[0moutputs\u001b[0m\u001b[0;34m)\u001b[0m\u001b[0;34m]\u001b[0m\u001b[0;34m\u001b[0m\u001b[0;34m\u001b[0m\u001b[0m\n\u001b[1;32m   2939\u001b[0m \u001b[0;34m\u001b[0m\u001b[0m\n",
            "\u001b[0;32m/usr/local/lib/python3.6/dist-packages/tensorflow_core/python/client/session.py\u001b[0m in \u001b[0;36m__call__\u001b[0;34m(self, *args, **kwargs)\u001b[0m\n\u001b[1;32m   1470\u001b[0m         ret = tf_session.TF_SessionRunCallable(self._session._session,\n\u001b[1;32m   1471\u001b[0m                                                \u001b[0mself\u001b[0m\u001b[0;34m.\u001b[0m\u001b[0m_handle\u001b[0m\u001b[0;34m,\u001b[0m \u001b[0margs\u001b[0m\u001b[0;34m,\u001b[0m\u001b[0;34m\u001b[0m\u001b[0;34m\u001b[0m\u001b[0m\n\u001b[0;32m-> 1472\u001b[0;31m                                                run_metadata_ptr)\n\u001b[0m\u001b[1;32m   1473\u001b[0m         \u001b[0;32mif\u001b[0m \u001b[0mrun_metadata\u001b[0m\u001b[0;34m:\u001b[0m\u001b[0;34m\u001b[0m\u001b[0;34m\u001b[0m\u001b[0m\n\u001b[1;32m   1474\u001b[0m           \u001b[0mproto_data\u001b[0m \u001b[0;34m=\u001b[0m \u001b[0mtf_session\u001b[0m\u001b[0;34m.\u001b[0m\u001b[0mTF_GetBuffer\u001b[0m\u001b[0;34m(\u001b[0m\u001b[0mrun_metadata_ptr\u001b[0m\u001b[0;34m)\u001b[0m\u001b[0;34m\u001b[0m\u001b[0;34m\u001b[0m\u001b[0m\n",
            "\u001b[0;31mKeyboardInterrupt\u001b[0m: "
          ]
        }
      ]
    },
    {
      "cell_type": "markdown",
      "metadata": {
        "id": "swDpUUBEqV-g",
        "colab_type": "text"
      },
      "source": [
        "Что можно еще сделать?\n",
        "\n",
        "1. LSTM\n",
        "\n",
        "   --hidden units\n",
        "   \n",
        "   --layers\n",
        "     \n",
        "2. Ensembling \n",
        "   \n",
        "   --log reg + nn + gb\n",
        "   \n",
        "   --cosine lr\n",
        "\n",
        "3. Convolutions for texts\n",
        "\n",
        "4. Attention (coming soon)\n",
        "\n",
        "5. Char RNN\n",
        "\n",
        "6. LR scheduling (for, example cosine)\n",
        "\n",
        "7. [ROC-AUC trick](https://www.cs.cornell.edu/~caruana/ctp/ct.papers/caruana.icml04.icdm06long.pdf) \n",
        "\n",
        "8. Combining features (texts + table data)\n",
        "\n",
        "9. Augmentation\n"
      ]
    },
    {
      "cell_type": "code",
      "metadata": {
        "id": "7Cr_KNCsa0g9",
        "colab_type": "code",
        "colab": {}
      },
      "source": [
        ""
      ],
      "execution_count": 0,
      "outputs": []
    }
  ]
}