{
 "cells": [
  {
   "cell_type": "markdown",
   "metadata": {
    "colab_type": "text",
    "id": "eDjJvApPv9fK"
   },
   "source": [
    "# Эмбеддинги (векторные представления) слов\n",
    "\n",
    "### **1. Что такое word embedding?**\n",
    "\n",
    "При работе с текстами нам хотелось бы понимать, как соотносятся между собой слова в языке (например, насколько они похожи или различны — в каком-то релевантном для решаемой задачи смысле). Поэтому мы можем работать не с самими словами в формате строк, а с их числовым — или скорее векторным — представлением.\n",
    "\n",
    "Один из очевидных способов представить слово в виде строки — one-hot encoding. Однако такое представление, с одной стороны, требует огромного ресурса памяти (например, в русском языке более 100000 слов), а, с другой стороны, не даёт содержательной информации о том, как эти слова между собой соотносятся."
   ]
  },
  {
   "cell_type": "markdown",
   "metadata": {
    "colab_type": "text",
    "id": "bhUejOLIhER7"
   },
   "source": [
    "### **2. Word2Vec**\n",
    "\n",
    "Краткое напоминание о том, что такое косинусное расстояние между векторами $x$ и $y$, которое можно рассматривать как меру сходства между ними:\n",
    "\n",
    "$similarity(x, y) = \\cos(\\Theta) = \\frac{\\langle x, y \\rangle}{||x|| \\cdot ||y||}$, где $\\Theta$ — угол между векторами.\n",
    "\n",
    "Модель Word2Vec строит такие векторные представления, чтобы векторы похожих слов оказывались близки по косинусному расстоянию. Похожими считаются слова, которые часто встречаются в одном и том же контексте.\n",
    "\n",
    "Есть различные подходы к тому, как обучать векторные представления. Первый из них — CBoW (Continuous Bag of Words), предсказание слова по контексту, и второй — SkipGram, предсказание контекста по слову. Подробнее об архитектуре и модификациях функции потерь можно прочитать [здесь](https://https://arxiv.org/pdf/1301.3781.pdf) и [здесь](https://https://arxiv.org/abs/1310.4546).\n",
    "\n",
    "Рассмотрим word2vec, [реализованный](https://https://radimrehurek.com/gensim/models/word2vec.html) в библиотеке gensim."
   ]
  },
  {
   "cell_type": "code",
   "execution_count": 1,
   "metadata": {
    "colab": {},
    "colab_type": "code",
    "id": "mRedhwJllh7W"
   },
   "outputs": [
    {
     "name": "stdout",
     "output_type": "stream",
     "text": [
      "Collecting gensim\n",
      "\u001b[?25l  Downloading https://files.pythonhosted.org/packages/44/93/c6011037f24e3106d13f3be55297bf84ece2bf15b278cc4776339dc52db5/gensim-3.8.1-cp37-cp37m-manylinux1_x86_64.whl (24.2MB)\n",
      "\u001b[K     |████████████████████████████████| 24.2MB 1.5MB/s eta 0:00:01\n",
      "\u001b[?25hRequirement already satisfied, skipping upgrade: six>=1.5.0 in /home/sorain/anaconda3/envs/sorains_env/lib/python3.7/site-packages (from gensim) (1.12.0)\n",
      "Collecting smart-open>=1.8.1\n",
      "\u001b[?25l  Downloading https://files.pythonhosted.org/packages/0c/09/735f2786dfac9bbf39d244ce75c0313d27d4962e71e0774750dc809f2395/smart_open-1.9.0.tar.gz (70kB)\n",
      "\u001b[K     |████████████████████████████████| 71kB 1.0MB/s eta 0:00:01\n",
      "\u001b[?25hRequirement already satisfied, skipping upgrade: numpy>=1.11.3 in /home/sorain/anaconda3/envs/sorains_env/lib/python3.7/site-packages (from gensim) (1.17.3)\n",
      "Requirement already satisfied, skipping upgrade: scipy>=0.18.1 in /home/sorain/anaconda3/envs/sorains_env/lib/python3.7/site-packages (from gensim) (1.3.1)\n",
      "Collecting boto>=2.32\n",
      "\u001b[?25l  Downloading https://files.pythonhosted.org/packages/23/10/c0b78c27298029e4454a472a1919bde20cb182dab1662cec7f2ca1dcc523/boto-2.49.0-py2.py3-none-any.whl (1.4MB)\n",
      "\u001b[K     |████████████████████████████████| 1.4MB 1.3MB/s eta 0:00:01\n",
      "\u001b[?25hRequirement already satisfied, skipping upgrade: requests in /home/sorain/anaconda3/envs/sorains_env/lib/python3.7/site-packages (from smart-open>=1.8.1->gensim) (2.22.0)\n",
      "Collecting boto3\n",
      "\u001b[?25l  Downloading https://files.pythonhosted.org/packages/80/4d/af562d20771766f79018b15facaa88c70373e534e6bf49c362844e0a0775/boto3-1.10.11-py2.py3-none-any.whl (128kB)\n",
      "\u001b[K     |████████████████████████████████| 133kB 992kB/s eta 0:00:01\n",
      "\u001b[?25hRequirement already satisfied, skipping upgrade: chardet<3.1.0,>=3.0.2 in /home/sorain/anaconda3/envs/sorains_env/lib/python3.7/site-packages (from requests->smart-open>=1.8.1->gensim) (3.0.4)\n",
      "Requirement already satisfied, skipping upgrade: idna<2.9,>=2.5 in /home/sorain/anaconda3/envs/sorains_env/lib/python3.7/site-packages (from requests->smart-open>=1.8.1->gensim) (2.8)\n",
      "Requirement already satisfied, skipping upgrade: urllib3!=1.25.0,!=1.25.1,<1.26,>=1.21.1 in /home/sorain/anaconda3/envs/sorains_env/lib/python3.7/site-packages (from requests->smart-open>=1.8.1->gensim) (1.25.6)\n",
      "Requirement already satisfied, skipping upgrade: certifi>=2017.4.17 in /home/sorain/anaconda3/envs/sorains_env/lib/python3.7/site-packages (from requests->smart-open>=1.8.1->gensim) (2019.9.11)\n",
      "Collecting botocore<1.14.0,>=1.13.11\n",
      "\u001b[?25l  Downloading https://files.pythonhosted.org/packages/13/0c/607f0ac508711f8c41c6d5788080c991344acc61d31d32b3585ee66ccb67/botocore-1.13.11-py2.py3-none-any.whl (5.4MB)\n",
      "\u001b[K     |████████████████████████████████| 5.4MB 498kB/s eta 0:00:01\n",
      "\u001b[?25hCollecting s3transfer<0.3.0,>=0.2.0\n",
      "\u001b[?25l  Downloading https://files.pythonhosted.org/packages/16/8a/1fc3dba0c4923c2a76e1ff0d52b305c44606da63f718d14d3231e21c51b0/s3transfer-0.2.1-py2.py3-none-any.whl (70kB)\n",
      "\u001b[K     |████████████████████████████████| 71kB 2.0MB/s eta 0:00:01\n",
      "\u001b[?25hCollecting jmespath<1.0.0,>=0.7.1\n",
      "  Downloading https://files.pythonhosted.org/packages/83/94/7179c3832a6d45b266ddb2aac329e101367fbdb11f425f13771d27f225bb/jmespath-0.9.4-py2.py3-none-any.whl\n",
      "Collecting docutils<0.16,>=0.10\n",
      "\u001b[?25l  Downloading https://files.pythonhosted.org/packages/22/cd/a6aa959dca619918ccb55023b4cb151949c64d4d5d55b3f4ffd7eee0c6e8/docutils-0.15.2-py3-none-any.whl (547kB)\n",
      "\u001b[K     |████████████████████████████████| 552kB 2.4MB/s eta 0:00:01\n",
      "\u001b[?25hRequirement already satisfied, skipping upgrade: python-dateutil<2.8.1,>=2.1; python_version >= \"2.7\" in /home/sorain/anaconda3/envs/sorains_env/lib/python3.7/site-packages (from botocore<1.14.0,>=1.13.11->boto3->smart-open>=1.8.1->gensim) (2.8.0)\n",
      "Building wheels for collected packages: smart-open\n",
      "  Building wheel for smart-open (setup.py) ... \u001b[?25ldone\n",
      "\u001b[?25h  Created wheel for smart-open: filename=smart_open-1.9.0-cp37-none-any.whl size=73088 sha256=679c74db191962bcabd5e564cfbf3f0d450d871a0dda82c13eea12b1a511e78a\n",
      "  Stored in directory: /home/sorain/.cache/pip/wheels/ab/10/93/5cff86f5b721d77edaecc29959b1c60d894be1f66d91407d28\n",
      "Successfully built smart-open\n",
      "Installing collected packages: boto, docutils, jmespath, botocore, s3transfer, boto3, smart-open, gensim\n",
      "Successfully installed boto-2.49.0 boto3-1.10.11 botocore-1.13.11 docutils-0.15.2 gensim-3.8.1 jmespath-0.9.4 s3transfer-0.2.1 smart-open-1.9.0\n"
     ]
    }
   ],
   "source": [
    "!pip install -U gensim"
   ]
  },
  {
   "cell_type": "markdown",
   "metadata": {
    "colab_type": "text",
    "id": "n_8wSbBuzc6g"
   },
   "source": [
    "Посмотрим, какие доступны предобученные модели."
   ]
  },
  {
   "cell_type": "code",
   "execution_count": 2,
   "metadata": {
    "colab": {},
    "colab_type": "code",
    "id": "68_I9Hcrxced"
   },
   "outputs": [
    {
     "data": {
      "text/plain": [
       "{'corpora': {'semeval-2016-2017-task3-subtaskBC': {'num_records': -1,\n",
       "   'record_format': 'dict',\n",
       "   'file_size': 6344358,\n",
       "   'reader_code': 'https://github.com/RaRe-Technologies/gensim-data/releases/download/semeval-2016-2017-task3-subtaskB-eng/__init__.py',\n",
       "   'license': 'All files released for the task are free for general research use',\n",
       "   'fields': {'2016-train': ['...'],\n",
       "    '2016-dev': ['...'],\n",
       "    '2017-test': ['...'],\n",
       "    '2016-test': ['...']},\n",
       "   'description': 'SemEval 2016 / 2017 Task 3 Subtask B and C datasets contain train+development (317 original questions, 3,169 related questions, and 31,690 comments), and test datasets in English. The description of the tasks and the collected data is given in sections 3 and 4.1 of the task paper http://alt.qcri.org/semeval2016/task3/data/uploads/semeval2016-task3-report.pdf linked in section “Papers” of https://github.com/RaRe-Technologies/gensim-data/issues/18.',\n",
       "   'checksum': '701ea67acd82e75f95e1d8e62fb0ad29',\n",
       "   'file_name': 'semeval-2016-2017-task3-subtaskBC.gz',\n",
       "   'read_more': ['http://alt.qcri.org/semeval2017/task3/',\n",
       "    'http://alt.qcri.org/semeval2017/task3/data/uploads/semeval2017-task3.pdf',\n",
       "    'https://github.com/RaRe-Technologies/gensim-data/issues/18',\n",
       "    'https://github.com/Witiko/semeval-2016_2017-task3-subtaskB-english'],\n",
       "   'parts': 1},\n",
       "  'semeval-2016-2017-task3-subtaskA-unannotated': {'num_records': 189941,\n",
       "   'record_format': 'dict',\n",
       "   'file_size': 234373151,\n",
       "   'reader_code': 'https://github.com/RaRe-Technologies/gensim-data/releases/download/semeval-2016-2017-task3-subtaskA-unannotated-eng/__init__.py',\n",
       "   'license': 'These datasets are free for general research use.',\n",
       "   'fields': {'THREAD_SEQUENCE': '',\n",
       "    'RelQuestion': {'RELQ_CATEGORY': 'question category, according to the Qatar Living taxonomy',\n",
       "     'RELQ_DATE': 'date of posting',\n",
       "     'RELQ_ID': 'question indentifier',\n",
       "     'RELQ_USERID': 'identifier of the user asking the question',\n",
       "     'RELQ_USERNAME': 'name of the user asking the question',\n",
       "     'RelQBody': 'body of question',\n",
       "     'RelQSubject': 'subject of question'},\n",
       "    'RelComments': [{'RelCText': 'text of answer',\n",
       "      'RELC_USERID': 'identifier of the user posting the comment',\n",
       "      'RELC_ID': 'comment identifier',\n",
       "      'RELC_USERNAME': 'name of the user posting the comment',\n",
       "      'RELC_DATE': 'date of posting'}]},\n",
       "   'description': 'SemEval 2016 / 2017 Task 3 Subtask A unannotated dataset contains 189,941 questions and 1,894,456 comments in English collected from the Community Question Answering (CQA) web forum of Qatar Living. These can be used as a corpus for language modelling.',\n",
       "   'checksum': '2de0e2f2c4f91c66ae4fcf58d50ba816',\n",
       "   'file_name': 'semeval-2016-2017-task3-subtaskA-unannotated.gz',\n",
       "   'read_more': ['http://alt.qcri.org/semeval2016/task3/',\n",
       "    'http://alt.qcri.org/semeval2016/task3/data/uploads/semeval2016-task3-report.pdf',\n",
       "    'https://github.com/RaRe-Technologies/gensim-data/issues/18',\n",
       "    'https://github.com/Witiko/semeval-2016_2017-task3-subtaskA-unannotated-english'],\n",
       "   'parts': 1},\n",
       "  'patent-2017': {'num_records': 353197,\n",
       "   'record_format': 'dict',\n",
       "   'file_size': 3087262469,\n",
       "   'reader_code': 'https://github.com/RaRe-Technologies/gensim-data/releases/download/patent-2017/__init__.py',\n",
       "   'license': 'not found',\n",
       "   'description': \"Patent Grant Full Text. Contains the full text including tables, sequence data and 'in-line' mathematical expressions of each patent grant issued in 2017.\",\n",
       "   'checksum-0': '818501f0b9af62d3b88294d86d509f8f',\n",
       "   'checksum-1': '66c05635c1d3c7a19b4a335829d09ffa',\n",
       "   'file_name': 'patent-2017.gz',\n",
       "   'read_more': ['http://patents.reedtech.com/pgrbft.php'],\n",
       "   'parts': 2},\n",
       "  'quora-duplicate-questions': {'num_records': 404290,\n",
       "   'record_format': 'dict',\n",
       "   'file_size': 21684784,\n",
       "   'reader_code': 'https://github.com/RaRe-Technologies/gensim-data/releases/download/quora-duplicate-questions/__init__.py',\n",
       "   'license': 'probably https://www.quora.com/about/tos',\n",
       "   'fields': {'question1': 'the full text of each question',\n",
       "    'question2': 'the full text of each question',\n",
       "    'qid1': 'unique ids of each question',\n",
       "    'qid2': 'unique ids of each question',\n",
       "    'id': 'the id of a training set question pair',\n",
       "    'is_duplicate': 'the target variable, set to 1 if question1 and question2 have essentially the same meaning, and 0 otherwise'},\n",
       "   'description': 'Over 400,000 lines of potential question duplicate pairs. Each line contains IDs for each question in the pair, the full text for each question, and a binary value that indicates whether the line contains a duplicate pair or not.',\n",
       "   'checksum': 'd7cfa7fbc6e2ec71ab74c495586c6365',\n",
       "   'file_name': 'quora-duplicate-questions.gz',\n",
       "   'read_more': ['https://data.quora.com/First-Quora-Dataset-Release-Question-Pairs'],\n",
       "   'parts': 1},\n",
       "  'wiki-english-20171001': {'num_records': 4924894,\n",
       "   'record_format': 'dict',\n",
       "   'file_size': 6516051717,\n",
       "   'reader_code': 'https://github.com/RaRe-Technologies/gensim-data/releases/download/wiki-english-20171001/__init__.py',\n",
       "   'license': 'https://dumps.wikimedia.org/legal.html',\n",
       "   'fields': {'section_texts': 'list of body of sections',\n",
       "    'section_titles': 'list of titles of sections',\n",
       "    'title': 'Title of wiki article'},\n",
       "   'description': 'Extracted Wikipedia dump from October 2017. Produced by `python -m gensim.scripts.segment_wiki -f enwiki-20171001-pages-articles.xml.bz2 -o wiki-en.gz`',\n",
       "   'checksum-0': 'a7d7d7fd41ea7e2d7fa32ec1bb640d71',\n",
       "   'checksum-1': 'b2683e3356ffbca3b6c2dca6e9801f9f',\n",
       "   'checksum-2': 'c5cde2a9ae77b3c4ebce804f6df542c2',\n",
       "   'checksum-3': '00b71144ed5e3aeeb885de84f7452b81',\n",
       "   'file_name': 'wiki-english-20171001.gz',\n",
       "   'read_more': ['https://dumps.wikimedia.org/enwiki/20171001/'],\n",
       "   'parts': 4},\n",
       "  'text8': {'num_records': 1701,\n",
       "   'record_format': 'list of str (tokens)',\n",
       "   'file_size': 33182058,\n",
       "   'reader_code': 'https://github.com/RaRe-Technologies/gensim-data/releases/download/text8/__init__.py',\n",
       "   'license': 'not found',\n",
       "   'description': 'First 100,000,000 bytes of plain text from Wikipedia. Used for testing purposes; see wiki-english-* for proper full Wikipedia datasets.',\n",
       "   'checksum': '68799af40b6bda07dfa47a32612e5364',\n",
       "   'file_name': 'text8.gz',\n",
       "   'read_more': ['http://mattmahoney.net/dc/textdata.html'],\n",
       "   'parts': 1},\n",
       "  'fake-news': {'num_records': 12999,\n",
       "   'record_format': 'dict',\n",
       "   'file_size': 20102776,\n",
       "   'reader_code': 'https://github.com/RaRe-Technologies/gensim-data/releases/download/fake-news/__init__.py',\n",
       "   'license': 'https://creativecommons.org/publicdomain/zero/1.0/',\n",
       "   'fields': {'crawled': 'date the story was archived',\n",
       "    'ord_in_thread': '',\n",
       "    'published': 'date published',\n",
       "    'participants_count': 'number of participants',\n",
       "    'shares': 'number of Facebook shares',\n",
       "    'replies_count': 'number of replies',\n",
       "    'main_img_url': 'image from story',\n",
       "    'spam_score': 'data from webhose.io',\n",
       "    'uuid': 'unique identifier',\n",
       "    'language': 'data from webhose.io',\n",
       "    'title': 'title of story',\n",
       "    'country': 'data from webhose.io',\n",
       "    'domain_rank': 'data from webhose.io',\n",
       "    'author': 'author of story',\n",
       "    'comments': 'number of Facebook comments',\n",
       "    'site_url': 'site URL from BS detector',\n",
       "    'text': 'text of story',\n",
       "    'thread_title': '',\n",
       "    'type': 'type of website (label from BS detector)',\n",
       "    'likes': 'number of Facebook likes'},\n",
       "   'description': \"News dataset, contains text and metadata from 244 websites and represents 12,999 posts in total from a specific window of 30 days. The data was pulled using the webhose.io API, and because it's coming from their crawler, not all websites identified by their BS Detector are present in this dataset. Data sources that were missing a label were simply assigned a label of 'bs'. There are (ostensibly) no genuine, reliable, or trustworthy news sources represented in this dataset (so far), so don't trust anything you read.\",\n",
       "   'checksum': '5e64e942df13219465927f92dcefd5fe',\n",
       "   'file_name': 'fake-news.gz',\n",
       "   'read_more': ['https://www.kaggle.com/mrisdal/fake-news'],\n",
       "   'parts': 1},\n",
       "  '20-newsgroups': {'num_records': 18846,\n",
       "   'record_format': 'dict',\n",
       "   'file_size': 14483581,\n",
       "   'reader_code': 'https://github.com/RaRe-Technologies/gensim-data/releases/download/20-newsgroups/__init__.py',\n",
       "   'license': 'not found',\n",
       "   'fields': {'topic': 'name of topic (20 variant of possible values)',\n",
       "    'set': \"marker of original split (possible values 'train' and 'test')\",\n",
       "    'data': '',\n",
       "    'id': 'original id inferred from folder name'},\n",
       "   'description': 'The notorious collection of approximately 20,000 newsgroup posts, partitioned (nearly) evenly across 20 different newsgroups.',\n",
       "   'checksum': 'c92fd4f6640a86d5ba89eaad818a9891',\n",
       "   'file_name': '20-newsgroups.gz',\n",
       "   'read_more': ['http://qwone.com/~jason/20Newsgroups/'],\n",
       "   'parts': 1},\n",
       "  '__testing_matrix-synopsis': {'description': '[THIS IS ONLY FOR TESTING] Synopsis of the movie matrix.',\n",
       "   'checksum': '1767ac93a089b43899d54944b07d9dc5',\n",
       "   'file_name': '__testing_matrix-synopsis.gz',\n",
       "   'read_more': ['http://www.imdb.com/title/tt0133093/plotsummary?ref_=ttpl_pl_syn#synopsis'],\n",
       "   'parts': 1},\n",
       "  '__testing_multipart-matrix-synopsis': {'description': '[THIS IS ONLY FOR TESTING] Synopsis of the movie matrix.',\n",
       "   'checksum-0': 'c8b0c7d8cf562b1b632c262a173ac338',\n",
       "   'checksum-1': '5ff7fc6818e9a5d9bc1cf12c35ed8b96',\n",
       "   'checksum-2': '966db9d274d125beaac7987202076cba',\n",
       "   'file_name': '__testing_multipart-matrix-synopsis.gz',\n",
       "   'read_more': ['http://www.imdb.com/title/tt0133093/plotsummary?ref_=ttpl_pl_syn#synopsis'],\n",
       "   'parts': 3}},\n",
       " 'models': {'fasttext-wiki-news-subwords-300': {'num_records': 999999,\n",
       "   'file_size': 1005007116,\n",
       "   'base_dataset': 'Wikipedia 2017, UMBC webbase corpus and statmt.org news dataset (16B tokens)',\n",
       "   'reader_code': 'https://github.com/RaRe-Technologies/gensim-data/releases/download/fasttext-wiki-news-subwords-300/__init__.py',\n",
       "   'license': 'https://creativecommons.org/licenses/by-sa/3.0/',\n",
       "   'parameters': {'dimension': 300},\n",
       "   'description': '1 million word vectors trained on Wikipedia 2017, UMBC webbase corpus and statmt.org news dataset (16B tokens).',\n",
       "   'read_more': ['https://fasttext.cc/docs/en/english-vectors.html',\n",
       "    'https://arxiv.org/abs/1712.09405',\n",
       "    'https://arxiv.org/abs/1607.01759'],\n",
       "   'checksum': 'de2bb3a20c46ce65c9c131e1ad9a77af',\n",
       "   'file_name': 'fasttext-wiki-news-subwords-300.gz',\n",
       "   'parts': 1},\n",
       "  'conceptnet-numberbatch-17-06-300': {'num_records': 1917247,\n",
       "   'file_size': 1225497562,\n",
       "   'base_dataset': 'ConceptNet, word2vec, GloVe, and OpenSubtitles 2016',\n",
       "   'reader_code': 'https://github.com/RaRe-Technologies/gensim-data/releases/download/conceptnet-numberbatch-17-06-300/__init__.py',\n",
       "   'license': 'https://github.com/commonsense/conceptnet-numberbatch/blob/master/LICENSE.txt',\n",
       "   'parameters': {'dimension': 300},\n",
       "   'description': 'ConceptNet Numberbatch consists of state-of-the-art semantic vectors (also known as word embeddings) that can be used directly as a representation of word meanings or as a starting point for further machine learning. ConceptNet Numberbatch is part of the ConceptNet open data project. ConceptNet provides lots of ways to compute with word meanings, one of which is word embeddings. ConceptNet Numberbatch is a snapshot of just the word embeddings. It is built using an ensemble that combines data from ConceptNet, word2vec, GloVe, and OpenSubtitles 2016, using a variation on retrofitting.',\n",
       "   'read_more': ['http://aaai.org/ocs/index.php/AAAI/AAAI17/paper/view/14972',\n",
       "    'https://github.com/commonsense/conceptnet-numberbatch',\n",
       "    'http://conceptnet.io/'],\n",
       "   'checksum': 'fd642d457adcd0ea94da0cd21b150847',\n",
       "   'file_name': 'conceptnet-numberbatch-17-06-300.gz',\n",
       "   'parts': 1},\n",
       "  'word2vec-ruscorpora-300': {'num_records': 184973,\n",
       "   'file_size': 208427381,\n",
       "   'base_dataset': 'Russian National Corpus (about 250M words)',\n",
       "   'reader_code': 'https://github.com/RaRe-Technologies/gensim-data/releases/download/word2vec-ruscorpora-300/__init__.py',\n",
       "   'license': 'https://creativecommons.org/licenses/by/4.0/deed.en',\n",
       "   'parameters': {'dimension': 300, 'window_size': 10},\n",
       "   'description': 'Word2vec Continuous Skipgram vectors trained on full Russian National Corpus (about 250M words). The model contains 185K words.',\n",
       "   'preprocessing': 'The corpus was lemmatized and tagged with Universal PoS',\n",
       "   'read_more': ['https://www.academia.edu/24306935/WebVectors_a_Toolkit_for_Building_Web_Interfaces_for_Vector_Semantic_Models',\n",
       "    'http://rusvectores.org/en/',\n",
       "    'https://github.com/RaRe-Technologies/gensim-data/issues/3'],\n",
       "   'checksum': '9bdebdc8ae6d17d20839dd9b5af10bc4',\n",
       "   'file_name': 'word2vec-ruscorpora-300.gz',\n",
       "   'parts': 1},\n",
       "  'word2vec-google-news-300': {'num_records': 3000000,\n",
       "   'file_size': 1743563840,\n",
       "   'base_dataset': 'Google News (about 100 billion words)',\n",
       "   'reader_code': 'https://github.com/RaRe-Technologies/gensim-data/releases/download/word2vec-google-news-300/__init__.py',\n",
       "   'license': 'not found',\n",
       "   'parameters': {'dimension': 300},\n",
       "   'description': \"Pre-trained vectors trained on a part of the Google News dataset (about 100 billion words). The model contains 300-dimensional vectors for 3 million words and phrases. The phrases were obtained using a simple data-driven approach described in 'Distributed Representations of Words and Phrases and their Compositionality' (https://code.google.com/archive/p/word2vec/).\",\n",
       "   'read_more': ['https://code.google.com/archive/p/word2vec/',\n",
       "    'https://arxiv.org/abs/1301.3781',\n",
       "    'https://arxiv.org/abs/1310.4546',\n",
       "    'https://www.microsoft.com/en-us/research/publication/linguistic-regularities-in-continuous-space-word-representations/?from=http%3A%2F%2Fresearch.microsoft.com%2Fpubs%2F189726%2Frvecs.pdf'],\n",
       "   'checksum': 'a5e5354d40acb95f9ec66d5977d140ef',\n",
       "   'file_name': 'word2vec-google-news-300.gz',\n",
       "   'parts': 1},\n",
       "  'glove-wiki-gigaword-50': {'num_records': 400000,\n",
       "   'file_size': 69182535,\n",
       "   'base_dataset': 'Wikipedia 2014 + Gigaword 5 (6B tokens, uncased)',\n",
       "   'reader_code': 'https://github.com/RaRe-Technologies/gensim-data/releases/download/glove-wiki-gigaword-50/__init__.py',\n",
       "   'license': 'http://opendatacommons.org/licenses/pddl/',\n",
       "   'parameters': {'dimension': 50},\n",
       "   'description': 'Pre-trained vectors based on Wikipedia 2014 + Gigaword, 5.6B tokens, 400K vocab, uncased (https://nlp.stanford.edu/projects/glove/).',\n",
       "   'preprocessing': 'Converted to w2v format with `python -m gensim.scripts.glove2word2vec -i <fname> -o glove-wiki-gigaword-50.txt`.',\n",
       "   'read_more': ['https://nlp.stanford.edu/projects/glove/',\n",
       "    'https://nlp.stanford.edu/pubs/glove.pdf'],\n",
       "   'checksum': 'c289bc5d7f2f02c6dc9f2f9b67641813',\n",
       "   'file_name': 'glove-wiki-gigaword-50.gz',\n",
       "   'parts': 1},\n",
       "  'glove-wiki-gigaword-100': {'num_records': 400000,\n",
       "   'file_size': 134300434,\n",
       "   'base_dataset': 'Wikipedia 2014 + Gigaword 5 (6B tokens, uncased)',\n",
       "   'reader_code': 'https://github.com/RaRe-Technologies/gensim-data/releases/download/glove-wiki-gigaword-100/__init__.py',\n",
       "   'license': 'http://opendatacommons.org/licenses/pddl/',\n",
       "   'parameters': {'dimension': 100},\n",
       "   'description': 'Pre-trained vectors based on Wikipedia 2014 + Gigaword 5.6B tokens, 400K vocab, uncased (https://nlp.stanford.edu/projects/glove/).',\n",
       "   'preprocessing': 'Converted to w2v format with `python -m gensim.scripts.glove2word2vec -i <fname> -o glove-wiki-gigaword-100.txt`.',\n",
       "   'read_more': ['https://nlp.stanford.edu/projects/glove/',\n",
       "    'https://nlp.stanford.edu/pubs/glove.pdf'],\n",
       "   'checksum': '40ec481866001177b8cd4cb0df92924f',\n",
       "   'file_name': 'glove-wiki-gigaword-100.gz',\n",
       "   'parts': 1},\n",
       "  'glove-wiki-gigaword-200': {'num_records': 400000,\n",
       "   'file_size': 264336934,\n",
       "   'base_dataset': 'Wikipedia 2014 + Gigaword 5 (6B tokens, uncased)',\n",
       "   'reader_code': 'https://github.com/RaRe-Technologies/gensim-data/releases/download/glove-wiki-gigaword-200/__init__.py',\n",
       "   'license': 'http://opendatacommons.org/licenses/pddl/',\n",
       "   'parameters': {'dimension': 200},\n",
       "   'description': 'Pre-trained vectors based on Wikipedia 2014 + Gigaword, 5.6B tokens, 400K vocab, uncased (https://nlp.stanford.edu/projects/glove/).',\n",
       "   'preprocessing': 'Converted to w2v format with `python -m gensim.scripts.glove2word2vec -i <fname> -o glove-wiki-gigaword-200.txt`.',\n",
       "   'read_more': ['https://nlp.stanford.edu/projects/glove/',\n",
       "    'https://nlp.stanford.edu/pubs/glove.pdf'],\n",
       "   'checksum': '59652db361b7a87ee73834a6c391dfc1',\n",
       "   'file_name': 'glove-wiki-gigaword-200.gz',\n",
       "   'parts': 1},\n",
       "  'glove-wiki-gigaword-300': {'num_records': 400000,\n",
       "   'file_size': 394362229,\n",
       "   'base_dataset': 'Wikipedia 2014 + Gigaword 5 (6B tokens, uncased)',\n",
       "   'reader_code': 'https://github.com/RaRe-Technologies/gensim-data/releases/download/glove-wiki-gigaword-300/__init__.py',\n",
       "   'license': 'http://opendatacommons.org/licenses/pddl/',\n",
       "   'parameters': {'dimension': 300},\n",
       "   'description': 'Pre-trained vectors based on Wikipedia 2014 + Gigaword, 5.6B tokens, 400K vocab, uncased (https://nlp.stanford.edu/projects/glove/).',\n",
       "   'preprocessing': 'Converted to w2v format with `python -m gensim.scripts.glove2word2vec -i <fname> -o glove-wiki-gigaword-300.txt`.',\n",
       "   'read_more': ['https://nlp.stanford.edu/projects/glove/',\n",
       "    'https://nlp.stanford.edu/pubs/glove.pdf'],\n",
       "   'checksum': '29e9329ac2241937d55b852e8284e89b',\n",
       "   'file_name': 'glove-wiki-gigaword-300.gz',\n",
       "   'parts': 1},\n",
       "  'glove-twitter-25': {'num_records': 1193514,\n",
       "   'file_size': 109885004,\n",
       "   'base_dataset': 'Twitter (2B tweets, 27B tokens, 1.2M vocab, uncased)',\n",
       "   'reader_code': 'https://github.com/RaRe-Technologies/gensim-data/releases/download/glove-twitter-25/__init__.py',\n",
       "   'license': 'http://opendatacommons.org/licenses/pddl/',\n",
       "   'parameters': {'dimension': 25},\n",
       "   'description': 'Pre-trained vectors based on 2B tweets, 27B tokens, 1.2M vocab, uncased (https://nlp.stanford.edu/projects/glove/).',\n",
       "   'preprocessing': 'Converted to w2v format with `python -m gensim.scripts.glove2word2vec -i <fname> -o glove-twitter-25.txt`.',\n",
       "   'read_more': ['https://nlp.stanford.edu/projects/glove/',\n",
       "    'https://nlp.stanford.edu/pubs/glove.pdf'],\n",
       "   'checksum': '50db0211d7e7a2dcd362c6b774762793',\n",
       "   'file_name': 'glove-twitter-25.gz',\n",
       "   'parts': 1},\n",
       "  'glove-twitter-50': {'num_records': 1193514,\n",
       "   'file_size': 209216938,\n",
       "   'base_dataset': 'Twitter (2B tweets, 27B tokens, 1.2M vocab, uncased)',\n",
       "   'reader_code': 'https://github.com/RaRe-Technologies/gensim-data/releases/download/glove-twitter-50/__init__.py',\n",
       "   'license': 'http://opendatacommons.org/licenses/pddl/',\n",
       "   'parameters': {'dimension': 50},\n",
       "   'description': 'Pre-trained vectors based on 2B tweets, 27B tokens, 1.2M vocab, uncased (https://nlp.stanford.edu/projects/glove/)',\n",
       "   'preprocessing': 'Converted to w2v format with `python -m gensim.scripts.glove2word2vec -i <fname> -o glove-twitter-50.txt`.',\n",
       "   'read_more': ['https://nlp.stanford.edu/projects/glove/',\n",
       "    'https://nlp.stanford.edu/pubs/glove.pdf'],\n",
       "   'checksum': 'c168f18641f8c8a00fe30984c4799b2b',\n",
       "   'file_name': 'glove-twitter-50.gz',\n",
       "   'parts': 1},\n",
       "  'glove-twitter-100': {'num_records': 1193514,\n",
       "   'file_size': 405932991,\n",
       "   'base_dataset': 'Twitter (2B tweets, 27B tokens, 1.2M vocab, uncased)',\n",
       "   'reader_code': 'https://github.com/RaRe-Technologies/gensim-data/releases/download/glove-twitter-100/__init__.py',\n",
       "   'license': 'http://opendatacommons.org/licenses/pddl/',\n",
       "   'parameters': {'dimension': 100},\n",
       "   'description': 'Pre-trained vectors based on  2B tweets, 27B tokens, 1.2M vocab, uncased (https://nlp.stanford.edu/projects/glove/)',\n",
       "   'preprocessing': 'Converted to w2v format with `python -m gensim.scripts.glove2word2vec -i <fname> -o glove-twitter-100.txt`.',\n",
       "   'read_more': ['https://nlp.stanford.edu/projects/glove/',\n",
       "    'https://nlp.stanford.edu/pubs/glove.pdf'],\n",
       "   'checksum': 'b04f7bed38756d64cf55b58ce7e97b15',\n",
       "   'file_name': 'glove-twitter-100.gz',\n",
       "   'parts': 1},\n",
       "  'glove-twitter-200': {'num_records': 1193514,\n",
       "   'file_size': 795373100,\n",
       "   'base_dataset': 'Twitter (2B tweets, 27B tokens, 1.2M vocab, uncased)',\n",
       "   'reader_code': 'https://github.com/RaRe-Technologies/gensim-data/releases/download/glove-twitter-200/__init__.py',\n",
       "   'license': 'http://opendatacommons.org/licenses/pddl/',\n",
       "   'parameters': {'dimension': 200},\n",
       "   'description': 'Pre-trained vectors based on 2B tweets, 27B tokens, 1.2M vocab, uncased (https://nlp.stanford.edu/projects/glove/).',\n",
       "   'preprocessing': 'Converted to w2v format with `python -m gensim.scripts.glove2word2vec -i <fname> -o glove-twitter-200.txt`.',\n",
       "   'read_more': ['https://nlp.stanford.edu/projects/glove/',\n",
       "    'https://nlp.stanford.edu/pubs/glove.pdf'],\n",
       "   'checksum': 'e52e8392d1860b95d5308a525817d8f9',\n",
       "   'file_name': 'glove-twitter-200.gz',\n",
       "   'parts': 1},\n",
       "  '__testing_word2vec-matrix-synopsis': {'description': '[THIS IS ONLY FOR TESTING] Word vecrors of the movie matrix.',\n",
       "   'parameters': {'dimensions': 50},\n",
       "   'preprocessing': 'Converted to w2v using a preprocessed corpus. Converted to w2v format with `python3.5 -m gensim.models.word2vec -train <input_filename> -iter 50 -output <output_filename>`.',\n",
       "   'read_more': [],\n",
       "   'checksum': '534dcb8b56a360977a269b7bfc62d124',\n",
       "   'file_name': '__testing_word2vec-matrix-synopsis.gz',\n",
       "   'parts': 1}}}"
      ]
     },
     "execution_count": 2,
     "metadata": {},
     "output_type": "execute_result"
    }
   ],
   "source": [
    "from gensim.models import Word2Vec\n",
    "import gensim.downloader as api\n",
    "\n",
    "api.info()"
   ]
  },
  {
   "cell_type": "markdown",
   "metadata": {
    "colab_type": "text",
    "id": "6YpXAqAEzmFw"
   },
   "source": [
    "Среди них есть word2vec-ruscorpora-300 — word2vec, обученный на Национальном корпусе русского языка. Можно выгрузить эту модель и, например, посмотреть на слова, самые близкие к заданным:"
   ]
  },
  {
   "cell_type": "code",
   "execution_count": 3,
   "metadata": {
    "colab": {},
    "colab_type": "code",
    "id": "bRIFWbmG0I5q"
   },
   "outputs": [
    {
     "name": "stdout",
     "output_type": "stream",
     "text": [
      "[==================================================] 100.0% 198.8/198.8MB downloaded\n"
     ]
    }
   ],
   "source": [
    "model = api.load(\"word2vec-ruscorpora-300\")"
   ]
  },
  {
   "cell_type": "code",
   "execution_count": 4,
   "metadata": {
    "colab": {},
    "colab_type": "code",
    "id": "DDrCJz2C1mPs"
   },
   "outputs": [
    {
     "data": {
      "text/plain": [
       "[('женщина_NOUN', 0.5500056743621826),\n",
       " ('мужчина_NOUN', 0.5161216855049133),\n",
       " ('человеческий_ADJ', 0.5005477666854858),\n",
       " ('идолопоклонствовать_VERB', 0.48388850688934326),\n",
       " ('высокопорядочный_ADJ', 0.4818764925003052)]"
      ]
     },
     "execution_count": 4,
     "metadata": {},
     "output_type": "execute_result"
    }
   ],
   "source": [
    "model.most_similar('человек_NOUN', topn=5) #topn — сколько ближайших слов мы хотим получить"
   ]
  },
  {
   "cell_type": "code",
   "execution_count": 5,
   "metadata": {
    "colab": {},
    "colab_type": "code",
    "id": "O7yX9_Md2ZXp"
   },
   "outputs": [
    {
     "data": {
      "text/plain": [
       "[('несчастливый_ADJ', 0.677182674407959),\n",
       " ('счастие_NOUN', 0.6733449697494507),\n",
       " ('счастливо_ADV', 0.6329190731048584),\n",
       " ('радостный_ADJ', 0.6159152388572693),\n",
       " ('беззаботный_ADJ', 0.5699828267097473),\n",
       " ('пресчастливый_ADJ', 0.551605224609375),\n",
       " ('радоваться_VERB', 0.5468602180480957),\n",
       " ('довольный_ADJ', 0.5460575819015503),\n",
       " ('несчастный_ADJ', 0.5273663401603699),\n",
       " ('благополучный_ADJ', 0.526889443397522),\n",
       " ('веселый_ADJ', 0.5250555276870728),\n",
       " ('счастливец_NOUN', 0.5245419144630432),\n",
       " ('безмятежный_ADJ', 0.5210704803466797),\n",
       " ('беспечный_ADJ', 0.519269585609436),\n",
       " ('многолюбить_VERB', 0.5067941546440125)]"
      ]
     },
     "execution_count": 5,
     "metadata": {},
     "output_type": "execute_result"
    }
   ],
   "source": [
    "model.most_similar('счастливый_ADJ', topn=15)"
   ]
  },
  {
   "cell_type": "markdown",
   "metadata": {
    "colab_type": "text",
    "id": "O0w5oEcA185Q"
   },
   "source": [
    "Обратите внимание, что все слова помечены частями речи.\n",
    "\n",
    "Попробуйте найти косинусное расстояние между векторными представлениями слов \"кошка\" и \"собака\", \"дом\" и \"дерево\", \"радостный\" и \"грустный\" (подсказка: вам НЕ нужно руками писать формулу косинусного расстояния)."
   ]
  },
  {
   "cell_type": "code",
   "execution_count": 0,
   "metadata": {
    "colab": {},
    "colab_type": "code",
    "id": "0k2N6ujz3nE9"
   },
   "outputs": [],
   "source": [
    "#YOUR CODE HERE"
   ]
  },
  {
   "cell_type": "markdown",
   "metadata": {
    "colab_type": "text",
    "id": "v32KWfdT4oBp"
   },
   "source": [
    "Заметим, что слова, обозначающие объекты разной природы, отличаются гораздо сильнее, чем антонимичные по смыслу слова. Как вы думаете, почему?\n",
    "\n",
    "Проверьте, работают ли с векторными представлениями слов арифметические операции: \"король\" - \"мужчина\" + \"женщина\" = ?"
   ]
  },
  {
   "cell_type": "code",
   "execution_count": 0,
   "metadata": {
    "colab": {},
    "colab_type": "code",
    "id": "D1RrkA344naB"
   },
   "outputs": [],
   "source": [
    "#YOUR CODE HERE"
   ]
  },
  {
   "cell_type": "markdown",
   "metadata": {
    "colab_type": "text",
    "id": "vutdwjwzC9UG"
   },
   "source": [
    "Однако результат зависит от использованного текстового корпуса, и такую предобученную модель вряд ли можно будет использовать, например, для анализа записей из Twitter. Поэтому может возникнуть необходимость обучить модель самостоятельно.\n",
    "\n",
    "В качестве примера рассмотрим \"игрушечный\" датасет, который есть в gensim."
   ]
  },
  {
   "cell_type": "code",
   "execution_count": 0,
   "metadata": {
    "colab": {},
    "colab_type": "code",
    "id": "6gGIJ4DKC2DX"
   },
   "outputs": [],
   "source": [
    "from gensim.test.utils import common_texts\n",
    "\n",
    "for text in common_texts:\n",
    "  print(text)\n",
    "\n",
    "model_w2v_toy = Word2Vec(common_texts, size=20, min_count=1)\n",
    "model_w2v_toy.wv.most_similar(positive='human', topn=3)"
   ]
  },
  {
   "cell_type": "markdown",
   "metadata": {
    "colab_type": "text",
    "id": "xwIT6N9wOoTS"
   },
   "source": [
    "Однако для настоящего обучения модели нужен текст очень большого размера. Возьмём, например, Библию (потому что почему бы и нет). Обратите внимание, что перед обучением текст нужно предобработать (выбросить пунктуацию и стоп-слова)."
   ]
  },
  {
   "cell_type": "code",
   "execution_count": 0,
   "metadata": {
    "colab": {},
    "colab_type": "code",
    "id": "meDZS9M2rnyt"
   },
   "outputs": [],
   "source": [
    "!pip install pymorphy2"
   ]
  },
  {
   "cell_type": "code",
   "execution_count": 0,
   "metadata": {
    "colab": {},
    "colab_type": "code",
    "id": "jXfJy8Gqfrc2"
   },
   "outputs": [],
   "source": [
    "import urllib.request\n",
    "import re\n",
    "import pymorphy2\n",
    "import nltk\n",
    "from nltk.corpus import stopwords\n",
    "#эта ячейка будет работать ДОЛГО\n",
    "nltk.download('stopwords')\n",
    "morph = pymorphy2.MorphAnalyzer()\n",
    "regex = re.compile('[^а-яА-Я ё\\-]')\n",
    "stop = stopwords.words('russian')\n",
    "# + ['сказать', 'и', 'твой']\n",
    "\n",
    "data = urllib.request.urlopen('https://raw.githubusercontent.com/somethingneverending/nlp-files/master/Bible.txt')\n",
    "X = []\n",
    "for line in data:\n",
    "  cur = regex.sub('',line.decode('utf-8')).split('\\n')[0].split(' ')\n",
    "  for word in cur:\n",
    "    normal_word = morph.parse(word.lower())[0].normal_form\n",
    "    if word != '' and normal_word not in stop:\n",
    "      X.append(normal_word)"
   ]
  },
  {
   "cell_type": "code",
   "execution_count": 0,
   "metadata": {
    "colab": {},
    "colab_type": "code",
    "id": "Qmq95Csfr7sJ"
   },
   "outputs": [],
   "source": [
    "X[:20]"
   ]
  },
  {
   "cell_type": "code",
   "execution_count": 0,
   "metadata": {
    "colab": {},
    "colab_type": "code",
    "id": "_ipwEBVdpG88"
   },
   "outputs": [],
   "source": [
    "model_w2v = Word2Vec([X], size=300, window=5, min_count=1)"
   ]
  },
  {
   "cell_type": "markdown",
   "metadata": {
    "colab_type": "text",
    "id": "1HMnfAG8PHqC"
   },
   "source": [
    "Посмотрите на синонимы тех же слов, которые мы рассматривали для предобученной модели."
   ]
  },
  {
   "cell_type": "code",
   "execution_count": 0,
   "metadata": {
    "colab": {},
    "colab_type": "code",
    "id": "YCBD_ohcgeFK"
   },
   "outputs": [],
   "source": [
    "#YOUR CODE HERE"
   ]
  },
  {
   "cell_type": "markdown",
   "metadata": {
    "colab_type": "text",
    "id": "mXWPgFQ0PwUm"
   },
   "source": [
    "...Кажется, что-то изменилось."
   ]
  },
  {
   "cell_type": "markdown",
   "metadata": {
    "colab_type": "text",
    "id": "h1xMFuEoRDbt"
   },
   "source": [
    "Визуализируем 55 наиболее встречающихся слов:"
   ]
  },
  {
   "cell_type": "code",
   "execution_count": 0,
   "metadata": {
    "colab": {},
    "colab_type": "code",
    "id": "Ha7IGwL3RbIK"
   },
   "outputs": [],
   "source": [
    "from sklearn.manifold import TSNE\n",
    "import matplotlib.pyplot as plt\n",
    "import numpy as np\n",
    "\n",
    "vocab = [(model_w2v.wv.vocab[x].count, x) for x in model_w2v.wv.vocab]\n",
    "vocab.sort(reverse=True)\n",
    "vocab = vocab[:55]\n",
    "\n",
    "def visualize(vocab):\n",
    "  all_vocab = []\n",
    "  for i in range(len(vocab)):\n",
    "    all_vocab = all_vocab + vocab[i]\n",
    "  emb_tuple = tuple([model_w2v.wv[word] for word in all_vocab])\n",
    "  X_vis = np.vstack(emb_tuple)\n",
    "\n",
    "  model_tsne = TSNE(n_components=2, random_state=0)\n",
    "  np.set_printoptions(suppress=True)\n",
    "\n",
    "  X_tsne = model_tsne.fit_transform(X_vis)\n",
    "  cur = 0\n",
    "\n",
    "  for part in vocab:\n",
    "    word_labels = [word for word in part]\n",
    "    plt.scatter(X_tsne[cur:cur + len(part), 0], X_tsne[cur:cur + len(part), 1])\n",
    "    for i, word in enumerate(word_labels):\n",
    "        plt.annotate(word, (X_tsne[cur + i, 0], X_tsne[cur + i, 1]))\n",
    "    cur += len(part)\n",
    "  plt.show()\n",
    "\n",
    "vocab = [tmp37[1] for tmp37 in vocab]\n",
    "visualize([vocab])"
   ]
  },
  {
   "cell_type": "markdown",
   "metadata": {
    "colab_type": "text",
    "id": "RmzmNgHySjGu"
   },
   "source": [
    "Сделайте то же самое, например, для тридцати слов, ближайшим к какому-нибудь слову; для двадцати ближайших и двадцати самых дальних."
   ]
  },
  {
   "cell_type": "code",
   "execution_count": 0,
   "metadata": {
    "colab": {},
    "colab_type": "code",
    "id": "AA-OIWPKWSS8"
   },
   "outputs": [],
   "source": [
    "#YOUR CODE HERE"
   ]
  },
  {
   "cell_type": "code",
   "execution_count": 0,
   "metadata": {
    "colab": {},
    "colab_type": "code",
    "id": "UcK6-_olXG_k"
   },
   "outputs": [],
   "source": [
    "#YOUR CODE HERE"
   ]
  },
  {
   "cell_type": "markdown",
   "metadata": {
    "colab_type": "text",
    "id": "ArkJ8BdjXxCi"
   },
   "source": [
    "То же самое можете сделать самостоятельно и с предобученной моделью."
   ]
  }
 ],
 "metadata": {
  "colab": {
   "collapsed_sections": [],
   "name": "Seminar7.ipynb",
   "provenance": []
  },
  "kernelspec": {
   "display_name": "Python 3",
   "language": "python",
   "name": "python3"
  },
  "language_info": {
   "codemirror_mode": {
    "name": "ipython",
    "version": 3
   },
   "file_extension": ".py",
   "mimetype": "text/x-python",
   "name": "python",
   "nbconvert_exporter": "python",
   "pygments_lexer": "ipython3",
   "version": "3.7.5"
  }
 },
 "nbformat": 4,
 "nbformat_minor": 1
}
