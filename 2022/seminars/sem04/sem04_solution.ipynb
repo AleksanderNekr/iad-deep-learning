{
  "cells": [
    {
      "cell_type": "markdown",
      "metadata": {
        "id": "JlQl9ihB5T9p"
      },
      "source": [
        "# Семинар 4: Методы оптимизации, PyTorch Lightning\n",
        "\n",
        "## Вступление\n",
        "На предыдущем курсе мы обсуждали с вами методы градиентного спуска и стохастического градиентного спуска. Для нейронных сетей обычно используют более продвинутые методы оптимизации, которые основаны на известном нам градиентном спуске. Сегодня мы посмотрим на то, как использовать их в **PyTorch**, а также разберём библиотеку **PyTorch Lightning**, позволяющую сократить количество кода, которое нам приходится писать на **PyTorch**.\n",
        "\n",
        "### План семинара\n",
        "1. Оптимизируем функцию одной переменной в **PyTorch**\n",
        "2. Изучаем разные методы оптимизации\n",
        "3. Работаем с PyTorch Optimizer\n",
        "4. Работаем с PyTorch Scheduler\n",
        "5. PyTorch VS PyTorch Lightning\n",
        "6. Сравнением работу разных оптимизаторов"
      ]
    },
    {
      "cell_type": "code",
      "execution_count": 2,
      "metadata": {
        "id": "X9-5GA_L5T9q"
      },
      "outputs": [],
      "source": [
        "#!pip3 install pytorch_lightning torchmetrics torchvision"
      ]
    },
    {
      "cell_type": "code",
      "execution_count": 3,
      "metadata": {
        "id": "lUJcEdalKlZn"
      },
      "outputs": [],
      "source": [
        "import os\n",
        "import random\n",
        "import sys\n",
        "\n",
        "import matplotlib.pyplot as plt\n",
        "import numpy as np\n",
        "import torch\n",
        "import torch.nn.functional as F\n",
        "from tqdm import tqdm"
      ]
    },
    {
      "cell_type": "code",
      "execution_count": 4,
      "metadata": {
        "id": "PGd36K4dlgL5"
      },
      "outputs": [],
      "source": [
        "def seed_everything(seed):\n",
        "    # фискирует максимум сидов для корректности сравнения разных экспериментов\n",
        "    random.seed(seed)\n",
        "    os.environ[\"PYTHONHASHSEED\"] = str(seed)\n",
        "    np.random.seed(seed)\n",
        "    torch.manual_seed(seed)\n",
        "    torch.cuda.manual_seed(seed)\n",
        "    torch.backends.cudnn.deterministic = True\n",
        "\n",
        "\n",
        "seed_everything(0xBADBEEF)\n",
        "device = torch.device(\"cuda\") if torch.cuda.is_available() else torch.device(\"cpu\")"
      ]
    },
    {
      "cell_type": "markdown",
      "metadata": {
        "id": "kD68Ub9hKlZy"
      },
      "source": [
        "## Оптимизируем функцию одной переменной в **PyTorch**\n",
        "Как вам показали на лекции, большинство методов машинного обучения сводятся к простому поиску параметров, который бы минимизировал ошибку на тренировочной выборке:\n",
        "$$\n",
        "\\min_{\\theta}L(p_{\\theta}(X), Y)\n",
        "$$\n",
        "Здесь:\n",
        "* $L$ - некоторый лосс,\n",
        "* $p_{\\theta}$ - нейронная сеть с параметрами $\\theta$\n",
        "* $X$ - данные для обучения,\n",
        "* $Y$ - ответы\n",
        "\n",
        "Давайте руками напишем алгоритм для поиска минимума функции $f(x) = x^{3} - 2x^{2} + 2$."
      ]
    },
    {
      "cell_type": "code",
      "execution_count": 5,
      "metadata": {
        "colab": {
          "base_uri": "https://localhost:8080/",
          "height": 269
        },
        "id": "6RDPRKKHKlZ0",
        "outputId": "98ca8095-72fc-42fe-d483-9a1f9bdbff8b"
      },
      "outputs": [
        {
          "output_type": "display_data",
          "data": {
            "text/plain": [
              "<Figure size 432x288 with 1 Axes>"
            ],
            "image/png": "[encoded data removed]"
          },
          "metadata": {
            "needs_background": "light"
          }
        }
      ],
      "source": [
        "# наша функция f(x)\n",
        "func = lambda x: x ** 3 - 2 * x ** 2 + 2\n",
        "# производная функции f(x)\n",
        "d_func = lambda x: 3 * x ** 2 - 4 * x\n",
        "# сделаем массив из 1000 элементов от -3 до 3\n",
        "x = np.linspace(-3, 3, 1000)\n",
        "# определим границы по y для графика\n",
        "plt.ylim([-1, 3])\n",
        "plt.plot(x, func(x))\n",
        "plt.grid()\n",
        "plt.show()"
      ]
    },
    {
      "cell_type": "markdown",
      "metadata": {
        "id": "NYQ4OyiUKlZ4"
      },
      "source": [
        "Определим функцию для оптимизации $f(x)$, которая должна принимать на вход learning rate и максимальное количество итераций."
      ]
    },
    {
      "cell_type": "code",
      "execution_count": 6,
      "metadata": {
        "id": "dQ_QI8CiKlZ5"
      },
      "outputs": [],
      "source": [
        "def find_minimum_first_order(\n",
        "        learning_rate=0.01,\n",
        "        eps=1e-4,\n",
        "        max_iterations=1000,\n",
        "        anneal_learning_rate=None\n",
        "):\n",
        "    i = 0\n",
        "    x_old, x_new = 0, 2\n",
        "    # будем сохранять историю значений x и y\n",
        "    x_list, y_list = [x_old], [func(x_old)]\n",
        "    if not anneal_learning_rate:\n",
        "        anneal_learning_rate = lambda lr, step: lr\n",
        "    # TODO:\n",
        "    # Your code here\n",
        "    # --------------\n",
        "    while abs(x_new - x_old) > eps and i < max_iterations:\n",
        "        # получим learning rate для текущей итерации\n",
        "        learning_rate = anneal_learning_rate(learning_rate, step=i)\n",
        "        # обновим x_old\n",
        "        x_old = x_new\n",
        "        # сделаем один шаг gradient descent\n",
        "        x_new = x_old - learning_rate * d_func(x_old)\n",
        "        # добавим новые значения для визуализации сходимости\n",
        "        x_list.append(x_new)\n",
        "        y_list.append(func(x_new))\n",
        "        i += 1\n",
        "    # --------------\n",
        "    print(\"Найденный локальный минимум:\", x_new)\n",
        "    print(\"Количество шагов:\", len(x_list))\n",
        "    # Визуализируем сходимость\n",
        "    plt.figure(figsize=[6, 4])\n",
        "    plt.ylim([-3, 8])\n",
        "    plt.scatter(x_list, y_list, c=\"r\", edgecolors='k')\n",
        "    plt.plot(x_list, y_list, c=\"r\")\n",
        "    plt.plot(x, func(x), c=\"b\")\n",
        "    plt.title(\"Descent trajectory\")\n",
        "    plt.grid()\n",
        "    plt.show()"
      ]
    },
    {
      "cell_type": "markdown",
      "metadata": {
        "id": "iBakKAc4KlZ8"
      },
      "source": [
        "Попробуем различные `learning_rate` и посмотрим на поведение оптимизации."
      ]
    },
    {
      "cell_type": "code",
      "execution_count": 7,
      "metadata": {
        "colab": {
          "base_uri": "https://localhost:8080/",
          "height": 315
        },
        "id": "kBe4cH6vKlZ9",
        "outputId": "4066d2f6-ab9e-477f-f388-b57e4d3b9615"
      },
      "outputs": [
        {
          "output_type": "stream",
          "name": "stdout",
          "text": [
            "Найденный локальный минимум: 1.3577577123861129\n",
            "Количество шагов: 729\n"
          ]
        },
        {
          "output_type": "display_data",
          "data": {
            "text/plain": [
              "<Figure size 432x288 with 1 Axes>"
            ],
            "image/png": "[encoded data removed]"
          },
          "metadata": {
            "needs_background": "light"
          }
        }
      ],
      "source": [
        "find_minimum_first_order(0.001)"
      ]
    },
    {
      "cell_type": "markdown",
      "metadata": {
        "id": "U6qHwvrQKlaA"
      },
      "source": [
        "Слишком мало, будем очень долго идти к локальному минимуму."
      ]
    },
    {
      "cell_type": "code",
      "execution_count": 8,
      "metadata": {
        "colab": {
          "base_uri": "https://localhost:8080/",
          "height": 315
        },
        "id": "4fJFR4SlKlaB",
        "outputId": "6b99ee4c-a2e0-4ab1-9111-8ea3c8b79236"
      },
      "outputs": [
        {
          "output_type": "stream",
          "name": "stdout",
          "text": [
            "Найденный локальный минимум: 1.3356881625009205\n",
            "Количество шагов: 129\n"
          ]
        },
        {
          "output_type": "display_data",
          "data": {
            "text/plain": [
              "<Figure size 432x288 with 1 Axes>"
            ],
            "image/png": "[encoded data removed]"
          },
          "metadata": {
            "needs_background": "light"
          }
        }
      ],
      "source": [
        "find_minimum_first_order(0.01)"
      ]
    },
    {
      "cell_type": "markdown",
      "metadata": {
        "id": "tyeqRTitKlaF"
      },
      "source": [
        "Уже лучше."
      ]
    },
    {
      "cell_type": "code",
      "execution_count": 9,
      "metadata": {
        "colab": {
          "base_uri": "https://localhost:8080/",
          "height": 315
        },
        "id": "AEX-iPPJKlaF",
        "outputId": "912dbea0-657a-4b09-dc36-10e87f499fb7"
      },
      "outputs": [
        {
          "output_type": "stream",
          "name": "stdout",
          "text": [
            "Найденный локальный минимум: 1.3333495713163788\n",
            "Количество шагов: 8\n"
          ]
        },
        {
          "output_type": "display_data",
          "data": {
            "text/plain": [
              "<Figure size 432x288 with 1 Axes>"
            ],
            "image/png": "[encoded data removed]"
          },
          "metadata": {
            "needs_background": "light"
          }
        }
      ],
      "source": [
        "find_minimum_first_order(0.3)"
      ]
    },
    {
      "cell_type": "code",
      "execution_count": 10,
      "metadata": {
        "colab": {
          "base_uri": "https://localhost:8080/",
          "height": 307
        },
        "id": "6Xz1B6hyKlaI",
        "outputId": "7085a7a0-2ec4-496f-e5eb-77b08ea587e1"
      },
      "outputs": [
        {
          "output_type": "error",
          "ename": "OverflowError",
          "evalue": "ignored",
          "traceback": [
            "\u001b[0;31m---------------------------------------------------------------------------\u001b[0m",
            "\u001b[0;31mOverflowError\u001b[0m                             Traceback (most recent call last)",
            "\u001b[0;32m<ipython-input-10-17e1bed5c8ec>\u001b[0m in \u001b[0;36m<module>\u001b[0;34m\u001b[0m\n\u001b[0;32m----> 1\u001b[0;31m \u001b[0mfind_minimum_first_order\u001b[0m\u001b[0;34m(\u001b[0m\u001b[0;36m0.6\u001b[0m\u001b[0;34m)\u001b[0m\u001b[0;34m\u001b[0m\u001b[0;34m\u001b[0m\u001b[0m\n\u001b[0m",
            "\u001b[0;32m<ipython-input-6-5a3f75e7fec1>\u001b[0m in \u001b[0;36mfind_minimum_first_order\u001b[0;34m(learning_rate, eps, max_iterations, anneal_learning_rate)\u001b[0m\n\u001b[1;32m     23\u001b[0m         \u001b[0;31m# добавим новые значения для визуализации сходимости\u001b[0m\u001b[0;34m\u001b[0m\u001b[0;34m\u001b[0m\u001b[0;34m\u001b[0m\u001b[0m\n\u001b[1;32m     24\u001b[0m         \u001b[0mx_list\u001b[0m\u001b[0;34m.\u001b[0m\u001b[0mappend\u001b[0m\u001b[0;34m(\u001b[0m\u001b[0mx_new\u001b[0m\u001b[0;34m)\u001b[0m\u001b[0;34m\u001b[0m\u001b[0;34m\u001b[0m\u001b[0m\n\u001b[0;32m---> 25\u001b[0;31m         \u001b[0my_list\u001b[0m\u001b[0;34m.\u001b[0m\u001b[0mappend\u001b[0m\u001b[0;34m(\u001b[0m\u001b[0mfunc\u001b[0m\u001b[0;34m(\u001b[0m\u001b[0mx_new\u001b[0m\u001b[0;34m)\u001b[0m\u001b[0;34m)\u001b[0m\u001b[0;34m\u001b[0m\u001b[0;34m\u001b[0m\u001b[0m\n\u001b[0m\u001b[1;32m     26\u001b[0m         \u001b[0mi\u001b[0m \u001b[0;34m+=\u001b[0m \u001b[0;36m1\u001b[0m\u001b[0;34m\u001b[0m\u001b[0;34m\u001b[0m\u001b[0m\n\u001b[1;32m     27\u001b[0m     \u001b[0;31m# --------------\u001b[0m\u001b[0;34m\u001b[0m\u001b[0;34m\u001b[0m\u001b[0;34m\u001b[0m\u001b[0m\n",
            "\u001b[0;32m<ipython-input-5-6f505b9f7bd7>\u001b[0m in \u001b[0;36m<lambda>\u001b[0;34m(x)\u001b[0m\n\u001b[1;32m      1\u001b[0m \u001b[0;31m# наша функция f(x)\u001b[0m\u001b[0;34m\u001b[0m\u001b[0;34m\u001b[0m\u001b[0;34m\u001b[0m\u001b[0m\n\u001b[0;32m----> 2\u001b[0;31m \u001b[0mfunc\u001b[0m \u001b[0;34m=\u001b[0m \u001b[0;32mlambda\u001b[0m \u001b[0mx\u001b[0m\u001b[0;34m:\u001b[0m \u001b[0mx\u001b[0m \u001b[0;34m**\u001b[0m \u001b[0;36m3\u001b[0m \u001b[0;34m-\u001b[0m \u001b[0;36m2\u001b[0m \u001b[0;34m*\u001b[0m \u001b[0mx\u001b[0m \u001b[0;34m**\u001b[0m \u001b[0;36m2\u001b[0m \u001b[0;34m+\u001b[0m \u001b[0;36m2\u001b[0m\u001b[0;34m\u001b[0m\u001b[0;34m\u001b[0m\u001b[0m\n\u001b[0m\u001b[1;32m      3\u001b[0m \u001b[0;31m# производная функции f(x)\u001b[0m\u001b[0;34m\u001b[0m\u001b[0;34m\u001b[0m\u001b[0;34m\u001b[0m\u001b[0m\n\u001b[1;32m      4\u001b[0m \u001b[0md_func\u001b[0m \u001b[0;34m=\u001b[0m \u001b[0;32mlambda\u001b[0m \u001b[0mx\u001b[0m\u001b[0;34m:\u001b[0m \u001b[0;36m3\u001b[0m \u001b[0;34m*\u001b[0m \u001b[0mx\u001b[0m \u001b[0;34m**\u001b[0m \u001b[0;36m2\u001b[0m \u001b[0;34m-\u001b[0m \u001b[0;36m4\u001b[0m \u001b[0;34m*\u001b[0m \u001b[0mx\u001b[0m\u001b[0;34m\u001b[0m\u001b[0;34m\u001b[0m\u001b[0m\n\u001b[1;32m      5\u001b[0m \u001b[0;31m# сделаем массив из 1000 элементов от -3 до 3\u001b[0m\u001b[0;34m\u001b[0m\u001b[0;34m\u001b[0m\u001b[0;34m\u001b[0m\u001b[0m\n",
            "\u001b[0;31mOverflowError\u001b[0m: (34, 'Numerical result out of range')"
          ]
        }
      ],
      "source": [
        "find_minimum_first_order(0.6)"
      ]
    },
    {
      "cell_type": "markdown",
      "metadata": {
        "id": "gTTbzvS0KlaM"
      },
      "source": [
        "Ууупс, получили Overflow. Значит learning rate слишком большой. Хотя большой learning rate опасен возможностью overflow у него есть ряд преимуществ. Чем больше темп обучения, тем большие расстояния мы преодолеваем за один шаг и тем выше вероятность быстрее найти хорошее пространство локальных минимумов.\n",
        "\n",
        "Хорошая стратегия — начинать с достаточно большого шага (чтобы хорошо попутешествовать по функции), а потом постепенно его уменьшать, чтобы стабилизировать процесс обучения в каком-то локальном минимуме."
      ]
    },
    {
      "cell_type": "code",
      "execution_count": 11,
      "metadata": {
        "id": "itCkyBdaKlaN",
        "colab": {
          "base_uri": "https://localhost:8080/",
          "height": 315
        },
        "outputId": "140e1e22-6fec-4480-855e-ca27482ab7ef"
      },
      "outputs": [
        {
          "output_type": "stream",
          "name": "stdout",
          "text": [
            "Найденный локальный минимум: 1.294744839667743\n",
            "Количество шагов: 7\n"
          ]
        },
        {
          "output_type": "display_data",
          "data": {
            "text/plain": [
              "<Figure size 432x288 with 1 Axes>"
            ],
            "image/png": "[encoded data removed]"
          },
          "metadata": {
            "needs_background": "light"
          }
        }
      ],
      "source": [
        "find_minimum_first_order(0.6, anneal_learning_rate=lambda lr, step: 0.3 * lr)"
      ]
    },
    {
      "cell_type": "markdown",
      "metadata": {
        "id": "pSMWbov7ZrSQ"
      },
      "source": [
        "## Изучаем разные методы оптимизации\n",
        "\n",
        "### Stochastic Gradient Descent\n",
        "SGD - этот же самый gradient descent, что мы рассматривали ранее, но подсчёт градиентов производится не по всему множеству данных, а по отдельно взятому сэмплу. Очевидно, такая оптимизация будет очень шумной, что усложнит обучение модели. Поэтому обычно используют MiniBatch-SGD, где вместо одного сэмпла мы берём $k$. У такого подхода ниже variance в сравнении с обычным SGD, что приводит к более стабильному процессу оптимизации. В том эе время нам всё ещё не нужно работать со всей выборкой одновременно, поэтому мы можем контролировать используемую память.\n",
        "\n",
        "$$\n",
        "\\begin{eqnarray}\n",
        "g &=& \\frac{1}{m}\\nabla_w \\sum_i L(f(x_{i};w), y_{i}) \\\\\n",
        "w &=& w - \\eta \\times g\n",
        "\\end{eqnarray}\n",
        "$$\n",
        "\n",
        "### Stochastic Gradient Descent with Momentum\n",
        "Попытаемся добавить SGD эффект инерции. Теперь, вместо того чтобы двигаться строго в направлении градиента в каждой точке, мы стараемся продолжить движение в том же направлении, в котором двигались ранее. То есть у нашей точки, которая спускается по многомерной поверхности, появляется импульс (momentum), который контролируется при помощи параметра $\\alpha$. Он определяет какую часть прошлого градиента мы хотим использовать на текущем шаге.\n",
        "$$\n",
        "\\begin{eqnarray}\n",
        "g_{t} &=& \\alpha g_{t-1} + \\eta \\frac{1}{m}\\nabla_w \\sum_i L(f(x_{i};w), y_{i}) \\\\\n",
        "w &=& w - \\eta \\times g\n",
        "\\end{eqnarray}\n",
        "$$\n",
        "\n",
        "![Momentum](static/sgd_momentum.png)\n",
        "\n",
        "### Адаптивные варианты градиентного спуска\n",
        "Во всех предыдущих алгоритмах у нас был фиксированный learning rate. Начиная с Adagrad у нас будет идти алгоритмы, которые подстраивают learning rate в зависимости от обучения. Они называются адаптивными вариантами градиентного спуска.\n",
        "\n",
        "Адаптивные варианты градиентного спуска подстраивает темп обучения таким образом, чтобы делать большие или маленькие обновления отдельных параметров. Например, может так сложиться, что некоторые веса близки к своим локальным минимумам, тогда по этим координатам нужно двигаться медленнее, а другие веса ещё только в середине, значит их можно менять гораздо быстрее. Подобные методы часты приводят к более обоснованной модели и сходятся гораздо быстрее.\n",
        "\n",
        "#### Adagrad\n",
        "$$\n",
        "\\begin{eqnarray}\n",
        "g &=& \\frac{1}{m}\\nabla_w \\sum_i L(f(x_{i};w), y_{i}) \\\\\n",
        "s &=& s + diag(gg^{T}) \\\\\n",
        "w &=& w - \\frac{\\eta}{\\sqrt{s+eps}} \\odot g\n",
        "\\end{eqnarray}\n",
        "$$\n",
        "Теперь нам не нужно сильно волноваться о правильном подборе $\\eta$, так как $s$ контролирует скорость обучения для каждого параметра.\n",
        "\n",
        "#### RMSprop\n",
        "У Adagrad есть сильный минус. $s$ - всегда положительна и постоянно растёт во время обучения, что приводит к ситуации, когда у нас learning rate становится слишком маленький, и мы перестаём учиться. RMSprop исправляет эту проблему при помощи экспоненциального сглаживания:\n",
        "\n",
        "$$\n",
        "\\begin{eqnarray}\n",
        "g &=& \\frac{1}{m}\\nabla_w \\sum_i L(f(x_{i};w), y_{i}) \\\\\n",
        "s &=& \\rho s + (1 - \\rho) diag(gg^{T}) \\\\\n",
        "w &=& w - \\frac{\\eta}{\\sqrt{s+eps}} \\odot g\n",
        "\\end{eqnarray}\n",
        "$$\n",
        "\n",
        "#### Adam\n",
        "Добавим не только моменты второго порядка, но и первого при обновлении параметров:\n",
        "\n",
        "$$\n",
        "\\begin{eqnarray}\n",
        "g &=& \\frac{1}{m}\\nabla_w \\sum_i L(f(x_{i};w), y_{i}) \\\\\n",
        "m &=& \\beta_1 m + (1 - \\beta_1) g \\\\\n",
        "v &=& \\beta_2 v + (1 - \\beta_2) diag(gg^{T}) \\\\\n",
        "\\hat{m} &=& \\frac{m}{1 - \\beta_1^{t}} \\\\\n",
        "\\hat{v} &=& \\frac{v}{1 - \\beta_2^{t}} \\\\\n",
        "w &=& w - \\frac{\\eta}{\\sqrt{\\hat{v} + \\epsilon}} \\odot \\hat{m}\n",
        "\\end{eqnarray}\n",
        "$$\n",
        "\n",
        "#### Схема\n",
        "![Sheme](static/gd_scheme.png)"
      ]
    },
    {
      "cell_type": "markdown",
      "metadata": {
        "id": "ZeCXawXsKlaX"
      },
      "source": [
        "### Работаем с PyTorch Optimizer\n",
        "\n",
        "Очевидно, что для своих нейронных сетей не нужно каждый раз писать свой алгоритм и за вас уже сделаны все самые популярные методы. Их можно найти в **torch.optim** или по [ссылке](https://pytorch.org/docs/stable/optim.html#algorithms)."
      ]
    },
    {
      "cell_type": "code",
      "execution_count": 12,
      "metadata": {
        "id": "8oraXo9DKlaX",
        "colab": {
          "base_uri": "https://localhost:8080/"
        },
        "outputId": "bd5fd340-3489-4a4e-b928-18ab7ce76420"
      },
      "outputs": [
        {
          "output_type": "execute_result",
          "data": {
            "text/plain": [
              "['ASGD',\n",
              " 'Adadelta',\n",
              " 'Adagrad',\n",
              " 'Adam',\n",
              " 'AdamW',\n",
              " 'Adamax',\n",
              " 'LBFGS',\n",
              " 'NAdam',\n",
              " 'Optimizer',\n",
              " 'RAdam',\n",
              " 'RMSprop',\n",
              " 'Rprop',\n",
              " 'SGD',\n",
              " 'SparseAdam',\n",
              " 'lr_scheduler',\n",
              " 'swa_utils']"
            ]
          },
          "metadata": {},
          "execution_count": 12
        }
      ],
      "source": [
        "[elem for elem in dir(torch.optim) if not elem.startswith(\"_\")]"
      ]
    },
    {
      "cell_type": "markdown",
      "metadata": {
        "id": "-Xsq3M5VKlaa"
      },
      "source": [
        "Основные методы PyTorch Optimizer:\n",
        "* __step__ - обновление весов модели\n",
        "* __zero_grad__ - занулить веса модели (по умолчанию градиенты в PyTorch аккумулируются) ~ `for each param in params: param.grad = None`\n",
        "* __state_dict__ - получить текущее состояние Optimizer. Для адаптивных методов тут будут храниться аккумулированные квадраты градиентов\n",
        "\n",
        "\n",
        "### Как создать инстанс PyTorch Optimizer?\n",
        "\n",
        "Для того чтобы создать инстанс оптимизатора, достаточно передать ему параметры модели (их можно получить при помощи функции `parameters()`) и гиперпараметры для метода оптимизации.\n",
        "\n",
        "Пример:"
      ]
    },
    {
      "cell_type": "code",
      "execution_count": 13,
      "metadata": {
        "id": "KLLI3GbM89kb"
      },
      "outputs": [],
      "source": [
        "?torch.optim.SGD"
      ]
    },
    {
      "cell_type": "code",
      "execution_count": 14,
      "metadata": {
        "colab": {
          "base_uri": "https://localhost:8080/"
        },
        "id": "BDgqvgVJKlaa",
        "outputId": "09c923a5-69a7-46d6-8ec1-9afc15372010"
      },
      "outputs": [
        {
          "output_type": "execute_result",
          "data": {
            "text/plain": [
              "([('weight', Parameter containing:\n",
              "   tensor([[-0.1194]], requires_grad=True)), ('bias', Parameter containing:\n",
              "   tensor([0.4259], requires_grad=True))], SGD (\n",
              " Parameter Group 0\n",
              "     dampening: 0\n",
              "     foreach: None\n",
              "     lr: 0.01\n",
              "     maximize: False\n",
              "     momentum: 0\n",
              "     nesterov: False\n",
              "     weight_decay: 0\n",
              " ))"
            ]
          },
          "metadata": {},
          "execution_count": 14
        }
      ],
      "source": [
        "model = torch.nn.Linear(1, 1)\n",
        "list(model.named_parameters()), torch.optim.SGD(model.parameters(), lr=0.01)"
      ]
    },
    {
      "cell_type": "markdown",
      "metadata": {
        "id": "7rpMKRptKlac"
      },
      "source": [
        "Или же вот так:"
      ]
    },
    {
      "cell_type": "code",
      "execution_count": 15,
      "metadata": {
        "colab": {
          "base_uri": "https://localhost:8080/"
        },
        "id": "N6mSL4-CKlad",
        "outputId": "6367fe9d-5f7a-4faf-9ddd-8d6452b582e3"
      },
      "outputs": [
        {
          "output_type": "execute_result",
          "data": {
            "text/plain": [
              "SGD (\n",
              "Parameter Group 0\n",
              "    dampening: 0\n",
              "    foreach: None\n",
              "    lr: 0.3\n",
              "    maximize: False\n",
              "    momentum: 0\n",
              "    nesterov: False\n",
              "    weight_decay: 0\n",
              "\n",
              "Parameter Group 1\n",
              "    dampening: 0\n",
              "    foreach: None\n",
              "    lr: 0.5\n",
              "    maximize: False\n",
              "    momentum: 0\n",
              "    nesterov: False\n",
              "    weight_decay: 0\n",
              ")"
            ]
          },
          "metadata": {},
          "execution_count": 15
        }
      ],
      "source": [
        "# Зададим PyTorch модули в качестве словаря\n",
        "model = torch.nn.ModuleDict({\n",
        "    \"linear_1\": torch.nn.Linear(1, 1),\n",
        "    \"linear_2\": torch.nn.Linear(2, 2)\n",
        "})\n",
        "torch.optim.SGD([\n",
        "    {\"params\": model[\"linear_1\"].parameters(), \"lr\": 0.3},\n",
        "    {\"params\": model[\"linear_2\"].parameters()}\n",
        "], lr=0.5)"
      ]
    },
    {
      "cell_type": "markdown",
      "metadata": {
        "id": "Jyw8oX6vpaO9"
      },
      "source": [
        "Последнее очень полезно, например, для transfer learning, когда мы хотим, чтобы предобученная модель тренировалась с другим learning rate.\n",
        "\n",
        "**Важный момент:** даже если у вас есть методы с адаптивным градиентом спуском, полностью забывать о настройке learning rate не стоит."
      ]
    },
    {
      "cell_type": "markdown",
      "metadata": {
        "id": "g-nDP6ta5T91"
      },
      "source": [
        "### Работаем с PyTorch Scheduler\n",
        "\n",
        "В начале семинара мы уменьшили количество шагов до сходимости следующим образом: начали с достаточно большого шага, а потом постепенно его уменьшили, чтобы стабилизировать процесс обучения в минимуме. Оказывается есть много способов менять оптимизацию таким образом. Они называются Schedulers."
      ]
    },
    {
      "cell_type": "code",
      "execution_count": 16,
      "metadata": {
        "colab": {
          "base_uri": "https://localhost:8080/"
        },
        "id": "Ghk6fqbIqX_G",
        "outputId": "4ef7266b-f203-49c0-9844-30f90e60c1fd"
      },
      "outputs": [
        {
          "output_type": "execute_result",
          "data": {
            "text/plain": [
              "['ChainedScheduler',\n",
              " 'ConstantLR',\n",
              " 'CosineAnnealingLR',\n",
              " 'CosineAnnealingWarmRestarts',\n",
              " 'Counter',\n",
              " 'CyclicLR',\n",
              " 'EPOCH_DEPRECATION_WARNING',\n",
              " 'ExponentialLR',\n",
              " 'LambdaLR',\n",
              " 'LinearLR',\n",
              " 'MultiStepLR',\n",
              " 'MultiplicativeLR',\n",
              " 'OneCycleLR',\n",
              " 'Optimizer',\n",
              " 'ReduceLROnPlateau',\n",
              " 'SequentialLR',\n",
              " 'StepLR',\n",
              " 'bisect_right',\n",
              " 'inf',\n",
              " 'math',\n",
              " 'types',\n",
              " 'warnings',\n",
              " 'weakref',\n",
              " 'wraps']"
            ]
          },
          "metadata": {},
          "execution_count": 16
        }
      ],
      "source": [
        "[elem for elem in dir(torch.optim.lr_scheduler) if not elem.startswith(\"_\")]"
      ]
    },
    {
      "cell_type": "markdown",
      "metadata": {
        "id": "00r2hf3HvUAR"
      },
      "source": [
        "Основные методы PyTorch Scheduler:\n",
        "* __step__ - обновление размера шага. *Обычно вызывается **1 раз за эпоху**, а не каждый шаг оптимизатора.*\n",
        "* __state_dict__ - получить текущее состояние Scheduler: текущий LR, количество пройденных шагов и дополнительные параметры.\n",
        "\n",
        "\n",
        "### Как создать инстанс PyTorch Scheduler?\n",
        "\n",
        "Достаточно передать `optimizer` и гиперпараметры для метода.\n",
        "\n",
        "Пример:"
      ]
    },
    {
      "cell_type": "code",
      "execution_count": 17,
      "metadata": {
        "id": "dKZwrKBpwmsy"
      },
      "outputs": [],
      "source": [
        "model = torch.nn.Linear(1, 1)\n",
        "optimizer = torch.optim.SGD(model.parameters(), lr=0.01)\n",
        "scheduler_func = lambda epoch: 0.65 ** epoch\n",
        "scheduler = torch.optim.lr_scheduler.LambdaLR(optimizer, scheduler_func)"
      ]
    },
    {
      "cell_type": "markdown",
      "metadata": {
        "id": "Xl6QuDjjrZmG"
      },
      "source": [
        "Сделаем пару небольших функций для отрисовки изменения шага обучения на разных шедулерах:"
      ]
    },
    {
      "cell_type": "code",
      "execution_count": 18,
      "metadata": {
        "id": "8zeYr14lrQ_j"
      },
      "outputs": [],
      "source": [
        "def get_simple_model_optimizer():\n",
        "    simple_model = torch.nn.Linear(2, 1)\n",
        "    simple_optimizer = torch.optim.SGD(model.parameters(), lr=100)\n",
        "    return simple_model, simple_optimizer\n",
        "\n",
        "\n",
        "def draw_learning_rate_curve(optimizer, scheduler):\n",
        "    lrs = []\n",
        "    for i in range(100):\n",
        "        optimizer.step()\n",
        "        lrs.append(optimizer.param_groups[0][\"lr\"])\n",
        "        scheduler.step()\n",
        "    plt.grid()\n",
        "    plt.plot(range(100), lrs)"
      ]
    },
    {
      "cell_type": "markdown",
      "metadata": {
        "id": "sJJQ9HEQtpqY"
      },
      "source": [
        "### Примеры различных шедулеров в **PyTorch**\n",
        "\n",
        "#### Lambda LR\n",
        "Умножает шаг на значение данной ему функции: $lr_{epoch} = lr_{initial} * Lambda(epoch)$."
      ]
    },
    {
      "cell_type": "code",
      "execution_count": 19,
      "metadata": {
        "colab": {
          "base_uri": "https://localhost:8080/",
          "height": 265
        },
        "id": "FZS4XOR8tK_E",
        "outputId": "89ac4347-77e6-4e8d-8ced-ef928663b56e"
      },
      "outputs": [
        {
          "output_type": "display_data",
          "data": {
            "text/plain": [
              "<Figure size 432x288 with 1 Axes>"
            ],
            "image/png": "[encoded data removed]"
          },
          "metadata": {
            "needs_background": "light"
          }
        }
      ],
      "source": [
        "model, optimizer = get_simple_model_optimizer()\n",
        "lambda_func = lambda epoch: 0.95 ** epoch\n",
        "scheduler = torch.optim.lr_scheduler.LambdaLR(optimizer, lr_lambda=lambda_func)\n",
        "draw_learning_rate_curve(optimizer, scheduler)"
      ]
    },
    {
      "cell_type": "markdown",
      "metadata": {
        "id": "B8PuQb8fuIno"
      },
      "source": [
        "#### StepLR\n",
        "Каждые `step_size` эпох уменьшает LR в `gamma` раз."
      ]
    },
    {
      "cell_type": "code",
      "execution_count": 20,
      "metadata": {
        "colab": {
          "base_uri": "https://localhost:8080/",
          "height": 265
        },
        "id": "iNPhic8utbVb",
        "outputId": "217b9d91-31d6-46ed-99eb-9eff2ac60f51"
      },
      "outputs": [
        {
          "output_type": "display_data",
          "data": {
            "text/plain": [
              "<Figure size 432x288 with 1 Axes>"
            ],
            "image/png": "[encoded data removed]"
          },
          "metadata": {
            "needs_background": "light"
          }
        }
      ],
      "source": [
        "model, optimizer = get_simple_model_optimizer()\n",
        "scheduler = torch.optim.lr_scheduler.StepLR(optimizer, step_size=10, gamma=0.7)\n",
        "draw_learning_rate_curve(optimizer, scheduler)"
      ]
    },
    {
      "cell_type": "markdown",
      "metadata": {
        "id": "c3Ztt5AoyQCA"
      },
      "source": [
        "#### CosineAnnealingLR\n",
        "\n",
        "Важно понимать, что LR имеет смысл не только снижать, но иногда еще и делать цикличным. Формула тут несколько сложнее, оставим ее для интересующихся)"
      ]
    },
    {
      "cell_type": "code",
      "execution_count": 21,
      "metadata": {
        "colab": {
          "base_uri": "https://localhost:8080/",
          "height": 265
        },
        "id": "XPBv2i47yPOe",
        "outputId": "907d2e71-b5f4-4df6-a495-e8d562fac906"
      },
      "outputs": [
        {
          "output_type": "display_data",
          "data": {
            "text/plain": [
              "<Figure size 432x288 with 1 Axes>"
            ],
            "image/png": "[encoded data removed]"
          },
          "metadata": {
            "needs_background": "light"
          }
        }
      ],
      "source": [
        "model, optimizer = get_simple_model_optimizer()\n",
        "scheduler = torch.optim.lr_scheduler.CosineAnnealingLR(optimizer, T_max=10, eta_min=0)\n",
        "draw_learning_rate_curve(optimizer, scheduler)"
      ]
    },
    {
      "cell_type": "markdown",
      "metadata": {
        "id": "2YmhZSXV4EBp"
      },
      "source": [
        "## PyTorch VS PyTorch Lightning\n",
        "\n",
        "**PyTorch Lightning** это фреймворк для организованной работы с **PyTorch**. В нем упрощена работа по:\n",
        "- Написанию тренировочного цикла\n",
        "- Написанию датасетов\n",
        "- Использованию gpu/tpu/ipu/hpu и тд\n",
        "- Переводу моделей в формат ONNX\n",
        "- И многому другому\n",
        "\n",
        "Фреймворк призван оставить юзеру возможность конфигурировать параметры и проводить эксперименты, а остальное он возьмет на себя. Давайте сравним код на **PyTorch** без и с использованием **Lightning** на примере несложной нейросети на датасете FashionMNIST."
      ]
    },
    {
      "cell_type": "code",
      "execution_count": 22,
      "metadata": {
        "id": "xZEZIiu05T95"
      },
      "outputs": [],
      "source": [
        "from collections import defaultdict, namedtuple\n",
        "\n",
        "import pytorch_lightning as pl\n",
        "import torchvision\n",
        "import torchvision.transforms as transforms\n",
        "from torch.utils.data import DataLoader\n",
        "# крутая библиотека с кучей метрик \"из коробки\"\n",
        "from torchmetrics.functional import accuracy"
      ]
    },
    {
      "cell_type": "markdown",
      "metadata": {
        "id": "IVYuHkoa5T96"
      },
      "source": [
        "### Данные (общее)"
      ]
    },
    {
      "cell_type": "code",
      "execution_count": 23,
      "metadata": {
        "id": "hHAHgGdeKlau",
        "colab": {
          "base_uri": "https://localhost:8080/",
          "height": 471,
          "referenced_widgets": [
            "c71d1282c2034a2cbd8f824d4650406c",
            "6aafc293c4524952a80d67768b3e38a8",
            "5220d859fdc04b17b50c4f56e3b966a1",
            "6e96c5146b674a32b47c7c158c9bad32",
            "a12799c4e86542a9a59f71ee98a88413",
            "fde5a14a57c34d319a108f858c3d5a78",
            "170737353157460d8e40bbc0ca4c00eb",
            "004a9730e8184bbdbfc6850a4614ed09",
            "05a0756971a948a3ab60df5d23476985",
            "5141fd28a2054444bf67d6a033a5ff9c",
            "76556d641a1f4546a6d14e0d84149cef",
            "9ba20ee8caec4d12919acda4cf26feea",
            "e64c50868e034f71b9ed7eeb09a4e818",
            "21a4a6f5e22c457195a9a027439ae759",
            "5647b48b0e1143578a438e6e491ddb91",
            "75d9b1899e9047cd84b95240dcce694e",
            "9dedf7d237d64c54bcabb688cf50a848",
            "9922ef022a224c19a9f358114763c3c0",
            "84c33586cf0d45f095fae8f65b305bf1",
            "439e7cf106c84ac0a1d528a11d04c0f1",
            "04416c9d94f9422c9992b2664f627866",
            "38e7160f6d3d4c0cbeffc4f7aa94a2f5",
            "bf1021e8b58e46a99c84f8ea186c5b00",
            "89abdba1c58f41cbb45ddd2d54661ef3",
            "046cc0c460694c8ca6d78133df7af415",
            "6d6268150313474bb126e7f4d07d9769",
            "6b6c3c55990b4488848d6e28d27c730b",
            "d476a221a2ea4dc383bed397bc9ce6cc",
            "f0f7fb2b26ba4e63ba77fac96c6ba768",
            "f1b9d3ed097d46dfa0df88897c683bc5",
            "dfedea35668d4c9191efcc2cf469ffab",
            "9cbefb474e1c4f7084c611abf865e16e",
            "a5c97ba24c6d4f4fb82cfe896d2bb054",
            "1dfbeb5238474b28bf6765edd0370df3",
            "86988e29b2094d38ba1b21b9d1a4e051",
            "a73b46d8941c418a89ca3602457cf0c2",
            "64d08964aa2347f8ab14cf1eb9d1e6f4",
            "0b1f02b5edf849cba15c83c40485ea69",
            "e8b2ca6a6b30418fae0a4b3cc9a48382",
            "14fa174104354c608435e7e6cf6edab4",
            "31a890440c22475a962c600cd819b6e7",
            "80b1e61c48104b42a7fed350952f253d",
            "f2372fbc1665480e96b6ace3c32cf45d",
            "2ff06e1ba4ae446a9cf9f753b27a5ba4"
          ]
        },
        "outputId": "d91fc888-b86a-4472-c604-8cf5d588b5ec"
      },
      "outputs": [
        {
          "output_type": "stream",
          "name": "stdout",
          "text": [
            "Downloading http://fashion-mnist.s3-website.eu-central-1.amazonaws.com/train-images-idx3-ubyte.gz\n",
            "Downloading http://fashion-mnist.s3-website.eu-central-1.amazonaws.com/train-images-idx3-ubyte.gz to ./data/FashionMNIST/raw/train-images-idx3-ubyte.gz\n"
          ]
        },
        {
          "output_type": "display_data",
          "data": {
            "text/plain": [
              "  0%|          | 0/26421880 [00:00<?, ?it/s]"
            ],
            "application/vnd.jupyter.widget-view+json": {
              "version_major": 2,
              "version_minor": 0,
              "model_id": "c71d1282c2034a2cbd8f824d4650406c"
            }
          },
          "metadata": {}
        },
        {
          "output_type": "stream",
          "name": "stdout",
          "text": [
            "Extracting ./data/FashionMNIST/raw/train-images-idx3-ubyte.gz to ./data/FashionMNIST/raw\n",
            "\n",
            "Downloading http://fashion-mnist.s3-website.eu-central-1.amazonaws.com/train-labels-idx1-ubyte.gz\n",
            "Downloading http://fashion-mnist.s3-website.eu-central-1.amazonaws.com/train-labels-idx1-ubyte.gz to ./data/FashionMNIST/raw/train-labels-idx1-ubyte.gz\n"
          ]
        },
        {
          "output_type": "display_data",
          "data": {
            "text/plain": [
              "  0%|          | 0/29515 [00:00<?, ?it/s]"
            ],
            "application/vnd.jupyter.widget-view+json": {
              "version_major": 2,
              "version_minor": 0,
              "model_id": "9ba20ee8caec4d12919acda4cf26feea"
            }
          },
          "metadata": {}
        },
        {
          "output_type": "stream",
          "name": "stdout",
          "text": [
            "Extracting ./data/FashionMNIST/raw/train-labels-idx1-ubyte.gz to ./data/FashionMNIST/raw\n",
            "\n",
            "Downloading http://fashion-mnist.s3-website.eu-central-1.amazonaws.com/t10k-images-idx3-ubyte.gz\n",
            "Downloading http://fashion-mnist.s3-website.eu-central-1.amazonaws.com/t10k-images-idx3-ubyte.gz to ./data/FashionMNIST/raw/t10k-images-idx3-ubyte.gz\n"
          ]
        },
        {
          "output_type": "display_data",
          "data": {
            "text/plain": [
              "  0%|          | 0/4422102 [00:00<?, ?it/s]"
            ],
            "application/vnd.jupyter.widget-view+json": {
              "version_major": 2,
              "version_minor": 0,
              "model_id": "bf1021e8b58e46a99c84f8ea186c5b00"
            }
          },
          "metadata": {}
        },
        {
          "output_type": "stream",
          "name": "stdout",
          "text": [
            "Extracting ./data/FashionMNIST/raw/t10k-images-idx3-ubyte.gz to ./data/FashionMNIST/raw\n",
            "\n",
            "Downloading http://fashion-mnist.s3-website.eu-central-1.amazonaws.com/t10k-labels-idx1-ubyte.gz\n",
            "Downloading http://fashion-mnist.s3-website.eu-central-1.amazonaws.com/t10k-labels-idx1-ubyte.gz to ./data/FashionMNIST/raw/t10k-labels-idx1-ubyte.gz\n"
          ]
        },
        {
          "output_type": "display_data",
          "data": {
            "text/plain": [
              "  0%|          | 0/5148 [00:00<?, ?it/s]"
            ],
            "application/vnd.jupyter.widget-view+json": {
              "version_major": 2,
              "version_minor": 0,
              "model_id": "1dfbeb5238474b28bf6765edd0370df3"
            }
          },
          "metadata": {}
        },
        {
          "output_type": "stream",
          "name": "stdout",
          "text": [
            "Extracting ./data/FashionMNIST/raw/t10k-labels-idx1-ubyte.gz to ./data/FashionMNIST/raw\n",
            "\n"
          ]
        },
        {
          "output_type": "stream",
          "name": "stderr",
          "text": [
            "/usr/local/lib/python3.7/dist-packages/torch/utils/data/dataloader.py:566: UserWarning: This DataLoader will create 4 worker processes in total. Our suggested max number of worker in current system is 2, which is smaller than what this DataLoader is going to create. Please be aware that excessive worker creation might get DataLoader running slow or even freeze, lower the worker number to avoid potential slowness/freeze if necessary.\n",
            "  cpuset_checked))\n"
          ]
        }
      ],
      "source": [
        "# Train data\n",
        "fashion_mnist_train = torchvision.datasets.FashionMNIST(\n",
        "    \"./data\",\n",
        "    download=True,\n",
        "    transform=transforms.Compose([transforms.ToTensor()])\n",
        ")\n",
        "train_dataloader = DataLoader(\n",
        "    fashion_mnist_train,\n",
        "    batch_size=128,\n",
        "    shuffle=True,\n",
        "    num_workers=4\n",
        ")\n",
        "\n",
        "# Validation data\n",
        "fashion_mnist_val = torchvision.datasets.FashionMNIST(\n",
        "    \"./data\",\n",
        "    train=False,\n",
        "    download=True,\n",
        "    transform=transforms.Compose([transforms.ToTensor()]),\n",
        ")\n",
        "val_dataloader = DataLoader(\n",
        "    fashion_mnist_val,\n",
        "    batch_size=128,\n",
        "    num_workers=4\n",
        ")"
      ]
    },
    {
      "cell_type": "code",
      "execution_count": 24,
      "metadata": {
        "id": "Sr1MKTjBKlaw"
      },
      "outputs": [],
      "source": [
        "idx_to_label = defaultdict(None, {\n",
        "    0: \"T-shirt/Top\",\n",
        "    1: \"Trouser\",\n",
        "    2: \"Pullover\",\n",
        "    3: \"Dress\",\n",
        "    4: \"Coat\",\n",
        "    5: \"Sandal\",\n",
        "    6: \"Shirt\",\n",
        "    7: \"Sneaker\",\n",
        "    8: \"Bag\",\n",
        "    9: \"Ankle Boot\"\n",
        "})"
      ]
    },
    {
      "cell_type": "code",
      "execution_count": 25,
      "metadata": {
        "colab": {
          "base_uri": "https://localhost:8080/",
          "height": 547
        },
        "id": "KQfTpcB05ZcB",
        "outputId": "73a1ba28-dc0d-4e0c-dcfd-30ca85573f90"
      },
      "outputs": [
        {
          "output_type": "stream",
          "name": "stdout",
          "text": [
            "Ankle Boot\n"
          ]
        },
        {
          "output_type": "display_data",
          "data": {
            "text/plain": [
              "<Figure size 432x288 with 1 Axes>"
            ],
            "image/png": "[encoded data removed]"
          },
          "metadata": {
            "needs_background": "light"
          }
        },
        {
          "output_type": "stream",
          "name": "stdout",
          "text": [
            "Coat\n"
          ]
        },
        {
          "output_type": "display_data",
          "data": {
            "text/plain": [
              "<Figure size 432x288 with 1 Axes>"
            ],
            "image/png": "[encoded data removed]"
          },
          "metadata": {
            "needs_background": "light"
          }
        }
      ],
      "source": [
        "### pictures are normalized\n",
        "for batch in val_dataloader:\n",
        "    # batch_size is 128\n",
        "    images, class_nums = batch\n",
        "    print(idx_to_label[int(class_nums[0])])\n",
        "    plt.imshow(images[0].squeeze())\n",
        "    plt.show()\n",
        "    print(idx_to_label[int(class_nums[127])])\n",
        "    plt.imshow(images[127].squeeze())\n",
        "    plt.show()\n",
        "    break"
      ]
    },
    {
      "cell_type": "markdown",
      "metadata": {
        "id": "Q6Mf1W49f2Fv"
      },
      "source": [
        "### Модель (общее)\n",
        "\n",
        "Создайте класс модели по следующей схеме:\n",
        "\n",
        "1. BatchNorm\n",
        "2. Conv(out=32, kernel=3) -> ReLu -> MaxPool(kernel=2)\n",
        "3. BatchNorm\n",
        "4. Conv(out=64, kernel=3) -> ReLu -> MaxPool(kernel=2)\n",
        "5. Flatten\n",
        "6. Linear(out=128)\n",
        "7. ReLu\n",
        "8. Dropout\n",
        "9. Linear(out=64)\n",
        "10. ReLu\n",
        "11. Linear(out=10)"
      ]
    },
    {
      "cell_type": "code",
      "execution_count": 31,
      "metadata": {
        "id": "QkHmFRSkKlay"
      },
      "outputs": [],
      "source": [
        "class SimpleNet(torch.nn.Module):\n",
        "    def __init__(self, dropout=0.4):\n",
        "        super().__init__()\n",
        "        # TODO:\n",
        "        # Your code here:\n",
        "        # --------------\n",
        "        self.batch_norm1 = torch.nn.BatchNorm2d(1)\n",
        "        \n",
        "        self.relu = torch.nn.ReLU()\n",
        "        \n",
        "        self.maxpool = torch.nn.MaxPool2d(kernel_size=2)\n",
        "        \n",
        "        self.conv1 = torch.nn.Sequential(\n",
        "            torch.nn.Conv2d(in_channels=1, out_channels=32, kernel_size=3),\n",
        "            self.relu,\n",
        "            self.maxpool,\n",
        "        )\n",
        "        self.batch_norm2 = torch.nn.BatchNorm2d(32)\n",
        "\n",
        "        self.conv2 = torch.nn.Sequential(\n",
        "            torch.nn.Conv2d(in_channels=32, out_channels=64, kernel_size=3),\n",
        "            self.relu,\n",
        "            self.maxpool,\n",
        "        )\n",
        "        \n",
        "        self.linear1 = torch.nn.Linear(in_features=64 * 5 * 5, out_features=128)\n",
        "        self.linear2 = torch.nn.Linear(in_features=128, out_features=64)\n",
        "        \n",
        "        self.output = torch.nn.Linear(in_features=64, out_features=10)\n",
        "        \n",
        "        self.dropout = torch.nn.Dropout(p=dropout)\n",
        "        \n",
        "        # --------------\n",
        "        self.loss_func = torch.nn.CrossEntropyLoss()\n",
        "        self.targets = torch.Tensor()\n",
        "        self.preds = torch.Tensor()\n",
        "\n",
        "    def _forward(self, x):\n",
        "        # runs the neural network\n",
        "        # TODO:\n",
        "        # Your code here\n",
        "        # --------------\n",
        "        x = self.batch_norm1(x)\n",
        "        x = self.conv1(x)\n",
        "        \n",
        "        x = self.batch_norm2(x)\n",
        "        x = self.conv2(x)\n",
        "        \n",
        "        x = x.view(x.size(0), -1)\n",
        "        x = self.relu(self.linear1(x))\n",
        "        x = self.dropout(x)\n",
        "        x = self.relu(self.linear2(x))\n",
        "        \n",
        "        return self.output(x)\n",
        "        # --------------\n",
        "\n",
        "    def forward(self, images, target=None):\n",
        "        # images ~ (batch size, num channels, height, width)\n",
        "        # target ~ (batch size)\n",
        "        # output ~ (batch size, num classes)\n",
        "        output = self._forward(images)\n",
        "\n",
        "        # get accuracy score and save it to self.accuracy\n",
        "        if target is not None:\n",
        "            loss = self.loss_func(output, target)\n",
        "\n",
        "            self.targets = torch.cat((self.targets, target.cpu()), 0)\n",
        "            pred = torch.argmax(output, dim=-1)\n",
        "            self.preds = torch.cat((self.preds, pred.cpu()), 0)\n",
        "            self.accuracy = accuracy(self.preds.long(), self.targets.long())\n",
        "\n",
        "        return loss\n",
        "\n",
        "    def get_accuracy(self, reset=False):\n",
        "        # return accuracy by all values till now\n",
        "        if reset:\n",
        "            self.targets = torch.Tensor()\n",
        "            self.preds = torch.Tensor()\n",
        "        return self.accuracy"
      ]
    },
    {
      "cell_type": "markdown",
      "metadata": {
        "id": "zRuVz6TXFANc"
      },
      "source": [
        "### Гиперпараметры"
      ]
    },
    {
      "cell_type": "code",
      "execution_count": 32,
      "metadata": {
        "id": "6xmAPz91FAZb"
      },
      "outputs": [],
      "source": [
        "LossInfo = namedtuple(\n",
        "    \"LossInfo\",\n",
        "    [\"full_train_losses\", \"train_epoch_losses\", \"eval_epoch_losses\"]\n",
        ")\n",
        "EPOCHS = 10\n",
        "LR = 0.001"
      ]
    },
    {
      "cell_type": "markdown",
      "metadata": {
        "id": "MkLsRtR2-U6d"
      },
      "source": [
        "### Тренировочные циклы (PyTorch)\n",
        "\n",
        "Здесь нам надо будет объявить функции `train_epoch`, `validate`, `fit`.\n",
        "Структура, напомним, выглядит, в упрощенном виде, так:\n",
        "```\n",
        "def train_epoch():\n",
        "    for batch in train_loader:\n",
        "        train_model_on_batch()\n",
        "def validate():\n",
        "    for batch in val_loader:\n",
        "        validate_model_on_batch()\n",
        "def fit():\n",
        "    for epoch in range(1, num_epochs):\n",
        "        train_epoch()\n",
        "        validate()\n",
        "```\n",
        "Но на деле это все намного сложнее:"
      ]
    },
    {
      "cell_type": "code",
      "execution_count": 33,
      "metadata": {
        "id": "EKZRgiLPKlaz"
      },
      "outputs": [],
      "source": [
        "def train_epoch(\n",
        "        model,\n",
        "        data_loader,\n",
        "        optimizer,\n",
        "        return_losses=False,\n",
        "        device=\"cuda:0\",\n",
        "):\n",
        "    model = model.train()\n",
        "    total_loss = 0\n",
        "    num_batches = 0\n",
        "    all_losses = []\n",
        "    with tqdm(total=len(data_loader), file=sys.stdout) as prbar:\n",
        "        for batch in data_loader:\n",
        "            # move Batch to GPU\n",
        "            batch = [x.to(device=device) for x in batch]\n",
        "            loss = model(*batch)\n",
        "            # update weights\n",
        "            loss.backward()\n",
        "            optimizer.step()\n",
        "            optimizer.zero_grad()\n",
        "            # update description for tqdm\n",
        "            accuracy = model.get_accuracy()\n",
        "            prbar.set_description(\n",
        "                f\"Loss: {round(loss.item(), 4)} \"\n",
        "                f\"Accuracy: {round(accuracy.item() * 100, 4)}\"\n",
        "            )\n",
        "            prbar.update(1)\n",
        "            total_loss += loss.item()\n",
        "            num_batches += 1\n",
        "            all_losses.append(loss.detach().item())\n",
        "    acc = model.get_accuracy(reset=True)\n",
        "    metrics = {\"loss\": total_loss / num_batches, \"accuracy\": acc}\n",
        "    if return_losses:\n",
        "        return metrics, all_losses\n",
        "    else:\n",
        "        return metrics\n",
        "\n",
        "\n",
        "def validate(model, data_loader, device=\"cuda:0\"):\n",
        "    model = model.eval()\n",
        "    total_loss = 0\n",
        "    num_batches = 0\n",
        "    with tqdm(total=len(data_loader), file=sys.stdout) as prbar:\n",
        "        for batch in data_loader:\n",
        "            batch = [x.to(device=device) for x in batch]\n",
        "            loss = model(*batch)\n",
        "            accuracy = model.get_accuracy()\n",
        "            prbar.set_description(\n",
        "                f\"Loss: {round(loss.item(), 4)} \"\n",
        "                f\"Accuracy: {round(accuracy.item() * 100, 4)}\"\n",
        "            )\n",
        "            prbar.update(1)\n",
        "            total_loss += loss.item()\n",
        "            num_batches += 1\n",
        "    acc = model.get_accuracy(reset=True)\n",
        "    metrics = {\"loss\": total_loss / num_batches, \"accuracy\": acc}\n",
        "    return metrics"
      ]
    },
    {
      "cell_type": "code",
      "execution_count": 34,
      "metadata": {
        "id": "KmOlOzBnKla2"
      },
      "outputs": [],
      "source": [
        "def fit(\n",
        "        model,\n",
        "        epochs,\n",
        "        train_data_loader,\n",
        "        validation_data_loader,\n",
        "        optimizer,\n",
        "        scheduler=None,\n",
        "        device=\"cuda:0\"\n",
        "):\n",
        "    all_train_losses = []\n",
        "    epoch_train_losses = []\n",
        "    epoch_eval_losses = []\n",
        "    for epoch in range(epochs):\n",
        "        # construct iterators\n",
        "        train_iterator = iter(train_data_loader)\n",
        "        validation_iterator = iter(validation_data_loader)\n",
        "        # train step\n",
        "        print(f\"Train Epoch: {epoch}\")\n",
        "        train_metrics, one_epoch_train_losses = train_epoch(\n",
        "            model=model,\n",
        "            data_loader=train_iterator,\n",
        "            optimizer=optimizer,\n",
        "            return_losses=True,\n",
        "            device=device\n",
        "        )\n",
        "        # save train losses\n",
        "        all_train_losses.extend(one_epoch_train_losses)\n",
        "        epoch_train_losses.append(train_metrics[\"loss\"])\n",
        "        # eval step\n",
        "        print(f\"Validation Epoch: {epoch}\")\n",
        "        with torch.no_grad():\n",
        "            validation_metrics = validate(\n",
        "                model=model,\n",
        "                data_loader=validation_iterator,\n",
        "                device=device\n",
        "            )\n",
        "        # save eval losses\n",
        "        epoch_eval_losses.append(validation_metrics[\"loss\"])\n",
        "        # scheduler step\n",
        "        if scheduler:\n",
        "            scheduler.step()\n",
        "    return LossInfo(all_train_losses, epoch_train_losses, epoch_eval_losses)"
      ]
    },
    {
      "cell_type": "code",
      "execution_count": 35,
      "metadata": {
        "colab": {
          "base_uri": "https://localhost:8080/"
        },
        "id": "SanI3hS6JQrL",
        "outputId": "55ed8a88-5f16-409c-e7bc-0ada0a532d61"
      },
      "outputs": [
        {
          "output_type": "stream",
          "name": "stderr",
          "text": [
            "/usr/local/lib/python3.7/dist-packages/torch/utils/data/dataloader.py:566: UserWarning: This DataLoader will create 4 worker processes in total. Our suggested max number of worker in current system is 2, which is smaller than what this DataLoader is going to create. Please be aware that excessive worker creation might get DataLoader running slow or even freeze, lower the worker number to avoid potential slowness/freeze if necessary.\n",
            "  cpuset_checked))\n"
          ]
        },
        {
          "output_type": "stream",
          "name": "stdout",
          "text": [
            "Train Epoch: 0\n",
            "Loss: 2.1561 Accuracy: 17.4217: 100%|██████████| 469/469 [00:12<00:00, 36.78it/s]\n",
            "Validation Epoch: 0\n",
            "Loss: 2.1377 Accuracy: 34.9: 100%|██████████| 79/79 [00:01<00:00, 57.86it/s]\n"
          ]
        }
      ],
      "source": [
        "# проверим, что всё работает (±1 минута на гпу):\n",
        "model = SimpleNet().to(device)\n",
        "_ = fit(\n",
        "    model=model,\n",
        "    epochs=1,\n",
        "    train_data_loader=train_dataloader,\n",
        "    validation_data_loader=val_dataloader,\n",
        "    optimizer=torch.optim.SGD(model.parameters(), lr=LR),\n",
        "    device=device\n",
        ")"
      ]
    },
    {
      "cell_type": "markdown",
      "metadata": {
        "id": "3b0XCReZ4w0W"
      },
      "source": [
        "### Тренировочные циклы (Lightning)\n",
        "\n",
        "Здесь будет немного другая структура.\n",
        "\n",
        "1) Создается 1 класс отнаследованный от `pl.LightningModule`. В нем описывается сама модель, необходимые функции тренировчного и валидационного шага.\n",
        "\n",
        "2) Создается объект класса `pl.Trainer` с параметрами (напр. номер гпу, кол-во эпох, град. клиппинг и так далее) дока [тут](https://pytorch-lightning.readthedocs.io/en/latest/api/pytorch_lightning.trainer.trainer.Trainer.html?highlight=trainer) или [тут](https://pytorch-lightning.readthedocs.io/en/latest/common/trainer.html?highlight=trainer#trainer-flags).\n",
        "\n",
        "3) Вызывается `trainer.fit(model, train_loader, val_loader)`.\n",
        "\n",
        "\n",
        "```\n",
        "class MyModule(pl.LightningModule):\n",
        "    def init():\n",
        "        init_model()\n",
        "    def forward():\n",
        "        forward_model()\n",
        "    def training_step():\n",
        "        make_1_training_step()\n",
        "    def validation_step():\n",
        "        make_1_validation_step()\n",
        "\n",
        "trainer = pl.Trainer(gpus=1, max_epochs=10)\n",
        "trainer.fit(model, train_loader, val_loader)\n",
        "```\n",
        "Поскольку у нас уже есть модель `SimpleNet`, то исправлять нам много не надо."
      ]
    },
    {
      "cell_type": "code",
      "execution_count": 36,
      "metadata": {
        "id": "XqO3RxM24urH"
      },
      "outputs": [],
      "source": [
        "# 1) create a LightningModule\n",
        "class SimpleModule(pl.LightningModule):\n",
        "    def __init__(self, model, learning_rate):\n",
        "        super().__init__()\n",
        "        self.model = model\n",
        "        self.learning_rate = learning_rate\n",
        "\n",
        "    def forward(self, x):\n",
        "        result = self.model(x)\n",
        "        return result\n",
        "\n",
        "    def configure_optimizers(self):\n",
        "        optimizer = torch.optim.Adam(self.parameters(), lr=self.learning_rate)\n",
        "        return optimizer\n",
        "\n",
        "    def training_step(self, train_batch, batch_idx):\n",
        "        images, target = train_batch\n",
        "        loss = self.model(images, target)\n",
        "        self.log(\"train_loss\", loss, prog_bar=True)  # сохраняет логи в папку, но можно несложно добавить wandb\n",
        "        return loss\n",
        "\n",
        "    def validation_step(self, val_batch, batch_idx):\n",
        "        images, target = val_batch\n",
        "        loss = self.model(images, target)\n",
        "        self.log(\"val_loss\", loss, prog_bar=True)"
      ]
    },
    {
      "cell_type": "code",
      "execution_count": 37,
      "metadata": {
        "colab": {
          "base_uri": "https://localhost:8080/",
          "height": 392,
          "referenced_widgets": [
            "1ffb73cad0d040a7a22d121996d7c491",
            "e5a907dafded4258aa4a3dda44410e99",
            "a8c7bea1521746c080e204ee0c52cbd7",
            "77ddb7019fb742d7bbd9615cb1f17857",
            "4c7e7a46798743ca80c678ee7aa03886",
            "6e0d3fc282e54821b47e41e0001dc3f1",
            "5364871a6b044e56a3594d54060c17f0",
            "bbb5b73a24c14000bfa9bb6d04723d1a",
            "d15fbba40ed34a6088a5140c0fa8d118",
            "733b63f61c7e460fb13d1007ad3695dd",
            "ea9fca0e9e244a199744924e746587ba",
            "62413851e2814e94a798a824945826f1",
            "867e50b991bb4e44bc2f257d7bfc2a11",
            "baded150912d449fb7df4b44dd028a89",
            "7177b8fc92c3498b9f0f5f86d81a1cba",
            "206db45ae61745a19c134b1ff2604b0a",
            "18919d9c470847398b6f4da673be5918",
            "0fc5c0d1529147099d359c5dd9e05d25",
            "c46ad21fa7434ab69cc5a80ff0d72c9a",
            "84b2054ec70e40299639a2328d239070",
            "92ed6a48d2a2429aba068f1c0b2e3dbb",
            "53cbdd2ca4844ab3a0832d7305308e28",
            "adfb3a1ab1894882b633f5a6416e32b6",
            "6da9e9e5f545433f98b08193c584b649",
            "38a5ee8c2ebc4bfdb47ed138d122c581",
            "07aad56bc30f497b88f104a7ae5b788a",
            "a7695af52029481abeacde3aa1474895",
            "a6b0f7df17e14d6881191d05ef3b69e1",
            "a9a1863c618b48d09ad790573cc6739b",
            "ac52a0f14f2a4c8791bf0dcdd77c9f45",
            "98f8023a3b0b4202b525221ad46eaf9f",
            "932bfc88afc7490b86f0c5bb18b42576",
            "8f8ce97d455347219ac4051937695c64"
          ]
        },
        "id": "Ihtd_7Qv-rVA",
        "outputId": "ec66cf9f-816a-406c-918b-58ab5e89b19d"
      },
      "outputs": [
        {
          "output_type": "stream",
          "name": "stderr",
          "text": [
            "INFO:pytorch_lightning.utilities.rank_zero:GPU available: True (cuda), used: False\n",
            "INFO:pytorch_lightning.utilities.rank_zero:TPU available: False, using: 0 TPU cores\n",
            "INFO:pytorch_lightning.utilities.rank_zero:IPU available: False, using: 0 IPUs\n",
            "INFO:pytorch_lightning.utilities.rank_zero:HPU available: False, using: 0 HPUs\n",
            "/usr/local/lib/python3.7/dist-packages/pytorch_lightning/trainer/trainer.py:1767: PossibleUserWarning: GPU available but not used. Set `accelerator` and `devices` using `Trainer(accelerator='gpu', devices=1)`.\n",
            "  category=PossibleUserWarning,\n",
            "WARNING:pytorch_lightning.loggers.tensorboard:Missing logger folder: /content/lightning_logs\n",
            "INFO:pytorch_lightning.callbacks.model_summary:\n",
            "  | Name  | Type      | Params\n",
            "------------------------------------\n",
            "0 | model | SimpleNet | 232 K \n",
            "------------------------------------\n",
            "232 K     Trainable params\n",
            "0         Non-trainable params\n",
            "232 K     Total params\n",
            "0.931     Total estimated model params size (MB)\n"
          ]
        },
        {
          "output_type": "display_data",
          "data": {
            "text/plain": [
              "Sanity Checking: 0it [00:00, ?it/s]"
            ],
            "application/vnd.jupyter.widget-view+json": {
              "version_major": 2,
              "version_minor": 0,
              "model_id": "1ffb73cad0d040a7a22d121996d7c491"
            }
          },
          "metadata": {}
        },
        {
          "output_type": "display_data",
          "data": {
            "text/plain": [
              "Training: 0it [00:00, ?it/s]"
            ],
            "application/vnd.jupyter.widget-view+json": {
              "version_major": 2,
              "version_minor": 0,
              "model_id": "62413851e2814e94a798a824945826f1"
            }
          },
          "metadata": {}
        },
        {
          "output_type": "display_data",
          "data": {
            "text/plain": [
              "Validation: 0it [00:00, ?it/s]"
            ],
            "application/vnd.jupyter.widget-view+json": {
              "version_major": 2,
              "version_minor": 0,
              "model_id": "adfb3a1ab1894882b633f5a6416e32b6"
            }
          },
          "metadata": {}
        },
        {
          "output_type": "stream",
          "name": "stderr",
          "text": [
            "/usr/local/lib/python3.7/dist-packages/torch/utils/data/dataloader.py:566: UserWarning: This DataLoader will create 4 worker processes in total. Our suggested max number of worker in current system is 2, which is smaller than what this DataLoader is going to create. Please be aware that excessive worker creation might get DataLoader running slow or even freeze, lower the worker number to avoid potential slowness/freeze if necessary.\n",
            "  cpuset_checked))\n",
            "INFO:pytorch_lightning.utilities.rank_zero:`Trainer.fit` stopped: `max_epochs=1` reached.\n"
          ]
        }
      ],
      "source": [
        "# 2) create module\n",
        "\n",
        "model = SimpleNet().to(device)\n",
        "module = SimpleModule(\n",
        "    model,\n",
        "    learning_rate=LR\n",
        ")\n",
        "\n",
        "# 3) create Trainer and train (±30 seconds on gpu)\n",
        "trainer = pl.Trainer(\n",
        "    accelerator=\"cpu\",\n",
        "    max_epochs=1\n",
        ")\n",
        "trainer.fit(module, train_dataloader, val_dataloader)\n",
        "\n",
        "# 3.5) we can also find best learning rate like this: https://pytorch-lightning.readthedocs.io/en/1.4.5/advanced/lr_finder.html\n",
        "# trainer = pl.Trainer(accelerator=\"gpu\", max_epochs=2, auto_lr_find=True)    \n",
        "# trainer.tune(module, train_dataloader, eval_dataloader)\n",
        "# trainer.fit(module, train_dataloader, eval_dataloader)"
      ]
    },
    {
      "cell_type": "markdown",
      "metadata": {
        "id": "XThjhAsA-pxW"
      },
      "source": [
        "Обратите внимание **насколько** поведение `trainer.fit()` сильно похоже на написанную нами ранее функцию `fit()`\n",
        "\n",
        "\n",
        "Заметьте также, что на Lightning мы:\n",
        "1.   Не описывали тренировочный цикл ни по эпохам, ни по батчам\n",
        "2.   Не рисковали забыть zero_grad, .backward()\n",
        "3.   Не переносили ни модель, ни данные на GPU\n",
        "4.   Получили всякие приколы типа auto_lr_find \n",
        "5.   Сохранили возможность использования многих тонкостей **PyTorch** типа [schedulers](https://pytorch-lightning.readthedocs.io/en/stable/common/optimization.html), логирование через [wandb](https://docs.wandb.ai/guides/integrations/lightning) и так далее"
      ]
    },
    {
      "cell_type": "markdown",
      "metadata": {
        "id": "VTnyRAFB8266"
      },
      "source": [
        "## Сравнением работу разных оптимизаторов\n",
        "\n",
        "### SGD"
      ]
    },
    {
      "cell_type": "code",
      "execution_count": 38,
      "metadata": {
        "colab": {
          "base_uri": "https://localhost:8080/"
        },
        "id": "Xe-wjJqEXzOY",
        "outputId": "4622a2e7-f327-4a46-cf21-bfe6e043e44e"
      },
      "outputs": [
        {
          "output_type": "stream",
          "name": "stdout",
          "text": [
            "Train Epoch: 0\n",
            "Loss: 2.1697 Accuracy: 18.9317: 100%|██████████| 469/469 [00:12<00:00, 38.73it/s]\n",
            "Validation Epoch: 0\n",
            "Loss: 2.1563 Accuracy: 31.07: 100%|██████████| 79/79 [00:01<00:00, 55.86it/s]\n",
            "Train Epoch: 1\n",
            "Loss: 1.8936 Accuracy: 36.275: 100%|██████████| 469/469 [00:12<00:00, 37.81it/s]\n",
            "Validation Epoch: 1\n",
            "Loss: 1.822 Accuracy: 51.94: 100%|██████████| 79/79 [00:01<00:00, 56.21it/s]\n",
            "Train Epoch: 2\n",
            "Loss: 1.4307 Accuracy: 51.1717: 100%|██████████| 469/469 [00:12<00:00, 38.02it/s]\n",
            "Validation Epoch: 2\n",
            "Loss: 1.2142 Accuracy: 64.19: 100%|██████████| 79/79 [00:01<00:00, 56.55it/s]\n",
            "Train Epoch: 3\n",
            "Loss: 1.2168 Accuracy: 59.535: 100%|██████████| 469/469 [00:12<00:00, 37.41it/s]\n",
            "Validation Epoch: 3\n",
            "Loss: 0.8374 Accuracy: 68.54: 100%|██████████| 79/79 [00:01<00:00, 56.55it/s]\n",
            "Train Epoch: 4\n",
            "Loss: 1.0385 Accuracy: 63.6683: 100%|██████████| 469/469 [00:13<00:00, 34.66it/s]\n",
            "Validation Epoch: 4\n",
            "Loss: 0.6608 Accuracy: 70.2: 100%|██████████| 79/79 [00:01<00:00, 57.14it/s]\n",
            "Train Epoch: 5\n",
            "Loss: 1.0057 Accuracy: 67.0567: 100%|██████████| 469/469 [00:12<00:00, 37.83it/s]\n",
            "Validation Epoch: 5\n",
            "Loss: 0.5707 Accuracy: 71.83: 100%|██████████| 79/79 [00:01<00:00, 53.66it/s]\n",
            "Train Epoch: 6\n",
            "Loss: 0.7594 Accuracy: 69.4483: 100%|██████████| 469/469 [00:12<00:00, 37.93it/s]\n",
            "Validation Epoch: 6\n",
            "Loss: 0.5187 Accuracy: 73.03: 100%|██████████| 79/79 [00:01<00:00, 55.53it/s]\n",
            "Train Epoch: 7\n",
            "Loss: 0.7432 Accuracy: 71.1067: 100%|██████████| 469/469 [00:12<00:00, 37.61it/s]\n",
            "Validation Epoch: 7\n",
            "Loss: 0.4775 Accuracy: 73.98: 100%|██████████| 79/79 [00:01<00:00, 56.56it/s]\n",
            "Train Epoch: 8\n",
            "Loss: 0.8369 Accuracy: 72.4883: 100%|██████████| 469/469 [00:12<00:00, 37.93it/s]\n",
            "Validation Epoch: 8\n",
            "Loss: 0.4511 Accuracy: 74.58: 100%|██████████| 79/79 [00:01<00:00, 55.00it/s]\n",
            "Train Epoch: 9\n",
            "Loss: 0.5385 Accuracy: 73.5683: 100%|██████████| 469/469 [00:12<00:00, 37.91it/s]\n",
            "Validation Epoch: 9\n",
            "Loss: 0.4275 Accuracy: 75.34: 100%|██████████| 79/79 [00:01<00:00, 53.55it/s]\n"
          ]
        }
      ],
      "source": [
        "model = SimpleNet().to(device=device)\n",
        "sgd_loss_info = fit(\n",
        "    model=model,\n",
        "    epochs=EPOCHS,\n",
        "    train_data_loader=train_dataloader,\n",
        "    validation_data_loader=val_dataloader,\n",
        "    optimizer=torch.optim.SGD(model.parameters(), lr=LR),\n",
        "    device=device\n",
        ")"
      ]
    },
    {
      "cell_type": "markdown",
      "metadata": {
        "id": "XNsHDEOuX_I8"
      },
      "source": [
        "### SGD with Momentum"
      ]
    },
    {
      "cell_type": "code",
      "execution_count": 39,
      "metadata": {
        "colab": {
          "base_uri": "https://localhost:8080/"
        },
        "id": "WETr80TZXo1Z",
        "outputId": "ff0115d4-d6ee-4d82-c0d2-00a14f07bec4"
      },
      "outputs": [
        {
          "output_type": "stream",
          "name": "stdout",
          "text": [
            "Train Epoch: 0\n",
            "Loss: 0.6262 Accuracy: 56.64: 100%|██████████| 469/469 [00:12<00:00, 37.64it/s]\n",
            "Validation Epoch: 0\n",
            "Loss: 0.5094 Accuracy: 75.72: 100%|██████████| 79/79 [00:01<00:00, 54.75it/s]\n",
            "Train Epoch: 1\n",
            "Loss: 0.6215 Accuracy: 76.455: 100%|██████████| 469/469 [00:12<00:00, 37.94it/s]\n",
            "Validation Epoch: 1\n",
            "Loss: 0.3308 Accuracy: 79.19: 100%|██████████| 79/79 [00:01<00:00, 55.80it/s]\n",
            "Train Epoch: 2\n",
            "Loss: 0.4583 Accuracy: 80.0583: 100%|██████████| 469/469 [00:12<00:00, 37.59it/s]\n",
            "Validation Epoch: 2\n",
            "Loss: 0.2643 Accuracy: 81.62: 100%|██████████| 79/79 [00:01<00:00, 55.45it/s]\n",
            "Train Epoch: 3\n",
            "Loss: 0.5923 Accuracy: 82.275: 100%|██████████| 469/469 [00:12<00:00, 37.71it/s]\n",
            "Validation Epoch: 3\n",
            "Loss: 0.2155 Accuracy: 83.83: 100%|██████████| 79/79 [00:01<00:00, 54.10it/s]\n",
            "Train Epoch: 4\n",
            "Loss: 0.4482 Accuracy: 84.11: 100%|██████████| 469/469 [00:12<00:00, 37.42it/s]\n",
            "Validation Epoch: 4\n",
            "Loss: 0.1513 Accuracy: 84.93: 100%|██████████| 79/79 [00:01<00:00, 56.06it/s]\n",
            "Train Epoch: 5\n",
            "Loss: 0.4141 Accuracy: 85.1683: 100%|██████████| 469/469 [00:12<00:00, 37.60it/s]\n",
            "Validation Epoch: 5\n",
            "Loss: 0.1393 Accuracy: 85.79: 100%|██████████| 79/79 [00:01<00:00, 56.02it/s]\n",
            "Train Epoch: 6\n",
            "Loss: 0.3977 Accuracy: 86.1033: 100%|██████████| 469/469 [00:12<00:00, 37.57it/s]\n",
            "Validation Epoch: 6\n",
            "Loss: 0.1218 Accuracy: 86.6: 100%|██████████| 79/79 [00:01<00:00, 54.32it/s]\n",
            "Train Epoch: 7\n",
            "Loss: 0.3433 Accuracy: 86.7117: 100%|██████████| 469/469 [00:13<00:00, 34.29it/s]\n",
            "Validation Epoch: 7\n",
            "Loss: 0.1319 Accuracy: 86.98: 100%|██████████| 79/79 [00:01<00:00, 53.14it/s]\n",
            "Train Epoch: 8\n",
            "Loss: 0.3433 Accuracy: 87.215: 100%|██████████| 469/469 [00:12<00:00, 36.90it/s]\n",
            "Validation Epoch: 8\n",
            "Loss: 0.1145 Accuracy: 87.5: 100%|██████████| 79/79 [00:01<00:00, 55.20it/s]\n",
            "Train Epoch: 9\n",
            "Loss: 0.2284 Accuracy: 87.6667: 100%|██████████| 469/469 [00:12<00:00, 37.47it/s]\n",
            "Validation Epoch: 9\n",
            "Loss: 0.1033 Accuracy: 87.96: 100%|██████████| 79/79 [00:01<00:00, 55.52it/s]\n"
          ]
        }
      ],
      "source": [
        "model = SimpleNet().to(device=device)\n",
        "sgd_momentum_loss_info = fit(\n",
        "    model=model,\n",
        "    epochs=EPOCHS,\n",
        "    train_data_loader=train_dataloader,\n",
        "    validation_data_loader=val_dataloader,\n",
        "    optimizer=torch.optim.SGD(model.parameters(), momentum=0.9, lr=LR),\n",
        "    device=device\n",
        ")"
      ]
    },
    {
      "cell_type": "markdown",
      "metadata": {
        "id": "ra4g-7ztvBC3"
      },
      "source": [
        "### RMSprop"
      ]
    },
    {
      "cell_type": "code",
      "execution_count": 40,
      "metadata": {
        "colab": {
          "base_uri": "https://localhost:8080/"
        },
        "id": "pP7tS4gsu_7o",
        "outputId": "db82562a-aeda-4647-8dc3-1f19c8fea83e"
      },
      "outputs": [
        {
          "output_type": "stream",
          "name": "stdout",
          "text": [
            "Train Epoch: 0\n",
            "Loss: 0.3885 Accuracy: 79.8667: 100%|██████████| 469/469 [00:12<00:00, 37.44it/s]\n",
            "Validation Epoch: 0\n",
            "Loss: 0.37 Accuracy: 86.13: 100%|██████████| 79/79 [00:01<00:00, 55.06it/s]\n",
            "Train Epoch: 1\n",
            "Loss: 0.2674 Accuracy: 86.9033: 100%|██████████| 469/469 [00:12<00:00, 37.56it/s]\n",
            "Validation Epoch: 1\n",
            "Loss: 0.1612 Accuracy: 88.53: 100%|██████████| 79/79 [00:01<00:00, 55.89it/s]\n",
            "Train Epoch: 2\n",
            "Loss: 0.2597 Accuracy: 88.6517: 100%|██████████| 469/469 [00:12<00:00, 37.51it/s]\n",
            "Validation Epoch: 2\n",
            "Loss: 0.2413 Accuracy: 89.0: 100%|██████████| 79/79 [00:01<00:00, 56.14it/s]\n",
            "Train Epoch: 3\n",
            "Loss: 0.2454 Accuracy: 89.6367: 100%|██████████| 469/469 [00:12<00:00, 37.37it/s]\n",
            "Validation Epoch: 3\n",
            "Loss: 0.1635 Accuracy: 89.44: 100%|██████████| 79/79 [00:01<00:00, 55.16it/s]\n",
            "Train Epoch: 4\n",
            "Loss: 0.2395 Accuracy: 90.38: 100%|██████████| 469/469 [00:12<00:00, 37.03it/s]\n",
            "Validation Epoch: 4\n",
            "Loss: 0.1444 Accuracy: 89.9: 100%|██████████| 79/79 [00:01<00:00, 54.13it/s]\n",
            "Train Epoch: 5\n",
            "Loss: 0.249 Accuracy: 90.9283: 100%|██████████| 469/469 [00:12<00:00, 37.25it/s]\n",
            "Validation Epoch: 5\n",
            "Loss: 0.1872 Accuracy: 89.19: 100%|██████████| 79/79 [00:01<00:00, 55.86it/s]\n",
            "Train Epoch: 6\n",
            "Loss: 0.1814 Accuracy: 91.535: 100%|██████████| 469/469 [00:12<00:00, 37.23it/s]\n",
            "Validation Epoch: 6\n",
            "Loss: 0.188 Accuracy: 91.19: 100%|██████████| 79/79 [00:01<00:00, 54.50it/s]\n",
            "Train Epoch: 7\n",
            "Loss: 0.1968 Accuracy: 91.93: 100%|██████████| 469/469 [00:12<00:00, 37.12it/s]\n",
            "Validation Epoch: 7\n",
            "Loss: 0.167 Accuracy: 90.71: 100%|██████████| 79/79 [00:01<00:00, 55.06it/s]\n",
            "Train Epoch: 8\n",
            "Loss: 0.1195 Accuracy: 92.45: 100%|██████████| 469/469 [00:12<00:00, 36.89it/s]\n",
            "Validation Epoch: 8\n",
            "Loss: 0.1593 Accuracy: 90.86: 100%|██████████| 79/79 [00:01<00:00, 54.92it/s]\n",
            "Train Epoch: 9\n",
            "Loss: 0.3161 Accuracy: 92.6117: 100%|██████████| 469/469 [00:12<00:00, 36.93it/s]\n",
            "Validation Epoch: 9\n",
            "Loss: 0.1439 Accuracy: 90.16: 100%|██████████| 79/79 [00:01<00:00, 55.81it/s]\n"
          ]
        }
      ],
      "source": [
        "model = SimpleNet().to(device=device)\n",
        "rmsprop_loss_info = fit(\n",
        "    model=model,\n",
        "    epochs=EPOCHS,\n",
        "    train_data_loader=train_dataloader,\n",
        "    validation_data_loader=val_dataloader,\n",
        "    optimizer=torch.optim.RMSprop(model.parameters(), lr=LR),\n",
        "    device=device\n",
        ")"
      ]
    },
    {
      "cell_type": "markdown",
      "metadata": {
        "id": "Y1-4TFPaYNFP"
      },
      "source": [
        "### Adam"
      ]
    },
    {
      "cell_type": "code",
      "execution_count": 41,
      "metadata": {
        "colab": {
          "base_uri": "https://localhost:8080/"
        },
        "id": "AgDi8etcYKxL",
        "outputId": "40173539-1ffe-446f-fb7f-35c7a7eb1796"
      },
      "outputs": [
        {
          "output_type": "stream",
          "name": "stdout",
          "text": [
            "Train Epoch: 0\n",
            "Loss: 0.4518 Accuracy: 80.0583: 100%|██████████| 469/469 [00:13<00:00, 33.58it/s]\n",
            "Validation Epoch: 0\n",
            "Loss: 0.1881 Accuracy: 86.62: 100%|██████████| 79/79 [00:01<00:00, 56.68it/s]\n",
            "Train Epoch: 1\n",
            "Loss: 0.2941 Accuracy: 87.135: 100%|██████████| 469/469 [00:12<00:00, 36.76it/s]\n",
            "Validation Epoch: 1\n",
            "Loss: 0.1468 Accuracy: 88.44: 100%|██████████| 79/79 [00:01<00:00, 54.90it/s]\n",
            "Train Epoch: 2\n",
            "Loss: 0.397 Accuracy: 88.9717: 100%|██████████| 469/469 [00:12<00:00, 36.77it/s]\n",
            "Validation Epoch: 2\n",
            "Loss: 0.1465 Accuracy: 88.29: 100%|██████████| 79/79 [00:01<00:00, 54.88it/s]\n",
            "Train Epoch: 3\n",
            "Loss: 0.3973 Accuracy: 90.0217: 100%|██████████| 469/469 [00:12<00:00, 36.89it/s]\n",
            "Validation Epoch: 3\n",
            "Loss: 0.1152 Accuracy: 89.79: 100%|██████████| 79/79 [00:01<00:00, 55.73it/s]\n",
            "Train Epoch: 4\n",
            "Loss: 0.3047 Accuracy: 90.6133: 100%|██████████| 469/469 [00:12<00:00, 36.97it/s]\n",
            "Validation Epoch: 4\n",
            "Loss: 0.1355 Accuracy: 90.38: 100%|██████████| 79/79 [00:01<00:00, 53.91it/s]\n",
            "Train Epoch: 5\n",
            "Loss: 0.1867 Accuracy: 91.345: 100%|██████████| 469/469 [00:12<00:00, 37.02it/s]\n",
            "Validation Epoch: 5\n",
            "Loss: 0.1439 Accuracy: 90.06: 100%|██████████| 79/79 [00:01<00:00, 55.74it/s]\n",
            "Train Epoch: 6\n",
            "Loss: 0.3367 Accuracy: 91.815: 100%|██████████| 469/469 [00:12<00:00, 37.27it/s]\n",
            "Validation Epoch: 6\n",
            "Loss: 0.0563 Accuracy: 90.47: 100%|██████████| 79/79 [00:01<00:00, 55.37it/s]\n",
            "Train Epoch: 7\n",
            "Loss: 0.1738 Accuracy: 92.295: 100%|██████████| 469/469 [00:12<00:00, 37.34it/s]\n",
            "Validation Epoch: 7\n",
            "Loss: 0.1051 Accuracy: 91.12: 100%|██████████| 79/79 [00:01<00:00, 56.10it/s]\n",
            "Train Epoch: 8\n",
            "Loss: 0.2401 Accuracy: 92.71: 100%|██████████| 469/469 [00:12<00:00, 37.03it/s]\n",
            "Validation Epoch: 8\n",
            "Loss: 0.0745 Accuracy: 91.4: 100%|██████████| 79/79 [00:01<00:00, 55.09it/s]\n",
            "Train Epoch: 9\n",
            "Loss: 0.3213 Accuracy: 93.2017: 100%|██████████| 469/469 [00:12<00:00, 36.53it/s]\n",
            "Validation Epoch: 9\n",
            "Loss: 0.0313 Accuracy: 90.67: 100%|██████████| 79/79 [00:01<00:00, 55.47it/s]\n"
          ]
        }
      ],
      "source": [
        "model = SimpleNet().to(device=device)\n",
        "adam_loss_info = fit(\n",
        "    model=model,\n",
        "    epochs=EPOCHS,\n",
        "    train_data_loader=train_dataloader,\n",
        "    validation_data_loader=val_dataloader,\n",
        "    optimizer=torch.optim.Adam(model.parameters(), lr=LR),\n",
        "    device=device\n",
        ")"
      ]
    },
    {
      "cell_type": "markdown",
      "metadata": {
        "id": "2-EKFButKxn6"
      },
      "source": [
        "### Adam + Scheduler"
      ]
    },
    {
      "cell_type": "code",
      "execution_count": 42,
      "metadata": {
        "colab": {
          "base_uri": "https://localhost:8080/"
        },
        "id": "7uWBSiBG5T-A",
        "outputId": "9fc09355-1e1e-42d5-eba5-f3eafd273c7c"
      },
      "outputs": [
        {
          "output_type": "stream",
          "name": "stdout",
          "text": [
            "Train Epoch: 0\n",
            "Loss: 0.2324 Accuracy: 80.4833: 100%|██████████| 469/469 [00:12<00:00, 36.61it/s]\n",
            "Validation Epoch: 0\n",
            "Loss: 0.2121 Accuracy: 86.58: 100%|██████████| 79/79 [00:01<00:00, 55.63it/s]\n",
            "Train Epoch: 1\n",
            "Loss: 0.5389 Accuracy: 87.4933: 100%|██████████| 469/469 [00:12<00:00, 36.95it/s]\n",
            "Validation Epoch: 1\n",
            "Loss: 0.0915 Accuracy: 88.11: 100%|██████████| 79/79 [00:01<00:00, 56.36it/s]\n",
            "Train Epoch: 2\n",
            "Loss: 0.2606 Accuracy: 89.1883: 100%|██████████| 469/469 [00:12<00:00, 37.02it/s]\n",
            "Validation Epoch: 2\n",
            "Loss: 0.1708 Accuracy: 89.99: 100%|██████████| 79/79 [00:01<00:00, 56.62it/s]\n",
            "Train Epoch: 3\n",
            "Loss: 0.3426 Accuracy: 90.06: 100%|██████████| 469/469 [00:13<00:00, 33.65it/s]\n",
            "Validation Epoch: 3\n",
            "Loss: 0.1483 Accuracy: 90.38: 100%|██████████| 79/79 [00:01<00:00, 54.50it/s]\n",
            "Train Epoch: 4\n",
            "Loss: 0.2045 Accuracy: 91.0083: 100%|██████████| 469/469 [00:12<00:00, 36.75it/s]\n",
            "Validation Epoch: 4\n",
            "Loss: 0.1636 Accuracy: 90.41: 100%|██████████| 79/79 [00:01<00:00, 55.55it/s]\n",
            "Train Epoch: 5\n",
            "Loss: 0.1698 Accuracy: 91.7283: 100%|██████████| 469/469 [00:12<00:00, 36.24it/s]\n",
            "Validation Epoch: 5\n",
            "Loss: 0.1814 Accuracy: 91.09: 100%|██████████| 79/79 [00:01<00:00, 56.10it/s]\n",
            "Train Epoch: 6\n",
            "Loss: 0.1619 Accuracy: 92.2583: 100%|██████████| 469/469 [00:12<00:00, 36.92it/s]\n",
            "Validation Epoch: 6\n",
            "Loss: 0.1813 Accuracy: 90.7: 100%|██████████| 79/79 [00:01<00:00, 55.80it/s]\n",
            "Train Epoch: 7\n",
            "Loss: 0.2092 Accuracy: 92.7667: 100%|██████████| 469/469 [00:12<00:00, 36.67it/s]\n",
            "Validation Epoch: 7\n",
            "Loss: 0.1211 Accuracy: 91.37: 100%|██████████| 79/79 [00:01<00:00, 53.51it/s]\n",
            "Train Epoch: 8\n",
            "Loss: 0.188 Accuracy: 93.11: 100%|██████████| 469/469 [00:12<00:00, 36.75it/s]\n",
            "Validation Epoch: 8\n",
            "Loss: 0.1725 Accuracy: 91.33: 100%|██████████| 79/79 [00:01<00:00, 53.90it/s]\n",
            "Train Epoch: 9\n",
            "Loss: 0.2665 Accuracy: 93.4967: 100%|██████████| 469/469 [00:12<00:00, 37.11it/s]\n",
            "Validation Epoch: 9\n",
            "Loss: 0.1313 Accuracy: 91.77: 100%|██████████| 79/79 [00:01<00:00, 56.02it/s]\n"
          ]
        }
      ],
      "source": [
        "model = SimpleNet().to(device=device)\n",
        "lambda_func = lambda epoch: 0.975 ** epoch\n",
        "optimizer = torch.optim.Adam(model.parameters(), lr=LR)\n",
        "scheduler = torch.optim.lr_scheduler.LambdaLR(optimizer, lr_lambda=lambda_func)\n",
        "adam_scheduler_loss_info = fit(\n",
        "    model=model,\n",
        "    epochs=EPOCHS,\n",
        "    train_data_loader=train_dataloader,\n",
        "    validation_data_loader=val_dataloader,\n",
        "    optimizer=optimizer,\n",
        "    scheduler=scheduler,\n",
        "    device=device\n",
        ")"
      ]
    },
    {
      "cell_type": "markdown",
      "metadata": {
        "id": "LVPEOb_I5T-A"
      },
      "source": [
        "На валидации получается значение несколько лучше, чем у просто Adam."
      ]
    },
    {
      "cell_type": "markdown",
      "metadata": {
        "id": "0iVVwKYV5T-A"
      },
      "source": [
        "### Графики падения лосса при разных способах оптимизации"
      ]
    },
    {
      "cell_type": "code",
      "execution_count": 43,
      "metadata": {
        "colab": {
          "base_uri": "https://localhost:8080/",
          "height": 265
        },
        "id": "9HsXUU8y5T-A",
        "outputId": "288e37db-1b72-4be4-f4de-79400aa7c978"
      },
      "outputs": [
        {
          "output_type": "display_data",
          "data": {
            "text/plain": [
              "<Figure size 432x288 with 1 Axes>"
            ],
            "image/png": "[encoded data removed]"
          },
          "metadata": {
            "needs_background": "light"
          }
        }
      ],
      "source": [
        "plt.plot(\n",
        "    np.arange(len(train_dataloader) * 10),\n",
        "    sgd_loss_info.full_train_losses,\n",
        "    label=\"SGD\", c=\"grey\"\n",
        ")\n",
        "plt.plot(\n",
        "    np.arange(len(train_dataloader) * 10),\n",
        "    sgd_momentum_loss_info.full_train_losses,\n",
        "    label=\"SGD Momentum\", c=\"blue\"\n",
        ")\n",
        "plt.plot(\n",
        "    np.arange(len(train_dataloader) * 10),\n",
        "    rmsprop_loss_info.full_train_losses,\n",
        "    label=\"RMSProp\", c=\"green\"\n",
        ")\n",
        "plt.plot(\n",
        "    np.arange(len(train_dataloader) * 10),\n",
        "    adam_loss_info.full_train_losses,\n",
        "    label=\"Adam\", c=\"red\"\n",
        ")\n",
        "plt.plot(\n",
        "    np.arange(len(train_dataloader) * 10),\n",
        "    adam_scheduler_loss_info.full_train_losses,\n",
        "    label=\"Adam+Scheduler\", c=\"black\"\n",
        ")\n",
        "\n",
        "plt.legend()\n",
        "plt.show()"
      ]
    },
    {
      "cell_type": "code",
      "execution_count": 44,
      "metadata": {
        "colab": {
          "base_uri": "https://localhost:8080/",
          "height": 269
        },
        "id": "3XsczR-v5T-A",
        "outputId": "dcb3eae0-1653-49aa-9419-2895546cbd2a"
      },
      "outputs": [
        {
          "output_type": "display_data",
          "data": {
            "text/plain": [
              "<Figure size 432x288 with 1 Axes>"
            ],
            "image/png": "[encoded data removed]"
          },
          "metadata": {
            "needs_background": "light"
          }
        }
      ],
      "source": [
        "plt.plot(\n",
        "    np.arange(10), sgd_loss_info.eval_epoch_losses,\n",
        "    label=\"SGD\", c=\"grey\"\n",
        ")\n",
        "plt.plot(\n",
        "    np.arange(10), sgd_momentum_loss_info.eval_epoch_losses,\n",
        "    label=\"SGD Momentum\", c=\"blue\"\n",
        ")\n",
        "plt.plot(\n",
        "    np.arange(10), rmsprop_loss_info.eval_epoch_losses,\n",
        "    label=\"RMSprop\", c=\"green\"\n",
        ")\n",
        "plt.plot(\n",
        "    np.arange(10), adam_loss_info.eval_epoch_losses,\n",
        "    label=\"Adam\", c=\"red\"\n",
        ")\n",
        "plt.plot(\n",
        "    np.arange(10), adam_scheduler_loss_info.eval_epoch_losses,\n",
        "    label=\"Adam+Scheduler\", c=\"black\"\n",
        ")\n",
        "plt.legend()\n",
        "plt.show()"
      ]
    },
    {
      "cell_type": "code",
      "source": [],
      "metadata": {
        "id": "WWZ3AFRP52IF"
      },
      "execution_count": 44,
      "outputs": []
    }
  ],
  "metadata": {
    "accelerator": "GPU",
    "colab": {
      "collapsed_sections": [],
      "provenance": []
    },
    "kernelspec": {
      "display_name": "Python 3 (ipykernel)",
      "language": "python",
      "name": "python3"
    },
    "language_info": {
      "codemirror_mode": {
        "name": "ipython",
        "version": 3
      },
      "file_extension": ".py",
      "mimetype": "text/x-python",
      "name": "python",
      "nbconvert_exporter": "python",
      "pygments_lexer": "ipython3",
      "version": "3.10.4"
    },
    "widgets": {
      "application/vnd.jupyter.widget-state+json": {
        "c71d1282c2034a2cbd8f824d4650406c": {
          "model_module": "@jupyter-widgets/controls",
          "model_name": "HBoxModel",
          "model_module_version": "1.5.0",
          "state": {
            "_dom_classes": [],
            "_model_module": "@jupyter-widgets/controls",
            "_model_module_version": "1.5.0",
            "_model_name": "HBoxModel",
            "_view_count": null,
            "_view_module": "@jupyter-widgets/controls",
            "_view_module_version": "1.5.0",
            "_view_name": "HBoxView",
            "box_style": "",
            "children": [
              "IPY_MODEL_6aafc293c4524952a80d67768b3e38a8",
              "IPY_MODEL_5220d859fdc04b17b50c4f56e3b966a1",
              "IPY_MODEL_6e96c5146b674a32b47c7c158c9bad32"
            ],
            "layout": "IPY_MODEL_a12799c4e86542a9a59f71ee98a88413"
          }
        },
        "6aafc293c4524952a80d67768b3e38a8": {
          "model_module": "@jupyter-widgets/controls",
          "model_name": "HTMLModel",
          "model_module_version": "1.5.0",
          "state": {
            "_dom_classes": [],
            "_model_module": "@jupyter-widgets/controls",
            "_model_module_version": "1.5.0",
            "_model_name": "HTMLModel",
            "_view_count": null,
            "_view_module": "@jupyter-widgets/controls",
            "_view_module_version": "1.5.0",
            "_view_name": "HTMLView",
            "description": "",
            "description_tooltip": null,
            "layout": "IPY_MODEL_fde5a14a57c34d319a108f858c3d5a78",
            "placeholder": "​",
            "style": "IPY_MODEL_170737353157460d8e40bbc0ca4c00eb",
            "value": "100%"
          }
        },
        "5220d859fdc04b17b50c4f56e3b966a1": {
          "model_module": "@jupyter-widgets/controls",
          "model_name": "FloatProgressModel",
          "model_module_version": "1.5.0",
          "state": {
            "_dom_classes": [],
            "_model_module": "@jupyter-widgets/controls",
            "_model_module_version": "1.5.0",
            "_model_name": "FloatProgressModel",
            "_view_count": null,
            "_view_module": "@jupyter-widgets/controls",
            "_view_module_version": "1.5.0",
            "_view_name": "ProgressView",
            "bar_style": "success",
            "description": "",
            "description_tooltip": null,
            "layout": "IPY_MODEL_004a9730e8184bbdbfc6850a4614ed09",
            "max": 26421880,
            "min": 0,
            "orientation": "horizontal",
            "style": "IPY_MODEL_05a0756971a948a3ab60df5d23476985",
            "value": 26421880
          }
        },
        "6e96c5146b674a32b47c7c158c9bad32": {
          "model_module": "@jupyter-widgets/controls",
          "model_name": "HTMLModel",
          "model_module_version": "1.5.0",
          "state": {
            "_dom_classes": [],
            "_model_module": "@jupyter-widgets/controls",
            "_model_module_version": "1.5.0",
            "_model_name": "HTMLModel",
            "_view_count": null,
            "_view_module": "@jupyter-widgets/controls",
            "_view_module_version": "1.5.0",
            "_view_name": "HTMLView",
            "description": "",
            "description_tooltip": null,
            "layout": "IPY_MODEL_5141fd28a2054444bf67d6a033a5ff9c",
            "placeholder": "​",
            "style": "IPY_MODEL_76556d641a1f4546a6d14e0d84149cef",
            "value": " 26421880/26421880 [00:01&lt;00:00, 30732195.65it/s]"
          }
        },
        "a12799c4e86542a9a59f71ee98a88413": {
          "model_module": "@jupyter-widgets/base",
          "model_name": "LayoutModel",
          "model_module_version": "1.2.0",
          "state": {
            "_model_module": "@jupyter-widgets/base",
            "_model_module_version": "1.2.0",
            "_model_name": "LayoutModel",
            "_view_count": null,
            "_view_module": "@jupyter-widgets/base",
            "_view_module_version": "1.2.0",
            "_view_name": "LayoutView",
            "align_content": null,
            "align_items": null,
            "align_self": null,
            "border": null,
            "bottom": null,
            "display": null,
            "flex": null,
            "flex_flow": null,
            "grid_area": null,
            "grid_auto_columns": null,
            "grid_auto_flow": null,
            "grid_auto_rows": null,
            "grid_column": null,
            "grid_gap": null,
            "grid_row": null,
            "grid_template_areas": null,
            "grid_template_columns": null,
            "grid_template_rows": null,
            "height": null,
            "justify_content": null,
            "justify_items": null,
            "left": null,
            "margin": null,
            "max_height": null,
            "max_width": null,
            "min_height": null,
            "min_width": null,
            "object_fit": null,
            "object_position": null,
            "order": null,
            "overflow": null,
            "overflow_x": null,
            "overflow_y": null,
            "padding": null,
            "right": null,
            "top": null,
            "visibility": null,
            "width": null
          }
        },
        "fde5a14a57c34d319a108f858c3d5a78": {
          "model_module": "@jupyter-widgets/base",
          "model_name": "LayoutModel",
          "model_module_version": "1.2.0",
          "state": {
            "_model_module": "@jupyter-widgets/base",
            "_model_module_version": "1.2.0",
            "_model_name": "LayoutModel",
            "_view_count": null,
            "_view_module": "@jupyter-widgets/base",
            "_view_module_version": "1.2.0",
            "_view_name": "LayoutView",
            "align_content": null,
            "align_items": null,
            "align_self": null,
            "border": null,
            "bottom": null,
            "display": null,
            "flex": null,
            "flex_flow": null,
            "grid_area": null,
            "grid_auto_columns": null,
            "grid_auto_flow": null,
            "grid_auto_rows": null,
            "grid_column": null,
            "grid_gap": null,
            "grid_row": null,
            "grid_template_areas": null,
            "grid_template_columns": null,
            "grid_template_rows": null,
            "height": null,
            "justify_content": null,
            "justify_items": null,
            "left": null,
            "margin": null,
            "max_height": null,
            "max_width": null,
            "min_height": null,
            "min_width": null,
            "object_fit": null,
            "object_position": null,
            "order": null,
            "overflow": null,
            "overflow_x": null,
            "overflow_y": null,
            "padding": null,
            "right": null,
            "top": null,
            "visibility": null,
            "width": null
          }
        },
        "170737353157460d8e40bbc0ca4c00eb": {
          "model_module": "@jupyter-widgets/controls",
          "model_name": "DescriptionStyleModel",
          "model_module_version": "1.5.0",
          "state": {
            "_model_module": "@jupyter-widgets/controls",
            "_model_module_version": "1.5.0",
            "_model_name": "DescriptionStyleModel",
            "_view_count": null,
            "_view_module": "@jupyter-widgets/base",
            "_view_module_version": "1.2.0",
            "_view_name": "StyleView",
            "description_width": ""
          }
        },
        "004a9730e8184bbdbfc6850a4614ed09": {
          "model_module": "@jupyter-widgets/base",
          "model_name": "LayoutModel",
          "model_module_version": "1.2.0",
          "state": {
            "_model_module": "@jupyter-widgets/base",
            "_model_module_version": "1.2.0",
            "_model_name": "LayoutModel",
            "_view_count": null,
            "_view_module": "@jupyter-widgets/base",
            "_view_module_version": "1.2.0",
            "_view_name": "LayoutView",
            "align_content": null,
            "align_items": null,
            "align_self": null,
            "border": null,
            "bottom": null,
            "display": null,
            "flex": null,
            "flex_flow": null,
            "grid_area": null,
            "grid_auto_columns": null,
            "grid_auto_flow": null,
            "grid_auto_rows": null,
            "grid_column": null,
            "grid_gap": null,
            "grid_row": null,
            "grid_template_areas": null,
            "grid_template_columns": null,
            "grid_template_rows": null,
            "height": null,
            "justify_content": null,
            "justify_items": null,
            "left": null,
            "margin": null,
            "max_height": null,
            "max_width": null,
            "min_height": null,
            "min_width": null,
            "object_fit": null,
            "object_position": null,
            "order": null,
            "overflow": null,
            "overflow_x": null,
            "overflow_y": null,
            "padding": null,
            "right": null,
            "top": null,
            "visibility": null,
            "width": null
          }
        },
        "05a0756971a948a3ab60df5d23476985": {
          "model_module": "@jupyter-widgets/controls",
          "model_name": "ProgressStyleModel",
          "model_module_version": "1.5.0",
          "state": {
            "_model_module": "@jupyter-widgets/controls",
            "_model_module_version": "1.5.0",
            "_model_name": "ProgressStyleModel",
            "_view_count": null,
            "_view_module": "@jupyter-widgets/base",
            "_view_module_version": "1.2.0",
            "_view_name": "StyleView",
            "bar_color": null,
            "description_width": ""
          }
        },
        "5141fd28a2054444bf67d6a033a5ff9c": {
          "model_module": "@jupyter-widgets/base",
          "model_name": "LayoutModel",
          "model_module_version": "1.2.0",
          "state": {
            "_model_module": "@jupyter-widgets/base",
            "_model_module_version": "1.2.0",
            "_model_name": "LayoutModel",
            "_view_count": null,
            "_view_module": "@jupyter-widgets/base",
            "_view_module_version": "1.2.0",
            "_view_name": "LayoutView",
            "align_content": null,
            "align_items": null,
            "align_self": null,
            "border": null,
            "bottom": null,
            "display": null,
            "flex": null,
            "flex_flow": null,
            "grid_area": null,
            "grid_auto_columns": null,
            "grid_auto_flow": null,
            "grid_auto_rows": null,
            "grid_column": null,
            "grid_gap": null,
            "grid_row": null,
            "grid_template_areas": null,
            "grid_template_columns": null,
            "grid_template_rows": null,
            "height": null,
            "justify_content": null,
            "justify_items": null,
            "left": null,
            "margin": null,
            "max_height": null,
            "max_width": null,
            "min_height": null,
            "min_width": null,
            "object_fit": null,
            "object_position": null,
            "order": null,
            "overflow": null,
            "overflow_x": null,
            "overflow_y": null,
            "padding": null,
            "right": null,
            "top": null,
            "visibility": null,
            "width": null
          }
        },
        "76556d641a1f4546a6d14e0d84149cef": {
          "model_module": "@jupyter-widgets/controls",
          "model_name": "DescriptionStyleModel",
          "model_module_version": "1.5.0",
          "state": {
            "_model_module": "@jupyter-widgets/controls",
            "_model_module_version": "1.5.0",
            "_model_name": "DescriptionStyleModel",
            "_view_count": null,
            "_view_module": "@jupyter-widgets/base",
            "_view_module_version": "1.2.0",
            "_view_name": "StyleView",
            "description_width": ""
          }
        },
        "9ba20ee8caec4d12919acda4cf26feea": {
          "model_module": "@jupyter-widgets/controls",
          "model_name": "HBoxModel",
          "model_module_version": "1.5.0",
          "state": {
            "_dom_classes": [],
            "_model_module": "@jupyter-widgets/controls",
            "_model_module_version": "1.5.0",
            "_model_name": "HBoxModel",
            "_view_count": null,
            "_view_module": "@jupyter-widgets/controls",
            "_view_module_version": "1.5.0",
            "_view_name": "HBoxView",
            "box_style": "",
            "children": [
              "IPY_MODEL_e64c50868e034f71b9ed7eeb09a4e818",
              "IPY_MODEL_21a4a6f5e22c457195a9a027439ae759",
              "IPY_MODEL_5647b48b0e1143578a438e6e491ddb91"
            ],
            "layout": "IPY_MODEL_75d9b1899e9047cd84b95240dcce694e"
          }
        },
        "e64c50868e034f71b9ed7eeb09a4e818": {
          "model_module": "@jupyter-widgets/controls",
          "model_name": "HTMLModel",
          "model_module_version": "1.5.0",
          "state": {
            "_dom_classes": [],
            "_model_module": "@jupyter-widgets/controls",
            "_model_module_version": "1.5.0",
            "_model_name": "HTMLModel",
            "_view_count": null,
            "_view_module": "@jupyter-widgets/controls",
            "_view_module_version": "1.5.0",
            "_view_name": "HTMLView",
            "description": "",
            "description_tooltip": null,
            "layout": "IPY_MODEL_9dedf7d237d64c54bcabb688cf50a848",
            "placeholder": "​",
            "style": "IPY_MODEL_9922ef022a224c19a9f358114763c3c0",
            "value": "100%"
          }
        },
        "21a4a6f5e22c457195a9a027439ae759": {
          "model_module": "@jupyter-widgets/controls",
          "model_name": "FloatProgressModel",
          "model_module_version": "1.5.0",
          "state": {
            "_dom_classes": [],
            "_model_module": "@jupyter-widgets/controls",
            "_model_module_version": "1.5.0",
            "_model_name": "FloatProgressModel",
            "_view_count": null,
            "_view_module": "@jupyter-widgets/controls",
            "_view_module_version": "1.5.0",
            "_view_name": "ProgressView",
            "bar_style": "success",
            "description": "",
            "description_tooltip": null,
            "layout": "IPY_MODEL_84c33586cf0d45f095fae8f65b305bf1",
            "max": 29515,
            "min": 0,
            "orientation": "horizontal",
            "style": "IPY_MODEL_439e7cf106c84ac0a1d528a11d04c0f1",
            "value": 29515
          }
        },
        "5647b48b0e1143578a438e6e491ddb91": {
          "model_module": "@jupyter-widgets/controls",
          "model_name": "HTMLModel",
          "model_module_version": "1.5.0",
          "state": {
            "_dom_classes": [],
            "_model_module": "@jupyter-widgets/controls",
            "_model_module_version": "1.5.0",
            "_model_name": "HTMLModel",
            "_view_count": null,
            "_view_module": "@jupyter-widgets/controls",
            "_view_module_version": "1.5.0",
            "_view_name": "HTMLView",
            "description": "",
            "description_tooltip": null,
            "layout": "IPY_MODEL_04416c9d94f9422c9992b2664f627866",
            "placeholder": "​",
            "style": "IPY_MODEL_38e7160f6d3d4c0cbeffc4f7aa94a2f5",
            "value": " 29515/29515 [00:00&lt;00:00, 231432.53it/s]"
          }
        },
        "75d9b1899e9047cd84b95240dcce694e": {
          "model_module": "@jupyter-widgets/base",
          "model_name": "LayoutModel",
          "model_module_version": "1.2.0",
          "state": {
            "_model_module": "@jupyter-widgets/base",
            "_model_module_version": "1.2.0",
            "_model_name": "LayoutModel",
            "_view_count": null,
            "_view_module": "@jupyter-widgets/base",
            "_view_module_version": "1.2.0",
            "_view_name": "LayoutView",
            "align_content": null,
            "align_items": null,
            "align_self": null,
            "border": null,
            "bottom": null,
            "display": null,
            "flex": null,
            "flex_flow": null,
            "grid_area": null,
            "grid_auto_columns": null,
            "grid_auto_flow": null,
            "grid_auto_rows": null,
            "grid_column": null,
            "grid_gap": null,
            "grid_row": null,
            "grid_template_areas": null,
            "grid_template_columns": null,
            "grid_template_rows": null,
            "height": null,
            "justify_content": null,
            "justify_items": null,
            "left": null,
            "margin": null,
            "max_height": null,
            "max_width": null,
            "min_height": null,
            "min_width": null,
            "object_fit": null,
            "object_position": null,
            "order": null,
            "overflow": null,
            "overflow_x": null,
            "overflow_y": null,
            "padding": null,
            "right": null,
            "top": null,
            "visibility": null,
            "width": null
          }
        },
        "9dedf7d237d64c54bcabb688cf50a848": {
          "model_module": "@jupyter-widgets/base",
          "model_name": "LayoutModel",
          "model_module_version": "1.2.0",
          "state": {
            "_model_module": "@jupyter-widgets/base",
            "_model_module_version": "1.2.0",
            "_model_name": "LayoutModel",
            "_view_count": null,
            "_view_module": "@jupyter-widgets/base",
            "_view_module_version": "1.2.0",
            "_view_name": "LayoutView",
            "align_content": null,
            "align_items": null,
            "align_self": null,
            "border": null,
            "bottom": null,
            "display": null,
            "flex": null,
            "flex_flow": null,
            "grid_area": null,
            "grid_auto_columns": null,
            "grid_auto_flow": null,
            "grid_auto_rows": null,
            "grid_column": null,
            "grid_gap": null,
            "grid_row": null,
            "grid_template_areas": null,
            "grid_template_columns": null,
            "grid_template_rows": null,
            "height": null,
            "justify_content": null,
            "justify_items": null,
            "left": null,
            "margin": null,
            "max_height": null,
            "max_width": null,
            "min_height": null,
            "min_width": null,
            "object_fit": null,
            "object_position": null,
            "order": null,
            "overflow": null,
            "overflow_x": null,
            "overflow_y": null,
            "padding": null,
            "right": null,
            "top": null,
            "visibility": null,
            "width": null
          }
        },
        "9922ef022a224c19a9f358114763c3c0": {
          "model_module": "@jupyter-widgets/controls",
          "model_name": "DescriptionStyleModel",
          "model_module_version": "1.5.0",
          "state": {
            "_model_module": "@jupyter-widgets/controls",
            "_model_module_version": "1.5.0",
            "_model_name": "DescriptionStyleModel",
            "_view_count": null,
            "_view_module": "@jupyter-widgets/base",
            "_view_module_version": "1.2.0",
            "_view_name": "StyleView",
            "description_width": ""
          }
        },
        "84c33586cf0d45f095fae8f65b305bf1": {
          "model_module": "@jupyter-widgets/base",
          "model_name": "LayoutModel",
          "model_module_version": "1.2.0",
          "state": {
            "_model_module": "@jupyter-widgets/base",
            "_model_module_version": "1.2.0",
            "_model_name": "LayoutModel",
            "_view_count": null,
            "_view_module": "@jupyter-widgets/base",
            "_view_module_version": "1.2.0",
            "_view_name": "LayoutView",
            "align_content": null,
            "align_items": null,
            "align_self": null,
            "border": null,
            "bottom": null,
            "display": null,
            "flex": null,
            "flex_flow": null,
            "grid_area": null,
            "grid_auto_columns": null,
            "grid_auto_flow": null,
            "grid_auto_rows": null,
            "grid_column": null,
            "grid_gap": null,
            "grid_row": null,
            "grid_template_areas": null,
            "grid_template_columns": null,
            "grid_template_rows": null,
            "height": null,
            "justify_content": null,
            "justify_items": null,
            "left": null,
            "margin": null,
            "max_height": null,
            "max_width": null,
            "min_height": null,
            "min_width": null,
            "object_fit": null,
            "object_position": null,
            "order": null,
            "overflow": null,
            "overflow_x": null,
            "overflow_y": null,
            "padding": null,
            "right": null,
            "top": null,
            "visibility": null,
            "width": null
          }
        },
        "439e7cf106c84ac0a1d528a11d04c0f1": {
          "model_module": "@jupyter-widgets/controls",
          "model_name": "ProgressStyleModel",
          "model_module_version": "1.5.0",
          "state": {
            "_model_module": "@jupyter-widgets/controls",
            "_model_module_version": "1.5.0",
            "_model_name": "ProgressStyleModel",
            "_view_count": null,
            "_view_module": "@jupyter-widgets/base",
            "_view_module_version": "1.2.0",
            "_view_name": "StyleView",
            "bar_color": null,
            "description_width": ""
          }
        },
        "04416c9d94f9422c9992b2664f627866": {
          "model_module": "@jupyter-widgets/base",
          "model_name": "LayoutModel",
          "model_module_version": "1.2.0",
          "state": {
            "_model_module": "@jupyter-widgets/base",
            "_model_module_version": "1.2.0",
            "_model_name": "LayoutModel",
            "_view_count": null,
            "_view_module": "@jupyter-widgets/base",
            "_view_module_version": "1.2.0",
            "_view_name": "LayoutView",
            "align_content": null,
            "align_items": null,
            "align_self": null,
            "border": null,
            "bottom": null,
            "display": null,
            "flex": null,
            "flex_flow": null,
            "grid_area": null,
            "grid_auto_columns": null,
            "grid_auto_flow": null,
            "grid_auto_rows": null,
            "grid_column": null,
            "grid_gap": null,
            "grid_row": null,
            "grid_template_areas": null,
            "grid_template_columns": null,
            "grid_template_rows": null,
            "height": null,
            "justify_content": null,
            "justify_items": null,
            "left": null,
            "margin": null,
            "max_height": null,
            "max_width": null,
            "min_height": null,
            "min_width": null,
            "object_fit": null,
            "object_position": null,
            "order": null,
            "overflow": null,
            "overflow_x": null,
            "overflow_y": null,
            "padding": null,
            "right": null,
            "top": null,
            "visibility": null,
            "width": null
          }
        },
        "38e7160f6d3d4c0cbeffc4f7aa94a2f5": {
          "model_module": "@jupyter-widgets/controls",
          "model_name": "DescriptionStyleModel",
          "model_module_version": "1.5.0",
          "state": {
            "_model_module": "@jupyter-widgets/controls",
            "_model_module_version": "1.5.0",
            "_model_name": "DescriptionStyleModel",
            "_view_count": null,
            "_view_module": "@jupyter-widgets/base",
            "_view_module_version": "1.2.0",
            "_view_name": "StyleView",
            "description_width": ""
          }
        },
        "bf1021e8b58e46a99c84f8ea186c5b00": {
          "model_module": "@jupyter-widgets/controls",
          "model_name": "HBoxModel",
          "model_module_version": "1.5.0",
          "state": {
            "_dom_classes": [],
            "_model_module": "@jupyter-widgets/controls",
            "_model_module_version": "1.5.0",
            "_model_name": "HBoxModel",
            "_view_count": null,
            "_view_module": "@jupyter-widgets/controls",
            "_view_module_version": "1.5.0",
            "_view_name": "HBoxView",
            "box_style": "",
            "children": [
              "IPY_MODEL_89abdba1c58f41cbb45ddd2d54661ef3",
              "IPY_MODEL_046cc0c460694c8ca6d78133df7af415",
              "IPY_MODEL_6d6268150313474bb126e7f4d07d9769"
            ],
            "layout": "IPY_MODEL_6b6c3c55990b4488848d6e28d27c730b"
          }
        },
        "89abdba1c58f41cbb45ddd2d54661ef3": {
          "model_module": "@jupyter-widgets/controls",
          "model_name": "HTMLModel",
          "model_module_version": "1.5.0",
          "state": {
            "_dom_classes": [],
            "_model_module": "@jupyter-widgets/controls",
            "_model_module_version": "1.5.0",
            "_model_name": "HTMLModel",
            "_view_count": null,
            "_view_module": "@jupyter-widgets/controls",
            "_view_module_version": "1.5.0",
            "_view_name": "HTMLView",
            "description": "",
            "description_tooltip": null,
            "layout": "IPY_MODEL_d476a221a2ea4dc383bed397bc9ce6cc",
            "placeholder": "​",
            "style": "IPY_MODEL_f0f7fb2b26ba4e63ba77fac96c6ba768",
            "value": "100%"
          }
        },
        "046cc0c460694c8ca6d78133df7af415": {
          "model_module": "@jupyter-widgets/controls",
          "model_name": "FloatProgressModel",
          "model_module_version": "1.5.0",
          "state": {
            "_dom_classes": [],
            "_model_module": "@jupyter-widgets/controls",
            "_model_module_version": "1.5.0",
            "_model_name": "FloatProgressModel",
            "_view_count": null,
            "_view_module": "@jupyter-widgets/controls",
            "_view_module_version": "1.5.0",
            "_view_name": "ProgressView",
            "bar_style": "success",
            "description": "",
            "description_tooltip": null,
            "layout": "IPY_MODEL_f1b9d3ed097d46dfa0df88897c683bc5",
            "max": 4422102,
            "min": 0,
            "orientation": "horizontal",
            "style": "IPY_MODEL_dfedea35668d4c9191efcc2cf469ffab",
            "value": 4422102
          }
        },
        "6d6268150313474bb126e7f4d07d9769": {
          "model_module": "@jupyter-widgets/controls",
          "model_name": "HTMLModel",
          "model_module_version": "1.5.0",
          "state": {
            "_dom_classes": [],
            "_model_module": "@jupyter-widgets/controls",
            "_model_module_version": "1.5.0",
            "_model_name": "HTMLModel",
            "_view_count": null,
            "_view_module": "@jupyter-widgets/controls",
            "_view_module_version": "1.5.0",
            "_view_name": "HTMLView",
            "description": "",
            "description_tooltip": null,
            "layout": "IPY_MODEL_9cbefb474e1c4f7084c611abf865e16e",
            "placeholder": "​",
            "style": "IPY_MODEL_a5c97ba24c6d4f4fb82cfe896d2bb054",
            "value": " 4422102/4422102 [00:00&lt;00:00, 4239961.79it/s]"
          }
        },
        "6b6c3c55990b4488848d6e28d27c730b": {
          "model_module": "@jupyter-widgets/base",
          "model_name": "LayoutModel",
          "model_module_version": "1.2.0",
          "state": {
            "_model_module": "@jupyter-widgets/base",
            "_model_module_version": "1.2.0",
            "_model_name": "LayoutModel",
            "_view_count": null,
            "_view_module": "@jupyter-widgets/base",
            "_view_module_version": "1.2.0",
            "_view_name": "LayoutView",
            "align_content": null,
            "align_items": null,
            "align_self": null,
            "border": null,
            "bottom": null,
            "display": null,
            "flex": null,
            "flex_flow": null,
            "grid_area": null,
            "grid_auto_columns": null,
            "grid_auto_flow": null,
            "grid_auto_rows": null,
            "grid_column": null,
            "grid_gap": null,
            "grid_row": null,
            "grid_template_areas": null,
            "grid_template_columns": null,
            "grid_template_rows": null,
            "height": null,
            "justify_content": null,
            "justify_items": null,
            "left": null,
            "margin": null,
            "max_height": null,
            "max_width": null,
            "min_height": null,
            "min_width": null,
            "object_fit": null,
            "object_position": null,
            "order": null,
            "overflow": null,
            "overflow_x": null,
            "overflow_y": null,
            "padding": null,
            "right": null,
            "top": null,
            "visibility": null,
            "width": null
          }
        },
        "d476a221a2ea4dc383bed397bc9ce6cc": {
          "model_module": "@jupyter-widgets/base",
          "model_name": "LayoutModel",
          "model_module_version": "1.2.0",
          "state": {
            "_model_module": "@jupyter-widgets/base",
            "_model_module_version": "1.2.0",
            "_model_name": "LayoutModel",
            "_view_count": null,
            "_view_module": "@jupyter-widgets/base",
            "_view_module_version": "1.2.0",
            "_view_name": "LayoutView",
            "align_content": null,
            "align_items": null,
            "align_self": null,
            "border": null,
            "bottom": null,
            "display": null,
            "flex": null,
            "flex_flow": null,
            "grid_area": null,
            "grid_auto_columns": null,
            "grid_auto_flow": null,
            "grid_auto_rows": null,
            "grid_column": null,
            "grid_gap": null,
            "grid_row": null,
            "grid_template_areas": null,
            "grid_template_columns": null,
            "grid_template_rows": null,
            "height": null,
            "justify_content": null,
            "justify_items": null,
            "left": null,
            "margin": null,
            "max_height": null,
            "max_width": null,
            "min_height": null,
            "min_width": null,
            "object_fit": null,
            "object_position": null,
            "order": null,
            "overflow": null,
            "overflow_x": null,
            "overflow_y": null,
            "padding": null,
            "right": null,
            "top": null,
            "visibility": null,
            "width": null
          }
        },
        "f0f7fb2b26ba4e63ba77fac96c6ba768": {
          "model_module": "@jupyter-widgets/controls",
          "model_name": "DescriptionStyleModel",
          "model_module_version": "1.5.0",
          "state": {
            "_model_module": "@jupyter-widgets/controls",
            "_model_module_version": "1.5.0",
            "_model_name": "DescriptionStyleModel",
            "_view_count": null,
            "_view_module": "@jupyter-widgets/base",
            "_view_module_version": "1.2.0",
            "_view_name": "StyleView",
            "description_width": ""
          }
        },
        "f1b9d3ed097d46dfa0df88897c683bc5": {
          "model_module": "@jupyter-widgets/base",
          "model_name": "LayoutModel",
          "model_module_version": "1.2.0",
          "state": {
            "_model_module": "@jupyter-widgets/base",
            "_model_module_version": "1.2.0",
            "_model_name": "LayoutModel",
            "_view_count": null,
            "_view_module": "@jupyter-widgets/base",
            "_view_module_version": "1.2.0",
            "_view_name": "LayoutView",
            "align_content": null,
            "align_items": null,
            "align_self": null,
            "border": null,
            "bottom": null,
            "display": null,
            "flex": null,
            "flex_flow": null,
            "grid_area": null,
            "grid_auto_columns": null,
            "grid_auto_flow": null,
            "grid_auto_rows": null,
            "grid_column": null,
            "grid_gap": null,
            "grid_row": null,
            "grid_template_areas": null,
            "grid_template_columns": null,
            "grid_template_rows": null,
            "height": null,
            "justify_content": null,
            "justify_items": null,
            "left": null,
            "margin": null,
            "max_height": null,
            "max_width": null,
            "min_height": null,
            "min_width": null,
            "object_fit": null,
            "object_position": null,
            "order": null,
            "overflow": null,
            "overflow_x": null,
            "overflow_y": null,
            "padding": null,
            "right": null,
            "top": null,
            "visibility": null,
            "width": null
          }
        },
        "dfedea35668d4c9191efcc2cf469ffab": {
          "model_module": "@jupyter-widgets/controls",
          "model_name": "ProgressStyleModel",
          "model_module_version": "1.5.0",
          "state": {
            "_model_module": "@jupyter-widgets/controls",
            "_model_module_version": "1.5.0",
            "_model_name": "ProgressStyleModel",
            "_view_count": null,
            "_view_module": "@jupyter-widgets/base",
            "_view_module_version": "1.2.0",
            "_view_name": "StyleView",
            "bar_color": null,
            "description_width": ""
          }
        },
        "9cbefb474e1c4f7084c611abf865e16e": {
          "model_module": "@jupyter-widgets/base",
          "model_name": "LayoutModel",
          "model_module_version": "1.2.0",
          "state": {
            "_model_module": "@jupyter-widgets/base",
            "_model_module_version": "1.2.0",
            "_model_name": "LayoutModel",
            "_view_count": null,
            "_view_module": "@jupyter-widgets/base",
            "_view_module_version": "1.2.0",
            "_view_name": "LayoutView",
            "align_content": null,
            "align_items": null,
            "align_self": null,
            "border": null,
            "bottom": null,
            "display": null,
            "flex": null,
            "flex_flow": null,
            "grid_area": null,
            "grid_auto_columns": null,
            "grid_auto_flow": null,
            "grid_auto_rows": null,
            "grid_column": null,
            "grid_gap": null,
            "grid_row": null,
            "grid_template_areas": null,
            "grid_template_columns": null,
            "grid_template_rows": null,
            "height": null,
            "justify_content": null,
            "justify_items": null,
            "left": null,
            "margin": null,
            "max_height": null,
            "max_width": null,
            "min_height": null,
            "min_width": null,
            "object_fit": null,
            "object_position": null,
            "order": null,
            "overflow": null,
            "overflow_x": null,
            "overflow_y": null,
            "padding": null,
            "right": null,
            "top": null,
            "visibility": null,
            "width": null
          }
        },
        "a5c97ba24c6d4f4fb82cfe896d2bb054": {
          "model_module": "@jupyter-widgets/controls",
          "model_name": "DescriptionStyleModel",
          "model_module_version": "1.5.0",
          "state": {
            "_model_module": "@jupyter-widgets/controls",
            "_model_module_version": "1.5.0",
            "_model_name": "DescriptionStyleModel",
            "_view_count": null,
            "_view_module": "@jupyter-widgets/base",
            "_view_module_version": "1.2.0",
            "_view_name": "StyleView",
            "description_width": ""
          }
        },
        "1dfbeb5238474b28bf6765edd0370df3": {
          "model_module": "@jupyter-widgets/controls",
          "model_name": "HBoxModel",
          "model_module_version": "1.5.0",
          "state": {
            "_dom_classes": [],
            "_model_module": "@jupyter-widgets/controls",
            "_model_module_version": "1.5.0",
            "_model_name": "HBoxModel",
            "_view_count": null,
            "_view_module": "@jupyter-widgets/controls",
            "_view_module_version": "1.5.0",
            "_view_name": "HBoxView",
            "box_style": "",
            "children": [
              "IPY_MODEL_86988e29b2094d38ba1b21b9d1a4e051",
              "IPY_MODEL_a73b46d8941c418a89ca3602457cf0c2",
              "IPY_MODEL_64d08964aa2347f8ab14cf1eb9d1e6f4"
            ],
            "layout": "IPY_MODEL_0b1f02b5edf849cba15c83c40485ea69"
          }
        },
        "86988e29b2094d38ba1b21b9d1a4e051": {
          "model_module": "@jupyter-widgets/controls",
          "model_name": "HTMLModel",
          "model_module_version": "1.5.0",
          "state": {
            "_dom_classes": [],
            "_model_module": "@jupyter-widgets/controls",
            "_model_module_version": "1.5.0",
            "_model_name": "HTMLModel",
            "_view_count": null,
            "_view_module": "@jupyter-widgets/controls",
            "_view_module_version": "1.5.0",
            "_view_name": "HTMLView",
            "description": "",
            "description_tooltip": null,
            "layout": "IPY_MODEL_e8b2ca6a6b30418fae0a4b3cc9a48382",
            "placeholder": "​",
            "style": "IPY_MODEL_14fa174104354c608435e7e6cf6edab4",
            "value": "100%"
          }
        },
        "a73b46d8941c418a89ca3602457cf0c2": {
          "model_module": "@jupyter-widgets/controls",
          "model_name": "FloatProgressModel",
          "model_module_version": "1.5.0",
          "state": {
            "_dom_classes": [],
            "_model_module": "@jupyter-widgets/controls",
            "_model_module_version": "1.5.0",
            "_model_name": "FloatProgressModel",
            "_view_count": null,
            "_view_module": "@jupyter-widgets/controls",
            "_view_module_version": "1.5.0",
            "_view_name": "ProgressView",
            "bar_style": "success",
            "description": "",
            "description_tooltip": null,
            "layout": "IPY_MODEL_31a890440c22475a962c600cd819b6e7",
            "max": 5148,
            "min": 0,
            "orientation": "horizontal",
            "style": "IPY_MODEL_80b1e61c48104b42a7fed350952f253d",
            "value": 5148
          }
        },
        "64d08964aa2347f8ab14cf1eb9d1e6f4": {
          "model_module": "@jupyter-widgets/controls",
          "model_name": "HTMLModel",
          "model_module_version": "1.5.0",
          "state": {
            "_dom_classes": [],
            "_model_module": "@jupyter-widgets/controls",
            "_model_module_version": "1.5.0",
            "_model_name": "HTMLModel",
            "_view_count": null,
            "_view_module": "@jupyter-widgets/controls",
            "_view_module_version": "1.5.0",
            "_view_name": "HTMLView",
            "description": "",
            "description_tooltip": null,
            "layout": "IPY_MODEL_f2372fbc1665480e96b6ace3c32cf45d",
            "placeholder": "​",
            "style": "IPY_MODEL_2ff06e1ba4ae446a9cf9f753b27a5ba4",
            "value": " 5148/5148 [00:00&lt;00:00, 173905.47it/s]"
          }
        },
        "0b1f02b5edf849cba15c83c40485ea69": {
          "model_module": "@jupyter-widgets/base",
          "model_name": "LayoutModel",
          "model_module_version": "1.2.0",
          "state": {
            "_model_module": "@jupyter-widgets/base",
            "_model_module_version": "1.2.0",
            "_model_name": "LayoutModel",
            "_view_count": null,
            "_view_module": "@jupyter-widgets/base",
            "_view_module_version": "1.2.0",
            "_view_name": "LayoutView",
            "align_content": null,
            "align_items": null,
            "align_self": null,
            "border": null,
            "bottom": null,
            "display": null,
            "flex": null,
            "flex_flow": null,
            "grid_area": null,
            "grid_auto_columns": null,
            "grid_auto_flow": null,
            "grid_auto_rows": null,
            "grid_column": null,
            "grid_gap": null,
            "grid_row": null,
            "grid_template_areas": null,
            "grid_template_columns": null,
            "grid_template_rows": null,
            "height": null,
            "justify_content": null,
            "justify_items": null,
            "left": null,
            "margin": null,
            "max_height": null,
            "max_width": null,
            "min_height": null,
            "min_width": null,
            "object_fit": null,
            "object_position": null,
            "order": null,
            "overflow": null,
            "overflow_x": null,
            "overflow_y": null,
            "padding": null,
            "right": null,
            "top": null,
            "visibility": null,
            "width": null
          }
        },
        "e8b2ca6a6b30418fae0a4b3cc9a48382": {
          "model_module": "@jupyter-widgets/base",
          "model_name": "LayoutModel",
          "model_module_version": "1.2.0",
          "state": {
            "_model_module": "@jupyter-widgets/base",
            "_model_module_version": "1.2.0",
            "_model_name": "LayoutModel",
            "_view_count": null,
            "_view_module": "@jupyter-widgets/base",
            "_view_module_version": "1.2.0",
            "_view_name": "LayoutView",
            "align_content": null,
            "align_items": null,
            "align_self": null,
            "border": null,
            "bottom": null,
            "display": null,
            "flex": null,
            "flex_flow": null,
            "grid_area": null,
            "grid_auto_columns": null,
            "grid_auto_flow": null,
            "grid_auto_rows": null,
            "grid_column": null,
            "grid_gap": null,
            "grid_row": null,
            "grid_template_areas": null,
            "grid_template_columns": null,
            "grid_template_rows": null,
            "height": null,
            "justify_content": null,
            "justify_items": null,
            "left": null,
            "margin": null,
            "max_height": null,
            "max_width": null,
            "min_height": null,
            "min_width": null,
            "object_fit": null,
            "object_position": null,
            "order": null,
            "overflow": null,
            "overflow_x": null,
            "overflow_y": null,
            "padding": null,
            "right": null,
            "top": null,
            "visibility": null,
            "width": null
          }
        },
        "14fa174104354c608435e7e6cf6edab4": {
          "model_module": "@jupyter-widgets/controls",
          "model_name": "DescriptionStyleModel",
          "model_module_version": "1.5.0",
          "state": {
            "_model_module": "@jupyter-widgets/controls",
            "_model_module_version": "1.5.0",
            "_model_name": "DescriptionStyleModel",
            "_view_count": null,
            "_view_module": "@jupyter-widgets/base",
            "_view_module_version": "1.2.0",
            "_view_name": "StyleView",
            "description_width": ""
          }
        },
        "31a890440c22475a962c600cd819b6e7": {
          "model_module": "@jupyter-widgets/base",
          "model_name": "LayoutModel",
          "model_module_version": "1.2.0",
          "state": {
            "_model_module": "@jupyter-widgets/base",
            "_model_module_version": "1.2.0",
            "_model_name": "LayoutModel",
            "_view_count": null,
            "_view_module": "@jupyter-widgets/base",
            "_view_module_version": "1.2.0",
            "_view_name": "LayoutView",
            "align_content": null,
            "align_items": null,
            "align_self": null,
            "border": null,
            "bottom": null,
            "display": null,
            "flex": null,
            "flex_flow": null,
            "grid_area": null,
            "grid_auto_columns": null,
            "grid_auto_flow": null,
            "grid_auto_rows": null,
            "grid_column": null,
            "grid_gap": null,
            "grid_row": null,
            "grid_template_areas": null,
            "grid_template_columns": null,
            "grid_template_rows": null,
            "height": null,
            "justify_content": null,
            "justify_items": null,
            "left": null,
            "margin": null,
            "max_height": null,
            "max_width": null,
            "min_height": null,
            "min_width": null,
            "object_fit": null,
            "object_position": null,
            "order": null,
            "overflow": null,
            "overflow_x": null,
            "overflow_y": null,
            "padding": null,
            "right": null,
            "top": null,
            "visibility": null,
            "width": null
          }
        },
        "80b1e61c48104b42a7fed350952f253d": {
          "model_module": "@jupyter-widgets/controls",
          "model_name": "ProgressStyleModel",
          "model_module_version": "1.5.0",
          "state": {
            "_model_module": "@jupyter-widgets/controls",
            "_model_module_version": "1.5.0",
            "_model_name": "ProgressStyleModel",
            "_view_count": null,
            "_view_module": "@jupyter-widgets/base",
            "_view_module_version": "1.2.0",
            "_view_name": "StyleView",
            "bar_color": null,
            "description_width": ""
          }
        },
        "f2372fbc1665480e96b6ace3c32cf45d": {
          "model_module": "@jupyter-widgets/base",
          "model_name": "LayoutModel",
          "model_module_version": "1.2.0",
          "state": {
            "_model_module": "@jupyter-widgets/base",
            "_model_module_version": "1.2.0",
            "_model_name": "LayoutModel",
            "_view_count": null,
            "_view_module": "@jupyter-widgets/base",
            "_view_module_version": "1.2.0",
            "_view_name": "LayoutView",
            "align_content": null,
            "align_items": null,
            "align_self": null,
            "border": null,
            "bottom": null,
            "display": null,
            "flex": null,
            "flex_flow": null,
            "grid_area": null,
            "grid_auto_columns": null,
            "grid_auto_flow": null,
            "grid_auto_rows": null,
            "grid_column": null,
            "grid_gap": null,
            "grid_row": null,
            "grid_template_areas": null,
            "grid_template_columns": null,
            "grid_template_rows": null,
            "height": null,
            "justify_content": null,
            "justify_items": null,
            "left": null,
            "margin": null,
            "max_height": null,
            "max_width": null,
            "min_height": null,
            "min_width": null,
            "object_fit": null,
            "object_position": null,
            "order": null,
            "overflow": null,
            "overflow_x": null,
            "overflow_y": null,
            "padding": null,
            "right": null,
            "top": null,
            "visibility": null,
            "width": null
          }
        },
        "2ff06e1ba4ae446a9cf9f753b27a5ba4": {
          "model_module": "@jupyter-widgets/controls",
          "model_name": "DescriptionStyleModel",
          "model_module_version": "1.5.0",
          "state": {
            "_model_module": "@jupyter-widgets/controls",
            "_model_module_version": "1.5.0",
            "_model_name": "DescriptionStyleModel",
            "_view_count": null,
            "_view_module": "@jupyter-widgets/base",
            "_view_module_version": "1.2.0",
            "_view_name": "StyleView",
            "description_width": ""
          }
        },
        "1ffb73cad0d040a7a22d121996d7c491": {
          "model_module": "@jupyter-widgets/controls",
          "model_name": "HBoxModel",
          "model_module_version": "1.5.0",
          "state": {
            "_dom_classes": [],
            "_model_module": "@jupyter-widgets/controls",
            "_model_module_version": "1.5.0",
            "_model_name": "HBoxModel",
            "_view_count": null,
            "_view_module": "@jupyter-widgets/controls",
            "_view_module_version": "1.5.0",
            "_view_name": "HBoxView",
            "box_style": "",
            "children": [
              "IPY_MODEL_e5a907dafded4258aa4a3dda44410e99",
              "IPY_MODEL_a8c7bea1521746c080e204ee0c52cbd7",
              "IPY_MODEL_77ddb7019fb742d7bbd9615cb1f17857"
            ],
            "layout": "IPY_MODEL_4c7e7a46798743ca80c678ee7aa03886"
          }
        },
        "e5a907dafded4258aa4a3dda44410e99": {
          "model_module": "@jupyter-widgets/controls",
          "model_name": "HTMLModel",
          "model_module_version": "1.5.0",
          "state": {
            "_dom_classes": [],
            "_model_module": "@jupyter-widgets/controls",
            "_model_module_version": "1.5.0",
            "_model_name": "HTMLModel",
            "_view_count": null,
            "_view_module": "@jupyter-widgets/controls",
            "_view_module_version": "1.5.0",
            "_view_name": "HTMLView",
            "description": "",
            "description_tooltip": null,
            "layout": "IPY_MODEL_6e0d3fc282e54821b47e41e0001dc3f1",
            "placeholder": "​",
            "style": "IPY_MODEL_5364871a6b044e56a3594d54060c17f0",
            "value": "Sanity Checking DataLoader 0: 100%"
          }
        },
        "a8c7bea1521746c080e204ee0c52cbd7": {
          "model_module": "@jupyter-widgets/controls",
          "model_name": "FloatProgressModel",
          "model_module_version": "1.5.0",
          "state": {
            "_dom_classes": [],
            "_model_module": "@jupyter-widgets/controls",
            "_model_module_version": "1.5.0",
            "_model_name": "FloatProgressModel",
            "_view_count": null,
            "_view_module": "@jupyter-widgets/controls",
            "_view_module_version": "1.5.0",
            "_view_name": "ProgressView",
            "bar_style": "",
            "description": "",
            "description_tooltip": null,
            "layout": "IPY_MODEL_bbb5b73a24c14000bfa9bb6d04723d1a",
            "max": 2,
            "min": 0,
            "orientation": "horizontal",
            "style": "IPY_MODEL_d15fbba40ed34a6088a5140c0fa8d118",
            "value": 2
          }
        },
        "77ddb7019fb742d7bbd9615cb1f17857": {
          "model_module": "@jupyter-widgets/controls",
          "model_name": "HTMLModel",
          "model_module_version": "1.5.0",
          "state": {
            "_dom_classes": [],
            "_model_module": "@jupyter-widgets/controls",
            "_model_module_version": "1.5.0",
            "_model_name": "HTMLModel",
            "_view_count": null,
            "_view_module": "@jupyter-widgets/controls",
            "_view_module_version": "1.5.0",
            "_view_name": "HTMLView",
            "description": "",
            "description_tooltip": null,
            "layout": "IPY_MODEL_733b63f61c7e460fb13d1007ad3695dd",
            "placeholder": "​",
            "style": "IPY_MODEL_ea9fca0e9e244a199744924e746587ba",
            "value": " 2/2 [00:00&lt;00:00,  8.86it/s]"
          }
        },
        "4c7e7a46798743ca80c678ee7aa03886": {
          "model_module": "@jupyter-widgets/base",
          "model_name": "LayoutModel",
          "model_module_version": "1.2.0",
          "state": {
            "_model_module": "@jupyter-widgets/base",
            "_model_module_version": "1.2.0",
            "_model_name": "LayoutModel",
            "_view_count": null,
            "_view_module": "@jupyter-widgets/base",
            "_view_module_version": "1.2.0",
            "_view_name": "LayoutView",
            "align_content": null,
            "align_items": null,
            "align_self": null,
            "border": null,
            "bottom": null,
            "display": "inline-flex",
            "flex": null,
            "flex_flow": "row wrap",
            "grid_area": null,
            "grid_auto_columns": null,
            "grid_auto_flow": null,
            "grid_auto_rows": null,
            "grid_column": null,
            "grid_gap": null,
            "grid_row": null,
            "grid_template_areas": null,
            "grid_template_columns": null,
            "grid_template_rows": null,
            "height": null,
            "justify_content": null,
            "justify_items": null,
            "left": null,
            "margin": null,
            "max_height": null,
            "max_width": null,
            "min_height": null,
            "min_width": null,
            "object_fit": null,
            "object_position": null,
            "order": null,
            "overflow": null,
            "overflow_x": null,
            "overflow_y": null,
            "padding": null,
            "right": null,
            "top": null,
            "visibility": "hidden",
            "width": "100%"
          }
        },
        "6e0d3fc282e54821b47e41e0001dc3f1": {
          "model_module": "@jupyter-widgets/base",
          "model_name": "LayoutModel",
          "model_module_version": "1.2.0",
          "state": {
            "_model_module": "@jupyter-widgets/base",
            "_model_module_version": "1.2.0",
            "_model_name": "LayoutModel",
            "_view_count": null,
            "_view_module": "@jupyter-widgets/base",
            "_view_module_version": "1.2.0",
            "_view_name": "LayoutView",
            "align_content": null,
            "align_items": null,
            "align_self": null,
            "border": null,
            "bottom": null,
            "display": null,
            "flex": null,
            "flex_flow": null,
            "grid_area": null,
            "grid_auto_columns": null,
            "grid_auto_flow": null,
            "grid_auto_rows": null,
            "grid_column": null,
            "grid_gap": null,
            "grid_row": null,
            "grid_template_areas": null,
            "grid_template_columns": null,
            "grid_template_rows": null,
            "height": null,
            "justify_content": null,
            "justify_items": null,
            "left": null,
            "margin": null,
            "max_height": null,
            "max_width": null,
            "min_height": null,
            "min_width": null,
            "object_fit": null,
            "object_position": null,
            "order": null,
            "overflow": null,
            "overflow_x": null,
            "overflow_y": null,
            "padding": null,
            "right": null,
            "top": null,
            "visibility": null,
            "width": null
          }
        },
        "5364871a6b044e56a3594d54060c17f0": {
          "model_module": "@jupyter-widgets/controls",
          "model_name": "DescriptionStyleModel",
          "model_module_version": "1.5.0",
          "state": {
            "_model_module": "@jupyter-widgets/controls",
            "_model_module_version": "1.5.0",
            "_model_name": "DescriptionStyleModel",
            "_view_count": null,
            "_view_module": "@jupyter-widgets/base",
            "_view_module_version": "1.2.0",
            "_view_name": "StyleView",
            "description_width": ""
          }
        },
        "bbb5b73a24c14000bfa9bb6d04723d1a": {
          "model_module": "@jupyter-widgets/base",
          "model_name": "LayoutModel",
          "model_module_version": "1.2.0",
          "state": {
            "_model_module": "@jupyter-widgets/base",
            "_model_module_version": "1.2.0",
            "_model_name": "LayoutModel",
            "_view_count": null,
            "_view_module": "@jupyter-widgets/base",
            "_view_module_version": "1.2.0",
            "_view_name": "LayoutView",
            "align_content": null,
            "align_items": null,
            "align_self": null,
            "border": null,
            "bottom": null,
            "display": null,
            "flex": "2",
            "flex_flow": null,
            "grid_area": null,
            "grid_auto_columns": null,
            "grid_auto_flow": null,
            "grid_auto_rows": null,
            "grid_column": null,
            "grid_gap": null,
            "grid_row": null,
            "grid_template_areas": null,
            "grid_template_columns": null,
            "grid_template_rows": null,
            "height": null,
            "justify_content": null,
            "justify_items": null,
            "left": null,
            "margin": null,
            "max_height": null,
            "max_width": null,
            "min_height": null,
            "min_width": null,
            "object_fit": null,
            "object_position": null,
            "order": null,
            "overflow": null,
            "overflow_x": null,
            "overflow_y": null,
            "padding": null,
            "right": null,
            "top": null,
            "visibility": null,
            "width": null
          }
        },
        "d15fbba40ed34a6088a5140c0fa8d118": {
          "model_module": "@jupyter-widgets/controls",
          "model_name": "ProgressStyleModel",
          "model_module_version": "1.5.0",
          "state": {
            "_model_module": "@jupyter-widgets/controls",
            "_model_module_version": "1.5.0",
            "_model_name": "ProgressStyleModel",
            "_view_count": null,
            "_view_module": "@jupyter-widgets/base",
            "_view_module_version": "1.2.0",
            "_view_name": "StyleView",
            "bar_color": null,
            "description_width": ""
          }
        },
        "733b63f61c7e460fb13d1007ad3695dd": {
          "model_module": "@jupyter-widgets/base",
          "model_name": "LayoutModel",
          "model_module_version": "1.2.0",
          "state": {
            "_model_module": "@jupyter-widgets/base",
            "_model_module_version": "1.2.0",
            "_model_name": "LayoutModel",
            "_view_count": null,
            "_view_module": "@jupyter-widgets/base",
            "_view_module_version": "1.2.0",
            "_view_name": "LayoutView",
            "align_content": null,
            "align_items": null,
            "align_self": null,
            "border": null,
            "bottom": null,
            "display": null,
            "flex": null,
            "flex_flow": null,
            "grid_area": null,
            "grid_auto_columns": null,
            "grid_auto_flow": null,
            "grid_auto_rows": null,
            "grid_column": null,
            "grid_gap": null,
            "grid_row": null,
            "grid_template_areas": null,
            "grid_template_columns": null,
            "grid_template_rows": null,
            "height": null,
            "justify_content": null,
            "justify_items": null,
            "left": null,
            "margin": null,
            "max_height": null,
            "max_width": null,
            "min_height": null,
            "min_width": null,
            "object_fit": null,
            "object_position": null,
            "order": null,
            "overflow": null,
            "overflow_x": null,
            "overflow_y": null,
            "padding": null,
            "right": null,
            "top": null,
            "visibility": null,
            "width": null
          }
        },
        "ea9fca0e9e244a199744924e746587ba": {
          "model_module": "@jupyter-widgets/controls",
          "model_name": "DescriptionStyleModel",
          "model_module_version": "1.5.0",
          "state": {
            "_model_module": "@jupyter-widgets/controls",
            "_model_module_version": "1.5.0",
            "_model_name": "DescriptionStyleModel",
            "_view_count": null,
            "_view_module": "@jupyter-widgets/base",
            "_view_module_version": "1.2.0",
            "_view_name": "StyleView",
            "description_width": ""
          }
        },
        "62413851e2814e94a798a824945826f1": {
          "model_module": "@jupyter-widgets/controls",
          "model_name": "HBoxModel",
          "model_module_version": "1.5.0",
          "state": {
            "_dom_classes": [],
            "_model_module": "@jupyter-widgets/controls",
            "_model_module_version": "1.5.0",
            "_model_name": "HBoxModel",
            "_view_count": null,
            "_view_module": "@jupyter-widgets/controls",
            "_view_module_version": "1.5.0",
            "_view_name": "HBoxView",
            "box_style": "",
            "children": [
              "IPY_MODEL_867e50b991bb4e44bc2f257d7bfc2a11",
              "IPY_MODEL_baded150912d449fb7df4b44dd028a89",
              "IPY_MODEL_7177b8fc92c3498b9f0f5f86d81a1cba"
            ],
            "layout": "IPY_MODEL_206db45ae61745a19c134b1ff2604b0a"
          }
        },
        "867e50b991bb4e44bc2f257d7bfc2a11": {
          "model_module": "@jupyter-widgets/controls",
          "model_name": "HTMLModel",
          "model_module_version": "1.5.0",
          "state": {
            "_dom_classes": [],
            "_model_module": "@jupyter-widgets/controls",
            "_model_module_version": "1.5.0",
            "_model_name": "HTMLModel",
            "_view_count": null,
            "_view_module": "@jupyter-widgets/controls",
            "_view_module_version": "1.5.0",
            "_view_name": "HTMLView",
            "description": "",
            "description_tooltip": null,
            "layout": "IPY_MODEL_18919d9c470847398b6f4da673be5918",
            "placeholder": "​",
            "style": "IPY_MODEL_0fc5c0d1529147099d359c5dd9e05d25",
            "value": "Epoch 0: 100%"
          }
        },
        "baded150912d449fb7df4b44dd028a89": {
          "model_module": "@jupyter-widgets/controls",
          "model_name": "FloatProgressModel",
          "model_module_version": "1.5.0",
          "state": {
            "_dom_classes": [],
            "_model_module": "@jupyter-widgets/controls",
            "_model_module_version": "1.5.0",
            "_model_name": "FloatProgressModel",
            "_view_count": null,
            "_view_module": "@jupyter-widgets/controls",
            "_view_module_version": "1.5.0",
            "_view_name": "ProgressView",
            "bar_style": "success",
            "description": "",
            "description_tooltip": null,
            "layout": "IPY_MODEL_c46ad21fa7434ab69cc5a80ff0d72c9a",
            "max": 548,
            "min": 0,
            "orientation": "horizontal",
            "style": "IPY_MODEL_84b2054ec70e40299639a2328d239070",
            "value": 548
          }
        },
        "7177b8fc92c3498b9f0f5f86d81a1cba": {
          "model_module": "@jupyter-widgets/controls",
          "model_name": "HTMLModel",
          "model_module_version": "1.5.0",
          "state": {
            "_dom_classes": [],
            "_model_module": "@jupyter-widgets/controls",
            "_model_module_version": "1.5.0",
            "_model_name": "HTMLModel",
            "_view_count": null,
            "_view_module": "@jupyter-widgets/controls",
            "_view_module_version": "1.5.0",
            "_view_name": "HTMLView",
            "description": "",
            "description_tooltip": null,
            "layout": "IPY_MODEL_92ed6a48d2a2429aba068f1c0b2e3dbb",
            "placeholder": "​",
            "style": "IPY_MODEL_53cbdd2ca4844ab3a0832d7305308e28",
            "value": " 548/548 [01:02&lt;00:00,  8.82it/s, loss=0.386, v_num=0, train_loss=0.368, val_loss=0.360]"
          }
        },
        "206db45ae61745a19c134b1ff2604b0a": {
          "model_module": "@jupyter-widgets/base",
          "model_name": "LayoutModel",
          "model_module_version": "1.2.0",
          "state": {
            "_model_module": "@jupyter-widgets/base",
            "_model_module_version": "1.2.0",
            "_model_name": "LayoutModel",
            "_view_count": null,
            "_view_module": "@jupyter-widgets/base",
            "_view_module_version": "1.2.0",
            "_view_name": "LayoutView",
            "align_content": null,
            "align_items": null,
            "align_self": null,
            "border": null,
            "bottom": null,
            "display": "inline-flex",
            "flex": null,
            "flex_flow": "row wrap",
            "grid_area": null,
            "grid_auto_columns": null,
            "grid_auto_flow": null,
            "grid_auto_rows": null,
            "grid_column": null,
            "grid_gap": null,
            "grid_row": null,
            "grid_template_areas": null,
            "grid_template_columns": null,
            "grid_template_rows": null,
            "height": null,
            "justify_content": null,
            "justify_items": null,
            "left": null,
            "margin": null,
            "max_height": null,
            "max_width": null,
            "min_height": null,
            "min_width": null,
            "object_fit": null,
            "object_position": null,
            "order": null,
            "overflow": null,
            "overflow_x": null,
            "overflow_y": null,
            "padding": null,
            "right": null,
            "top": null,
            "visibility": null,
            "width": "100%"
          }
        },
        "18919d9c470847398b6f4da673be5918": {
          "model_module": "@jupyter-widgets/base",
          "model_name": "LayoutModel",
          "model_module_version": "1.2.0",
          "state": {
            "_model_module": "@jupyter-widgets/base",
            "_model_module_version": "1.2.0",
            "_model_name": "LayoutModel",
            "_view_count": null,
            "_view_module": "@jupyter-widgets/base",
            "_view_module_version": "1.2.0",
            "_view_name": "LayoutView",
            "align_content": null,
            "align_items": null,
            "align_self": null,
            "border": null,
            "bottom": null,
            "display": null,
            "flex": null,
            "flex_flow": null,
            "grid_area": null,
            "grid_auto_columns": null,
            "grid_auto_flow": null,
            "grid_auto_rows": null,
            "grid_column": null,
            "grid_gap": null,
            "grid_row": null,
            "grid_template_areas": null,
            "grid_template_columns": null,
            "grid_template_rows": null,
            "height": null,
            "justify_content": null,
            "justify_items": null,
            "left": null,
            "margin": null,
            "max_height": null,
            "max_width": null,
            "min_height": null,
            "min_width": null,
            "object_fit": null,
            "object_position": null,
            "order": null,
            "overflow": null,
            "overflow_x": null,
            "overflow_y": null,
            "padding": null,
            "right": null,
            "top": null,
            "visibility": null,
            "width": null
          }
        },
        "0fc5c0d1529147099d359c5dd9e05d25": {
          "model_module": "@jupyter-widgets/controls",
          "model_name": "DescriptionStyleModel",
          "model_module_version": "1.5.0",
          "state": {
            "_model_module": "@jupyter-widgets/controls",
            "_model_module_version": "1.5.0",
            "_model_name": "DescriptionStyleModel",
            "_view_count": null,
            "_view_module": "@jupyter-widgets/base",
            "_view_module_version": "1.2.0",
            "_view_name": "StyleView",
            "description_width": ""
          }
        },
        "c46ad21fa7434ab69cc5a80ff0d72c9a": {
          "model_module": "@jupyter-widgets/base",
          "model_name": "LayoutModel",
          "model_module_version": "1.2.0",
          "state": {
            "_model_module": "@jupyter-widgets/base",
            "_model_module_version": "1.2.0",
            "_model_name": "LayoutModel",
            "_view_count": null,
            "_view_module": "@jupyter-widgets/base",
            "_view_module_version": "1.2.0",
            "_view_name": "LayoutView",
            "align_content": null,
            "align_items": null,
            "align_self": null,
            "border": null,
            "bottom": null,
            "display": null,
            "flex": "2",
            "flex_flow": null,
            "grid_area": null,
            "grid_auto_columns": null,
            "grid_auto_flow": null,
            "grid_auto_rows": null,
            "grid_column": null,
            "grid_gap": null,
            "grid_row": null,
            "grid_template_areas": null,
            "grid_template_columns": null,
            "grid_template_rows": null,
            "height": null,
            "justify_content": null,
            "justify_items": null,
            "left": null,
            "margin": null,
            "max_height": null,
            "max_width": null,
            "min_height": null,
            "min_width": null,
            "object_fit": null,
            "object_position": null,
            "order": null,
            "overflow": null,
            "overflow_x": null,
            "overflow_y": null,
            "padding": null,
            "right": null,
            "top": null,
            "visibility": null,
            "width": null
          }
        },
        "84b2054ec70e40299639a2328d239070": {
          "model_module": "@jupyter-widgets/controls",
          "model_name": "ProgressStyleModel",
          "model_module_version": "1.5.0",
          "state": {
            "_model_module": "@jupyter-widgets/controls",
            "_model_module_version": "1.5.0",
            "_model_name": "ProgressStyleModel",
            "_view_count": null,
            "_view_module": "@jupyter-widgets/base",
            "_view_module_version": "1.2.0",
            "_view_name": "StyleView",
            "bar_color": null,
            "description_width": ""
          }
        },
        "92ed6a48d2a2429aba068f1c0b2e3dbb": {
          "model_module": "@jupyter-widgets/base",
          "model_name": "LayoutModel",
          "model_module_version": "1.2.0",
          "state": {
            "_model_module": "@jupyter-widgets/base",
            "_model_module_version": "1.2.0",
            "_model_name": "LayoutModel",
            "_view_count": null,
            "_view_module": "@jupyter-widgets/base",
            "_view_module_version": "1.2.0",
            "_view_name": "LayoutView",
            "align_content": null,
            "align_items": null,
            "align_self": null,
            "border": null,
            "bottom": null,
            "display": null,
            "flex": null,
            "flex_flow": null,
            "grid_area": null,
            "grid_auto_columns": null,
            "grid_auto_flow": null,
            "grid_auto_rows": null,
            "grid_column": null,
            "grid_gap": null,
            "grid_row": null,
            "grid_template_areas": null,
            "grid_template_columns": null,
            "grid_template_rows": null,
            "height": null,
            "justify_content": null,
            "justify_items": null,
            "left": null,
            "margin": null,
            "max_height": null,
            "max_width": null,
            "min_height": null,
            "min_width": null,
            "object_fit": null,
            "object_position": null,
            "order": null,
            "overflow": null,
            "overflow_x": null,
            "overflow_y": null,
            "padding": null,
            "right": null,
            "top": null,
            "visibility": null,
            "width": null
          }
        },
        "53cbdd2ca4844ab3a0832d7305308e28": {
          "model_module": "@jupyter-widgets/controls",
          "model_name": "DescriptionStyleModel",
          "model_module_version": "1.5.0",
          "state": {
            "_model_module": "@jupyter-widgets/controls",
            "_model_module_version": "1.5.0",
            "_model_name": "DescriptionStyleModel",
            "_view_count": null,
            "_view_module": "@jupyter-widgets/base",
            "_view_module_version": "1.2.0",
            "_view_name": "StyleView",
            "description_width": ""
          }
        },
        "adfb3a1ab1894882b633f5a6416e32b6": {
          "model_module": "@jupyter-widgets/controls",
          "model_name": "HBoxModel",
          "model_module_version": "1.5.0",
          "state": {
            "_dom_classes": [],
            "_model_module": "@jupyter-widgets/controls",
            "_model_module_version": "1.5.0",
            "_model_name": "HBoxModel",
            "_view_count": null,
            "_view_module": "@jupyter-widgets/controls",
            "_view_module_version": "1.5.0",
            "_view_name": "HBoxView",
            "box_style": "",
            "children": [
              "IPY_MODEL_6da9e9e5f545433f98b08193c584b649",
              "IPY_MODEL_38a5ee8c2ebc4bfdb47ed138d122c581",
              "IPY_MODEL_07aad56bc30f497b88f104a7ae5b788a"
            ],
            "layout": "IPY_MODEL_a7695af52029481abeacde3aa1474895"
          }
        },
        "6da9e9e5f545433f98b08193c584b649": {
          "model_module": "@jupyter-widgets/controls",
          "model_name": "HTMLModel",
          "model_module_version": "1.5.0",
          "state": {
            "_dom_classes": [],
            "_model_module": "@jupyter-widgets/controls",
            "_model_module_version": "1.5.0",
            "_model_name": "HTMLModel",
            "_view_count": null,
            "_view_module": "@jupyter-widgets/controls",
            "_view_module_version": "1.5.0",
            "_view_name": "HTMLView",
            "description": "",
            "description_tooltip": null,
            "layout": "IPY_MODEL_a6b0f7df17e14d6881191d05ef3b69e1",
            "placeholder": "​",
            "style": "IPY_MODEL_a9a1863c618b48d09ad790573cc6739b",
            "value": "Validation DataLoader 0: 100%"
          }
        },
        "38a5ee8c2ebc4bfdb47ed138d122c581": {
          "model_module": "@jupyter-widgets/controls",
          "model_name": "FloatProgressModel",
          "model_module_version": "1.5.0",
          "state": {
            "_dom_classes": [],
            "_model_module": "@jupyter-widgets/controls",
            "_model_module_version": "1.5.0",
            "_model_name": "FloatProgressModel",
            "_view_count": null,
            "_view_module": "@jupyter-widgets/controls",
            "_view_module_version": "1.5.0",
            "_view_name": "ProgressView",
            "bar_style": "",
            "description": "",
            "description_tooltip": null,
            "layout": "IPY_MODEL_ac52a0f14f2a4c8791bf0dcdd77c9f45",
            "max": 79,
            "min": 0,
            "orientation": "horizontal",
            "style": "IPY_MODEL_98f8023a3b0b4202b525221ad46eaf9f",
            "value": 79
          }
        },
        "07aad56bc30f497b88f104a7ae5b788a": {
          "model_module": "@jupyter-widgets/controls",
          "model_name": "HTMLModel",
          "model_module_version": "1.5.0",
          "state": {
            "_dom_classes": [],
            "_model_module": "@jupyter-widgets/controls",
            "_model_module_version": "1.5.0",
            "_model_name": "HTMLModel",
            "_view_count": null,
            "_view_module": "@jupyter-widgets/controls",
            "_view_module_version": "1.5.0",
            "_view_name": "HTMLView",
            "description": "",
            "description_tooltip": null,
            "layout": "IPY_MODEL_932bfc88afc7490b86f0c5bb18b42576",
            "placeholder": "​",
            "style": "IPY_MODEL_8f8ce97d455347219ac4051937695c64",
            "value": " 79/79 [00:04&lt;00:00, 17.12it/s]"
          }
        },
        "a7695af52029481abeacde3aa1474895": {
          "model_module": "@jupyter-widgets/base",
          "model_name": "LayoutModel",
          "model_module_version": "1.2.0",
          "state": {
            "_model_module": "@jupyter-widgets/base",
            "_model_module_version": "1.2.0",
            "_model_name": "LayoutModel",
            "_view_count": null,
            "_view_module": "@jupyter-widgets/base",
            "_view_module_version": "1.2.0",
            "_view_name": "LayoutView",
            "align_content": null,
            "align_items": null,
            "align_self": null,
            "border": null,
            "bottom": null,
            "display": "inline-flex",
            "flex": null,
            "flex_flow": "row wrap",
            "grid_area": null,
            "grid_auto_columns": null,
            "grid_auto_flow": null,
            "grid_auto_rows": null,
            "grid_column": null,
            "grid_gap": null,
            "grid_row": null,
            "grid_template_areas": null,
            "grid_template_columns": null,
            "grid_template_rows": null,
            "height": null,
            "justify_content": null,
            "justify_items": null,
            "left": null,
            "margin": null,
            "max_height": null,
            "max_width": null,
            "min_height": null,
            "min_width": null,
            "object_fit": null,
            "object_position": null,
            "order": null,
            "overflow": null,
            "overflow_x": null,
            "overflow_y": null,
            "padding": null,
            "right": null,
            "top": null,
            "visibility": "hidden",
            "width": "100%"
          }
        },
        "a6b0f7df17e14d6881191d05ef3b69e1": {
          "model_module": "@jupyter-widgets/base",
          "model_name": "LayoutModel",
          "model_module_version": "1.2.0",
          "state": {
            "_model_module": "@jupyter-widgets/base",
            "_model_module_version": "1.2.0",
            "_model_name": "LayoutModel",
            "_view_count": null,
            "_view_module": "@jupyter-widgets/base",
            "_view_module_version": "1.2.0",
            "_view_name": "LayoutView",
            "align_content": null,
            "align_items": null,
            "align_self": null,
            "border": null,
            "bottom": null,
            "display": null,
            "flex": null,
            "flex_flow": null,
            "grid_area": null,
            "grid_auto_columns": null,
            "grid_auto_flow": null,
            "grid_auto_rows": null,
            "grid_column": null,
            "grid_gap": null,
            "grid_row": null,
            "grid_template_areas": null,
            "grid_template_columns": null,
            "grid_template_rows": null,
            "height": null,
            "justify_content": null,
            "justify_items": null,
            "left": null,
            "margin": null,
            "max_height": null,
            "max_width": null,
            "min_height": null,
            "min_width": null,
            "object_fit": null,
            "object_position": null,
            "order": null,
            "overflow": null,
            "overflow_x": null,
            "overflow_y": null,
            "padding": null,
            "right": null,
            "top": null,
            "visibility": null,
            "width": null
          }
        },
        "a9a1863c618b48d09ad790573cc6739b": {
          "model_module": "@jupyter-widgets/controls",
          "model_name": "DescriptionStyleModel",
          "model_module_version": "1.5.0",
          "state": {
            "_model_module": "@jupyter-widgets/controls",
            "_model_module_version": "1.5.0",
            "_model_name": "DescriptionStyleModel",
            "_view_count": null,
            "_view_module": "@jupyter-widgets/base",
            "_view_module_version": "1.2.0",
            "_view_name": "StyleView",
            "description_width": ""
          }
        },
        "ac52a0f14f2a4c8791bf0dcdd77c9f45": {
          "model_module": "@jupyter-widgets/base",
          "model_name": "LayoutModel",
          "model_module_version": "1.2.0",
          "state": {
            "_model_module": "@jupyter-widgets/base",
            "_model_module_version": "1.2.0",
            "_model_name": "LayoutModel",
            "_view_count": null,
            "_view_module": "@jupyter-widgets/base",
            "_view_module_version": "1.2.0",
            "_view_name": "LayoutView",
            "align_content": null,
            "align_items": null,
            "align_self": null,
            "border": null,
            "bottom": null,
            "display": null,
            "flex": "2",
            "flex_flow": null,
            "grid_area": null,
            "grid_auto_columns": null,
            "grid_auto_flow": null,
            "grid_auto_rows": null,
            "grid_column": null,
            "grid_gap": null,
            "grid_row": null,
            "grid_template_areas": null,
            "grid_template_columns": null,
            "grid_template_rows": null,
            "height": null,
            "justify_content": null,
            "justify_items": null,
            "left": null,
            "margin": null,
            "max_height": null,
            "max_width": null,
            "min_height": null,
            "min_width": null,
            "object_fit": null,
            "object_position": null,
            "order": null,
            "overflow": null,
            "overflow_x": null,
            "overflow_y": null,
            "padding": null,
            "right": null,
            "top": null,
            "visibility": null,
            "width": null
          }
        },
        "98f8023a3b0b4202b525221ad46eaf9f": {
          "model_module": "@jupyter-widgets/controls",
          "model_name": "ProgressStyleModel",
          "model_module_version": "1.5.0",
          "state": {
            "_model_module": "@jupyter-widgets/controls",
            "_model_module_version": "1.5.0",
            "_model_name": "ProgressStyleModel",
            "_view_count": null,
            "_view_module": "@jupyter-widgets/base",
            "_view_module_version": "1.2.0",
            "_view_name": "StyleView",
            "bar_color": null,
            "description_width": ""
          }
        },
        "932bfc88afc7490b86f0c5bb18b42576": {
          "model_module": "@jupyter-widgets/base",
          "model_name": "LayoutModel",
          "model_module_version": "1.2.0",
          "state": {
            "_model_module": "@jupyter-widgets/base",
            "_model_module_version": "1.2.0",
            "_model_name": "LayoutModel",
            "_view_count": null,
            "_view_module": "@jupyter-widgets/base",
            "_view_module_version": "1.2.0",
            "_view_name": "LayoutView",
            "align_content": null,
            "align_items": null,
            "align_self": null,
            "border": null,
            "bottom": null,
            "display": null,
            "flex": null,
            "flex_flow": null,
            "grid_area": null,
            "grid_auto_columns": null,
            "grid_auto_flow": null,
            "grid_auto_rows": null,
            "grid_column": null,
            "grid_gap": null,
            "grid_row": null,
            "grid_template_areas": null,
            "grid_template_columns": null,
            "grid_template_rows": null,
            "height": null,
            "justify_content": null,
            "justify_items": null,
            "left": null,
            "margin": null,
            "max_height": null,
            "max_width": null,
            "min_height": null,
            "min_width": null,
            "object_fit": null,
            "object_position": null,
            "order": null,
            "overflow": null,
            "overflow_x": null,
            "overflow_y": null,
            "padding": null,
            "right": null,
            "top": null,
            "visibility": null,
            "width": null
          }
        },
        "8f8ce97d455347219ac4051937695c64": {
          "model_module": "@jupyter-widgets/controls",
          "model_name": "DescriptionStyleModel",
          "model_module_version": "1.5.0",
          "state": {
            "_model_module": "@jupyter-widgets/controls",
            "_model_module_version": "1.5.0",
            "_model_name": "DescriptionStyleModel",
            "_view_count": null,
            "_view_module": "@jupyter-widgets/base",
            "_view_module_version": "1.2.0",
            "_view_name": "StyleView",
            "description_width": ""
          }
        }
      }
    }
  },
  "nbformat": 4,
  "nbformat_minor": 0
}