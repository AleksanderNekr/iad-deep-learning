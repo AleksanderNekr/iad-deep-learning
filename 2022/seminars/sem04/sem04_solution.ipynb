{
 "nbformat": 4,
 "nbformat_minor": 0,
 "metadata": {
  "accelerator": "GPU",
  "colab": {
   "provenance": [],
   "collapsed_sections": [
    "kD68Ub9hKlZy",
    "ZeCXawXsKlaX",
    "bWG6WICUKlaa",
    "mO_Y_-HUo8zL",
    "1Icmb2vUwppF",
    "BQWRUIQ25Mci",
    "Q6Mf1W49f2Fv",
    "zRuVz6TXFANc",
    "MkLsRtR2-U6d",
    "VTnyRAFB8266",
    "ErRCAeIeEePe"
   ],
   "toc_visible": true
  },
  "kernelspec": {
   "display_name": "Python 3",
   "language": "python",
   "name": "python3"
  },
  "language_info": {
   "codemirror_mode": {
    "name": "ipython",
    "version": 3
   },
   "file_extension": ".py",
   "mimetype": "text/x-python",
   "name": "python",
   "nbconvert_exporter": "python",
   "pygments_lexer": "ipython3",
   "version": "3.7.6"
  },
  "widgets": {
   "application/vnd.jupyter.widget-state+json": {
    "77f193d9a291486eaef5632783d70c6f": {
     "model_module": "@jupyter-widgets/controls",
     "model_name": "HBoxModel",
     "model_module_version": "1.5.0",
     "state": {
      "_dom_classes": [],
      "_model_module": "@jupyter-widgets/controls",
      "_model_module_version": "1.5.0",
      "_model_name": "HBoxModel",
      "_view_count": null,
      "_view_module": "@jupyter-widgets/controls",
      "_view_module_version": "1.5.0",
      "_view_name": "HBoxView",
      "box_style": "",
      "children": [
       "IPY_MODEL_0dd132cfd7c948e890005903be333946",
       "IPY_MODEL_6eddef9ffdaa46929900fadb15f4e7f7",
       "IPY_MODEL_9eb1fbedba294c21b9042a0a7956be58"
      ],
      "layout": "IPY_MODEL_2457572529ac4ef0bf76edbed0cde40b"
     }
    },
    "0dd132cfd7c948e890005903be333946": {
     "model_module": "@jupyter-widgets/controls",
     "model_name": "HTMLModel",
     "model_module_version": "1.5.0",
     "state": {
      "_dom_classes": [],
      "_model_module": "@jupyter-widgets/controls",
      "_model_module_version": "1.5.0",
      "_model_name": "HTMLModel",
      "_view_count": null,
      "_view_module": "@jupyter-widgets/controls",
      "_view_module_version": "1.5.0",
      "_view_name": "HTMLView",
      "description": "",
      "description_tooltip": null,
      "layout": "IPY_MODEL_744a7cd8d694408f9b040a49ffb8c694",
      "placeholder": "​",
      "style": "IPY_MODEL_6586865f10ee4577b5257ec0a4bb49a3",
      "value": "Sanity Checking DataLoader 0: 100%"
     }
    },
    "6eddef9ffdaa46929900fadb15f4e7f7": {
     "model_module": "@jupyter-widgets/controls",
     "model_name": "FloatProgressModel",
     "model_module_version": "1.5.0",
     "state": {
      "_dom_classes": [],
      "_model_module": "@jupyter-widgets/controls",
      "_model_module_version": "1.5.0",
      "_model_name": "FloatProgressModel",
      "_view_count": null,
      "_view_module": "@jupyter-widgets/controls",
      "_view_module_version": "1.5.0",
      "_view_name": "ProgressView",
      "bar_style": "",
      "description": "",
      "description_tooltip": null,
      "layout": "IPY_MODEL_15100a91b69f4b19bf41c5b02923ce63",
      "max": 2,
      "min": 0,
      "orientation": "horizontal",
      "style": "IPY_MODEL_3ae0034beab24c77ab7b2260db371f3e",
      "value": 2
     }
    },
    "9eb1fbedba294c21b9042a0a7956be58": {
     "model_module": "@jupyter-widgets/controls",
     "model_name": "HTMLModel",
     "model_module_version": "1.5.0",
     "state": {
      "_dom_classes": [],
      "_model_module": "@jupyter-widgets/controls",
      "_model_module_version": "1.5.0",
      "_model_name": "HTMLModel",
      "_view_count": null,
      "_view_module": "@jupyter-widgets/controls",
      "_view_module_version": "1.5.0",
      "_view_name": "HTMLView",
      "description": "",
      "description_tooltip": null,
      "layout": "IPY_MODEL_e1c1b0c7029241a7870f39626be926d0",
      "placeholder": "​",
      "style": "IPY_MODEL_306b2b07de49455eadd8ba0561844d19",
      "value": " 2/2 [00:00&lt;00:00,  8.85it/s]"
     }
    },
    "2457572529ac4ef0bf76edbed0cde40b": {
     "model_module": "@jupyter-widgets/base",
     "model_name": "LayoutModel",
     "model_module_version": "1.2.0",
     "state": {
      "_model_module": "@jupyter-widgets/base",
      "_model_module_version": "1.2.0",
      "_model_name": "LayoutModel",
      "_view_count": null,
      "_view_module": "@jupyter-widgets/base",
      "_view_module_version": "1.2.0",
      "_view_name": "LayoutView",
      "align_content": null,
      "align_items": null,
      "align_self": null,
      "border": null,
      "bottom": null,
      "display": "inline-flex",
      "flex": null,
      "flex_flow": "row wrap",
      "grid_area": null,
      "grid_auto_columns": null,
      "grid_auto_flow": null,
      "grid_auto_rows": null,
      "grid_column": null,
      "grid_gap": null,
      "grid_row": null,
      "grid_template_areas": null,
      "grid_template_columns": null,
      "grid_template_rows": null,
      "height": null,
      "justify_content": null,
      "justify_items": null,
      "left": null,
      "margin": null,
      "max_height": null,
      "max_width": null,
      "min_height": null,
      "min_width": null,
      "object_fit": null,
      "object_position": null,
      "order": null,
      "overflow": null,
      "overflow_x": null,
      "overflow_y": null,
      "padding": null,
      "right": null,
      "top": null,
      "visibility": "hidden",
      "width": "100%"
     }
    },
    "744a7cd8d694408f9b040a49ffb8c694": {
     "model_module": "@jupyter-widgets/base",
     "model_name": "LayoutModel",
     "model_module_version": "1.2.0",
     "state": {
      "_model_module": "@jupyter-widgets/base",
      "_model_module_version": "1.2.0",
      "_model_name": "LayoutModel",
      "_view_count": null,
      "_view_module": "@jupyter-widgets/base",
      "_view_module_version": "1.2.0",
      "_view_name": "LayoutView",
      "align_content": null,
      "align_items": null,
      "align_self": null,
      "border": null,
      "bottom": null,
      "display": null,
      "flex": null,
      "flex_flow": null,
      "grid_area": null,
      "grid_auto_columns": null,
      "grid_auto_flow": null,
      "grid_auto_rows": null,
      "grid_column": null,
      "grid_gap": null,
      "grid_row": null,
      "grid_template_areas": null,
      "grid_template_columns": null,
      "grid_template_rows": null,
      "height": null,
      "justify_content": null,
      "justify_items": null,
      "left": null,
      "margin": null,
      "max_height": null,
      "max_width": null,
      "min_height": null,
      "min_width": null,
      "object_fit": null,
      "object_position": null,
      "order": null,
      "overflow": null,
      "overflow_x": null,
      "overflow_y": null,
      "padding": null,
      "right": null,
      "top": null,
      "visibility": null,
      "width": null
     }
    },
    "6586865f10ee4577b5257ec0a4bb49a3": {
     "model_module": "@jupyter-widgets/controls",
     "model_name": "DescriptionStyleModel",
     "model_module_version": "1.5.0",
     "state": {
      "_model_module": "@jupyter-widgets/controls",
      "_model_module_version": "1.5.0",
      "_model_name": "DescriptionStyleModel",
      "_view_count": null,
      "_view_module": "@jupyter-widgets/base",
      "_view_module_version": "1.2.0",
      "_view_name": "StyleView",
      "description_width": ""
     }
    },
    "15100a91b69f4b19bf41c5b02923ce63": {
     "model_module": "@jupyter-widgets/base",
     "model_name": "LayoutModel",
     "model_module_version": "1.2.0",
     "state": {
      "_model_module": "@jupyter-widgets/base",
      "_model_module_version": "1.2.0",
      "_model_name": "LayoutModel",
      "_view_count": null,
      "_view_module": "@jupyter-widgets/base",
      "_view_module_version": "1.2.0",
      "_view_name": "LayoutView",
      "align_content": null,
      "align_items": null,
      "align_self": null,
      "border": null,
      "bottom": null,
      "display": null,
      "flex": "2",
      "flex_flow": null,
      "grid_area": null,
      "grid_auto_columns": null,
      "grid_auto_flow": null,
      "grid_auto_rows": null,
      "grid_column": null,
      "grid_gap": null,
      "grid_row": null,
      "grid_template_areas": null,
      "grid_template_columns": null,
      "grid_template_rows": null,
      "height": null,
      "justify_content": null,
      "justify_items": null,
      "left": null,
      "margin": null,
      "max_height": null,
      "max_width": null,
      "min_height": null,
      "min_width": null,
      "object_fit": null,
      "object_position": null,
      "order": null,
      "overflow": null,
      "overflow_x": null,
      "overflow_y": null,
      "padding": null,
      "right": null,
      "top": null,
      "visibility": null,
      "width": null
     }
    },
    "3ae0034beab24c77ab7b2260db371f3e": {
     "model_module": "@jupyter-widgets/controls",
     "model_name": "ProgressStyleModel",
     "model_module_version": "1.5.0",
     "state": {
      "_model_module": "@jupyter-widgets/controls",
      "_model_module_version": "1.5.0",
      "_model_name": "ProgressStyleModel",
      "_view_count": null,
      "_view_module": "@jupyter-widgets/base",
      "_view_module_version": "1.2.0",
      "_view_name": "StyleView",
      "bar_color": null,
      "description_width": ""
     }
    },
    "e1c1b0c7029241a7870f39626be926d0": {
     "model_module": "@jupyter-widgets/base",
     "model_name": "LayoutModel",
     "model_module_version": "1.2.0",
     "state": {
      "_model_module": "@jupyter-widgets/base",
      "_model_module_version": "1.2.0",
      "_model_name": "LayoutModel",
      "_view_count": null,
      "_view_module": "@jupyter-widgets/base",
      "_view_module_version": "1.2.0",
      "_view_name": "LayoutView",
      "align_content": null,
      "align_items": null,
      "align_self": null,
      "border": null,
      "bottom": null,
      "display": null,
      "flex": null,
      "flex_flow": null,
      "grid_area": null,
      "grid_auto_columns": null,
      "grid_auto_flow": null,
      "grid_auto_rows": null,
      "grid_column": null,
      "grid_gap": null,
      "grid_row": null,
      "grid_template_areas": null,
      "grid_template_columns": null,
      "grid_template_rows": null,
      "height": null,
      "justify_content": null,
      "justify_items": null,
      "left": null,
      "margin": null,
      "max_height": null,
      "max_width": null,
      "min_height": null,
      "min_width": null,
      "object_fit": null,
      "object_position": null,
      "order": null,
      "overflow": null,
      "overflow_x": null,
      "overflow_y": null,
      "padding": null,
      "right": null,
      "top": null,
      "visibility": null,
      "width": null
     }
    },
    "306b2b07de49455eadd8ba0561844d19": {
     "model_module": "@jupyter-widgets/controls",
     "model_name": "DescriptionStyleModel",
     "model_module_version": "1.5.0",
     "state": {
      "_model_module": "@jupyter-widgets/controls",
      "_model_module_version": "1.5.0",
      "_model_name": "DescriptionStyleModel",
      "_view_count": null,
      "_view_module": "@jupyter-widgets/base",
      "_view_module_version": "1.2.0",
      "_view_name": "StyleView",
      "description_width": ""
     }
    },
    "99223ebdaaf3421c88fb18d48e1c4a03": {
     "model_module": "@jupyter-widgets/controls",
     "model_name": "HBoxModel",
     "model_module_version": "1.5.0",
     "state": {
      "_dom_classes": [],
      "_model_module": "@jupyter-widgets/controls",
      "_model_module_version": "1.5.0",
      "_model_name": "HBoxModel",
      "_view_count": null,
      "_view_module": "@jupyter-widgets/controls",
      "_view_module_version": "1.5.0",
      "_view_name": "HBoxView",
      "box_style": "",
      "children": [
       "IPY_MODEL_300daed98fdb4ea8af1e8af7de0ea6ff",
       "IPY_MODEL_60652e3d1510478c9c6ef3fc7060bac6",
       "IPY_MODEL_546e464c00cb4b0ba30acbe5a0fac5bf"
      ],
      "layout": "IPY_MODEL_c590a019380a48c7847626c3ee85c8b4"
     }
    },
    "300daed98fdb4ea8af1e8af7de0ea6ff": {
     "model_module": "@jupyter-widgets/controls",
     "model_name": "HTMLModel",
     "model_module_version": "1.5.0",
     "state": {
      "_dom_classes": [],
      "_model_module": "@jupyter-widgets/controls",
      "_model_module_version": "1.5.0",
      "_model_name": "HTMLModel",
      "_view_count": null,
      "_view_module": "@jupyter-widgets/controls",
      "_view_module_version": "1.5.0",
      "_view_name": "HTMLView",
      "description": "",
      "description_tooltip": null,
      "layout": "IPY_MODEL_71a02bb021d8465c8486418804b046c9",
      "placeholder": "​",
      "style": "IPY_MODEL_5aea5ac1674a4c0481047d3fe98e3214",
      "value": "Epoch 1:  33%"
     }
    },
    "60652e3d1510478c9c6ef3fc7060bac6": {
     "model_module": "@jupyter-widgets/controls",
     "model_name": "FloatProgressModel",
     "model_module_version": "1.5.0",
     "state": {
      "_dom_classes": [],
      "_model_module": "@jupyter-widgets/controls",
      "_model_module_version": "1.5.0",
      "_model_name": "FloatProgressModel",
      "_view_count": null,
      "_view_module": "@jupyter-widgets/controls",
      "_view_module_version": "1.5.0",
      "_view_name": "ProgressView",
      "bar_style": "",
      "description": "",
      "description_tooltip": null,
      "layout": "IPY_MODEL_bd3c24662e9f4486a19cf62e082c3d18",
      "max": 548,
      "min": 0,
      "orientation": "horizontal",
      "style": "IPY_MODEL_9295c27b0f9d4532bc3bfb687672e232",
      "value": 180
     }
    },
    "546e464c00cb4b0ba30acbe5a0fac5bf": {
     "model_module": "@jupyter-widgets/controls",
     "model_name": "HTMLModel",
     "model_module_version": "1.5.0",
     "state": {
      "_dom_classes": [],
      "_model_module": "@jupyter-widgets/controls",
      "_model_module_version": "1.5.0",
      "_model_name": "HTMLModel",
      "_view_count": null,
      "_view_module": "@jupyter-widgets/controls",
      "_view_module_version": "1.5.0",
      "_view_name": "HTMLView",
      "description": "",
      "description_tooltip": null,
      "layout": "IPY_MODEL_f24dc9fbeb904ec1854117ac78ce37c5",
      "placeholder": "​",
      "style": "IPY_MODEL_bd145f6605854fcc8c0deb185199a665",
      "value": " 180/548 [00:25&lt;00:52,  7.04it/s, loss=0.272, v_num=6, train_loss=0.282, val_loss=0.286]"
     }
    },
    "c590a019380a48c7847626c3ee85c8b4": {
     "model_module": "@jupyter-widgets/base",
     "model_name": "LayoutModel",
     "model_module_version": "1.2.0",
     "state": {
      "_model_module": "@jupyter-widgets/base",
      "_model_module_version": "1.2.0",
      "_model_name": "LayoutModel",
      "_view_count": null,
      "_view_module": "@jupyter-widgets/base",
      "_view_module_version": "1.2.0",
      "_view_name": "LayoutView",
      "align_content": null,
      "align_items": null,
      "align_self": null,
      "border": null,
      "bottom": null,
      "display": "inline-flex",
      "flex": null,
      "flex_flow": "row wrap",
      "grid_area": null,
      "grid_auto_columns": null,
      "grid_auto_flow": null,
      "grid_auto_rows": null,
      "grid_column": null,
      "grid_gap": null,
      "grid_row": null,
      "grid_template_areas": null,
      "grid_template_columns": null,
      "grid_template_rows": null,
      "height": null,
      "justify_content": null,
      "justify_items": null,
      "left": null,
      "margin": null,
      "max_height": null,
      "max_width": null,
      "min_height": null,
      "min_width": null,
      "object_fit": null,
      "object_position": null,
      "order": null,
      "overflow": null,
      "overflow_x": null,
      "overflow_y": null,
      "padding": null,
      "right": null,
      "top": null,
      "visibility": null,
      "width": "100%"
     }
    },
    "71a02bb021d8465c8486418804b046c9": {
     "model_module": "@jupyter-widgets/base",
     "model_name": "LayoutModel",
     "model_module_version": "1.2.0",
     "state": {
      "_model_module": "@jupyter-widgets/base",
      "_model_module_version": "1.2.0",
      "_model_name": "LayoutModel",
      "_view_count": null,
      "_view_module": "@jupyter-widgets/base",
      "_view_module_version": "1.2.0",
      "_view_name": "LayoutView",
      "align_content": null,
      "align_items": null,
      "align_self": null,
      "border": null,
      "bottom": null,
      "display": null,
      "flex": null,
      "flex_flow": null,
      "grid_area": null,
      "grid_auto_columns": null,
      "grid_auto_flow": null,
      "grid_auto_rows": null,
      "grid_column": null,
      "grid_gap": null,
      "grid_row": null,
      "grid_template_areas": null,
      "grid_template_columns": null,
      "grid_template_rows": null,
      "height": null,
      "justify_content": null,
      "justify_items": null,
      "left": null,
      "margin": null,
      "max_height": null,
      "max_width": null,
      "min_height": null,
      "min_width": null,
      "object_fit": null,
      "object_position": null,
      "order": null,
      "overflow": null,
      "overflow_x": null,
      "overflow_y": null,
      "padding": null,
      "right": null,
      "top": null,
      "visibility": null,
      "width": null
     }
    },
    "5aea5ac1674a4c0481047d3fe98e3214": {
     "model_module": "@jupyter-widgets/controls",
     "model_name": "DescriptionStyleModel",
     "model_module_version": "1.5.0",
     "state": {
      "_model_module": "@jupyter-widgets/controls",
      "_model_module_version": "1.5.0",
      "_model_name": "DescriptionStyleModel",
      "_view_count": null,
      "_view_module": "@jupyter-widgets/base",
      "_view_module_version": "1.2.0",
      "_view_name": "StyleView",
      "description_width": ""
     }
    },
    "bd3c24662e9f4486a19cf62e082c3d18": {
     "model_module": "@jupyter-widgets/base",
     "model_name": "LayoutModel",
     "model_module_version": "1.2.0",
     "state": {
      "_model_module": "@jupyter-widgets/base",
      "_model_module_version": "1.2.0",
      "_model_name": "LayoutModel",
      "_view_count": null,
      "_view_module": "@jupyter-widgets/base",
      "_view_module_version": "1.2.0",
      "_view_name": "LayoutView",
      "align_content": null,
      "align_items": null,
      "align_self": null,
      "border": null,
      "bottom": null,
      "display": null,
      "flex": "2",
      "flex_flow": null,
      "grid_area": null,
      "grid_auto_columns": null,
      "grid_auto_flow": null,
      "grid_auto_rows": null,
      "grid_column": null,
      "grid_gap": null,
      "grid_row": null,
      "grid_template_areas": null,
      "grid_template_columns": null,
      "grid_template_rows": null,
      "height": null,
      "justify_content": null,
      "justify_items": null,
      "left": null,
      "margin": null,
      "max_height": null,
      "max_width": null,
      "min_height": null,
      "min_width": null,
      "object_fit": null,
      "object_position": null,
      "order": null,
      "overflow": null,
      "overflow_x": null,
      "overflow_y": null,
      "padding": null,
      "right": null,
      "top": null,
      "visibility": null,
      "width": null
     }
    },
    "9295c27b0f9d4532bc3bfb687672e232": {
     "model_module": "@jupyter-widgets/controls",
     "model_name": "ProgressStyleModel",
     "model_module_version": "1.5.0",
     "state": {
      "_model_module": "@jupyter-widgets/controls",
      "_model_module_version": "1.5.0",
      "_model_name": "ProgressStyleModel",
      "_view_count": null,
      "_view_module": "@jupyter-widgets/base",
      "_view_module_version": "1.2.0",
      "_view_name": "StyleView",
      "bar_color": null,
      "description_width": ""
     }
    },
    "f24dc9fbeb904ec1854117ac78ce37c5": {
     "model_module": "@jupyter-widgets/base",
     "model_name": "LayoutModel",
     "model_module_version": "1.2.0",
     "state": {
      "_model_module": "@jupyter-widgets/base",
      "_model_module_version": "1.2.0",
      "_model_name": "LayoutModel",
      "_view_count": null,
      "_view_module": "@jupyter-widgets/base",
      "_view_module_version": "1.2.0",
      "_view_name": "LayoutView",
      "align_content": null,
      "align_items": null,
      "align_self": null,
      "border": null,
      "bottom": null,
      "display": null,
      "flex": null,
      "flex_flow": null,
      "grid_area": null,
      "grid_auto_columns": null,
      "grid_auto_flow": null,
      "grid_auto_rows": null,
      "grid_column": null,
      "grid_gap": null,
      "grid_row": null,
      "grid_template_areas": null,
      "grid_template_columns": null,
      "grid_template_rows": null,
      "height": null,
      "justify_content": null,
      "justify_items": null,
      "left": null,
      "margin": null,
      "max_height": null,
      "max_width": null,
      "min_height": null,
      "min_width": null,
      "object_fit": null,
      "object_position": null,
      "order": null,
      "overflow": null,
      "overflow_x": null,
      "overflow_y": null,
      "padding": null,
      "right": null,
      "top": null,
      "visibility": null,
      "width": null
     }
    },
    "bd145f6605854fcc8c0deb185199a665": {
     "model_module": "@jupyter-widgets/controls",
     "model_name": "DescriptionStyleModel",
     "model_module_version": "1.5.0",
     "state": {
      "_model_module": "@jupyter-widgets/controls",
      "_model_module_version": "1.5.0",
      "_model_name": "DescriptionStyleModel",
      "_view_count": null,
      "_view_module": "@jupyter-widgets/base",
      "_view_module_version": "1.2.0",
      "_view_name": "StyleView",
      "description_width": ""
     }
    },
    "c632971657794b51b66436fc58012d8d": {
     "model_module": "@jupyter-widgets/controls",
     "model_name": "HBoxModel",
     "model_module_version": "1.5.0",
     "state": {
      "_dom_classes": [],
      "_model_module": "@jupyter-widgets/controls",
      "_model_module_version": "1.5.0",
      "_model_name": "HBoxModel",
      "_view_count": null,
      "_view_module": "@jupyter-widgets/controls",
      "_view_module_version": "1.5.0",
      "_view_name": "HBoxView",
      "box_style": "",
      "children": [
       "IPY_MODEL_389bce6eee014c37bea40b4eb3b42901",
       "IPY_MODEL_d08aef71277445c6848a7ce875610797",
       "IPY_MODEL_e2edebab198b4dc59f5ecdad516ccdec"
      ],
      "layout": "IPY_MODEL_2d5124d213b14f2ab166854727329699"
     }
    },
    "389bce6eee014c37bea40b4eb3b42901": {
     "model_module": "@jupyter-widgets/controls",
     "model_name": "HTMLModel",
     "model_module_version": "1.5.0",
     "state": {
      "_dom_classes": [],
      "_model_module": "@jupyter-widgets/controls",
      "_model_module_version": "1.5.0",
      "_model_name": "HTMLModel",
      "_view_count": null,
      "_view_module": "@jupyter-widgets/controls",
      "_view_module_version": "1.5.0",
      "_view_name": "HTMLView",
      "description": "",
      "description_tooltip": null,
      "layout": "IPY_MODEL_9a51ff086a7b480984d11da1746220d6",
      "placeholder": "​",
      "style": "IPY_MODEL_62786cf112dc427b8ad10c25a7b6d452",
      "value": "Validation DataLoader 0: 100%"
     }
    },
    "d08aef71277445c6848a7ce875610797": {
     "model_module": "@jupyter-widgets/controls",
     "model_name": "FloatProgressModel",
     "model_module_version": "1.5.0",
     "state": {
      "_dom_classes": [],
      "_model_module": "@jupyter-widgets/controls",
      "_model_module_version": "1.5.0",
      "_model_name": "FloatProgressModel",
      "_view_count": null,
      "_view_module": "@jupyter-widgets/controls",
      "_view_module_version": "1.5.0",
      "_view_name": "ProgressView",
      "bar_style": "",
      "description": "",
      "description_tooltip": null,
      "layout": "IPY_MODEL_900bac62ecbb48b8b169b3371868f388",
      "max": 79,
      "min": 0,
      "orientation": "horizontal",
      "style": "IPY_MODEL_3dae5396844640828edda0bc0279db85",
      "value": 79
     }
    },
    "e2edebab198b4dc59f5ecdad516ccdec": {
     "model_module": "@jupyter-widgets/controls",
     "model_name": "HTMLModel",
     "model_module_version": "1.5.0",
     "state": {
      "_dom_classes": [],
      "_model_module": "@jupyter-widgets/controls",
      "_model_module_version": "1.5.0",
      "_model_name": "HTMLModel",
      "_view_count": null,
      "_view_module": "@jupyter-widgets/controls",
      "_view_module_version": "1.5.0",
      "_view_name": "HTMLView",
      "description": "",
      "description_tooltip": null,
      "layout": "IPY_MODEL_7e05dbdf17584419954aa9577acd2e88",
      "placeholder": "​",
      "style": "IPY_MODEL_7da6e22fbb7b4afb8fe9ed4b673f876e",
      "value": " 79/79 [00:09&lt;00:00,  8.23it/s]"
     }
    },
    "2d5124d213b14f2ab166854727329699": {
     "model_module": "@jupyter-widgets/base",
     "model_name": "LayoutModel",
     "model_module_version": "1.2.0",
     "state": {
      "_model_module": "@jupyter-widgets/base",
      "_model_module_version": "1.2.0",
      "_model_name": "LayoutModel",
      "_view_count": null,
      "_view_module": "@jupyter-widgets/base",
      "_view_module_version": "1.2.0",
      "_view_name": "LayoutView",
      "align_content": null,
      "align_items": null,
      "align_self": null,
      "border": null,
      "bottom": null,
      "display": "inline-flex",
      "flex": null,
      "flex_flow": "row wrap",
      "grid_area": null,
      "grid_auto_columns": null,
      "grid_auto_flow": null,
      "grid_auto_rows": null,
      "grid_column": null,
      "grid_gap": null,
      "grid_row": null,
      "grid_template_areas": null,
      "grid_template_columns": null,
      "grid_template_rows": null,
      "height": null,
      "justify_content": null,
      "justify_items": null,
      "left": null,
      "margin": null,
      "max_height": null,
      "max_width": null,
      "min_height": null,
      "min_width": null,
      "object_fit": null,
      "object_position": null,
      "order": null,
      "overflow": null,
      "overflow_x": null,
      "overflow_y": null,
      "padding": null,
      "right": null,
      "top": null,
      "visibility": "hidden",
      "width": "100%"
     }
    },
    "9a51ff086a7b480984d11da1746220d6": {
     "model_module": "@jupyter-widgets/base",
     "model_name": "LayoutModel",
     "model_module_version": "1.2.0",
     "state": {
      "_model_module": "@jupyter-widgets/base",
      "_model_module_version": "1.2.0",
      "_model_name": "LayoutModel",
      "_view_count": null,
      "_view_module": "@jupyter-widgets/base",
      "_view_module_version": "1.2.0",
      "_view_name": "LayoutView",
      "align_content": null,
      "align_items": null,
      "align_self": null,
      "border": null,
      "bottom": null,
      "display": null,
      "flex": null,
      "flex_flow": null,
      "grid_area": null,
      "grid_auto_columns": null,
      "grid_auto_flow": null,
      "grid_auto_rows": null,
      "grid_column": null,
      "grid_gap": null,
      "grid_row": null,
      "grid_template_areas": null,
      "grid_template_columns": null,
      "grid_template_rows": null,
      "height": null,
      "justify_content": null,
      "justify_items": null,
      "left": null,
      "margin": null,
      "max_height": null,
      "max_width": null,
      "min_height": null,
      "min_width": null,
      "object_fit": null,
      "object_position": null,
      "order": null,
      "overflow": null,
      "overflow_x": null,
      "overflow_y": null,
      "padding": null,
      "right": null,
      "top": null,
      "visibility": null,
      "width": null
     }
    },
    "62786cf112dc427b8ad10c25a7b6d452": {
     "model_module": "@jupyter-widgets/controls",
     "model_name": "DescriptionStyleModel",
     "model_module_version": "1.5.0",
     "state": {
      "_model_module": "@jupyter-widgets/controls",
      "_model_module_version": "1.5.0",
      "_model_name": "DescriptionStyleModel",
      "_view_count": null,
      "_view_module": "@jupyter-widgets/base",
      "_view_module_version": "1.2.0",
      "_view_name": "StyleView",
      "description_width": ""
     }
    },
    "900bac62ecbb48b8b169b3371868f388": {
     "model_module": "@jupyter-widgets/base",
     "model_name": "LayoutModel",
     "model_module_version": "1.2.0",
     "state": {
      "_model_module": "@jupyter-widgets/base",
      "_model_module_version": "1.2.0",
      "_model_name": "LayoutModel",
      "_view_count": null,
      "_view_module": "@jupyter-widgets/base",
      "_view_module_version": "1.2.0",
      "_view_name": "LayoutView",
      "align_content": null,
      "align_items": null,
      "align_self": null,
      "border": null,
      "bottom": null,
      "display": null,
      "flex": "2",
      "flex_flow": null,
      "grid_area": null,
      "grid_auto_columns": null,
      "grid_auto_flow": null,
      "grid_auto_rows": null,
      "grid_column": null,
      "grid_gap": null,
      "grid_row": null,
      "grid_template_areas": null,
      "grid_template_columns": null,
      "grid_template_rows": null,
      "height": null,
      "justify_content": null,
      "justify_items": null,
      "left": null,
      "margin": null,
      "max_height": null,
      "max_width": null,
      "min_height": null,
      "min_width": null,
      "object_fit": null,
      "object_position": null,
      "order": null,
      "overflow": null,
      "overflow_x": null,
      "overflow_y": null,
      "padding": null,
      "right": null,
      "top": null,
      "visibility": null,
      "width": null
     }
    },
    "3dae5396844640828edda0bc0279db85": {
     "model_module": "@jupyter-widgets/controls",
     "model_name": "ProgressStyleModel",
     "model_module_version": "1.5.0",
     "state": {
      "_model_module": "@jupyter-widgets/controls",
      "_model_module_version": "1.5.0",
      "_model_name": "ProgressStyleModel",
      "_view_count": null,
      "_view_module": "@jupyter-widgets/base",
      "_view_module_version": "1.2.0",
      "_view_name": "StyleView",
      "bar_color": null,
      "description_width": ""
     }
    },
    "7e05dbdf17584419954aa9577acd2e88": {
     "model_module": "@jupyter-widgets/base",
     "model_name": "LayoutModel",
     "model_module_version": "1.2.0",
     "state": {
      "_model_module": "@jupyter-widgets/base",
      "_model_module_version": "1.2.0",
      "_model_name": "LayoutModel",
      "_view_count": null,
      "_view_module": "@jupyter-widgets/base",
      "_view_module_version": "1.2.0",
      "_view_name": "LayoutView",
      "align_content": null,
      "align_items": null,
      "align_self": null,
      "border": null,
      "bottom": null,
      "display": null,
      "flex": null,
      "flex_flow": null,
      "grid_area": null,
      "grid_auto_columns": null,
      "grid_auto_flow": null,
      "grid_auto_rows": null,
      "grid_column": null,
      "grid_gap": null,
      "grid_row": null,
      "grid_template_areas": null,
      "grid_template_columns": null,
      "grid_template_rows": null,
      "height": null,
      "justify_content": null,
      "justify_items": null,
      "left": null,
      "margin": null,
      "max_height": null,
      "max_width": null,
      "min_height": null,
      "min_width": null,
      "object_fit": null,
      "object_position": null,
      "order": null,
      "overflow": null,
      "overflow_x": null,
      "overflow_y": null,
      "padding": null,
      "right": null,
      "top": null,
      "visibility": null,
      "width": null
     }
    },
    "7da6e22fbb7b4afb8fe9ed4b673f876e": {
     "model_module": "@jupyter-widgets/controls",
     "model_name": "DescriptionStyleModel",
     "model_module_version": "1.5.0",
     "state": {
      "_model_module": "@jupyter-widgets/controls",
      "_model_module_version": "1.5.0",
      "_model_name": "DescriptionStyleModel",
      "_view_count": null,
      "_view_module": "@jupyter-widgets/base",
      "_view_module_version": "1.2.0",
      "_view_name": "StyleView",
      "description_width": ""
     }
    }
   }
  }
 },
 "cells": [
  {
   "cell_type": "markdown",
   "source": [
    "# Семинар 4: Методы оптимизации, PyTorch Lightning\n",
    "\n",
    "## Вступление\n",
    "На предыдущем курсе мы обсуждали с вами методы градиентного спуска и стохастического градиентного спуска. Для нейронных сетей обычно используют более продвинутые методы оптимизации, которые основаны на известном нам градиентном спуске. Сегодня мы посмотрим на то, как использовать их в **PyTorch**, а также разберём библиотеку **PyTorch Lightning**, позволяющую сократить количество кода, которое нам приходится писать на **PyTorch**.\n",
    "\n",
    "### План семинара\n",
    "1. Оптимизируем функцию одной переменной в **PyTorch**\n",
    "2. Изучаем разные методы оптимизации\n",
    "3. Работаем с PyTorch Optimizer\n",
    "4. Работаем с PyTorch Scheduler\n",
    "5. PyTorch VS PyTorch Lightning\n",
    "6. Сравнением работу разных оптимизаторов"
   ],
   "metadata": {
    "collapsed": false
   }
  },
  {
   "cell_type": "code",
   "execution_count": 1,
   "outputs": [],
   "source": [
    "# !pip3 install pytorch_lightning torchmetrics"
   ],
   "metadata": {
    "collapsed": false
   }
  },
  {
   "cell_type": "code",
   "metadata": {
    "id": "lUJcEdalKlZn"
   },
   "source": [
    "import os\n",
    "import random\n",
    "import sys\n",
    "\n",
    "import matplotlib.pyplot as plt\n",
    "import numpy as np\n",
    "import torch\n",
    "import torch.nn.functional as F\n",
    "from tqdm import tqdm"
   ],
   "execution_count": 2,
   "outputs": []
  },
  {
   "cell_type": "code",
   "source": [
    "def seed_everything(seed):\n",
    "    # фискирует максимум сидов для корректности сравнения разных экспериментов\n",
    "    random.seed(seed)\n",
    "    os.environ[\"PYTHONHASHSEED\"] = str(seed)\n",
    "    np.random.seed(seed)\n",
    "    torch.manual_seed(seed)\n",
    "    torch.cuda.manual_seed(seed)\n",
    "    torch.backends.cudnn.deterministic = True\n",
    "\n",
    "\n",
    "seed_everything(0xBADBEEF)\n",
    "device = torch.device(\"cuda\") if torch.cuda.is_available() else torch.device(\"cpu\")"
   ],
   "metadata": {
    "id": "PGd36K4dlgL5"
   },
   "execution_count": 3,
   "outputs": []
  },
  {
   "cell_type": "markdown",
   "metadata": {
    "id": "kD68Ub9hKlZy"
   },
   "source": [
    "## Оптимизируем функцию одной переменной в **PyTorch**\n",
    "Как вам показали на лекции, большинство методов машинного обучения сводятся к простому поиску параметров, который бы минимизировал ошибку на тренировочной выборке:\n",
    "$$\n",
    "\\min_{\\theta}L(p_{\\theta}(X), Y)\n",
    "$$\n",
    "Здесь:\n",
    "* $L$ - некоторый лосс,\n",
    "* $p_{\\theta}$ - нейронная сеть с параметрами $\\theta$\n",
    "* $X$ - данные для обучения,\n",
    "* $Y$ - ответы\n",
    "\n",
    "Давайте руками напишем алгоритм для поиска минимума функции $f(x) = x^{3} + 2x^{2} + 2$."
   ]
  },
  {
   "cell_type": "code",
   "metadata": {
    "colab": {
     "base_uri": "https://localhost:8080/"
    },
    "id": "6RDPRKKHKlZ0",
    "outputId": "0b601ca0-361f-4dc2-e46b-62f143279478"
   },
   "source": [
    "# наша функция f(x)\n",
    "func = lambda x: x ** 3 - 2 * x ** 2 + 2\n",
    "# производная функции f(x)\n",
    "d_func = lambda x: 3 * x ** 2 - 4 * x\n",
    "# сделаем массив из 1000 элементов от -3 до 3\n",
    "x = np.linspace(-3, 3, 1000)\n",
    "# определим границы по y для графика\n",
    "plt.ylim([-1, 3])\n",
    "plt.plot(x, func(x))\n",
    "plt.grid()\n",
    "plt.show()"
   ],
   "execution_count": 4,
   "outputs": [
    {
     "data": {
      "text/plain": "<Figure size 432x288 with 1 Axes>",
      "image/png": "[encoded data removed]"
     },
     "metadata": {
      "needs_background": "light"
     },
     "output_type": "display_data"
    }
   ]
  },
  {
   "cell_type": "markdown",
   "metadata": {
    "id": "NYQ4OyiUKlZ4"
   },
   "source": [
    "Определим функцию для оптимизации $f(x)$, которая должна принимать на вход learning rate и максимальное количество итераций."
   ]
  },
  {
   "cell_type": "code",
   "metadata": {
    "id": "dQ_QI8CiKlZ5"
   },
   "source": [
    "def find_minimum_first_order(\n",
    "        learning_rate=0.01,\n",
    "        eps=1e-4,\n",
    "        max_iterations=1000,\n",
    "        anneal_learning_rate=None\n",
    "):\n",
    "    i = 0\n",
    "    x_old, x_new = 0, 2\n",
    "    # будем сохранять историю значений x и y\n",
    "    x_list, y_list = [x_old], [func(x_old)]\n",
    "    if not anneal_learning_rate:\n",
    "        anneal_learning_rate = lambda lr, step: lr\n",
    "    # TODO:\n",
    "    # Your code here\n",
    "    # --------------\n",
    "    while abs(x_new - x_old) > eps and i < max_iterations:\n",
    "        # получим learning rate для текущей итерации\n",
    "        learning_rate = anneal_learning_rate(learning_rate, step=i)\n",
    "        # обновим x_old\n",
    "        x_old = x_new\n",
    "        # сделаем один шаг gradient descent\n",
    "        x_new = x_old - learning_rate * d_func(x_old)\n",
    "        # добавим новые значения для визуализации сходимости\n",
    "        x_list.append(x_new)\n",
    "        y_list.append(func(x_new))\n",
    "        i += 1\n",
    "    # --------------\n",
    "    print(\"Найденный локальный минимум:\", x_new)\n",
    "    print(\"Количество шагов:\", len(x_list))\n",
    "    # Визуализируем сходимость\n",
    "    plt.figure(figsize=[6, 4])\n",
    "    plt.ylim([-3, 8])\n",
    "    plt.scatter(x_list, y_list, c=\"r\", edgecolors='k')\n",
    "    plt.plot(x_list, y_list, c=\"r\")\n",
    "    plt.plot(x, func(x), c=\"b\")\n",
    "    plt.title(\"Descent trajectory\")\n",
    "    plt.grid()\n",
    "    plt.show()"
   ],
   "execution_count": 5,
   "outputs": []
  },
  {
   "cell_type": "markdown",
   "metadata": {
    "id": "iBakKAc4KlZ8"
   },
   "source": [
    "Попробуем различные `learning_rate` и посмотрим на поведение оптимизации."
   ]
  },
  {
   "cell_type": "code",
   "metadata": {
    "colab": {
     "base_uri": "https://localhost:8080/"
    },
    "id": "kBe4cH6vKlZ9",
    "outputId": "51c73140-ba1b-4e3f-b5f8-5391f1993cdf"
   },
   "source": [
    "find_minimum_first_order(0.001)"
   ],
   "execution_count": 6,
   "outputs": [
    {
     "name": "stdout",
     "output_type": "stream",
     "text": [
      "Найденный локальный минимум: 1.3577577123861129\n",
      "Количество шагов: 729\n"
     ]
    },
    {
     "data": {
      "text/plain": "<Figure size 432x288 with 1 Axes>",
      "image/png": "[encoded data removed]"
     },
     "metadata": {
      "needs_background": "light"
     },
     "output_type": "display_data"
    }
   ]
  },
  {
   "cell_type": "markdown",
   "metadata": {
    "id": "U6qHwvrQKlaA"
   },
   "source": [
    "Слишком мало, будем очень долго идти к локальному минимуму."
   ]
  },
  {
   "cell_type": "code",
   "metadata": {
    "colab": {
     "base_uri": "https://localhost:8080/"
    },
    "id": "4fJFR4SlKlaB",
    "outputId": "26d039e0-65cf-43e4-d1fe-0601dd06205b"
   },
   "source": [
    "find_minimum_first_order(0.01)"
   ],
   "execution_count": 7,
   "outputs": [
    {
     "name": "stdout",
     "output_type": "stream",
     "text": [
      "Найденный локальный минимум: 1.3356881625009205\n",
      "Количество шагов: 129\n"
     ]
    },
    {
     "data": {
      "text/plain": "<Figure size 432x288 with 1 Axes>",
      "image/png": "[encoded data removed]"
     },
     "metadata": {
      "needs_background": "light"
     },
     "output_type": "display_data"
    }
   ]
  },
  {
   "cell_type": "markdown",
   "metadata": {
    "id": "tyeqRTitKlaF"
   },
   "source": [
    "Уже лучше."
   ]
  },
  {
   "cell_type": "code",
   "metadata": {
    "colab": {
     "base_uri": "https://localhost:8080/"
    },
    "id": "AEX-iPPJKlaF",
    "outputId": "6c69720b-77bf-419a-dc9c-802540487e42"
   },
   "source": [
    "find_minimum_first_order(0.3)"
   ],
   "execution_count": 8,
   "outputs": [
    {
     "name": "stdout",
     "output_type": "stream",
     "text": [
      "Найденный локальный минимум: 1.3333495713163788\n",
      "Количество шагов: 8\n"
     ]
    },
    {
     "data": {
      "text/plain": "<Figure size 432x288 with 1 Axes>",
      "image/png": "[encoded data removed]"
     },
     "metadata": {
      "needs_background": "light"
     },
     "output_type": "display_data"
    }
   ]
  },
  {
   "cell_type": "code",
   "metadata": {
    "colab": {
     "base_uri": "https://localhost:8080/"
    },
    "id": "6Xz1B6hyKlaI",
    "outputId": "30e17323-25a8-464f-b050-8a5700f85c05"
   },
   "source": [
    "find_minimum_first_order(0.6)"
   ],
   "execution_count": 9,
   "outputs": [
    {
     "ename": "OverflowError",
     "evalue": "(34, 'Result too large')",
     "output_type": "error",
     "traceback": [
      "\u001B[0;31m---------------------------------------------------------------------------\u001B[0m",
      "\u001B[0;31mOverflowError\u001B[0m                             Traceback (most recent call last)",
      "Input \u001B[0;32mIn [9]\u001B[0m, in \u001B[0;36m<cell line: 1>\u001B[0;34m()\u001B[0m\n\u001B[0;32m----> 1\u001B[0m \u001B[43mfind_minimum_first_order\u001B[49m\u001B[43m(\u001B[49m\u001B[38;5;241;43m0.6\u001B[39;49m\u001B[43m)\u001B[49m\n",
      "Input \u001B[0;32mIn [5]\u001B[0m, in \u001B[0;36mfind_minimum_first_order\u001B[0;34m(learning_rate, eps, max_iterations, anneal_learning_rate)\u001B[0m\n\u001B[1;32m     23\u001B[0m     \u001B[38;5;66;03m# добавим новые значения для визуализации сходимости\u001B[39;00m\n\u001B[1;32m     24\u001B[0m     x_list\u001B[38;5;241m.\u001B[39mappend(x_new)\n\u001B[0;32m---> 25\u001B[0m     y_list\u001B[38;5;241m.\u001B[39mappend(\u001B[43mfunc\u001B[49m\u001B[43m(\u001B[49m\u001B[43mx_new\u001B[49m\u001B[43m)\u001B[49m)\n\u001B[1;32m     26\u001B[0m     i \u001B[38;5;241m+\u001B[39m\u001B[38;5;241m=\u001B[39m \u001B[38;5;241m1\u001B[39m\n\u001B[1;32m     27\u001B[0m \u001B[38;5;66;03m# --------------\u001B[39;00m\n",
      "Input \u001B[0;32mIn [4]\u001B[0m, in \u001B[0;36m<lambda>\u001B[0;34m(x)\u001B[0m\n\u001B[1;32m      1\u001B[0m \u001B[38;5;66;03m# наша функция f(x)\u001B[39;00m\n\u001B[0;32m----> 2\u001B[0m func \u001B[38;5;241m=\u001B[39m \u001B[38;5;28;01mlambda\u001B[39;00m x: \u001B[43mx\u001B[49m\u001B[43m \u001B[49m\u001B[38;5;241;43m*\u001B[39;49m\u001B[38;5;241;43m*\u001B[39;49m\u001B[43m \u001B[49m\u001B[38;5;241;43m3\u001B[39;49m \u001B[38;5;241m-\u001B[39m \u001B[38;5;241m2\u001B[39m \u001B[38;5;241m*\u001B[39m x \u001B[38;5;241m*\u001B[39m\u001B[38;5;241m*\u001B[39m \u001B[38;5;241m2\u001B[39m \u001B[38;5;241m+\u001B[39m \u001B[38;5;241m2\u001B[39m\n\u001B[1;32m      3\u001B[0m \u001B[38;5;66;03m# производная функции f(x)\u001B[39;00m\n\u001B[1;32m      4\u001B[0m d_func \u001B[38;5;241m=\u001B[39m \u001B[38;5;28;01mlambda\u001B[39;00m x: \u001B[38;5;241m3\u001B[39m \u001B[38;5;241m*\u001B[39m x \u001B[38;5;241m*\u001B[39m\u001B[38;5;241m*\u001B[39m \u001B[38;5;241m2\u001B[39m \u001B[38;5;241m-\u001B[39m \u001B[38;5;241m4\u001B[39m \u001B[38;5;241m*\u001B[39m x\n",
      "\u001B[0;31mOverflowError\u001B[0m: (34, 'Result too large')"
     ]
    }
   ]
  },
  {
   "cell_type": "markdown",
   "metadata": {
    "id": "gTTbzvS0KlaM"
   },
   "source": [
    "Ууупс, получили Overflow. Значит learning rate слишком большой. Хотя большой learning rate опасен возможностью overflow у него есть ряд преимуществ. Чем больше темп обучения, тем большие расстояния мы преодолеваем за один шаг и тем выше вероятность быстрее найти хорошее пространство локальных минимумов.\n",
    "\n",
    "Хорошая стратегия — начинать с достаточно большого шага (чтобы хорошо попутешествовать по функции), а потом постепенно его уменьшать, чтобы стабилизировать процесс обучения в каком-то локальном минимуме."
   ]
  },
  {
   "cell_type": "code",
   "metadata": {
    "id": "itCkyBdaKlaN"
   },
   "source": [
    "find_minimum_first_order(0.6, anneal_learning_rate=lambda lr, step: 0.3 * lr)"
   ],
   "execution_count": 10,
   "outputs": [
    {
     "name": "stdout",
     "output_type": "stream",
     "text": [
      "Найденный локальный минимум: 1.294744839667743\n",
      "Количество шагов: 7\n"
     ]
    },
    {
     "data": {
      "text/plain": "<Figure size 432x288 with 1 Axes>",
      "image/png": "[encoded data removed]"
     },
     "metadata": {
      "needs_background": "light"
     },
     "output_type": "display_data"
    }
   ]
  },
  {
   "cell_type": "markdown",
   "metadata": {
    "id": "pSMWbov7ZrSQ"
   },
   "source": [
    "## Изучаем разные методы оптимизации\n",
    "\n",
    "### Stochastic Gradient Descent\n",
    "SGD - этот же самый gradient descent, что мы рассматривали ранее, но подсчёт градиентов производится не по всему множеству данных, а по отдельно взятому сэмплу. Очевидно, такая оптимизация будет очень шумной, что усложнит обучение модели. Поэтому обычно используют MiniBatch-SGD, где вместо одного сэмпла мы берём $k$. У такого подхода ниже variance в сравнении с обычным SGD, что приводит к более стабильному процессу оптимизации. В том эе время нам всё ещё не нужно работать со всей выборкой одновременно, поэтому мы можем контролировать используемую память.\n",
    "\n",
    "$$\n",
    "\\begin{eqnarray}\n",
    "g &=& \\frac{1}{m}\\nabla_w \\sum_i L(f(x_{i};w), y_{i}) \\\\\n",
    "w &=& w - \\eta \\times g\n",
    "\\end{eqnarray}\n",
    "$$\n",
    "\n",
    "### Stochastic Gradient Descent with Momentum\n",
    "Попытаемся добавить SGD эффект инерции. Теперь, вместо того чтобы двигаться строго в направлении градиента в каждой точке, мы стараемся продолжить движение в том же направлении, в котором двигались ранее. То есть у нашей точки, которая спускается по многомерной поверхности, появляется импульс (momentum), который контролируется при помощи параметра $\\alpha$. Он определяет какую часть прошлого градиента мы хотим использовать на текущем шаге.\n",
    "$$\n",
    "\\begin{eqnarray}\n",
    "g_{t} &=& \\alpha g_{t-1} + \\eta \\frac{1}{m}\\nabla_w \\sum_i L(f(x_{i};w), y_{i}) \\\\\n",
    "w &=& w - \\eta \\times g\n",
    "\\end{eqnarray}\n",
    "$$\n",
    "\n",
    "![Momentum](static/sgd_momentum.png)\n",
    "\n",
    "### Адаптивные варианты градиентного спуска\n",
    "Во всех предыдущих алгоритмах у нас был фиксированный learning rate. Начиная с Adagrad у нас будет идти алгоритмы, которые подстраивают learning rate в зависимости от обучения. Они называются адаптивными вариантами градиентного спуска.\n",
    "\n",
    "Адаптивные варианты градиентного спуска подстраивает темп обучения таким образом, чтобы делать большие или маленькие обновления отдельных параметров. Например, может так сложиться, что некоторые веса близки к своим локальным минимумам, тогда по этим координатам нужно двигаться медленнее, а другие веса ещё только в середине, значит их можно менять гораздо быстрее. Подобные методы часты приводят к более обоснованной модели и сходятся гораздо быстрее.\n",
    "\n",
    "#### Adagrad\n",
    "$$\n",
    "\\begin{eqnarray}\n",
    "g &=& \\frac{1}{m}\\nabla_w \\sum_i L(f(x_{i};w), y_{i}) \\\\\n",
    "s &=& s + diag(gg^{T}) \\\\\n",
    "w &=& w - \\frac{\\eta}{\\sqrt{s+eps}} \\odot g\n",
    "\\end{eqnarray}\n",
    "$$\n",
    "Теперь нам не нужно сильно волноваться о правильном подборе $\\eta$, так как $s$ контролирует скорость обучения для каждого параметра.\n",
    "\n",
    "#### RMSprop\n",
    "У Adagrad есть сильный минус. $s$ - всегда положительна и постоянно растёт во время обучения, что приводит к ситуации, когда у нас learning rate становится слишком маленький, и мы перестаём учиться. RMSprop исправляет эту проблему при помощи экспоненциального сглаживания:\n",
    "\n",
    "$$\n",
    "\\begin{eqnarray}\n",
    "g &=& \\frac{1}{m}\\nabla_w \\sum_i L(f(x_{i};w), y_{i}) \\\\\n",
    "s &=& \\rho s + (1 - \\rho) diag(gg^{T}) \\\\\n",
    "w &=& w - \\frac{\\eta}{\\sqrt{s+eps}} \\odot g\n",
    "\\end{eqnarray}\n",
    "$$\n",
    "\n",
    "#### Adam\n",
    "Добавим не только моменты второго порядка, но и первого при обновлении параметров:\n",
    "\n",
    "$$\n",
    "\\begin{eqnarray}\n",
    "g &=& \\frac{1}{m}\\nabla_w \\sum_i L(f(x_{i};w), y_{i}) \\\\\n",
    "m &=& \\beta_1 m + (1 - \\beta_1) g \\\\\n",
    "v &=& \\beta_2 v + (1 - \\beta_2) diag(gg^{T}) \\\\\n",
    "\\hat{m} &=& \\frac{m}{1 - \\beta_1^{t}} \\\\\n",
    "\\hat{v} &=& \\frac{v}{1 - \\beta_2^{t}} \\\\\n",
    "w &=& w - \\frac{\\eta}{\\sqrt{\\hat{v} + \\epsilon}} \\odot \\hat{m}\n",
    "\\end{eqnarray}\n",
    "$$\n",
    "\n",
    "#### Схема\n",
    "![Sheme](static/gd_scheme.png)"
   ]
  },
  {
   "cell_type": "markdown",
   "metadata": {
    "id": "ZeCXawXsKlaX"
   },
   "source": [
    "### Работаем с PyTorch Optimizer\n",
    "\n",
    "Очевидно, что для своих нейронных сетей не нужно каждый раз писать свой алгоритм и за вас уже сделаны все самые популярные методы. Их можно найти в **torch.optim** или по [ссылке](https://pytorch.org/docs/stable/optim.html#algorithms)."
   ]
  },
  {
   "cell_type": "code",
   "metadata": {
    "id": "8oraXo9DKlaX"
   },
   "source": [
    "[elem for elem in dir(torch.optim) if not elem.startswith(\"_\")]"
   ],
   "execution_count": 11,
   "outputs": [
    {
     "data": {
      "text/plain": "['ASGD',\n 'Adadelta',\n 'Adagrad',\n 'Adam',\n 'AdamW',\n 'Adamax',\n 'LBFGS',\n 'NAdam',\n 'Optimizer',\n 'RAdam',\n 'RMSprop',\n 'Rprop',\n 'SGD',\n 'SparseAdam',\n 'lr_scheduler',\n 'swa_utils']"
     },
     "execution_count": 11,
     "metadata": {},
     "output_type": "execute_result"
    }
   ]
  },
  {
   "cell_type": "markdown",
   "metadata": {
    "id": "-Xsq3M5VKlaa"
   },
   "source": [
    "Основные методы PyTorch Optimizer:\n",
    "* __step__ - обновление весов модели\n",
    "* __zero_grad__ - занулить веса модели (по умолчанию градиенты в PyTorch аккумулируются) ~ `for each param in params: param.grad = None`\n",
    "* __state_dict__ - получить текущее состояние Optimizer. Для адаптивных методов тут будут храниться аккумулированные квадраты градиентов\n",
    "\n",
    "\n",
    "### Как создать инстанс PyTorch Optimizer?\n",
    "\n",
    "Для того чтобы создать инстанс оптимизатора, достаточно передать ему параметры модели (их можно получить при помощи функции `parameters()`) и гиперпараметры для метода оптимизации.\n",
    "\n",
    "Пример:"
   ]
  },
  {
   "cell_type": "code",
   "metadata": {
    "id": "KLLI3GbM89kb"
   },
   "source": [
    "?torch.optim.SGD"
   ],
   "execution_count": 12,
   "outputs": []
  },
  {
   "cell_type": "code",
   "metadata": {
    "colab": {
     "base_uri": "https://localhost:8080/"
    },
    "id": "BDgqvgVJKlaa",
    "outputId": "0e41c5d8-6415-4560-86d8-c7f9b9645685"
   },
   "source": [
    "model = torch.nn.Linear(1, 1)\n",
    "list(model.named_parameters()), torch.optim.SGD(model.parameters(), lr=0.01)"
   ],
   "execution_count": 13,
   "outputs": [
    {
     "data": {
      "text/plain": "([('weight',\n   Parameter containing:\n   tensor([[-0.1194]], requires_grad=True)),\n  ('bias',\n   Parameter containing:\n   tensor([0.4259], requires_grad=True))],\n SGD (\n Parameter Group 0\n     dampening: 0\n     foreach: None\n     lr: 0.01\n     maximize: False\n     momentum: 0\n     nesterov: False\n     weight_decay: 0\n ))"
     },
     "execution_count": 13,
     "metadata": {},
     "output_type": "execute_result"
    }
   ]
  },
  {
   "cell_type": "markdown",
   "metadata": {
    "id": "7rpMKRptKlac"
   },
   "source": [
    "Или же вот так:"
   ]
  },
  {
   "cell_type": "code",
   "metadata": {
    "colab": {
     "base_uri": "https://localhost:8080/"
    },
    "id": "N6mSL4-CKlad",
    "outputId": "57294f79-f719-474d-8e35-550aee425e94"
   },
   "source": [
    "# Зададим PyTorch модули в качестве словаря\n",
    "model = torch.nn.ModuleDict({\n",
    "    \"linear_1\": torch.nn.Linear(1, 1),\n",
    "    \"linear_2\": torch.nn.Linear(2, 2)\n",
    "})\n",
    "torch.optim.SGD([\n",
    "    {\"params\": model[\"linear_1\"].parameters(), \"lr\": 0.3},\n",
    "    {\"params\": model[\"linear_2\"].parameters()}\n",
    "], lr=0.5)"
   ],
   "execution_count": 14,
   "outputs": [
    {
     "data": {
      "text/plain": "SGD (\nParameter Group 0\n    dampening: 0\n    foreach: None\n    lr: 0.3\n    maximize: False\n    momentum: 0\n    nesterov: False\n    weight_decay: 0\n\nParameter Group 1\n    dampening: 0\n    foreach: None\n    lr: 0.5\n    maximize: False\n    momentum: 0\n    nesterov: False\n    weight_decay: 0\n)"
     },
     "execution_count": 14,
     "metadata": {},
     "output_type": "execute_result"
    }
   ]
  },
  {
   "cell_type": "markdown",
   "metadata": {
    "id": "Jyw8oX6vpaO9"
   },
   "source": [
    "Последнее очень полезно, например, для transfer learning, когда мы хотим, чтобы предобученная модель тренировалась с другим learning rate.\n",
    "\n",
    "**Важный момент:** даже если у вас есть методы с адаптивным градиентом спуском, полностью забывать о настройке learning rate не стоит."
   ],
   "outputs": []
  },
  {
   "cell_type": "markdown",
   "source": [
    "### Работаем с PyTorch Scheduler\n",
    "\n",
    "В начале семинара мы уменьшили количество шагов до сходимости следующим образом: начали с достаточно большого шага, а потом постепенно его уменьшили, чтобы стабилизировать процесс обучения в минимуме. Оказывается есть много способов менять оптимизацию таким образом. Они называются Schedulers."
   ],
   "metadata": {
    "collapsed": false
   }
  },
  {
   "cell_type": "code",
   "source": [
    "[elem for elem in dir(torch.optim.lr_scheduler) if not elem.startswith(\"_\")]"
   ],
   "metadata": {
    "colab": {
     "base_uri": "https://localhost:8080/"
    },
    "id": "Ghk6fqbIqX_G",
    "outputId": "452ff276-4b52-494b-8d96-e1d9296be5e6"
   },
   "execution_count": 15,
   "outputs": [
    {
     "data": {
      "text/plain": "['ChainedScheduler',\n 'ConstantLR',\n 'CosineAnnealingLR',\n 'CosineAnnealingWarmRestarts',\n 'Counter',\n 'CyclicLR',\n 'EPOCH_DEPRECATION_WARNING',\n 'ExponentialLR',\n 'LambdaLR',\n 'LinearLR',\n 'MultiStepLR',\n 'MultiplicativeLR',\n 'OneCycleLR',\n 'Optimizer',\n 'ReduceLROnPlateau',\n 'SequentialLR',\n 'StepLR',\n 'bisect_right',\n 'inf',\n 'math',\n 'types',\n 'warnings',\n 'weakref',\n 'wraps']"
     },
     "execution_count": 15,
     "metadata": {},
     "output_type": "execute_result"
    }
   ]
  },
  {
   "cell_type": "markdown",
   "source": [
    "Основные методы PyTorch Scheduler:\n",
    "* __step__ - обновление размера шага. *Обычно вызывается **1 раз за эпоху**, а не каждый шаг оптимизатора.*\n",
    "* __state_dict__ - получить текущее состояние Scheduler: текущий LR, количество пройденных шагов и дополнительные параметры.\n",
    "\n",
    "\n",
    "### Как создать инстанс PyTorch Scheduler?\n",
    "\n",
    "Достаточно передать `optimizer` и гиперпараметры для метода.\n",
    "\n",
    "Пример:"
   ],
   "metadata": {
    "id": "00r2hf3HvUAR"
   }
  },
  {
   "cell_type": "code",
   "source": [
    "model = torch.nn.Linear(1, 1)\n",
    "optimizer = torch.optim.SGD(model.parameters(), lr=0.01)\n",
    "scheduler_func = lambda epoch: 0.65 ** epoch\n",
    "scheduler = torch.optim.lr_scheduler.LambdaLR(optimizer, scheduler_func)"
   ],
   "metadata": {
    "id": "dKZwrKBpwmsy"
   },
   "execution_count": 16,
   "outputs": []
  },
  {
   "cell_type": "markdown",
   "source": [
    "Сделаем пару небольших функций для отрисовки изменения шага обучения на разных шедулерах:"
   ],
   "metadata": {
    "id": "Xl6QuDjjrZmG"
   }
  },
  {
   "cell_type": "code",
   "source": [
    "def get_simple_model_optimizer():\n",
    "    simple_model = torch.nn.Linear(2, 1)\n",
    "    simple_optimizer = torch.optim.SGD(model.parameters(), lr=100)\n",
    "    return simple_model, simple_optimizer\n",
    "\n",
    "\n",
    "def draw_learning_rate_curve(optimizer, scheduler):\n",
    "    lrs = []\n",
    "    for i in range(100):\n",
    "        optimizer.step()\n",
    "        lrs.append(optimizer.param_groups[0][\"lr\"])\n",
    "        scheduler.step()\n",
    "    plt.grid()\n",
    "    plt.plot(range(100), lrs)"
   ],
   "metadata": {
    "id": "8zeYr14lrQ_j"
   },
   "execution_count": 17,
   "outputs": []
  },
  {
   "cell_type": "markdown",
   "source": [
    "### Примеры различных шедулеров в **PyTorch**\n",
    "\n",
    "#### Lambda LR\n",
    "Умножает шаг на значение данной ему функции: $lr_{epoch} = lr_{initial} * Lambda(epoch)$."
   ],
   "metadata": {
    "id": "sJJQ9HEQtpqY"
   }
  },
  {
   "cell_type": "code",
   "source": [
    "model, optimizer = get_simple_model_optimizer()\n",
    "lambda_func = lambda epoch: 0.95 ** epoch\n",
    "scheduler = torch.optim.lr_scheduler.LambdaLR(optimizer, lr_lambda=lambda_func)\n",
    "draw_learning_rate_curve(optimizer, scheduler)"
   ],
   "metadata": {
    "colab": {
     "base_uri": "https://localhost:8080/"
    },
    "id": "FZS4XOR8tK_E",
    "outputId": "762e72fb-8c24-4004-acad-26faa14f4da0"
   },
   "execution_count": 18,
   "outputs": [
    {
     "data": {
      "text/plain": "<Figure size 432x288 with 1 Axes>",
      "image/png": "[encoded data removed]"
     },
     "metadata": {
      "needs_background": "light"
     },
     "output_type": "display_data"
    }
   ]
  },
  {
   "cell_type": "markdown",
   "source": [
    "#### StepLR\n",
    "Каждые `step_size` эпох уменьшает LR в `gamma` раз."
   ],
   "metadata": {
    "id": "B8PuQb8fuIno"
   }
  },
  {
   "cell_type": "code",
   "source": [
    "model, optimizer = get_simple_model_optimizer()\n",
    "scheduler = torch.optim.lr_scheduler.StepLR(optimizer, step_size=10, gamma=0.7)\n",
    "draw_learning_rate_curve(optimizer, scheduler)"
   ],
   "metadata": {
    "colab": {
     "base_uri": "https://localhost:8080/"
    },
    "id": "iNPhic8utbVb",
    "outputId": "70c634c1-82be-4f80-ff0f-84255099ed43"
   },
   "execution_count": 19,
   "outputs": [
    {
     "data": {
      "text/plain": "<Figure size 432x288 with 1 Axes>",
      "image/png": "[encoded data removed]"
     },
     "metadata": {
      "needs_background": "light"
     },
     "output_type": "display_data"
    }
   ]
  },
  {
   "cell_type": "markdown",
   "source": [
    "#### CosineAnnealingLR\n",
    "\n",
    "Важно понимать, что LR имеет смысл не только снижать, но иногда еще и делать цикличным. Формула тут несколько сложнее, оставим ее для интересующихся)"
   ],
   "metadata": {
    "id": "c3Ztt5AoyQCA"
   }
  },
  {
   "cell_type": "code",
   "source": [
    "model, optimizer = get_simple_model_optimizer()\n",
    "scheduler = torch.optim.lr_scheduler.CosineAnnealingLR(optimizer, T_max=10, eta_min=0)\n",
    "draw_learning_rate_curve(optimizer, scheduler)"
   ],
   "metadata": {
    "colab": {
     "base_uri": "https://localhost:8080/"
    },
    "id": "XPBv2i47yPOe",
    "outputId": "49b1fab9-aadb-4752-e494-c7dc1cfc9992"
   },
   "execution_count": 20,
   "outputs": [
    {
     "data": {
      "text/plain": "<Figure size 432x288 with 1 Axes>",
      "image/png": "[encoded data removed]"
     },
     "metadata": {
      "needs_background": "light"
     },
     "output_type": "display_data"
    }
   ]
  },
  {
   "cell_type": "markdown",
   "source": [
    "## PyTorch VS PyTorch Lightning\n",
    "\n",
    "**PyTorch Lightning** это фреймворк для организованной работы с **PyTorch**. В нем упрощена работа по:\n",
    "- Написанию тренировочного цикла\n",
    "- Написанию датасетов\n",
    "- Использованию gpu/tpu/ipu/hpu и тд\n",
    "- Переводу моделей в формат ONNX\n",
    "- И многому другому\n",
    "\n",
    "Фреймворк призван оставить юзеру возможность конфигурировать параметры и проводить эксперименты, а остальное он возьмет на себя. Давайте сравним код на **PyTorch** без и с использованием **Lightning** на примере несложной нейросети на датасете FashionMNIST."
   ],
   "metadata": {
    "id": "2YmhZSXV4EBp"
   },
   "outputs": []
  },
  {
   "cell_type": "code",
   "execution_count": 21,
   "outputs": [],
   "source": [
    "from collections import defaultdict, namedtuple\n",
    "\n",
    "import pytorch_lightning as pl\n",
    "import torchvision\n",
    "import torchvision.transforms as transforms\n",
    "from torch.utils.data import DataLoader\n",
    "# крутая библиотека с кучей метрик \"из коробки\"\n",
    "from torchmetrics.functional import accuracy"
   ],
   "metadata": {
    "collapsed": false
   }
  },
  {
   "cell_type": "markdown",
   "source": [
    "### Данные (общее)"
   ],
   "metadata": {
    "collapsed": false
   }
  },
  {
   "cell_type": "code",
   "metadata": {
    "id": "hHAHgGdeKlau"
   },
   "source": [
    "# Train data\n",
    "fashion_mnist_train = torchvision.datasets.FashionMNIST(\n",
    "    \"./data\",\n",
    "    download=True,\n",
    "    transform=transforms.Compose([transforms.ToTensor()])\n",
    ")\n",
    "train_dataloader = DataLoader(\n",
    "    fashion_mnist_train,\n",
    "    batch_size=128,\n",
    "    shuffle=True,\n",
    "    num_workers=4\n",
    ")\n",
    "\n",
    "# Validation data\n",
    "fashion_mnist_val = torchvision.datasets.FashionMNIST(\n",
    "    \"./data\",\n",
    "    train=False,\n",
    "    download=True,\n",
    "    transform=transforms.Compose([transforms.ToTensor()]),\n",
    ")\n",
    "val_dataloader = DataLoader(\n",
    "    fashion_mnist_val,\n",
    "    batch_size=128,\n",
    "    num_workers=4\n",
    ")"
   ],
   "execution_count": 22,
   "outputs": []
  },
  {
   "cell_type": "code",
   "metadata": {
    "id": "Sr1MKTjBKlaw"
   },
   "source": [
    "idx_to_label = defaultdict(None, {\n",
    "    0: \"T-shirt/Top\",\n",
    "    1: \"Trouser\",\n",
    "    2: \"Pullover\",\n",
    "    3: \"Dress\",\n",
    "    4: \"Coat\",\n",
    "    5: \"Sandal\",\n",
    "    6: \"Shirt\",\n",
    "    7: \"Sneaker\",\n",
    "    8: \"Bag\",\n",
    "    9: \"Ankle Boot\"\n",
    "})"
   ],
   "execution_count": 23,
   "outputs": []
  },
  {
   "cell_type": "code",
   "source": [
    "### pictures are normalized\n",
    "for batch in val_dataloader:\n",
    "    # batch_size is 128\n",
    "    images, class_nums = batch\n",
    "    print(idx_to_label[int(class_nums[0])])\n",
    "    plt.imshow(images[0].squeeze())\n",
    "    plt.show()\n",
    "    print(idx_to_label[int(class_nums[127])])\n",
    "    plt.imshow(images[127].squeeze())\n",
    "    plt.show()\n",
    "    break"
   ],
   "metadata": {
    "colab": {
     "base_uri": "https://localhost:8080/"
    },
    "id": "KQfTpcB05ZcB",
    "outputId": "860eecc7-21ce-46df-acf0-5f105163f0f5"
   },
   "execution_count": 24,
   "outputs": [
    {
     "name": "stdout",
     "output_type": "stream",
     "text": [
      "Ankle Boot\n"
     ]
    },
    {
     "data": {
      "text/plain": "<Figure size 432x288 with 1 Axes>",
      "image/png": "[encoded data removed]"
     },
     "metadata": {
      "needs_background": "light"
     },
     "output_type": "display_data"
    },
    {
     "name": "stdout",
     "output_type": "stream",
     "text": [
      "Coat\n"
     ]
    },
    {
     "data": {
      "text/plain": "<Figure size 432x288 with 1 Axes>",
      "image/png": "[encoded data removed]"
     },
     "metadata": {
      "needs_background": "light"
     },
     "output_type": "display_data"
    }
   ]
  },
  {
   "cell_type": "markdown",
   "metadata": {
    "id": "Q6Mf1W49f2Fv"
   },
   "source": [
    "### Модель (общее)\n",
    "\n",
    "Создайте класс модели по следующей схеме:\n",
    "\n",
    "1. BatchNorm\n",
    "2. Conv(out=32, kernel=3) -> ReLu -> MaxPool(kernel=2)\n",
    "3. Conv(out=64, kernel=3) -> ReLu -> MaxPool(kernel=2)\n",
    "4. Flatten\n",
    "5. Linear(out=128)\n",
    "6. ReLu\n",
    "7. Dropout\n",
    "8. Linear(out=64)\n",
    "9. ReLu\n",
    "10. Linear(out=10)"
   ]
  },
  {
   "cell_type": "code",
   "metadata": {
    "id": "QkHmFRSkKlay"
   },
   "source": [
    "class SimpleNet(torch.nn.Module):\n",
    "    def __init__(self, dropout=0.4):\n",
    "        super().__init__()\n",
    "        # TODO:\n",
    "        # Your code here:\n",
    "        # --------------\n",
    "        self.batch_norm = torch.nn.BatchNorm2d(1)\n",
    "        self.conv1 = torch.nn.Sequential(\n",
    "            torch.nn.Conv2d(in_channels=1, out_channels=32, kernel_size=3),\n",
    "            torch.nn.ReLU(),\n",
    "            torch.nn.MaxPool2d(kernel_size=2),\n",
    "        )\n",
    "        self.conv2 = torch.nn.Sequential(\n",
    "            torch.nn.Conv2d(in_channels=32, out_channels=64, kernel_size=3),\n",
    "            torch.nn.ReLU(),\n",
    "            torch.nn.MaxPool2d(kernel_size=2),\n",
    "        )\n",
    "        self.linear1 = torch.nn.Linear(in_features=64 * 5 * 5, out_features=128)\n",
    "        self.linear2 = torch.nn.Linear(in_features=128, out_features=64)\n",
    "        self.output = torch.nn.Linear(in_features=64, out_features=10)\n",
    "        self.dropout = torch.nn.Dropout(p=dropout)\n",
    "        # --------------\n",
    "        self.loss_func = torch.nn.CrossEntropyLoss()\n",
    "        self.targets = torch.Tensor()\n",
    "        self.preds = torch.Tensor()\n",
    "\n",
    "    def _forward(self, x):\n",
    "        # runs the neural network\n",
    "        # TODO:\n",
    "        # Your code here\n",
    "        # --------------\n",
    "        x = self.batch_norm(x)\n",
    "        x = self.conv1(x)\n",
    "        x = self.conv2(x)\n",
    "        x = x.view(x.size(0), -1)\n",
    "        x = F.relu(self.linear1(x))\n",
    "        x = self.dropout(x)\n",
    "        x = F.relu(self.linear2(x))\n",
    "        return self.output(x)\n",
    "        # --------------\n",
    "\n",
    "    def forward(self, images, target=None):\n",
    "        # images ~ (batch size, num channels, height, width)\n",
    "        # target ~ (batch size)\n",
    "        # output ~ (batch size, num classes)\n",
    "        output = self._forward(images)\n",
    "\n",
    "        # get accuracy score and save it to self.accuracy\n",
    "        if target is not None:\n",
    "            loss = self.loss_func(output, target)\n",
    "\n",
    "            self.targets = torch.cat((self.targets, target.cpu()), 0)\n",
    "            pred = torch.argmax(output, dim=-1)\n",
    "            self.preds = torch.cat((self.preds, pred.cpu()), 0)\n",
    "            self.accuracy = accuracy(self.preds.long(), self.targets.long())\n",
    "\n",
    "        return loss\n",
    "\n",
    "    def get_accuracy(self, reset=False):\n",
    "        # return accuracy by all values till now\n",
    "        if reset:\n",
    "            self.targets = torch.Tensor()\n",
    "            self.preds = torch.Tensor()\n",
    "        return self.accuracy"
   ],
   "execution_count": 25,
   "outputs": []
  },
  {
   "cell_type": "markdown",
   "source": [
    "### Гиперпараметры"
   ],
   "metadata": {
    "id": "zRuVz6TXFANc"
   }
  },
  {
   "cell_type": "code",
   "source": [
    "LossInfo = namedtuple(\n",
    "    \"LossInfo\",\n",
    "    [\"full_train_losses\", \"train_epoch_losses\", \"eval_epoch_losses\"]\n",
    ")\n",
    "EPOCHS = 10\n",
    "LR = 0.001"
   ],
   "metadata": {
    "id": "6xmAPz91FAZb"
   },
   "execution_count": 26,
   "outputs": []
  },
  {
   "cell_type": "markdown",
   "source": [
    "### Тренировочные циклы (PyTorch)\n",
    "\n",
    "Здесь нам надо будет объявить функции `train_epoch`, `validate`, `fit`.\n",
    "Структура, напомним, выглядит, в упрощенном виде, так:\n",
    "```\n",
    "def train_epoch():\n",
    "    for batch in train_loader:\n",
    "        train_model_on_batch()\n",
    "def validate():\n",
    "    for batch in val_loader:\n",
    "        validate_model_on_batch()\n",
    "def fit():\n",
    "    for epoch in range(1, num_epochs):\n",
    "        train_epoch()\n",
    "        validate()\n",
    "```\n",
    "Но на деле это все намного сложнее:"
   ],
   "metadata": {
    "id": "MkLsRtR2-U6d"
   }
  },
  {
   "cell_type": "code",
   "metadata": {
    "id": "EKZRgiLPKlaz"
   },
   "source": [
    "def train_epoch(\n",
    "        model,\n",
    "        data_loader,\n",
    "        optimizer,\n",
    "        return_losses=False,\n",
    "        device=\"cuda:0\",\n",
    "):\n",
    "    model = model.train()\n",
    "    total_loss = 0\n",
    "    num_batches = 0\n",
    "    all_losses = []\n",
    "    with tqdm(total=len(data_loader), file=sys.stdout) as prbar:\n",
    "        for batch in data_loader:\n",
    "            # move Batch to GPU\n",
    "            batch = [x.to(device=device) for x in batch]\n",
    "            loss = model(*batch)\n",
    "            # update weights\n",
    "            loss.backward()\n",
    "            optimizer.step()\n",
    "            optimizer.zero_grad()\n",
    "            # update description for tqdm\n",
    "            accuracy = model.get_accuracy()\n",
    "            prbar.set_description(\n",
    "                f\"Loss: {round(loss.item(), 4)} \"\n",
    "                f\"Accuracy: {round(accuracy.item() * 100, 4)}\"\n",
    "            )\n",
    "            prbar.update(1)\n",
    "            total_loss += loss.item()\n",
    "            num_batches += 1\n",
    "            all_losses.append(loss.detach().item())\n",
    "    acc = model.get_accuracy(reset=True)\n",
    "    metrics = {\"loss\": total_loss / num_batches, \"accuracy\": acc}\n",
    "    if return_losses:\n",
    "        return metrics, all_losses\n",
    "    else:\n",
    "        return metrics\n",
    "\n",
    "\n",
    "def validate(model, data_loader, device=\"cuda:0\"):\n",
    "    model = model.eval()\n",
    "    total_loss = 0\n",
    "    num_batches = 0\n",
    "    with tqdm(total=len(data_loader), file=sys.stdout) as prbar:\n",
    "        for batch in data_loader:\n",
    "            batch = [x.to(device=device) for x in batch]\n",
    "            loss = model(*batch)\n",
    "            accuracy = model.get_accuracy()\n",
    "            prbar.set_description(\n",
    "                f\"Loss: {round(loss.item(), 4)} \"\n",
    "                f\"Accuracy: {round(accuracy.item() * 100, 4)}\"\n",
    "            )\n",
    "            prbar.update(1)\n",
    "            total_loss += loss.item()\n",
    "            num_batches += 1\n",
    "    acc = model.get_accuracy(reset=True)\n",
    "    metrics = {\"loss\": total_loss / num_batches, \"accuracy\": acc}\n",
    "    return metrics"
   ],
   "execution_count": 27,
   "outputs": []
  },
  {
   "cell_type": "code",
   "metadata": {
    "id": "KmOlOzBnKla2"
   },
   "source": [
    "def fit(\n",
    "        model,\n",
    "        epochs,\n",
    "        train_data_loader,\n",
    "        validation_data_loader,\n",
    "        optimizer,\n",
    "        scheduler=None,\n",
    "        device=\"cuda:0\"\n",
    "):\n",
    "    all_train_losses = []\n",
    "    epoch_train_losses = []\n",
    "    epoch_eval_losses = []\n",
    "    for epoch in range(epochs):\n",
    "        # construct iterators\n",
    "        train_iterator = iter(train_data_loader)\n",
    "        validation_iterator = iter(validation_data_loader)\n",
    "        # train step\n",
    "        print(f\"Train Epoch: {epoch}\")\n",
    "        train_metrics, one_epoch_train_losses = train_epoch(\n",
    "            model=model,\n",
    "            data_loader=train_iterator,\n",
    "            optimizer=optimizer,\n",
    "            return_losses=True,\n",
    "            device=device\n",
    "        )\n",
    "        # save train losses\n",
    "        all_train_losses.extend(one_epoch_train_losses)\n",
    "        epoch_train_losses.append(train_metrics[\"loss\"])\n",
    "        # eval step\n",
    "        print(f\"Validation Epoch: {epoch}\")\n",
    "        with torch.no_grad():\n",
    "            validation_metrics = validate(\n",
    "                model=model,\n",
    "                data_loader=validation_iterator,\n",
    "                device=device\n",
    "            )\n",
    "        # save eval losses\n",
    "        epoch_eval_losses.append(validation_metrics[\"loss\"])\n",
    "        # scheduler step\n",
    "        if scheduler:\n",
    "            scheduler.step()\n",
    "    return LossInfo(all_train_losses, epoch_train_losses, epoch_eval_losses)"
   ],
   "execution_count": 28,
   "outputs": []
  },
  {
   "cell_type": "code",
   "source": [
    "# проверим, что всё работает (±1 минута на гпу):\n",
    "model = SimpleNet().to(device)\n",
    "_ = fit(\n",
    "    model=model,\n",
    "    epochs=1,\n",
    "    train_data_loader=train_dataloader,\n",
    "    validation_data_loader=val_dataloader,\n",
    "    optimizer=torch.optim.SGD(model.parameters(), lr=LR),\n",
    "    device=device\n",
    ")"
   ],
   "metadata": {
    "colab": {
     "base_uri": "https://localhost:8080/"
    },
    "id": "SanI3hS6JQrL",
    "outputId": "71e443c6-2d1c-4145-94e4-80f0219ad41f"
   },
   "execution_count": 29,
   "outputs": [
    {
     "name": "stdout",
     "output_type": "stream",
     "text": [
      "Train Epoch: 0\n",
      "Loss: 2.2952 Accuracy: 10.905: 100%|██████████| 469/469 [01:01<00:00,  7.65it/s] \n",
      "Validation Epoch: 0\n",
      "Loss: 2.2852 Accuracy: 10.0: 100%|██████████| 79/79 [00:03<00:00, 21.18it/s]   \n"
     ]
    }
   ]
  },
  {
   "cell_type": "markdown",
   "source": [
    "### Тренировочные циклы (Lightning)\n",
    "\n",
    "Здесь будет немного другая структура.\n",
    "\n",
    "1) Создается 1 класс отнаследованный от `pl.LightningModule`. В нем описывается сама модель, необходимые функции тренировчного и валидационного шага.\n",
    "\n",
    "2) Создается объект класса `pl.Trainer` с параметрами (напр. номер гпу, кол-во эпох, град. клиппинг и так далее) дока [тут](https://pytorch-lightning.readthedocs.io/en/latest/api/pytorch_lightning.trainer.trainer.Trainer.html?highlight=trainer) или [тут](https://pytorch-lightning.readthedocs.io/en/latest/common/trainer.html?highlight=trainer#trainer-flags).\n",
    "\n",
    "3) Вызывается `trainer.fit(model, train_loader, val_loader)`.\n",
    "\n",
    "\n",
    "```\n",
    "class MyModule(pl.LightningModule):\n",
    "    def init():\n",
    "        init_model()\n",
    "    def forward():\n",
    "        forward_model()\n",
    "    def training_step():\n",
    "        make_1_training_step()\n",
    "    def validation_step():\n",
    "        make_1_validation_step()\n",
    "\n",
    "trainer = pl.Trainer(gpus=1, max_epochs=10)\n",
    "trainer.fit(model, train_loader, val_loader)\n",
    "```\n",
    "Поскольку у нас уже есть модель `SimpleNet`, то исправлять нам много не надо."
   ],
   "metadata": {
    "id": "3b0XCReZ4w0W"
   }
  },
  {
   "cell_type": "code",
   "source": [
    "# 1) create a LightningModule\n",
    "class SimpleModule(pl.LightningModule):\n",
    "    def __init__(self, model, learning_rate):\n",
    "        super().__init__()\n",
    "        self.model = model\n",
    "        self.learning_rate = learning_rate\n",
    "\n",
    "    def forward(self, x):\n",
    "        result = self.model(x)\n",
    "        return result\n",
    "\n",
    "    def configure_optimizers(self):\n",
    "        optimizer = torch.optim.Adam(self.parameters(), lr=self.learning_rate)\n",
    "        return optimizer\n",
    "\n",
    "    def training_step(self, train_batch, batch_idx):\n",
    "        images, target = train_batch\n",
    "        loss = self.model(images, target)\n",
    "        self.log(\"train_loss\", loss, prog_bar=True)  # сохраняет логи в папку, но можно несложно добавить wandb\n",
    "        return loss\n",
    "\n",
    "    def validation_step(self, val_batch, batch_idx):\n",
    "        images, target = val_batch\n",
    "        loss = self.model(images, target)\n",
    "        self.log(\"val_loss\", loss, prog_bar=True)"
   ],
   "metadata": {
    "id": "XqO3RxM24urH"
   },
   "execution_count": 30,
   "outputs": []
  },
  {
   "cell_type": "code",
   "source": [
    "# 2) create module\n",
    "\n",
    "model = SimpleNet().to(device)\n",
    "module = SimpleModule(\n",
    "    model,\n",
    "    learning_rate=LR\n",
    ")\n",
    "\n",
    "# 3) create Trainer and train (±30 seconds on gpu)\n",
    "trainer = pl.Trainer(\n",
    "    accelerator=\"cpu\",\n",
    "    max_epochs=1\n",
    ")\n",
    "trainer.fit(module, train_dataloader, val_dataloader)\n",
    "\n",
    "# 3.5) we can also find best learning rate like this: https://pytorch-lightning.readthedocs.io/en/1.4.5/advanced/lr_finder.html\n",
    "# trainer = pl.Trainer(accelerator=\"gpu\", max_epochs=2, auto_lr_find=True)    \n",
    "# trainer.tune(module, train_dataloader, eval_dataloader)\n",
    "# trainer.fit(module, train_dataloader, eval_dataloader)"
   ],
   "metadata": {
    "colab": {
     "base_uri": "https://localhost:8080/",
     "height": 619,
     "referenced_widgets": [
      "77f193d9a291486eaef5632783d70c6f",
      "0dd132cfd7c948e890005903be333946",
      "6eddef9ffdaa46929900fadb15f4e7f7",
      "9eb1fbedba294c21b9042a0a7956be58",
      "2457572529ac4ef0bf76edbed0cde40b",
      "744a7cd8d694408f9b040a49ffb8c694",
      "6586865f10ee4577b5257ec0a4bb49a3",
      "15100a91b69f4b19bf41c5b02923ce63",
      "3ae0034beab24c77ab7b2260db371f3e",
      "e1c1b0c7029241a7870f39626be926d0",
      "306b2b07de49455eadd8ba0561844d19",
      "99223ebdaaf3421c88fb18d48e1c4a03",
      "300daed98fdb4ea8af1e8af7de0ea6ff",
      "60652e3d1510478c9c6ef3fc7060bac6",
      "546e464c00cb4b0ba30acbe5a0fac5bf",
      "c590a019380a48c7847626c3ee85c8b4",
      "71a02bb021d8465c8486418804b046c9",
      "5aea5ac1674a4c0481047d3fe98e3214",
      "bd3c24662e9f4486a19cf62e082c3d18",
      "9295c27b0f9d4532bc3bfb687672e232",
      "f24dc9fbeb904ec1854117ac78ce37c5",
      "bd145f6605854fcc8c0deb185199a665",
      "c632971657794b51b66436fc58012d8d",
      "389bce6eee014c37bea40b4eb3b42901",
      "d08aef71277445c6848a7ce875610797",
      "e2edebab198b4dc59f5ecdad516ccdec",
      "2d5124d213b14f2ab166854727329699",
      "9a51ff086a7b480984d11da1746220d6",
      "62786cf112dc427b8ad10c25a7b6d452",
      "900bac62ecbb48b8b169b3371868f388",
      "3dae5396844640828edda0bc0279db85",
      "7e05dbdf17584419954aa9577acd2e88",
      "7da6e22fbb7b4afb8fe9ed4b673f876e"
     ]
    },
    "id": "Ihtd_7Qv-rVA",
    "outputId": "2f92ca56-a925-4fb2-820d-a199308394b8"
   },
   "execution_count": 31,
   "outputs": [
    {
     "name": "stderr",
     "output_type": "stream",
     "text": [
      "GPU available: False, used: False\n",
      "TPU available: False, using: 0 TPU cores\n",
      "IPU available: False, using: 0 IPUs\n",
      "HPU available: False, using: 0 HPUs\n",
      "\n",
      "  | Name  | Type      | Params\n",
      "------------------------------------\n",
      "0 | model | SimpleNet | 232 K \n",
      "------------------------------------\n",
      "232 K     Trainable params\n",
      "0         Non-trainable params\n",
      "232 K     Total params\n",
      "0.931     Total estimated model params size (MB)\n"
     ]
    },
    {
     "data": {
      "text/plain": "Sanity Checking: 0it [00:00, ?it/s]",
      "application/vnd.jupyter.widget-view+json": {
       "version_major": 2,
       "version_minor": 0,
       "model_id": "1ecb3516673a41fd85933fc2dcf965f7"
      }
     },
     "metadata": {},
     "output_type": "display_data"
    },
    {
     "data": {
      "text/plain": "Training: 0it [00:00, ?it/s]",
      "application/vnd.jupyter.widget-view+json": {
       "version_major": 2,
       "version_minor": 0,
       "model_id": "c9da598b539e4de592ee94c1427a0690"
      }
     },
     "metadata": {},
     "output_type": "display_data"
    },
    {
     "data": {
      "text/plain": "Validation: 0it [00:00, ?it/s]",
      "application/vnd.jupyter.widget-view+json": {
       "version_major": 2,
       "version_minor": 0,
       "model_id": "ac112f5d625743838259fe4a70fa44a9"
      }
     },
     "metadata": {},
     "output_type": "display_data"
    },
    {
     "name": "stderr",
     "output_type": "stream",
     "text": [
      "`Trainer.fit` stopped: `max_epochs=1` reached.\n"
     ]
    }
   ]
  },
  {
   "cell_type": "markdown",
   "source": [
    "Обратите внимание **насколько** поведение `trainer.fit()` сильно похоже на написанную нами ранее функцию `fit()`\n",
    "\n",
    "\n",
    "Заметьте также, что на Lightning мы:\n",
    "1.   Не описывали тренировочный цикл ни по эпохам, ни по батчам\n",
    "2.   Не рисковали забыть zero_grad, .backward()\n",
    "3.   Не переносили ни модель, ни данные на GPU\n",
    "4.   Получили всякие приколы типа auto_lr_find \n",
    "5.   Сохранили возможность использования многих тонкостей **PyTorch** типа [schedulers](https://pytorch-lightning.readthedocs.io/en/stable/common/optimization.html), логирование через [wandb](https://docs.wandb.ai/guides/integrations/lightning) и так далее"
   ],
   "metadata": {
    "id": "XThjhAsA-pxW"
   }
  },
  {
   "cell_type": "markdown",
   "source": [
    "## Сравнением работу разных оптимизаторов\n",
    "\n",
    "### SGD"
   ],
   "metadata": {
    "id": "VTnyRAFB8266"
   }
  },
  {
   "cell_type": "code",
   "metadata": {
    "colab": {
     "base_uri": "https://localhost:8080/"
    },
    "id": "Xe-wjJqEXzOY",
    "outputId": "daa5d491-c1dd-4bd2-dee6-7fca70c0b776"
   },
   "source": [
    "model = SimpleNet().to(device=device)\n",
    "sgd_loss_info = fit(\n",
    "    model=model,\n",
    "    epochs=EPOCHS,\n",
    "    train_data_loader=train_dataloader,\n",
    "    validation_data_loader=val_dataloader,\n",
    "    optimizer=torch.optim.SGD(model.parameters(), lr=LR),\n",
    "    device=device\n",
    ")"
   ],
   "execution_count": 32,
   "outputs": [
    {
     "name": "stdout",
     "output_type": "stream",
     "text": [
      "Train Epoch: 0\n",
      "Loss: 2.2951 Accuracy: 14.7917: 100%|██████████| 469/469 [00:42<00:00, 10.92it/s]\n",
      "Validation Epoch: 0\n",
      "Loss: 2.27 Accuracy: 21.91: 100%|██████████| 79/79 [00:03<00:00, 24.59it/s]    \n",
      "Train Epoch: 1\n",
      "Loss: 2.2707 Accuracy: 22.485: 100%|██████████| 469/469 [00:40<00:00, 11.54it/s] \n",
      "Validation Epoch: 1\n",
      "Loss: 2.2416 Accuracy: 28.01: 100%|██████████| 79/79 [00:03<00:00, 24.45it/s]  \n",
      "Train Epoch: 2\n",
      "Loss: 2.1941 Accuracy: 26.91: 100%|██████████| 469/469 [00:41<00:00, 11.43it/s]  \n",
      "Validation Epoch: 2\n",
      "Loss: 2.1881 Accuracy: 29.85: 100%|██████████| 79/79 [00:03<00:00, 24.93it/s]  \n",
      "Train Epoch: 3\n",
      "Loss: 2.1162 Accuracy: 31.1067: 100%|██████████| 469/469 [00:41<00:00, 11.43it/s]\n",
      "Validation Epoch: 3\n",
      "Loss: 2.0753 Accuracy: 36.54: 100%|██████████| 79/79 [00:03<00:00, 23.96it/s]  \n",
      "Train Epoch: 4\n",
      "Loss: 1.9398 Accuracy: 36.21: 100%|██████████| 469/469 [00:40<00:00, 11.56it/s]  \n",
      "Validation Epoch: 4\n",
      "Loss: 1.7867 Accuracy: 43.31: 100%|██████████| 79/79 [00:03<00:00, 24.91it/s]  \n",
      "Train Epoch: 5\n",
      "Loss: 1.5594 Accuracy: 43.8233: 100%|██████████| 469/469 [00:44<00:00, 10.48it/s]\n",
      "Validation Epoch: 5\n",
      "Loss: 1.2814 Accuracy: 52.48: 100%|██████████| 79/79 [00:03<00:00, 24.49it/s]  \n",
      "Train Epoch: 6\n",
      "Loss: 1.2805 Accuracy: 50.1883: 100%|██████████| 469/469 [00:50<00:00,  9.26it/s]\n",
      "Validation Epoch: 6\n",
      "Loss: 0.9981 Accuracy: 58.48: 100%|██████████| 79/79 [00:03<00:00, 23.28it/s]  \n",
      "Train Epoch: 7\n",
      "Loss: 1.1633 Accuracy: 54.7917: 100%|██████████| 469/469 [00:41<00:00, 11.42it/s]\n",
      "Validation Epoch: 7\n",
      "Loss: 0.8558 Accuracy: 61.58: 100%|██████████| 79/79 [00:03<00:00, 24.64it/s]  \n",
      "Train Epoch: 8\n",
      "Loss: 1.0431 Accuracy: 58.7583: 100%|██████████| 469/469 [00:41<00:00, 11.42it/s]\n",
      "Validation Epoch: 8\n",
      "Loss: 0.7577 Accuracy: 64.68: 100%|██████████| 79/79 [00:03<00:00, 24.88it/s]  \n",
      "Train Epoch: 9\n",
      "Loss: 0.8529 Accuracy: 62.315: 100%|██████████| 469/469 [00:40<00:00, 11.56it/s] \n",
      "Validation Epoch: 9\n",
      "Loss: 0.6704 Accuracy: 67.61: 100%|██████████| 79/79 [00:03<00:00, 24.98it/s]  \n"
     ]
    }
   ]
  },
  {
   "cell_type": "markdown",
   "metadata": {
    "id": "XNsHDEOuX_I8"
   },
   "source": [
    "### SGD with Momentum"
   ]
  },
  {
   "cell_type": "code",
   "metadata": {
    "colab": {
     "base_uri": "https://localhost:8080/"
    },
    "id": "WETr80TZXo1Z",
    "outputId": "3a0cdc44-851c-453e-c8cc-07a24288477a"
   },
   "source": [
    "model = SimpleNet().to(device=device)\n",
    "sgd_momentum_loss_info = fit(\n",
    "    model=model,\n",
    "    epochs=EPOCHS,\n",
    "    train_data_loader=train_dataloader,\n",
    "    validation_data_loader=val_dataloader,\n",
    "    optimizer=torch.optim.SGD(model.parameters(), momentum=0.9, lr=LR),\n",
    "    device=device\n",
    ")"
   ],
   "execution_count": 33,
   "outputs": [
    {
     "name": "stdout",
     "output_type": "stream",
     "text": [
      "Train Epoch: 0\n",
      "Loss: 0.9979 Accuracy: 32.8033: 100%|██████████| 469/469 [01:03<00:00,  7.41it/s]\n",
      "Validation Epoch: 0\n",
      "Loss: 0.8556 Accuracy: 64.59: 100%|██████████| 79/79 [00:04<00:00, 16.72it/s]  \n",
      "Train Epoch: 1\n",
      "Loss: 0.7325 Accuracy: 68.3467: 100%|██████████| 469/469 [00:50<00:00,  9.36it/s]\n",
      "Validation Epoch: 1\n",
      "Loss: 0.4964 Accuracy: 74.96: 100%|██████████| 79/79 [00:03<00:00, 24.49it/s]  \n",
      "Train Epoch: 2\n",
      "Loss: 0.547 Accuracy: 75.095: 100%|██████████| 469/469 [00:58<00:00,  8.01it/s]  \n",
      "Validation Epoch: 2\n",
      "Loss: 0.4788 Accuracy: 77.84: 100%|██████████| 79/79 [00:05<00:00, 14.39it/s]  \n",
      "Train Epoch: 3\n",
      "Loss: 0.5026 Accuracy: 77.9867: 100%|██████████| 469/469 [00:42<00:00, 11.13it/s]\n",
      "Validation Epoch: 3\n",
      "Loss: 0.4261 Accuracy: 79.65: 100%|██████████| 79/79 [00:03<00:00, 24.37it/s]  \n",
      "Train Epoch: 4\n",
      "Loss: 0.4936 Accuracy: 79.93: 100%|██████████| 469/469 [00:42<00:00, 11.04it/s]  \n",
      "Validation Epoch: 4\n",
      "Loss: 0.333 Accuracy: 80.96: 100%|██████████| 79/79 [00:03<00:00, 24.40it/s]   \n",
      "Train Epoch: 5\n",
      "Loss: 0.4526 Accuracy: 81.2833: 100%|██████████| 469/469 [00:40<00:00, 11.47it/s]\n",
      "Validation Epoch: 5\n",
      "Loss: 0.3119 Accuracy: 81.85: 100%|██████████| 79/79 [00:03<00:00, 24.77it/s]  \n",
      "Train Epoch: 6\n",
      "Loss: 0.6505 Accuracy: 82.5317: 100%|██████████| 469/469 [00:42<00:00, 11.04it/s]\n",
      "Validation Epoch: 6\n",
      "Loss: 0.263 Accuracy: 83.67: 100%|██████████| 79/79 [00:03<00:00, 24.33it/s]   \n",
      "Train Epoch: 7\n",
      "Loss: 0.4868 Accuracy: 83.5117: 100%|██████████| 469/469 [00:41<00:00, 11.44it/s]\n",
      "Validation Epoch: 7\n",
      "Loss: 0.1923 Accuracy: 84.69: 100%|██████████| 79/79 [00:03<00:00, 24.52it/s]  \n",
      "Train Epoch: 8\n",
      "Loss: 0.3861 Accuracy: 84.335: 100%|██████████| 469/469 [00:58<00:00,  7.99it/s] \n",
      "Validation Epoch: 8\n",
      "Loss: 0.199 Accuracy: 85.35: 100%|██████████| 79/79 [00:03<00:00, 21.53it/s]   \n",
      "Train Epoch: 9\n",
      "Loss: 0.4072 Accuracy: 85.205: 100%|██████████| 469/469 [00:48<00:00,  9.60it/s] \n",
      "Validation Epoch: 9\n",
      "Loss: 0.1932 Accuracy: 86.23: 100%|██████████| 79/79 [00:03<00:00, 21.78it/s]  \n"
     ]
    }
   ]
  },
  {
   "cell_type": "markdown",
   "metadata": {
    "id": "ra4g-7ztvBC3"
   },
   "source": [
    "### RMSprop"
   ]
  },
  {
   "cell_type": "code",
   "metadata": {
    "colab": {
     "base_uri": "https://localhost:8080/"
    },
    "id": "pP7tS4gsu_7o",
    "outputId": "72c29f91-e7e2-449b-eeaa-5246580f1e3c"
   },
   "source": [
    "model = SimpleNet().to(device=device)\n",
    "rmsprop_loss_info = fit(\n",
    "    model=model,\n",
    "    epochs=EPOCHS,\n",
    "    train_data_loader=train_dataloader,\n",
    "    validation_data_loader=val_dataloader,\n",
    "    optimizer=torch.optim.RMSprop(model.parameters(), lr=LR),\n",
    "    device=device\n",
    ")"
   ],
   "execution_count": 34,
   "outputs": [
    {
     "name": "stdout",
     "output_type": "stream",
     "text": [
      "Train Epoch: 0\n",
      "Loss: 0.3278 Accuracy: 76.9983: 100%|██████████| 469/469 [01:02<00:00,  7.55it/s]\n",
      "Validation Epoch: 0\n",
      "Loss: 0.2183 Accuracy: 83.65: 100%|██████████| 79/79 [00:04<00:00, 18.17it/s]  \n",
      "Train Epoch: 1\n",
      "Loss: 0.3375 Accuracy: 85.2967: 100%|██████████| 469/469 [00:54<00:00,  8.66it/s]\n",
      "Validation Epoch: 1\n",
      "Loss: 0.1839 Accuracy: 87.15: 100%|██████████| 79/79 [00:03<00:00, 21.81it/s]  \n",
      "Train Epoch: 2\n",
      "Loss: 0.2286 Accuracy: 87.2717: 100%|██████████| 469/469 [00:47<00:00,  9.86it/s]\n",
      "Validation Epoch: 2\n",
      "Loss: 0.1473 Accuracy: 88.02: 100%|██████████| 79/79 [00:03<00:00, 22.11it/s]  \n",
      "Train Epoch: 3\n",
      "Loss: 0.3099 Accuracy: 88.6233: 100%|██████████| 469/469 [00:46<00:00,  9.99it/s]\n",
      "Validation Epoch: 3\n",
      "Loss: 0.1226 Accuracy: 89.45: 100%|██████████| 79/79 [00:03<00:00, 22.39it/s]  \n",
      "Train Epoch: 4\n",
      "Loss: 0.3118 Accuracy: 89.37: 100%|██████████| 469/469 [00:47<00:00,  9.90it/s]  \n",
      "Validation Epoch: 4\n",
      "Loss: 0.197 Accuracy: 89.9: 100%|██████████| 79/79 [00:03<00:00, 22.45it/s]    \n",
      "Train Epoch: 5\n",
      "Loss: 0.2801 Accuracy: 90.0: 100%|██████████| 469/469 [00:48<00:00,  9.73it/s]   \n",
      "Validation Epoch: 5\n",
      "Loss: 0.1436 Accuracy: 90.26: 100%|██████████| 79/79 [00:03<00:00, 22.63it/s]  \n",
      "Train Epoch: 6\n",
      "Loss: 0.2726 Accuracy: 90.4567: 100%|██████████| 469/469 [00:50<00:00,  9.26it/s]\n",
      "Validation Epoch: 6\n",
      "Loss: 0.13 Accuracy: 89.73: 100%|██████████| 79/79 [00:03<00:00, 21.99it/s]    \n",
      "Train Epoch: 7\n",
      "Loss: 0.2648 Accuracy: 90.8417: 100%|██████████| 469/469 [00:48<00:00,  9.70it/s]\n",
      "Validation Epoch: 7\n",
      "Loss: 0.1498 Accuracy: 90.73: 100%|██████████| 79/79 [00:03<00:00, 22.06it/s]  \n",
      "Train Epoch: 8\n",
      "Loss: 0.2878 Accuracy: 91.2767: 100%|██████████| 469/469 [00:48<00:00,  9.73it/s]\n",
      "Validation Epoch: 8\n",
      "Loss: 0.1307 Accuracy: 90.51: 100%|██████████| 79/79 [00:03<00:00, 21.76it/s]  \n",
      "Train Epoch: 9\n",
      "Loss: 0.2454 Accuracy: 91.6417: 100%|██████████| 469/469 [00:50<00:00,  9.26it/s]\n",
      "Validation Epoch: 9\n",
      "Loss: 0.1048 Accuracy: 90.58: 100%|██████████| 79/79 [00:04<00:00, 19.73it/s]  \n"
     ]
    }
   ]
  },
  {
   "cell_type": "markdown",
   "metadata": {
    "id": "Y1-4TFPaYNFP"
   },
   "source": [
    "### Adam"
   ]
  },
  {
   "cell_type": "code",
   "metadata": {
    "colab": {
     "base_uri": "https://localhost:8080/"
    },
    "id": "AgDi8etcYKxL",
    "outputId": "197551f6-35fb-454e-ff74-d3b0a897b634"
   },
   "source": [
    "model = SimpleNet().to(device=device)\n",
    "adam_loss_info = fit(\n",
    "    model=model,\n",
    "    epochs=EPOCHS,\n",
    "    train_data_loader=train_dataloader,\n",
    "    validation_data_loader=val_dataloader,\n",
    "    optimizer=torch.optim.Adam(model.parameters(), lr=LR),\n",
    "    device=device\n",
    ")"
   ],
   "execution_count": 35,
   "outputs": [
    {
     "name": "stdout",
     "output_type": "stream",
     "text": [
      "Train Epoch: 0\n",
      "Loss: 0.5094 Accuracy: 76.7833: 100%|██████████| 469/469 [00:50<00:00,  9.22it/s]\n",
      "Validation Epoch: 0\n",
      "Loss: 0.1924 Accuracy: 85.36: 100%|██████████| 79/79 [00:03<00:00, 21.90it/s]  \n",
      "Train Epoch: 1\n",
      "Loss: 0.5743 Accuracy: 85.9267: 100%|██████████| 469/469 [01:00<00:00,  7.74it/s]\n",
      "Validation Epoch: 1\n",
      "Loss: 0.1661 Accuracy: 87.83: 100%|██████████| 79/79 [00:03<00:00, 21.97it/s]  \n",
      "Train Epoch: 2\n",
      "Loss: 0.3495 Accuracy: 87.5617: 100%|██████████| 469/469 [00:48<00:00,  9.74it/s]\n",
      "Validation Epoch: 2\n",
      "Loss: 0.1173 Accuracy: 88.43: 100%|██████████| 79/79 [00:03<00:00, 22.40it/s]  \n",
      "Train Epoch: 3\n",
      "Loss: 0.2586 Accuracy: 88.7383: 100%|██████████| 469/469 [00:47<00:00,  9.78it/s]\n",
      "Validation Epoch: 3\n",
      "Loss: 0.0984 Accuracy: 89.09: 100%|██████████| 79/79 [00:03<00:00, 22.13it/s]  \n",
      "Train Epoch: 4\n",
      "Loss: 0.2749 Accuracy: 89.465: 100%|██████████| 469/469 [00:48<00:00,  9.75it/s] \n",
      "Validation Epoch: 4\n",
      "Loss: 0.0698 Accuracy: 88.83: 100%|██████████| 79/79 [00:03<00:00, 22.03it/s]  \n",
      "Train Epoch: 5\n",
      "Loss: 0.1965 Accuracy: 90.3233: 100%|██████████| 469/469 [00:47<00:00,  9.86it/s]\n",
      "Validation Epoch: 5\n",
      "Loss: 0.0711 Accuracy: 90.24: 100%|██████████| 79/79 [00:03<00:00, 22.22it/s]  \n",
      "Train Epoch: 6\n",
      "Loss: 0.1626 Accuracy: 91.02: 100%|██████████| 469/469 [00:49<00:00,  9.52it/s]  \n",
      "Validation Epoch: 6\n",
      "Loss: 0.0472 Accuracy: 90.12: 100%|██████████| 79/79 [00:03<00:00, 22.15it/s]  \n",
      "Train Epoch: 7\n",
      "Loss: 0.1108 Accuracy: 91.3767: 100%|██████████| 469/469 [00:47<00:00,  9.80it/s]\n",
      "Validation Epoch: 7\n",
      "Loss: 0.0592 Accuracy: 90.74: 100%|██████████| 79/79 [00:03<00:00, 22.35it/s]  \n",
      "Train Epoch: 8\n",
      "Loss: 0.2469 Accuracy: 91.7267: 100%|██████████| 469/469 [00:47<00:00,  9.80it/s]\n",
      "Validation Epoch: 8\n",
      "Loss: 0.0502 Accuracy: 90.3: 100%|██████████| 79/79 [00:03<00:00, 22.15it/s]   \n",
      "Train Epoch: 9\n",
      "Loss: 0.1892 Accuracy: 92.3183: 100%|██████████| 469/469 [00:47<00:00,  9.82it/s]\n",
      "Validation Epoch: 9\n",
      "Loss: 0.0669 Accuracy: 90.46: 100%|██████████| 79/79 [00:03<00:00, 22.49it/s]  \n"
     ]
    }
   ]
  },
  {
   "cell_type": "markdown",
   "source": [
    "### Adam + Scheduler"
   ],
   "metadata": {
    "id": "2-EKFButKxn6"
   }
  },
  {
   "cell_type": "code",
   "execution_count": 36,
   "outputs": [
    {
     "name": "stdout",
     "output_type": "stream",
     "text": [
      "Train Epoch: 0\n",
      "Loss: 0.427 Accuracy: 76.3033: 100%|██████████| 469/469 [00:47<00:00,  9.83it/s] \n",
      "Validation Epoch: 0\n",
      "Loss: 0.2169 Accuracy: 84.01: 100%|██████████| 79/79 [00:03<00:00, 22.25it/s]  \n",
      "Train Epoch: 1\n",
      "Loss: 0.2873 Accuracy: 85.3383: 100%|██████████| 469/469 [00:48<00:00,  9.69it/s]\n",
      "Validation Epoch: 1\n",
      "Loss: 0.1801 Accuracy: 87.32: 100%|██████████| 79/79 [00:03<00:00, 21.81it/s]  \n",
      "Train Epoch: 2\n",
      "Loss: 0.2206 Accuracy: 87.4467: 100%|██████████| 469/469 [00:50<00:00,  9.26it/s]\n",
      "Validation Epoch: 2\n",
      "Loss: 0.1234 Accuracy: 88.12: 100%|██████████| 79/79 [00:03<00:00, 22.06it/s]  \n",
      "Train Epoch: 3\n",
      "Loss: 0.3204 Accuracy: 88.5667: 100%|██████████| 469/469 [00:50<00:00,  9.26it/s]\n",
      "Validation Epoch: 3\n",
      "Loss: 0.1133 Accuracy: 89.67: 100%|██████████| 79/79 [00:03<00:00, 21.79it/s]  \n",
      "Train Epoch: 4\n",
      "Loss: 0.2343 Accuracy: 89.4067: 100%|██████████| 469/469 [00:49<00:00,  9.51it/s]\n",
      "Validation Epoch: 4\n",
      "Loss: 0.1097 Accuracy: 89.84: 100%|██████████| 79/79 [00:03<00:00, 21.91it/s]  \n",
      "Train Epoch: 5\n",
      "Loss: 0.3148 Accuracy: 89.9867: 100%|██████████| 469/469 [00:50<00:00,  9.27it/s]\n",
      "Validation Epoch: 5\n",
      "Loss: 0.07 Accuracy: 90.25: 100%|██████████| 79/79 [00:03<00:00, 21.57it/s]    \n",
      "Train Epoch: 6\n",
      "Loss: 0.2059 Accuracy: 90.715: 100%|██████████| 469/469 [00:49<00:00,  9.46it/s] \n",
      "Validation Epoch: 6\n",
      "Loss: 0.1447 Accuracy: 90.6: 100%|██████████| 79/79 [00:03<00:00, 22.05it/s]   \n",
      "Train Epoch: 7\n",
      "Loss: 0.2334 Accuracy: 91.255: 100%|██████████| 469/469 [00:52<00:00,  8.91it/s] \n",
      "Validation Epoch: 7\n",
      "Loss: 0.0401 Accuracy: 90.33: 100%|██████████| 79/79 [00:03<00:00, 21.03it/s]  \n",
      "Train Epoch: 8\n",
      "Loss: 0.1765 Accuracy: 91.74: 100%|██████████| 469/469 [00:49<00:00,  9.44it/s]  \n",
      "Validation Epoch: 8\n",
      "Loss: 0.0458 Accuracy: 90.85: 100%|██████████| 79/79 [00:03<00:00, 25.02it/s]  \n",
      "Train Epoch: 9\n",
      "Loss: 0.3684 Accuracy: 92.0583: 100%|██████████| 469/469 [00:53<00:00,  8.77it/s]\n",
      "Validation Epoch: 9\n",
      "Loss: 0.0932 Accuracy: 90.79: 100%|██████████| 79/79 [00:03<00:00, 21.56it/s]  \n"
     ]
    }
   ],
   "source": [
    "model = SimpleNet().to(device=device)\n",
    "lambda_func = lambda epoch: 0.975 ** epoch\n",
    "optimizer = torch.optim.Adam(model.parameters(), lr=LR)\n",
    "scheduler = torch.optim.lr_scheduler.LambdaLR(optimizer, lr_lambda=lambda_func)\n",
    "adam_scheduler_loss_info = fit(\n",
    "    model=model,\n",
    "    epochs=EPOCHS,\n",
    "    train_data_loader=train_dataloader,\n",
    "    validation_data_loader=val_dataloader,\n",
    "    optimizer=optimizer,\n",
    "    scheduler=scheduler,\n",
    "    device=device\n",
    ")"
   ],
   "metadata": {
    "collapsed": false
   }
  },
  {
   "cell_type": "markdown",
   "source": [
    "На валидации получается значение несколько лучше, чем у просто Adam."
   ],
   "metadata": {
    "collapsed": false
   }
  },
  {
   "cell_type": "markdown",
   "source": [
    "### Графики падения лосса при разных способах оптимизации"
   ],
   "metadata": {
    "collapsed": false
   }
  },
  {
   "cell_type": "code",
   "execution_count": 37,
   "outputs": [
    {
     "data": {
      "text/plain": "<Figure size 432x288 with 1 Axes>",
      "image/png": "[encoded data removed]"
     },
     "metadata": {
      "needs_background": "light"
     },
     "output_type": "display_data"
    }
   ],
   "source": [
    "plt.plot(\n",
    "    np.arange(len(train_dataloader) * 10),\n",
    "    sgd_loss_info.full_train_losses,\n",
    "    label=\"SGD\", c=\"grey\"\n",
    ")\n",
    "plt.plot(\n",
    "    np.arange(len(train_dataloader) * 10),\n",
    "    sgd_momentum_loss_info.full_train_losses,\n",
    "    label=\"SGD Momentum\", c=\"blue\"\n",
    ")\n",
    "plt.plot(\n",
    "    np.arange(len(train_dataloader) * 10),\n",
    "    rmsprop_loss_info.full_train_losses,\n",
    "    label=\"RMSProp\", c=\"green\"\n",
    ")\n",
    "plt.plot(\n",
    "    np.arange(len(train_dataloader) * 10),\n",
    "    adam_loss_info.full_train_losses,\n",
    "    label=\"Adam\", c=\"red\"\n",
    ")\n",
    "plt.plot(\n",
    "    np.arange(len(train_dataloader) * 10),\n",
    "    adam_scheduler_loss_info.full_train_losses,\n",
    "    label=\"Adam+Scheduler\", c=\"black\"\n",
    ")\n",
    "\n",
    "plt.legend()\n",
    "plt.show()"
   ],
   "metadata": {
    "collapsed": false
   }
  },
  {
   "cell_type": "code",
   "execution_count": 38,
   "outputs": [
    {
     "data": {
      "text/plain": "<Figure size 432x288 with 1 Axes>",
      "image/png": "[encoded data removed]"
     },
     "metadata": {
      "needs_background": "light"
     },
     "output_type": "display_data"
    }
   ],
   "source": [
    "plt.plot(\n",
    "    np.arange(10), sgd_loss_info.eval_epoch_losses,\n",
    "    label=\"SGD\", c=\"grey\"\n",
    ")\n",
    "plt.plot(\n",
    "    np.arange(10), sgd_momentum_loss_info.eval_epoch_losses,\n",
    "    label=\"SGD Momentum\", c=\"blue\"\n",
    ")\n",
    "plt.plot(\n",
    "    np.arange(10), rmsprop_loss_info.eval_epoch_losses,\n",
    "    label=\"RMSprop\", c=\"green\"\n",
    ")\n",
    "plt.plot(\n",
    "    np.arange(10), adam_loss_info.eval_epoch_losses,\n",
    "    label=\"Adam\", c=\"red\"\n",
    ")\n",
    "plt.plot(\n",
    "    np.arange(10), adam_scheduler_loss_info.eval_epoch_losses,\n",
    "    label=\"Adam+Scheduler\", c=\"black\"\n",
    ")\n",
    "plt.legend()\n",
    "plt.show()"
   ],
   "metadata": {
    "collapsed": false
   }
  }
 ]
}
